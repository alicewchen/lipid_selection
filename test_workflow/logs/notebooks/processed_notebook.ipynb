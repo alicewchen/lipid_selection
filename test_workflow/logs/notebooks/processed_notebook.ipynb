{
 "cells": [
  {
   "cell_type": "code",
   "execution_count": 1,
   "metadata": {
    "execution": {
     "iopub.execute_input": "2021-01-06T20:05:30.559446Z",
     "iopub.status.busy": "2021-01-06T20:05:30.558773Z",
     "iopub.status.idle": "2021-01-06T20:05:30.592763Z",
     "shell.execute_reply": "2021-01-06T20:05:30.593213Z"
    },
    "tags": [
     "snakemake-job-properties"
    ]
   },
   "outputs": [],
   "source": [
    "\n",
    "######## snakemake preamble start (automatically inserted, do not edit) ########\n",
    "import sys; sys.path.extend(['/home/chenwe72/miniconda3/envs/snakemake/lib/python3.9/site-packages', '/scratch/research/projects/chlamydomonas/lipid_selection/workflow']); import pickle; snakemake = pickle.loads(b\"\\x80\\x04\\x95\\xe1\\x03\\x00\\x00\\x00\\x00\\x00\\x00\\x8c\\x10snakemake.script\\x94\\x8c\\tSnakemake\\x94\\x93\\x94)\\x81\\x94}\\x94(\\x8c\\x05input\\x94\\x8c\\x0csnakemake.io\\x94\\x8c\\nInputFiles\\x94\\x93\\x94)\\x81\\x94}\\x94(\\x8c\\x06_names\\x94}\\x94\\x8c\\x12_allowed_overrides\\x94]\\x94(\\x8c\\x05index\\x94\\x8c\\x04sort\\x94eh\\x0f\\x8c\\tfunctools\\x94\\x8c\\x07partial\\x94\\x93\\x94h\\x06\\x8c\\x19Namedlist._used_attribute\\x94\\x93\\x94\\x85\\x94R\\x94(h\\x15)}\\x94\\x8c\\x05_name\\x94h\\x0fsNt\\x94bh\\x10h\\x13h\\x15\\x85\\x94R\\x94(h\\x15)}\\x94h\\x19h\\x10sNt\\x94bub\\x8c\\x06output\\x94h\\x06\\x8c\\x0bOutputFiles\\x94\\x93\\x94)\\x81\\x94\\x8c\\x0fjp_notebook.txt\\x94a}\\x94(h\\x0b}\\x94h\\r]\\x94(h\\x0fh\\x10eh\\x0fh\\x13h\\x15\\x85\\x94R\\x94(h\\x15)}\\x94h\\x19h\\x0fsNt\\x94bh\\x10h\\x13h\\x15\\x85\\x94R\\x94(h\\x15)}\\x94h\\x19h\\x10sNt\\x94bub\\x8c\\x06params\\x94h\\x06\\x8c\\x06Params\\x94\\x93\\x94)\\x81\\x94}\\x94(h\\x0b}\\x94h\\r]\\x94(h\\x0fh\\x10eh\\x0fh\\x13h\\x15\\x85\\x94R\\x94(h\\x15)}\\x94h\\x19h\\x0fsNt\\x94bh\\x10h\\x13h\\x15\\x85\\x94R\\x94(h\\x15)}\\x94h\\x19h\\x10sNt\\x94bub\\x8c\\twildcards\\x94h\\x06\\x8c\\tWildcards\\x94\\x93\\x94)\\x81\\x94}\\x94(h\\x0b}\\x94h\\r]\\x94(h\\x0fh\\x10eh\\x0fh\\x13h\\x15\\x85\\x94R\\x94(h\\x15)}\\x94h\\x19h\\x0fsNt\\x94bh\\x10h\\x13h\\x15\\x85\\x94R\\x94(h\\x15)}\\x94h\\x19h\\x10sNt\\x94bub\\x8c\\x07threads\\x94K\\x01\\x8c\\tresources\\x94h\\x06\\x8c\\tResources\\x94\\x93\\x94)\\x81\\x94(K\\x01K\\x01e}\\x94(h\\x0b}\\x94(\\x8c\\x06_cores\\x94K\\x00N\\x86\\x94\\x8c\\x06_nodes\\x94K\\x01N\\x86\\x94uh\\r]\\x94(h\\x0fh\\x10eh\\x0fh\\x13h\\x15\\x85\\x94R\\x94(h\\x15)}\\x94h\\x19h\\x0fsNt\\x94bh\\x10h\\x13h\\x15\\x85\\x94R\\x94(h\\x15)}\\x94h\\x19h\\x10sNt\\x94bhTK\\x01hVK\\x01ub\\x8c\\x03log\\x94h\\x06\\x8c\\x03Log\\x94\\x93\\x94)\\x81\\x94\\x8c'logs/notebooks/processed_notebook.ipynb\\x94a}\\x94(h\\x0b}\\x94\\x8c\\x08notebook\\x94K\\x00N\\x86\\x94sh\\r]\\x94(h\\x0fh\\x10eh\\x0fh\\x13h\\x15\\x85\\x94R\\x94(h\\x15)}\\x94h\\x19h\\x0fsNt\\x94bh\\x10h\\x13h\\x15\\x85\\x94R\\x94(h\\x15)}\\x94h\\x19h\\x10sNt\\x94bhhheub\\x8c\\x06config\\x94}\\x94\\x8c\\x04rule\\x94\\x8c\\x06testjp\\x94\\x8c\\x0fbench_iteration\\x94N\\x8c\\tscriptdir\\x94\\x8cA/scratch/research/projects/chlamydomonas/lipid_selection/workflow\\x94ub.\"); from snakemake.logging import logger; logger.printshellcmds = False; import os; os.chdir('/scratch/research/projects/chlamydomonas/lipid_selection/workflow');\n",
    "######## snakemake preamble end #########\n"
   ]
  },
  {
   "cell_type": "code",
   "execution_count": 2,
   "metadata": {
    "execution": {
     "iopub.execute_input": "2021-01-06T20:05:30.597462Z",
     "iopub.status.busy": "2021-01-06T20:05:30.596945Z",
     "iopub.status.idle": "2021-01-06T20:05:30.600274Z",
     "shell.execute_reply": "2021-01-06T20:05:30.600789Z"
    }
   },
   "outputs": [
    {
     "name": "stdout",
     "output_type": "stream",
     "text": [
      "Hello World!\n"
     ]
    }
   ],
   "source": [
    "import pickle\n",
    "print(\"Hello World!\")\n",
    "with open(str(snakemake.output[0]), \"w\") as f:\n",
    "    f.write(\"Hello World!\")"
   ]
  }
 ],
 "metadata": {
  "kernelspec": {
   "display_name": "Python 3",
   "language": "python",
   "name": "python3"
  },
  "language_info": {
   "codemirror_mode": {
    "name": "ipython",
    "version": 3
   },
   "file_extension": ".py",
   "mimetype": "text/x-python",
   "name": "python",
   "nbconvert_exporter": "python",
   "pygments_lexer": "ipython3",
   "version": "3.9.1"
  }
 },
 "nbformat": 4,
 "nbformat_minor": 2
}
