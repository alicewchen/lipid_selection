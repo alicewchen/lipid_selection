{
 "cells": [
  {
   "cell_type": "code",
   "execution_count": 38,
   "metadata": {},
   "outputs": [],
   "source": [
    "library(ggplot2)\n",
    "library(dplyr)"
   ]
  },
  {
   "cell_type": "code",
   "execution_count": 39,
   "metadata": {},
   "outputs": [],
   "source": [
    "df <- read.table(\n",
    "  \"../../data/workflow/bootstrap/bootstrap_values.txt\",\n",
    "  sep=\"\\t\", header=FALSE)\n",
    "column_names <- c(\"group\",\"alpha\", \"omega\",\"pFDM\", \"NeS_0_1\", \"NeS_1_10\", \"NeS_10_100\", \"NeS_100_99\")\n",
    "colnames(df) <- column_names"
   ]
  },
  {
   "cell_type": "code",
   "execution_count": 40,
   "metadata": {},
   "outputs": [
    {
     "data": {
      "text/html": [
       "<table>\n",
       "<caption>A data.frame: 4 × 8</caption>\n",
       "<thead>\n",
       "\t<tr><th scope=col>group</th><th scope=col>alpha</th><th scope=col>omega</th><th scope=col>pFDM</th><th scope=col>NeS_0_1</th><th scope=col>NeS_1_10</th><th scope=col>NeS_10_100</th><th scope=col>NeS_100_99</th></tr>\n",
       "\t<tr><th scope=col>&lt;fct&gt;</th><th scope=col>&lt;dbl&gt;</th><th scope=col>&lt;dbl&gt;</th><th scope=col>&lt;dbl&gt;</th><th scope=col>&lt;dbl&gt;</th><th scope=col>&lt;dbl&gt;</th><th scope=col>&lt;dbl&gt;</th><th scope=col>&lt;dbl&gt;</th></tr>\n",
       "</thead>\n",
       "<tbody>\n",
       "\t<tr><td>candidate   </td><td>0.588895</td><td>0.138630</td><td>0.0004937587</td><td>0.103457</td><td>0.029760</td><td>0.038321</td><td>0.828462</td></tr>\n",
       "\t<tr><td>noncandidate</td><td>0.327142</td><td>0.084549</td><td>0.0008750976</td><td>0.182857</td><td>0.037036</td><td>0.044537</td><td>0.735569</td></tr>\n",
       "\t<tr><td>candidate   </td><td>0.617184</td><td>0.148556</td><td>0.0023566094</td><td>0.100523</td><td>0.042519</td><td>0.060504</td><td>0.796454</td></tr>\n",
       "\t<tr><td>noncandidate</td><td>0.302678</td><td>0.078776</td><td>0.0038581320</td><td>0.187996</td><td>0.025627</td><td>0.029121</td><td>0.757255</td></tr>\n",
       "</tbody>\n",
       "</table>\n"
      ],
      "text/latex": [
       "A data.frame: 4 × 8\n",
       "\\begin{tabular}{r|llllllll}\n",
       " group & alpha & omega & pFDM & NeS\\_0\\_1 & NeS\\_1\\_10 & NeS\\_10\\_100 & NeS\\_100\\_99\\\\\n",
       " <fct> & <dbl> & <dbl> & <dbl> & <dbl> & <dbl> & <dbl> & <dbl>\\\\\n",
       "\\hline\n",
       "\t candidate    & 0.588895 & 0.138630 & 0.0004937587 & 0.103457 & 0.029760 & 0.038321 & 0.828462\\\\\n",
       "\t noncandidate & 0.327142 & 0.084549 & 0.0008750976 & 0.182857 & 0.037036 & 0.044537 & 0.735569\\\\\n",
       "\t candidate    & 0.617184 & 0.148556 & 0.0023566094 & 0.100523 & 0.042519 & 0.060504 & 0.796454\\\\\n",
       "\t noncandidate & 0.302678 & 0.078776 & 0.0038581320 & 0.187996 & 0.025627 & 0.029121 & 0.757255\\\\\n",
       "\\end{tabular}\n"
      ],
      "text/markdown": [
       "\n",
       "A data.frame: 4 × 8\n",
       "\n",
       "| group &lt;fct&gt; | alpha &lt;dbl&gt; | omega &lt;dbl&gt; | pFDM &lt;dbl&gt; | NeS_0_1 &lt;dbl&gt; | NeS_1_10 &lt;dbl&gt; | NeS_10_100 &lt;dbl&gt; | NeS_100_99 &lt;dbl&gt; |\n",
       "|---|---|---|---|---|---|---|---|\n",
       "| candidate    | 0.588895 | 0.138630 | 0.0004937587 | 0.103457 | 0.029760 | 0.038321 | 0.828462 |\n",
       "| noncandidate | 0.327142 | 0.084549 | 0.0008750976 | 0.182857 | 0.037036 | 0.044537 | 0.735569 |\n",
       "| candidate    | 0.617184 | 0.148556 | 0.0023566094 | 0.100523 | 0.042519 | 0.060504 | 0.796454 |\n",
       "| noncandidate | 0.302678 | 0.078776 | 0.0038581320 | 0.187996 | 0.025627 | 0.029121 | 0.757255 |\n",
       "\n"
      ],
      "text/plain": [
       "  group        alpha    omega    pFDM         NeS_0_1  NeS_1_10 NeS_10_100\n",
       "1 candidate    0.588895 0.138630 0.0004937587 0.103457 0.029760 0.038321  \n",
       "2 noncandidate 0.327142 0.084549 0.0008750976 0.182857 0.037036 0.044537  \n",
       "3 candidate    0.617184 0.148556 0.0023566094 0.100523 0.042519 0.060504  \n",
       "4 noncandidate 0.302678 0.078776 0.0038581320 0.187996 0.025627 0.029121  \n",
       "  NeS_100_99\n",
       "1 0.828462  \n",
       "2 0.735569  \n",
       "3 0.796454  \n",
       "4 0.757255  "
      ]
     },
     "metadata": {},
     "output_type": "display_data"
    }
   ],
   "source": [
    "df[1:4,]"
   ]
  },
  {
   "cell_type": "code",
   "execution_count": 55,
   "metadata": {},
   "outputs": [
    {
     "name": "stdout",
     "output_type": "stream",
     "text": [
      "\u001b[90m# A tibble: 2 x 3\u001b[39m\n",
      "  group         mean     sd\n",
      "  \u001b[3m\u001b[90m<fct>\u001b[39m\u001b[23m        \u001b[3m\u001b[90m<dbl>\u001b[39m\u001b[23m  \u001b[3m\u001b[90m<dbl>\u001b[39m\u001b[23m\n",
      "\u001b[90m1\u001b[39m candidate    0.530 0.074\u001b[4m4\u001b[24m\n",
      "\u001b[90m2\u001b[39m noncandidate 0.342 0.077\u001b[4m5\u001b[24m\n"
     ]
    },
    {
     "name": "stderr",
     "output_type": "stream",
     "text": [
      "geom_path: Each group consists of only one observation. Do you need to adjust\n",
      "the group aesthetic?\n"
     ]
    },
    {
     "name": "stdout",
     "output_type": "stream",
     "text": [
      "\u001b[90m# A tibble: 2 x 3\u001b[39m\n",
      "  group          mean     sd\n",
      "  \u001b[3m\u001b[90m<fct>\u001b[39m\u001b[23m         \u001b[3m\u001b[90m<dbl>\u001b[39m\u001b[23m  \u001b[3m\u001b[90m<dbl>\u001b[39m\u001b[23m\n",
      "\u001b[90m1\u001b[39m candidate    0.124  0.019\u001b[4m2\u001b[24m\n",
      "\u001b[90m2\u001b[39m noncandidate 0.088\u001b[4m7\u001b[24m 0.021\u001b[4m4\u001b[24m\n"
     ]
    },
    {
     "name": "stderr",
     "output_type": "stream",
     "text": [
      "geom_path: Each group consists of only one observation. Do you need to adjust\n",
      "the group aesthetic?\n"
     ]
    },
    {
     "name": "stdout",
     "output_type": "stream",
     "text": [
      "\u001b[90m# A tibble: 2 x 3\u001b[39m\n",
      "  group           mean       sd\n",
      "  \u001b[3m\u001b[90m<fct>\u001b[39m\u001b[23m          \u001b[3m\u001b[90m<dbl>\u001b[39m\u001b[23m    \u001b[3m\u001b[90m<dbl>\u001b[39m\u001b[23m\n",
      "\u001b[90m1\u001b[39m candidate    0.001\u001b[4m2\u001b[24m\u001b[4m6\u001b[24m 0.000\u001b[4m9\u001b[24m\u001b[4m5\u001b[24m\u001b[4m1\u001b[24m\n",
      "\u001b[90m2\u001b[39m noncandidate 0.002\u001b[4m4\u001b[24m\u001b[4m1\u001b[24m 0.001\u001b[4m3\u001b[24m\u001b[4m8\u001b[24m \n"
     ]
    },
    {
     "name": "stderr",
     "output_type": "stream",
     "text": [
      "geom_path: Each group consists of only one observation. Do you need to adjust\n",
      "the group aesthetic?\n"
     ]
    }
   ],
   "source": [
    "for (i in c(\"alpha\", \"omega\",\"pFDM\")){\n",
    "    summary <- df %>% group_by(group) %>% summarize(mean = mean(eval(as.name(i))),\n",
    "                                                   sd = sd(eval(as.name(i))))\n",
    "    print(summary)\n",
    "    p <- ggplot(summary, aes(x=group, y=mean, group=group, colour = group)) + \n",
    "    geom_pointrange(aes(ymin=mean-sd, ymax=mean+sd))+\n",
    "    geom_line()+\n",
    "    geom_pointrange(aes(ymin=mean-sd, ymax=mean+sd))+\n",
    "    theme_classic() +\n",
    "    scale_color_manual(values=c('red','blue'))+\n",
    "    labs(x=\"group\", y = paste(\"mean\",i, sep =\" \"))\n",
    "    ggsave(paste(\"../../data/dfe_alpha_analysis/20210119/mean\",i,\".pdf\", sep =\"\"), width = 4, height = 4.25, units = \"in\")\n",
    "    }\n",
    "    "
   ]
  },
  {
   "cell_type": "code",
   "execution_count": 23,
   "metadata": {},
   "outputs": [],
   "source": [
    "summary <- df %>% group_by(group) %>% summarize(mean = mean(alpha),\n",
    "                                               sd = sd(alpha))"
   ]
  },
  {
   "cell_type": "code",
   "execution_count": 24,
   "metadata": {},
   "outputs": [
    {
     "data": {
      "text/html": [
       "<table>\n",
       "<caption>A tibble: 2 × 3</caption>\n",
       "<thead>\n",
       "\t<tr><th scope=col>group</th><th scope=col>mean</th><th scope=col>sd</th></tr>\n",
       "\t<tr><th scope=col>&lt;fct&gt;</th><th scope=col>&lt;dbl&gt;</th><th scope=col>&lt;dbl&gt;</th></tr>\n",
       "</thead>\n",
       "<tbody>\n",
       "\t<tr><td>candidate   </td><td>0.5471798</td><td>0.08206634</td></tr>\n",
       "\t<tr><td>noncandidate</td><td>0.3623026</td><td>0.07858157</td></tr>\n",
       "</tbody>\n",
       "</table>\n"
      ],
      "text/latex": [
       "A tibble: 2 × 3\n",
       "\\begin{tabular}{r|lll}\n",
       " group & mean & sd\\\\\n",
       " <fct> & <dbl> & <dbl>\\\\\n",
       "\\hline\n",
       "\t candidate    & 0.5471798 & 0.08206634\\\\\n",
       "\t noncandidate & 0.3623026 & 0.07858157\\\\\n",
       "\\end{tabular}\n"
      ],
      "text/markdown": [
       "\n",
       "A tibble: 2 × 3\n",
       "\n",
       "| group &lt;fct&gt; | mean &lt;dbl&gt; | sd &lt;dbl&gt; |\n",
       "|---|---|---|\n",
       "| candidate    | 0.5471798 | 0.08206634 |\n",
       "| noncandidate | 0.3623026 | 0.07858157 |\n",
       "\n"
      ],
      "text/plain": [
       "  group        mean      sd        \n",
       "1 candidate    0.5471798 0.08206634\n",
       "2 noncandidate 0.3623026 0.07858157"
      ]
     },
     "metadata": {},
     "output_type": "display_data"
    }
   ],
   "source": [
    "summary"
   ]
  },
  {
   "cell_type": "code",
   "execution_count": null,
   "metadata": {},
   "outputs": [],
   "source": []
  }
 ],
 "metadata": {
  "kernelspec": {
   "display_name": "R",
   "language": "R",
   "name": "ir"
  },
  "language_info": {
   "codemirror_mode": "r",
   "file_extension": ".r",
   "mimetype": "text/x-r-source",
   "name": "R",
   "pygments_lexer": "r",
   "version": "3.5.2"
  }
 },
 "nbformat": 4,
 "nbformat_minor": 2
}
