{
 "cells": [
  {
   "cell_type": "code",
   "execution_count": null,
   "metadata": {},
   "outputs": [],
   "source": [
    "library(dplyr)\n",
    "library(stats)\n",
    "library(tidyverse)\n",
    "\n",
    "#plotting\n",
    "library(gridExtra)\n",
    "library(grid)\n",
    "library(ggplot2)\n",
    "library(lattice)\n",
    "fig <- function(width, heigth){\n",
    " options(repr.plot.width = width, repr.plot.height = heigth)\n",
    " }\n",
    "#Hypothesis testing\n",
    "library(lmerTest)\n",
    "library(lme4)\n",
    "library(car)\n",
    "\n",
    "#TukeyHSD\n",
    "library(agricolae)"
   ]
  },
  {
   "cell_type": "code",
   "execution_count": null,
   "metadata": {},
   "outputs": [],
   "source": [
    "df <- read.table(\n",
    "  \"../../data/dfe_alpha_analysis/20210119/bootstrap_values.txt\",\n",
    "  sep=\"\\t\", header=FALSE)\n",
    "column_names <- c(\"group\",\"alpha\", \"omega\",\"pFDM\", \"NeS_0_1\", \"NeS_1_10\", \"NeS_10_100\", \"NeS_100_99\")\n",
    "colnames(df) <- column_names"
   ]
  },
  {
   "cell_type": "code",
   "execution_count": null,
   "metadata": {},
   "outputs": [],
   "source": [
    "df[1:4,]"
   ]
  },
  {
   "cell_type": "markdown",
   "metadata": {},
   "source": [
    "## Compare alpha, omega-alpha, and pFDM between candidate and non-candidate genes"
   ]
  },
  {
   "cell_type": "code",
   "execution_count": null,
   "metadata": {},
   "outputs": [],
   "source": [
    "plots<-c()\n",
    "for (i in c(\"alpha\", \"omega\",\"pFDM\")){\n",
    "    summary <- df %>% group_by(group) %>% summarize(mean = mean(eval(as.name(i))),\n",
    "                                                   sd = sd(eval(as.name(i))))\n",
    "    #print(summary)\n",
    "    \n",
    "    p <- ggplot(summary, aes(x=group, y=mean, colour = group, group = 1)) + \n",
    "    geom_pointrange(aes(ymin=mean-sd, ymax=mean+sd))+\n",
    "    theme_classic() +\n",
    "    scale_color_manual(values=c('red','blue'))+\n",
    "    labs(x=\"group\", y = i)\n",
    "    plots[[i]] <- ggplotGrob(p)\n",
    "    ggsave(paste(\"../../data/dfe_alpha_analysis/20210119/mean\",i,\".pdf\", sep =\"\"), width = 4, height = 3.5, units = \"in\")\n",
    "    }"
   ]
  },
  {
   "cell_type": "code",
   "execution_count": null,
   "metadata": {},
   "outputs": [],
   "source": [
    "fig(8,5)\n",
    "plt <- grid.arrange(plots[['alpha']], plots[['omega']], plots[['pFDM']], ncol=2, nrow=2)\n",
    "ggsave(paste(\"../../data/dfe_alpha_analysis/20210119/mean_values.pdf\", sep =\"\"), \n",
    "       plot = plt, width = 8, height = 5, units = \"in\")"
   ]
  },
  {
   "cell_type": "markdown",
   "metadata": {},
   "source": [
    "## Are alpha, omega-alpha, and pFDM significantly different between groups?\n",
    "- Perform one way ANOVA\n",
    "- Check assumptions with qqplot and distribution of variance\n",
    "### Alpha"
   ]
  },
  {
   "cell_type": "code",
   "execution_count": null,
   "metadata": {},
   "outputs": [],
   "source": [
    "alpha.model <- aov(alpha ~ group, data=df)\n",
    "summary(alpha.model)\n",
    "fig(8,3)\n",
    "par(mfrow=c(1,3))\n",
    "plot(alpha.model)\n",
    "\n",
    "tmp <- df %>% mutate(residuals = as.numeric(alpha.model$residuals))\n",
    "qqnorm(tmp$residuals[tmp$group == 'candidate'], main = 'candidate residuals')\n",
    "qqnorm(tmp$residuals[tmp$group == 'noncandidate'], main = 'noncandidate residuals')\n",
    "fig(5,2.5)\n",
    "\n",
    "p<- ggplot(tmp, aes(x=residuals, color=group, fill = group)) + \n",
    "    geom_density(adjust = 0.5, alpha = 0.5) +\n",
    "    theme_classic()+\n",
    "    scale_color_manual(values=c('red','blue'))\n",
    "p"
   ]
  },
  {
   "cell_type": "markdown",
   "metadata": {},
   "source": [
    "### Omega-alpha"
   ]
  },
  {
   "cell_type": "code",
   "execution_count": null,
   "metadata": {},
   "outputs": [],
   "source": [
    "omega.model <- aov(omega ~ group, data=df)\n",
    "summary(omega.model)\n",
    "\n",
    "fig(8,3)\n",
    "par(mfrow=c(1,3))\n",
    "plot(omega.model)\n",
    "\n",
    "tmp <- df %>% mutate(residuals = as.numeric(omega.model$residuals))\n",
    "qqnorm(tmp$residuals[tmp$group == 'candidate'], main = 'candidate residuals')\n",
    "qqnorm(tmp$residuals[tmp$group == 'noncandidate'], main = 'noncandidate residuals')\n",
    "\n",
    "fig(5,2.5)\n",
    "\n",
    "p<- ggplot(tmp, aes(x=residuals, color=group, fill = group)) + \n",
    "geom_density(adjust = 0.5, alpha = 0.5) +\n",
    "theme_classic()+\n",
    "scale_color_manual(values=c('red','blue'))\n",
    "p"
   ]
  },
  {
   "cell_type": "markdown",
   "metadata": {},
   "source": [
    "### pFDM"
   ]
  },
  {
   "cell_type": "code",
   "execution_count": null,
   "metadata": {},
   "outputs": [],
   "source": [
    "pFDM.model <- aov(pFDM ~ group, data=df)\n",
    "summary(pFDM.model)\n",
    "fig(8,3)\n",
    "par(mfrow=c(1,3))\n",
    "plot(pFDM.model)\n",
    "\n",
    "tmp <- df %>% mutate(residuals = as.numeric(pFDM.model$residuals))\n",
    "qqnorm(tmp$residuals[tmp$group == 'candidate'], main = 'candidate residuals')\n",
    "qqnorm(tmp$residuals[tmp$group == 'noncandidate'], main = 'noncandidate residuals')\n",
    "\n",
    "fig(5,2.5)\n",
    "\n",
    "p<- ggplot(tmp, aes(x=residuals, color=group, fill = group)) + \n",
    "geom_density(adjust = 0.5, alpha = 0.5) +\n",
    "theme_classic() +\n",
    "scale_color_manual(values=c('red','blue'))\n",
    "p"
   ]
  },
  {
   "cell_type": "markdown",
   "metadata": {},
   "source": [
    "#### Distribution of pDFM aov model was non-normal. Use nonparametric equivalent"
   ]
  },
  {
   "cell_type": "code",
   "execution_count": null,
   "metadata": {},
   "outputs": [],
   "source": [
    "wilcox.test(x = df$pFDM[df$group == \"candidate\"], \n",
    "            y=df$pFDM[df$group == \"noncandidate\"] , \n",
    "            alternative = \"two.sided\", \n",
    "            paired = F,\n",
    "            conf.int = T)"
   ]
  },
  {
   "cell_type": "markdown",
   "metadata": {},
   "source": [
    "## Are DFEs across NeS bins significanty different between candidate and noncandidate genes?\n",
    "### Check normal distribution of DFE values"
   ]
  },
  {
   "cell_type": "code",
   "execution_count": null,
   "metadata": {},
   "outputs": [],
   "source": [
    "fig(8,6)\n",
    "plots = c()\n",
    "for (i in colnames(df[,seq((ncol(df)-3),ncol(df))])){\n",
    "    \n",
    "    p<- ggplot(df, aes(x=eval(as.name(i)), color=group, fill = group)) + \n",
    "        geom_density(adjust = 0.5, alpha = 0.5) +\n",
    "        theme_classic() +\n",
    "        scale_color_manual(values=c('red','blue'))+\n",
    "        labs(x=\"DFE\", y = \"frequency\", title = i)\n",
    "    plots[[i]] <- ggplotGrob(p)\n",
    "    \n",
    "}\n",
    "            \n",
    "plt <- grid.arrange(plots[[\"NeS_0_1\"]], plots[[\"NeS_1_10\"]], plots[[\"NeS_10_100\"]], plots[[\"NeS_100_99\"]], ncol=2, nrow=2)"
   ]
  },
  {
   "cell_type": "markdown",
   "metadata": {},
   "source": [
    "### Plot DFEs "
   ]
  },
  {
   "cell_type": "code",
   "execution_count": null,
   "metadata": {},
   "outputs": [],
   "source": [
    "tmp <- gather(df, \"NeS_0_1\", \"NeS_1_10\", \"NeS_10_100\", \"NeS_100_99\", key = \"NeS_bins\", value = \"DFE\") %>% \n",
    "        select(group, NeS_bins, DFE) %>%\n",
    "        group_by(group, NeS_bins) %>%\n",
    "        summarize(mean = mean(DFE),\n",
    "              sd = sd(DFE))\n",
    "tmp$NeS_bins <- factor(tmp$NeS_bins, levels = c(\"NeS_0_1\", \"NeS_1_10\", \"NeS_10_100\", \"NeS_100_99\"))\n",
    "head(tmp)"
   ]
  },
  {
   "cell_type": "code",
   "execution_count": null,
   "metadata": {},
   "outputs": [],
   "source": [
    "fig(6,4)\n",
    "p<- ggplot(tmp, aes(x=NeS_bins, y=mean, fill=group)) + \n",
    "  geom_bar(stat=\"identity\", color=\"black\", \n",
    "           position=position_dodge()) +\n",
    "  geom_errorbar(aes(ymin=mean-sd, ymax=mean+sd), width=.2,\n",
    "                 position=position_dodge(.9))+\n",
    "    labs(x=\"NeS bins\", y = \"DFE\", title = \"DFE in NeS bins\") +\n",
    "   theme_classic() +\n",
    "   scale_fill_manual(values = c('red','blue'))\n",
    "print(p)"
   ]
  },
  {
   "cell_type": "raw",
   "metadata": {},
   "source": [
    "#run if converting NeS bins to numeric variable\n",
    "\n",
    "runs<- row.names(df)\n",
    "#print(runs)\n",
    "tmp <- df %>% mutate(run = as.factor(runs)) %>%\n",
    "    gather(., \"NeS_0_1\", \"NeS_1_10\", \"NeS_10_100\", \"NeS_100_99\", key = \"NeS_bins\", value = \"DFE\")%>%\n",
    "    mutate(NeS_bins = case_when(NeS_bins == \"NeS_0_1\" ~ 0,\n",
    "                               NeS_bins == \"NeS_0_1\" ~ 1,\n",
    "                               NeS_bins == \"NeS_10_100\" ~ 10,\n",
    "                               NeS_bins == \"NeS_100_99\" ~ 100))\n",
    "#tmp$NeS_bins <- factor(tmp$NeS_bins, levels = c(\"NeS_0_1\", \"NeS_1_10\", \"NeS_10_100\", \"NeS_100_99\"))\n",
    "head(tmp)"
   ]
  },
  {
   "cell_type": "code",
   "execution_count": null,
   "metadata": {},
   "outputs": [],
   "source": [
    "runs<- row.names(df)\n",
    "#print(runs)\n",
    "tmp <- df %>% mutate(run = as.factor(runs)) %>%\n",
    "    gather(., \"NeS_0_1\", \"NeS_1_10\", \"NeS_10_100\", \"NeS_100_99\", key = \"NeS_bins\", value = \"DFE\")\n",
    "tmp$NeS_bins <- factor(tmp$NeS_bins, levels = c(\"NeS_0_1\", \"NeS_1_10\", \"NeS_10_100\", \"NeS_100_99\"))\n",
    "head(tmp)"
   ]
  },
  {
   "cell_type": "code",
   "execution_count": null,
   "metadata": {},
   "outputs": [],
   "source": [
    "runs<- row.names(df)\n",
    "#print(runs)\n",
    "tmp <- df %>% mutate(run = as.factor(runs), \n",
    "                    group = case_when(group == \"candidate\" ~ \"c\",\n",
    "                                     group == \"noncandidate\" ~ \"nc\")) %>%\n",
    "    gather(., \"NeS_0_1\", \"NeS_1_10\", \"NeS_10_100\", \"NeS_100_99\", key = \"NeS_bins\", value = \"DFE\") %>%\n",
    "    unite(., group, NeS_bins, col = \"factor\", sep = \"_\")\n",
    "\n",
    "#tmp$NeS_bins <- factor(tmp$NeS_bins, levels = c(\"NeS_0_1\", \"NeS_1_10\", \"NeS_10_100\", \"NeS_100_99\"))\n",
    "head(tmp)\n"
   ]
  },
  {
   "cell_type": "code",
   "execution_count": null,
   "metadata": {},
   "outputs": [],
   "source": [
    "print(leveneTest(DFE ~ factor, data = tmp))\n",
    "variance <- tmp %>% group_by(factor) %>% summarize(variance = var(DFE), mean = mean(DFE), )\n",
    "variance"
   ]
  },
  {
   "cell_type": "code",
   "execution_count": null,
   "metadata": {},
   "outputs": [],
   "source": [
    "pairwise.t.test(tmp$DFE, tmp$factor,\n",
    "                 p.adjust.method = \"BH\", pool.sd = FALSE)\n",
    "oneway.test(DFE ~ factor, data = tmp)"
   ]
  },
  {
   "cell_type": "code",
   "execution_count": null,
   "metadata": {},
   "outputs": [],
   "source": [
    "#With random effects\n",
    "aov.model <- aov(DFE ~ group * NeS_bins + Error(run), data=tmp)\n",
    "summary(aov.model)\n",
    "tukey <- HSD.test(model, trt = c(\"group\", \"NeS_bins\"))\n",
    "tukey\n",
    "tukey_table <- merge(rownames_to_column(tukey$groups), tukey$means) %>% separate(., rowname, sep = \":\", into = c(\"group\", \"NeS_bins\"))\n",
    "tukey_table$NeS_bins <- factor(tukey_table$NeS_bins, levels = c(\"NeS_0_1\", \"NeS_1_10\", \"NeS_10_100\", \"NeS_100_99\"))"
   ]
  },
  {
   "cell_type": "raw",
   "metadata": {},
   "source": [
    "#without random effects\n",
    "model <- aov(lm(DFE ~ group*NeS_bins, data = tmp))\n",
    "print(summary(model))\n",
    "tukey <- HSD.test(model, trt = c(\"group\", \"NeS_bins\"))\n",
    "#print(tukey)\n",
    "tukey_table <- merge(rownames_to_column(tukey$groups), tukey$means) %>% separate(., rowname, sep = \":\", into = c(\"group\", \"NeS_bins\"))\n",
    "tukey_table$NeS_bins <- factor(tukey_table$NeS_bins, levels = c(\"NeS_0_1\", \"NeS_1_10\", \"NeS_10_100\", \"NeS_100_99\"))\n",
    "#tukey_table\n",
    "#tukey_groups <-  %>% separate(., rownames(.), sep = \":\", into = c(\"group\", \"NeS_bins\"))\n"
   ]
  },
  {
   "cell_type": "code",
   "execution_count": null,
   "metadata": {},
   "outputs": [],
   "source": [
    "fig(6,4)\n",
    "p<- ggplot(tukey_table, aes(x=NeS_bins, y=DFE, fill=group)) + \n",
    "    geom_bar(stat=\"identity\", color=\"black\", \n",
    "           position=position_dodge()) +\n",
    "    geom_errorbar(aes(ymin=DFE-std, ymax=DFE+std), width=.2,\n",
    "                 position=position_dodge(.9))+\n",
    "    labs(x=\"NeS bins\", y = \"DFE\", title = \"DFE in NeS bins\") +\n",
    "    geom_text(aes(x = NeS_bins, y = DFE, label = groups),vjust=-2,position=position_dodge(.9)) +\n",
    "   theme_classic() +\n",
    "   scale_fill_manual(values = c('red','blue')) \n",
    "    \n",
    "print(p)\n",
    "ggsave(paste(\"../../data/dfe_alpha_analysis/20210119/DFE.pdf\", sep =\"\"), \n",
    "       plot = p, width = 6, height = 4, units = \"in\")"
   ]
  }
 ],
 "metadata": {
  "kernelspec": {
   "display_name": "R",
   "language": "R",
   "name": "ir"
  },
  "language_info": {
   "codemirror_mode": "r",
   "file_extension": ".r",
   "mimetype": "text/x-r-source",
   "name": "R",
   "pygments_lexer": "r",
   "version": "3.6.1"
  }
 },
 "nbformat": 4,
 "nbformat_minor": 4
}
