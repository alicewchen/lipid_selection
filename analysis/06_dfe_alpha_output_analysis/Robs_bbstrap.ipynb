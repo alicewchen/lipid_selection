{
 "cells": [
  {
   "cell_type": "markdown",
   "id": "static-thesaurus",
   "metadata": {},
   "source": [
    "# 1. Method 1\n",
    "\n",
    "1. Bootstrap sample two samples from null population, and assign as `candidate` and `noncandidate`. Repeat 1000 times. \n",
    "\n",
    ">`whole_sample = candidate.append(noncandidate)`\n",
    "\n",
    ">`mock_candidate = bs(whole_sample)`\n",
    "\n",
    ">`mock_noncandidate = bs(whole_sample)`\n",
    "\n",
    "2. Calculate null population mean and standard deviation of `mock_candidate - mock_candidate`\n",
    "3. Calculate sample mean from the original candidate/noncandidate pool of dfe_alpha output values.\n",
    "4. Calculate p-value.\n",
    "\n",
    ">`p-value = number of (mean(bs(mock_candidate))- mean(bs(mock_noncandidate))) greater than (mean(sample_candidate) - mean(sample_noncandidate))/ number of bootstrap runs`\n"
   ]
  },
  {
   "cell_type": "markdown",
   "id": "improving-dragon",
   "metadata": {},
   "source": [
    "### Rob's explanation: \n",
    "\n",
    "- get 100 DFE-alpha results by doing bootstraps of Candidates\n",
    "\n",
    "- then get 100 DFE-alpha results by sampling N noncandidate genes from the genome where N is the number of genes in Candidates\n",
    "\n",
    "- once you have these two sets of 100 BS runs of DFE-alpha\n",
    "\n",
    "- You pool the runs into 200 DFE results\n",
    "\n",
    "- 1000 x (Sample 100 values from the pool to make mock(Candidate) and 100 values from the pool to make mock(NonCandidate)\n",
    "     for each DFE stat you want:\n",
    "            calc mean(mock(Candidate)) - mean(mock(Noncandidate))\n",
    "\n",
    "\n",
    "- For each of the DFE stats you will have 1000 values that represent the difference in the mock samples\n",
    "\n",
    "- Ask this question: How many of those 1000 differences is bigger than  the mean ( real 100 Candidate bootstraps) - mean(100 non-- candidate bootstraps)\n"
   ]
  },
  {
   "cell_type": "code",
   "execution_count": 1,
   "id": "romance-integration",
   "metadata": {},
   "outputs": [],
   "source": [
    "import pandas as pd\n",
    "from sklearn.utils import resample\n",
    "import random\n",
    "import matplotlib.pyplot as plt\n",
    "from scipy import stats\n",
    "import math"
   ]
  },
  {
   "cell_type": "code",
   "execution_count": 2,
   "id": "urban-firmware",
   "metadata": {},
   "outputs": [],
   "source": [
    "df = pd.read_csv(\"../../data/dfe_alpha_analysis/20210204_composite_genome/bootstrap_values.txt\", sep='\\t')\n",
    "df.columns = [\"group\",\"alpha\", \"omega\",\"pFDM\", \"NeS_0_1\", \"NeS_1_10\", \"NeS_10_100\", \"NeS_100_99\"]\n",
    "df = df.drop(columns=[\"pFDM\"])"
   ]
  },
  {
   "cell_type": "code",
   "execution_count": 3,
   "id": "honest-newcastle",
   "metadata": {},
   "outputs": [
    {
     "data": {
      "text/html": [
       "<div>\n",
       "<style scoped>\n",
       "    .dataframe tbody tr th:only-of-type {\n",
       "        vertical-align: middle;\n",
       "    }\n",
       "\n",
       "    .dataframe tbody tr th {\n",
       "        vertical-align: top;\n",
       "    }\n",
       "\n",
       "    .dataframe thead th {\n",
       "        text-align: right;\n",
       "    }\n",
       "</style>\n",
       "<table border=\"1\" class=\"dataframe\">\n",
       "  <thead>\n",
       "    <tr style=\"text-align: right;\">\n",
       "      <th></th>\n",
       "      <th>group</th>\n",
       "      <th>alpha</th>\n",
       "      <th>omega</th>\n",
       "      <th>NeS_0_1</th>\n",
       "      <th>NeS_1_10</th>\n",
       "      <th>NeS_10_100</th>\n",
       "      <th>NeS_100_99</th>\n",
       "    </tr>\n",
       "  </thead>\n",
       "  <tbody>\n",
       "    <tr>\n",
       "      <th>0</th>\n",
       "      <td>noncandidate</td>\n",
       "      <td>0.264506</td>\n",
       "      <td>0.085500</td>\n",
       "      <td>0.252094</td>\n",
       "      <td>0.061857</td>\n",
       "      <td>0.077035</td>\n",
       "      <td>0.609015</td>\n",
       "    </tr>\n",
       "    <tr>\n",
       "      <th>1</th>\n",
       "      <td>candidate</td>\n",
       "      <td>0.486018</td>\n",
       "      <td>0.145958</td>\n",
       "      <td>0.166344</td>\n",
       "      <td>0.055530</td>\n",
       "      <td>0.074067</td>\n",
       "      <td>0.704058</td>\n",
       "    </tr>\n",
       "    <tr>\n",
       "      <th>2</th>\n",
       "      <td>noncandidate</td>\n",
       "      <td>0.203251</td>\n",
       "      <td>0.064773</td>\n",
       "      <td>0.266185</td>\n",
       "      <td>0.050104</td>\n",
       "      <td>0.059535</td>\n",
       "      <td>0.624176</td>\n",
       "    </tr>\n",
       "    <tr>\n",
       "      <th>3</th>\n",
       "      <td>candidate</td>\n",
       "      <td>0.438839</td>\n",
       "      <td>0.130599</td>\n",
       "      <td>0.177601</td>\n",
       "      <td>0.046088</td>\n",
       "      <td>0.058048</td>\n",
       "      <td>0.718262</td>\n",
       "    </tr>\n",
       "    <tr>\n",
       "      <th>4</th>\n",
       "      <td>noncandidate</td>\n",
       "      <td>0.354435</td>\n",
       "      <td>0.116164</td>\n",
       "      <td>0.226874</td>\n",
       "      <td>0.070282</td>\n",
       "      <td>0.092047</td>\n",
       "      <td>0.610797</td>\n",
       "    </tr>\n",
       "  </tbody>\n",
       "</table>\n",
       "</div>"
      ],
      "text/plain": [
       "          group     alpha     omega   NeS_0_1  NeS_1_10  NeS_10_100  \\\n",
       "0  noncandidate  0.264506  0.085500  0.252094  0.061857    0.077035   \n",
       "1     candidate  0.486018  0.145958  0.166344  0.055530    0.074067   \n",
       "2  noncandidate  0.203251  0.064773  0.266185  0.050104    0.059535   \n",
       "3     candidate  0.438839  0.130599  0.177601  0.046088    0.058048   \n",
       "4  noncandidate  0.354435  0.116164  0.226874  0.070282    0.092047   \n",
       "\n",
       "   NeS_100_99  \n",
       "0    0.609015  \n",
       "1    0.704058  \n",
       "2    0.624176  \n",
       "3    0.718262  \n",
       "4    0.610797  "
      ]
     },
     "execution_count": 3,
     "metadata": {},
     "output_type": "execute_result"
    }
   ],
   "source": [
    "df.head()"
   ]
  },
  {
   "cell_type": "code",
   "execution_count": 4,
   "id": "married-jerusalem",
   "metadata": {},
   "outputs": [],
   "source": [
    "# construct the simulated null population distribution\n",
    "population= pd.DataFrame(columns = [\"alpha\", \"omega\", \"NeS_0_1\", \"NeS_1_10\", \"NeS_10_100\", \"NeS_100_99\"])\n",
    "\n",
    "for i in range(10000):\n",
    "    random.seed(i)\n",
    "    \n",
    "    #Resample to create mock candidate and noncandidates form null population\n",
    "    mock_candidate = resample(df, replace=True, n_samples=100, random_state=random.randint(0,10000))\n",
    "    mock_noncandidate = resample(df, replace=True, n_samples=100, random_state=random.randint(0,10000))\n",
    "    \n",
    "    #Calculate median and standard deviation of candidate-noncandidate\n",
    "    median_c = mock_candidate.agg(['median'])\n",
    "    median_nc = mock_noncandidate.agg(['median'])\n",
    "    var_c = mock_candidate.agg(['std']).apply(lambda x: x**2)\n",
    "    var_nc = mock_noncandidate.agg(['std']).apply(lambda x: x**2)\n",
    "    output_std = pd.Series((var_c+var_nc).apply(lambda x: math.sqrt(x)), name = 'std')\n",
    "    output = median_c-median_nc\n",
    "    \n",
    "    #Add median and std to a running dataframe \n",
    "    population = population.append(output.append(output_std))"
   ]
  },
  {
   "cell_type": "code",
   "execution_count": 5,
   "id": "skilled-bunny",
   "metadata": {},
   "outputs": [
    {
     "data": {
      "text/html": [
       "<div>\n",
       "<style scoped>\n",
       "    .dataframe tbody tr th:only-of-type {\n",
       "        vertical-align: middle;\n",
       "    }\n",
       "\n",
       "    .dataframe tbody tr th {\n",
       "        vertical-align: top;\n",
       "    }\n",
       "\n",
       "    .dataframe thead th {\n",
       "        text-align: right;\n",
       "    }\n",
       "</style>\n",
       "<table border=\"1\" class=\"dataframe\">\n",
       "  <thead>\n",
       "    <tr style=\"text-align: right;\">\n",
       "      <th></th>\n",
       "      <th>alpha</th>\n",
       "      <th>omega</th>\n",
       "      <th>NeS_0_1</th>\n",
       "      <th>NeS_1_10</th>\n",
       "      <th>NeS_10_100</th>\n",
       "      <th>NeS_100_99</th>\n",
       "    </tr>\n",
       "  </thead>\n",
       "  <tbody>\n",
       "    <tr>\n",
       "      <th>median</th>\n",
       "      <td>0.013062</td>\n",
       "      <td>0.000491</td>\n",
       "      <td>-0.010314</td>\n",
       "      <td>-0.001924</td>\n",
       "      <td>-0.003734</td>\n",
       "      <td>0.007350</td>\n",
       "    </tr>\n",
       "    <tr>\n",
       "      <th>std</th>\n",
       "      <td>0.096500</td>\n",
       "      <td>0.026402</td>\n",
       "      <td>0.038932</td>\n",
       "      <td>0.015926</td>\n",
       "      <td>0.024484</td>\n",
       "      <td>0.051046</td>\n",
       "    </tr>\n",
       "    <tr>\n",
       "      <th>median</th>\n",
       "      <td>-0.006409</td>\n",
       "      <td>-0.001090</td>\n",
       "      <td>0.005421</td>\n",
       "      <td>0.000235</td>\n",
       "      <td>0.000900</td>\n",
       "      <td>-0.008119</td>\n",
       "    </tr>\n",
       "    <tr>\n",
       "      <th>std</th>\n",
       "      <td>0.096073</td>\n",
       "      <td>0.025473</td>\n",
       "      <td>0.039858</td>\n",
       "      <td>0.018031</td>\n",
       "      <td>0.029526</td>\n",
       "      <td>0.055694</td>\n",
       "    </tr>\n",
       "    <tr>\n",
       "      <th>median</th>\n",
       "      <td>-0.014209</td>\n",
       "      <td>-0.002987</td>\n",
       "      <td>0.002268</td>\n",
       "      <td>-0.002346</td>\n",
       "      <td>-0.003785</td>\n",
       "      <td>-0.004842</td>\n",
       "    </tr>\n",
       "  </tbody>\n",
       "</table>\n",
       "</div>"
      ],
      "text/plain": [
       "           alpha     omega   NeS_0_1  NeS_1_10  NeS_10_100  NeS_100_99\n",
       "median  0.013062  0.000491 -0.010314 -0.001924   -0.003734    0.007350\n",
       "std     0.096500  0.026402  0.038932  0.015926    0.024484    0.051046\n",
       "median -0.006409 -0.001090  0.005421  0.000235    0.000900   -0.008119\n",
       "std     0.096073  0.025473  0.039858  0.018031    0.029526    0.055694\n",
       "median -0.014209 -0.002987  0.002268 -0.002346   -0.003785   -0.004842"
      ]
     },
     "execution_count": 5,
     "metadata": {},
     "output_type": "execute_result"
    }
   ],
   "source": [
    "population.head()"
   ]
  },
  {
   "cell_type": "code",
   "execution_count": 6,
   "id": "agricultural-checkout",
   "metadata": {},
   "outputs": [],
   "source": [
    "# the simulated median and standard deviation of the null population distribution (estimated with bootstrapping)\n",
    "population_summary = population[population.index == 'median'].agg(['median'])\n",
    "population_summary = population_summary.append(population[population.index == 'std'].agg(['median']))\n",
    "population_summary = population_summary.reset_index()\n",
    "population_summary.index = ['median', 'std']"
   ]
  },
  {
   "cell_type": "code",
   "execution_count": 7,
   "id": "empirical-nature",
   "metadata": {},
   "outputs": [
    {
     "data": {
      "text/html": [
       "<div>\n",
       "<style scoped>\n",
       "    .dataframe tbody tr th:only-of-type {\n",
       "        vertical-align: middle;\n",
       "    }\n",
       "\n",
       "    .dataframe tbody tr th {\n",
       "        vertical-align: top;\n",
       "    }\n",
       "\n",
       "    .dataframe thead th {\n",
       "        text-align: right;\n",
       "    }\n",
       "</style>\n",
       "<table border=\"1\" class=\"dataframe\">\n",
       "  <thead>\n",
       "    <tr style=\"text-align: right;\">\n",
       "      <th></th>\n",
       "      <th>index</th>\n",
       "      <th>alpha</th>\n",
       "      <th>omega</th>\n",
       "      <th>NeS_0_1</th>\n",
       "      <th>NeS_1_10</th>\n",
       "      <th>NeS_10_100</th>\n",
       "      <th>NeS_100_99</th>\n",
       "    </tr>\n",
       "  </thead>\n",
       "  <tbody>\n",
       "    <tr>\n",
       "      <th>median</th>\n",
       "      <td>median</td>\n",
       "      <td>0.000101</td>\n",
       "      <td>0.000030</td>\n",
       "      <td>0.000050</td>\n",
       "      <td>0.000005</td>\n",
       "      <td>0.000000</td>\n",
       "      <td>-0.000026</td>\n",
       "    </tr>\n",
       "    <tr>\n",
       "      <th>std</th>\n",
       "      <td>median</td>\n",
       "      <td>0.096348</td>\n",
       "      <td>0.025912</td>\n",
       "      <td>0.039386</td>\n",
       "      <td>0.017598</td>\n",
       "      <td>0.028508</td>\n",
       "      <td>0.053383</td>\n",
       "    </tr>\n",
       "  </tbody>\n",
       "</table>\n",
       "</div>"
      ],
      "text/plain": [
       "         index     alpha     omega   NeS_0_1  NeS_1_10  NeS_10_100  NeS_100_99\n",
       "median  median  0.000101  0.000030  0.000050  0.000005    0.000000   -0.000026\n",
       "std     median  0.096348  0.025912  0.039386  0.017598    0.028508    0.053383"
      ]
     },
     "execution_count": 7,
     "metadata": {},
     "output_type": "execute_result"
    }
   ],
   "source": [
    "population_summary"
   ]
  },
  {
   "cell_type": "code",
   "execution_count": 8,
   "id": "grateful-combination",
   "metadata": {},
   "outputs": [],
   "source": [
    "# the median and standard deviation of the sample distribution\n",
    "c_summary = df[df.group == 'candidate'].agg(['median','std'])\n",
    "nc_summary = df[df.group == 'noncandidate'].agg(['median','std'])\n",
    "df_summary = c_summary - nc_summary\n",
    "std_tmp = c_summary[c_summary.index == 'std'].apply(lambda x: x**2) + nc_summary[nc_summary.index == 'std'].apply(lambda x: x**2)\n",
    "std_tmp = pd.Series(std_tmp.apply(lambda x: math.sqrt(x)), name = 'std')\n",
    "df_summary = df_summary.drop(index = 'std').append(std_tmp)"
   ]
  },
  {
   "cell_type": "code",
   "execution_count": 9,
   "id": "foreign-blogger",
   "metadata": {},
   "outputs": [
    {
     "data": {
      "text/html": [
       "<div>\n",
       "<style scoped>\n",
       "    .dataframe tbody tr th:only-of-type {\n",
       "        vertical-align: middle;\n",
       "    }\n",
       "\n",
       "    .dataframe tbody tr th {\n",
       "        vertical-align: top;\n",
       "    }\n",
       "\n",
       "    .dataframe thead th {\n",
       "        text-align: right;\n",
       "    }\n",
       "</style>\n",
       "<table border=\"1\" class=\"dataframe\">\n",
       "  <thead>\n",
       "    <tr style=\"text-align: right;\">\n",
       "      <th></th>\n",
       "      <th>alpha</th>\n",
       "      <th>omega</th>\n",
       "      <th>NeS_0_1</th>\n",
       "      <th>NeS_1_10</th>\n",
       "      <th>NeS_10_100</th>\n",
       "      <th>NeS_100_99</th>\n",
       "    </tr>\n",
       "  </thead>\n",
       "  <tbody>\n",
       "    <tr>\n",
       "      <th>median</th>\n",
       "      <td>0.099108</td>\n",
       "      <td>0.021184</td>\n",
       "      <td>-0.049534</td>\n",
       "      <td>0.000850</td>\n",
       "      <td>0.003727</td>\n",
       "      <td>0.050882</td>\n",
       "    </tr>\n",
       "    <tr>\n",
       "      <th>std</th>\n",
       "      <td>0.065176</td>\n",
       "      <td>0.021203</td>\n",
       "      <td>0.016843</td>\n",
       "      <td>0.017703</td>\n",
       "      <td>0.028365</td>\n",
       "      <td>0.045219</td>\n",
       "    </tr>\n",
       "  </tbody>\n",
       "</table>\n",
       "</div>"
      ],
      "text/plain": [
       "           alpha     omega   NeS_0_1  NeS_1_10  NeS_10_100  NeS_100_99\n",
       "median  0.099108  0.021184 -0.049534  0.000850    0.003727    0.050882\n",
       "std     0.065176  0.021203  0.016843  0.017703    0.028365    0.045219"
      ]
     },
     "execution_count": 9,
     "metadata": {},
     "output_type": "execute_result"
    }
   ],
   "source": [
    "df_summary"
   ]
  },
  {
   "cell_type": "markdown",
   "id": "impressed-anniversary",
   "metadata": {},
   "source": [
    "#### Calculate p-value\n",
    "z = (median of sample - median of population)/(population std/sqrt(sample_n))"
   ]
  },
  {
   "cell_type": "raw",
   "id": "least-fitness",
   "metadata": {},
   "source": [
    "sample_mean = df_summary.loc['mean',]\n",
    "population_mean = population_summary.loc['mean',]\n",
    "population_std = population_summary.loc['std',]\n",
    "sample_n = 100\n",
    "z = (sample_mean - population_mean)/(population_std)*math.sqrt(sample_n)\n",
    "p_value = z.apply(lambda x: scipy.stats.norm.sf(abs(x))*2).drop(['index'])#twosided"
   ]
  },
  {
   "cell_type": "code",
   "execution_count": 10,
   "id": "indoor-feelings",
   "metadata": {},
   "outputs": [],
   "source": [
    "#how often is bs_diff greater than candidate(value)-noncandidate(value)?\n",
    "sample_stats = pd.DataFrame(columns = [\"alpha\", \"omega\", \"NeS_0_1\", \"NeS_1_10\", \"NeS_10_100\", \"NeS_100_99\"])\n",
    "for col in sample_stats.columns:\n",
    "    greater = sum([1 for i in population.loc['median',col] if i > df_summary.loc['median',col]])\n",
    "    sample_stats.loc['pop>sample',col] = greater\n",
    "    less = sum([1 for i in population.loc['median',col] if i < df_summary.loc['median',col]])\n",
    "    sample_stats.loc['pop<sample',col] = less\n",
    "    sample_stats.loc['p_value_greater',col]= greater/sum([greater, less])\n",
    "    sample_stats.loc['p_value_less',col]= less/sum([greater, less])"
   ]
  },
  {
   "cell_type": "code",
   "execution_count": 11,
   "id": "rubber-premiere",
   "metadata": {},
   "outputs": [
    {
     "data": {
      "text/html": [
       "<div>\n",
       "<style scoped>\n",
       "    .dataframe tbody tr th:only-of-type {\n",
       "        vertical-align: middle;\n",
       "    }\n",
       "\n",
       "    .dataframe tbody tr th {\n",
       "        vertical-align: top;\n",
       "    }\n",
       "\n",
       "    .dataframe thead th {\n",
       "        text-align: right;\n",
       "    }\n",
       "</style>\n",
       "<table border=\"1\" class=\"dataframe\">\n",
       "  <thead>\n",
       "    <tr style=\"text-align: right;\">\n",
       "      <th></th>\n",
       "      <th>alpha</th>\n",
       "      <th>omega</th>\n",
       "      <th>NeS_0_1</th>\n",
       "      <th>NeS_1_10</th>\n",
       "      <th>NeS_10_100</th>\n",
       "      <th>NeS_100_99</th>\n",
       "    </tr>\n",
       "  </thead>\n",
       "  <tbody>\n",
       "    <tr>\n",
       "      <th>pop&gt;sample</th>\n",
       "      <td>0</td>\n",
       "      <td>0</td>\n",
       "      <td>10000</td>\n",
       "      <td>3313</td>\n",
       "      <td>1445</td>\n",
       "      <td>0</td>\n",
       "    </tr>\n",
       "    <tr>\n",
       "      <th>pop&lt;sample</th>\n",
       "      <td>10000</td>\n",
       "      <td>10000</td>\n",
       "      <td>0</td>\n",
       "      <td>6686</td>\n",
       "      <td>8555</td>\n",
       "      <td>10000</td>\n",
       "    </tr>\n",
       "    <tr>\n",
       "      <th>p_value_greater</th>\n",
       "      <td>0</td>\n",
       "      <td>0</td>\n",
       "      <td>1</td>\n",
       "      <td>0.331333</td>\n",
       "      <td>0.1445</td>\n",
       "      <td>0</td>\n",
       "    </tr>\n",
       "    <tr>\n",
       "      <th>p_value_less</th>\n",
       "      <td>1</td>\n",
       "      <td>1</td>\n",
       "      <td>0</td>\n",
       "      <td>0.668667</td>\n",
       "      <td>0.8555</td>\n",
       "      <td>1</td>\n",
       "    </tr>\n",
       "  </tbody>\n",
       "</table>\n",
       "</div>"
      ],
      "text/plain": [
       "                 alpha  omega NeS_0_1  NeS_1_10 NeS_10_100 NeS_100_99\n",
       "pop>sample           0      0   10000      3313       1445          0\n",
       "pop<sample       10000  10000       0      6686       8555      10000\n",
       "p_value_greater      0      0       1  0.331333     0.1445          0\n",
       "p_value_less         1      1       0  0.668667     0.8555          1"
      ]
     },
     "execution_count": 11,
     "metadata": {},
     "output_type": "execute_result"
    }
   ],
   "source": [
    "sample_stats"
   ]
  },
  {
   "cell_type": "code",
   "execution_count": 12,
   "id": "radical-intervention",
   "metadata": {},
   "outputs": [
    {
     "name": "stdout",
     "output_type": "stream",
     "text": [
      "population median = 0.0001\n",
      "population sd = 0.09635\n",
      "sample median = 0.09911\n",
      "boostrap p-value (greater than) = 0.0\n",
      "boostrap p-value (less than) = 1.0\n",
      "\n"
     ]
    },
    {
     "data": {
      "image/png": "[encoded data removed]",
      "text/plain": [
       "<Figure size 432x360 with 1 Axes>"
      ]
     },
     "metadata": {
      "needs_background": "light"
     },
     "output_type": "display_data"
    },
    {
     "name": "stdout",
     "output_type": "stream",
     "text": [
      "population median = 3e-05\n",
      "population sd = 0.02591\n",
      "sample median = 0.02118\n",
      "boostrap p-value (greater than) = 0.0\n",
      "boostrap p-value (less than) = 1.0\n",
      "\n"
     ]
    },
    {
     "data": {
      "image/png": "[encoded data removed]",
      "text/plain": [
       "<Figure size 432x360 with 1 Axes>"
      ]
     },
     "metadata": {
      "needs_background": "light"
     },
     "output_type": "display_data"
    },
    {
     "name": "stdout",
     "output_type": "stream",
     "text": [
      "population median = 5e-05\n",
      "population sd = 0.03939\n",
      "sample median = -0.04953\n",
      "boostrap p-value (greater than) = 1.0\n",
      "boostrap p-value (less than) = 0.0\n",
      "\n"
     ]
    },
    {
     "data": {
      "image/png": "[encoded data removed]",
      "text/plain": [
       "<Figure size 432x360 with 1 Axes>"
      ]
     },
     "metadata": {
      "needs_background": "light"
     },
     "output_type": "display_data"
    },
    {
     "name": "stdout",
     "output_type": "stream",
     "text": [
      "population median = 0.0\n",
      "population sd = 0.0176\n",
      "sample median = 0.00085\n",
      "boostrap p-value (greater than) = 0.33133\n",
      "boostrap p-value (less than) = 0.66867\n",
      "\n"
     ]
    },
    {
     "data": {
      "image/png": "[encoded data removed]",
      "text/plain": [
       "<Figure size 432x360 with 1 Axes>"
      ]
     },
     "metadata": {
      "needs_background": "light"
     },
     "output_type": "display_data"
    },
    {
     "name": "stdout",
     "output_type": "stream",
     "text": [
      "population median = 0.0\n",
      "population sd = 0.02851\n",
      "sample median = 0.00373\n",
      "boostrap p-value (greater than) = 0.1445\n",
      "boostrap p-value (less than) = 0.8555\n",
      "\n"
     ]
    },
    {
     "data": {
      "image/png": "[encoded data removed]",
      "text/plain": [
       "<Figure size 432x360 with 1 Axes>"
      ]
     },
     "metadata": {
      "needs_background": "light"
     },
     "output_type": "display_data"
    },
    {
     "name": "stdout",
     "output_type": "stream",
     "text": [
      "population median = -3e-05\n",
      "population sd = 0.05338\n",
      "sample median = 0.05088\n",
      "boostrap p-value (greater than) = 0.0\n",
      "boostrap p-value (less than) = 1.0\n",
      "\n"
     ]
    },
    {
     "data": {
      "image/png": "[encoded data removed]",
      "text/plain": [
       "<Figure size 432x360 with 1 Axes>"
      ]
     },
     "metadata": {
      "needs_background": "light"
     },
     "output_type": "display_data"
    }
   ],
   "source": [
    "\n",
    "for col in sample_stats.columns:\n",
    "    \n",
    "    #annotation\n",
    "    text_string = \"population median = {}\\n\".format(round(population_summary.loc['median',col], 5))+ \\\n",
    "                    \"population sd = {}\\n\".format(round(population_summary.loc['std',col], 5))+ \\\n",
    "                    \"sample median = {}\\n\".format(round(df_summary.loc['median',col],5)) + \\\n",
    "                    'boostrap p-value (greater than) = {}\\n'.format(round(sample_stats.loc['p_value_greater',col],5)) + \\\n",
    "                    'boostrap p-value (less than) = {}\\n'.format(round(sample_stats.loc['p_value_less',col],5))\n",
    "    print(text_string)\n",
    "    \n",
    "    #Figure\n",
    "    plt.figure(figsize=(6, 5))\n",
    "    population[population.index == 'median'][col].plot(kind = \"hist\", density = False, bins = 20)\n",
    "    plt.xlabel(col)\n",
    "    plt.axvline(x = df_summary.loc['median',col], color = 'red', \\\n",
    "                label='sample median\\nx = {}'.format(df_summary.loc['median',col]))\n",
    "    plt.show()"
   ]
  },
  {
   "cell_type": "code",
   "execution_count": null,
   "id": "reasonable-syndrome",
   "metadata": {},
   "outputs": [],
   "source": []
  }
 ],
 "metadata": {
  "kernelspec": {
   "display_name": "Python 3",
   "language": "python",
   "name": "python3"
  },
  "language_info": {
   "codemirror_mode": {
    "name": "ipython",
    "version": 3
   },
   "file_extension": ".py",
   "mimetype": "text/x-python",
   "name": "python",
   "nbconvert_exporter": "python",
   "pygments_lexer": "ipython3",
   "version": "3.6.12"
  }
 },
 "nbformat": 4,
 "nbformat_minor": 5
}
