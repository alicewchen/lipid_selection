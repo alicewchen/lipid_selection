{
 "cells": [
  {
   "cell_type": "markdown",
   "id": "solar-season",
   "metadata": {},
   "source": [
    "# 1. Method 1\n",
    "\n",
    "1. Create bootstrap candidate/noncandidate sample from candidate/noncandidate pool of dfe_alpha output values.\n",
    ">`bs(cand)`, `bs(noncand)`\n",
    "2. Create `null population` by joining bootstrap candidate and noncandidate samples\n",
    ">`null_pop = bs(cand) + bs(noncand)`\n",
    "3. Bootstrap sample two samples from null population, and assign as `candidate` and `noncandidate`. Repeat 1000 times. \n",
    ">`mock_candidate = bs(null_pop)`\n",
    ">`mock_noncandidate = bs(null_population)`\n",
    "4. Calculate null population mean and standard deviation of `mock_candidate - mock_candidate`\n",
    "5. Calculate sample mean from the original candidate/noncandidate pool of dfe_alpha output values.\n",
    "6. Calculate p-value using z-scores. \n",
    ">`z = (sample_mean - population_mean)/(population_std/sqrt(sample_n))`\n"
   ]
  },
  {
   "cell_type": "code",
   "execution_count": 190,
   "id": "friendly-rebel",
   "metadata": {},
   "outputs": [],
   "source": [
    "import pandas as pd\n",
    "from sklearn.utils import resample\n",
    "import random\n",
    "import matplotlib.pyplot as plt\n",
    "from scipy import stats\n",
    "import math\n",
    "import scipy"
   ]
  },
  {
   "cell_type": "code",
   "execution_count": 191,
   "id": "british-harmony",
   "metadata": {},
   "outputs": [],
   "source": [
    "df = pd.read_csv(\"../../data/dfe_alpha_analysis/20210204_composite_genome/bootstrap_values.txt\", sep='\\t')\n",
    "df.columns = [\"group\",\"alpha\", \"omega\",\"pFDM\", \"NeS_0_1\", \"NeS_1_10\", \"NeS_10_100\", \"NeS_100_99\"]\n",
    "df = df.drop(columns=[\"pFDM\"])"
   ]
  },
  {
   "cell_type": "code",
   "execution_count": 192,
   "id": "turned-assault",
   "metadata": {},
   "outputs": [
    {
     "data": {
      "text/html": [
       "<div>\n",
       "<style scoped>\n",
       "    .dataframe tbody tr th:only-of-type {\n",
       "        vertical-align: middle;\n",
       "    }\n",
       "\n",
       "    .dataframe tbody tr th {\n",
       "        vertical-align: top;\n",
       "    }\n",
       "\n",
       "    .dataframe thead th {\n",
       "        text-align: right;\n",
       "    }\n",
       "</style>\n",
       "<table border=\"1\" class=\"dataframe\">\n",
       "  <thead>\n",
       "    <tr style=\"text-align: right;\">\n",
       "      <th></th>\n",
       "      <th>group</th>\n",
       "      <th>alpha</th>\n",
       "      <th>omega</th>\n",
       "      <th>NeS_0_1</th>\n",
       "      <th>NeS_1_10</th>\n",
       "      <th>NeS_10_100</th>\n",
       "      <th>NeS_100_99</th>\n",
       "    </tr>\n",
       "  </thead>\n",
       "  <tbody>\n",
       "    <tr>\n",
       "      <th>0</th>\n",
       "      <td>noncandidate</td>\n",
       "      <td>0.264506</td>\n",
       "      <td>0.085500</td>\n",
       "      <td>0.252094</td>\n",
       "      <td>0.061857</td>\n",
       "      <td>0.077035</td>\n",
       "      <td>0.609015</td>\n",
       "    </tr>\n",
       "    <tr>\n",
       "      <th>1</th>\n",
       "      <td>candidate</td>\n",
       "      <td>0.486018</td>\n",
       "      <td>0.145958</td>\n",
       "      <td>0.166344</td>\n",
       "      <td>0.055530</td>\n",
       "      <td>0.074067</td>\n",
       "      <td>0.704058</td>\n",
       "    </tr>\n",
       "    <tr>\n",
       "      <th>2</th>\n",
       "      <td>noncandidate</td>\n",
       "      <td>0.203251</td>\n",
       "      <td>0.064773</td>\n",
       "      <td>0.266185</td>\n",
       "      <td>0.050104</td>\n",
       "      <td>0.059535</td>\n",
       "      <td>0.624176</td>\n",
       "    </tr>\n",
       "    <tr>\n",
       "      <th>3</th>\n",
       "      <td>candidate</td>\n",
       "      <td>0.438839</td>\n",
       "      <td>0.130599</td>\n",
       "      <td>0.177601</td>\n",
       "      <td>0.046088</td>\n",
       "      <td>0.058048</td>\n",
       "      <td>0.718262</td>\n",
       "    </tr>\n",
       "    <tr>\n",
       "      <th>4</th>\n",
       "      <td>noncandidate</td>\n",
       "      <td>0.354435</td>\n",
       "      <td>0.116164</td>\n",
       "      <td>0.226874</td>\n",
       "      <td>0.070282</td>\n",
       "      <td>0.092047</td>\n",
       "      <td>0.610797</td>\n",
       "    </tr>\n",
       "  </tbody>\n",
       "</table>\n",
       "</div>"
      ],
      "text/plain": [
       "          group     alpha     omega   NeS_0_1  NeS_1_10  NeS_10_100  \\\n",
       "0  noncandidate  0.264506  0.085500  0.252094  0.061857    0.077035   \n",
       "1     candidate  0.486018  0.145958  0.166344  0.055530    0.074067   \n",
       "2  noncandidate  0.203251  0.064773  0.266185  0.050104    0.059535   \n",
       "3     candidate  0.438839  0.130599  0.177601  0.046088    0.058048   \n",
       "4  noncandidate  0.354435  0.116164  0.226874  0.070282    0.092047   \n",
       "\n",
       "   NeS_100_99  \n",
       "0    0.609015  \n",
       "1    0.704058  \n",
       "2    0.624176  \n",
       "3    0.718262  \n",
       "4    0.610797  "
      ]
     },
     "execution_count": 192,
     "metadata": {},
     "output_type": "execute_result"
    }
   ],
   "source": [
    "df.head()"
   ]
  },
  {
   "cell_type": "code",
   "execution_count": 193,
   "id": "processed-rally",
   "metadata": {},
   "outputs": [],
   "source": [
    "# construct the simulated null population distribution\n",
    "population= pd.DataFrame(columns = [\"alpha\", \"omega\", \"NeS_0_1\", \"NeS_1_10\", \"NeS_10_100\", \"NeS_100_99\"])\n",
    "\n",
    "for i in range(1000):\n",
    "    random.seed(i)\n",
    "    \n",
    "    #Resample candidates and noncandidates\n",
    "    candidate_bs = resample(df[df.group == 'candidate'], replace=True, n_samples=100, random_state=1)\n",
    "    noncandidate_bs = resample(df[df.group == 'noncandidate'], replace=True, n_samples=100, random_state=1)\n",
    "    \n",
    "    #join to create null population pool\n",
    "    joint_bs = candidate_bs.append(noncandidate_bs)\n",
    "    \n",
    "    #Resample to create mock candidate and noncandidates form null population\n",
    "    mock_candidate = resample(joint_bs, replace=True, n_samples=100, random_state=random.randint(0,10000))\n",
    "    mock_noncandidate = resample(joint_bs, replace=True, n_samples=100, random_state=random.randint(0,10000))\n",
    "    \n",
    "    #Calculate mean and standard deviation of candidate-noncandidate\n",
    "    mean_c = mock_candidate.agg(['mean'])\n",
    "    mean_nc = mock_noncandidate.agg(['mean'])\n",
    "    var_c = mock_candidate.agg(['std']).apply(lambda x: x**2)\n",
    "    var_nc = mock_noncandidate.agg(['std']).apply(lambda x: x**2)\n",
    "    output_std = pd.Series((var_c+var_nc).apply(lambda x: math.sqrt(x)), name = 'std')\n",
    "    output = mean_c-mean_nc\n",
    "    \n",
    "    #Add mean and std to a running dataframe \n",
    "    population = population.append(output.append(output_std))"
   ]
  },
  {
   "cell_type": "code",
   "execution_count": 194,
   "id": "novel-bailey",
   "metadata": {},
   "outputs": [],
   "source": [
    "# the simulated mean and standard deviation of the null population distribution (estimated with bootstrapping)\n",
    "population_summary = population[population.index == 'mean'].agg(['mean'])\n",
    "population_summary = population_summary.append(sample[population.index == 'std'].agg(['mean']))\n",
    "population_summary = population_summary.reset_index()\n",
    "population_summary.index = ['mean', 'std']"
   ]
  },
  {
   "cell_type": "code",
   "execution_count": 195,
   "id": "middle-redhead",
   "metadata": {},
   "outputs": [
    {
     "data": {
      "text/html": [
       "<div>\n",
       "<style scoped>\n",
       "    .dataframe tbody tr th:only-of-type {\n",
       "        vertical-align: middle;\n",
       "    }\n",
       "\n",
       "    .dataframe tbody tr th {\n",
       "        vertical-align: top;\n",
       "    }\n",
       "\n",
       "    .dataframe thead th {\n",
       "        text-align: right;\n",
       "    }\n",
       "</style>\n",
       "<table border=\"1\" class=\"dataframe\">\n",
       "  <thead>\n",
       "    <tr style=\"text-align: right;\">\n",
       "      <th></th>\n",
       "      <th>index</th>\n",
       "      <th>alpha</th>\n",
       "      <th>omega</th>\n",
       "      <th>NeS_0_1</th>\n",
       "      <th>NeS_1_10</th>\n",
       "      <th>NeS_10_100</th>\n",
       "      <th>NeS_100_99</th>\n",
       "    </tr>\n",
       "  </thead>\n",
       "  <tbody>\n",
       "    <tr>\n",
       "      <th>mean</th>\n",
       "      <td>mean</td>\n",
       "      <td>0.000913</td>\n",
       "      <td>0.000202</td>\n",
       "      <td>-0.000413</td>\n",
       "      <td>0.000101</td>\n",
       "      <td>0.000185</td>\n",
       "      <td>0.000126</td>\n",
       "    </tr>\n",
       "    <tr>\n",
       "      <th>std</th>\n",
       "      <td>mean</td>\n",
       "      <td>0.096278</td>\n",
       "      <td>0.025859</td>\n",
       "      <td>0.039398</td>\n",
       "      <td>0.017619</td>\n",
       "      <td>0.028611</td>\n",
       "      <td>0.053488</td>\n",
       "    </tr>\n",
       "  </tbody>\n",
       "</table>\n",
       "</div>"
      ],
      "text/plain": [
       "     index     alpha     omega   NeS_0_1  NeS_1_10  NeS_10_100  NeS_100_99\n",
       "mean  mean  0.000913  0.000202 -0.000413  0.000101    0.000185    0.000126\n",
       "std   mean  0.096278  0.025859  0.039398  0.017619    0.028611    0.053488"
      ]
     },
     "execution_count": 195,
     "metadata": {},
     "output_type": "execute_result"
    }
   ],
   "source": [
    "population_summary"
   ]
  },
  {
   "cell_type": "code",
   "execution_count": 196,
   "id": "pleased-selling",
   "metadata": {},
   "outputs": [],
   "source": [
    "# the mean and standard deviation of the sample distribution\n",
    "c_summary = df[df.group == 'candidate'].agg(['mean','std', 'median'])\n",
    "nc_summary = df[df.group == 'noncandidate'].agg(['mean','std', 'median'])\n",
    "df_summary = c_summary - nc_summary\n",
    "std_tmp = c_summary[c_summary.index == 'std'].apply(lambda x: x**2) + nc_summary[nc_summary.index == 'std'].apply(lambda x: x**2)\n",
    "std_tmp = pd.Series(std_tmp.apply(lambda x: math.sqrt(x)), name = 'std')\n",
    "df_summary = df_summary.drop(index = 'std').append(std_tmp)"
   ]
  },
  {
   "cell_type": "code",
   "execution_count": 197,
   "id": "north-indian",
   "metadata": {},
   "outputs": [
    {
     "data": {
      "text/html": [
       "<div>\n",
       "<style scoped>\n",
       "    .dataframe tbody tr th:only-of-type {\n",
       "        vertical-align: middle;\n",
       "    }\n",
       "\n",
       "    .dataframe tbody tr th {\n",
       "        vertical-align: top;\n",
       "    }\n",
       "\n",
       "    .dataframe thead th {\n",
       "        text-align: right;\n",
       "    }\n",
       "</style>\n",
       "<table border=\"1\" class=\"dataframe\">\n",
       "  <thead>\n",
       "    <tr style=\"text-align: right;\">\n",
       "      <th></th>\n",
       "      <th>alpha</th>\n",
       "      <th>omega</th>\n",
       "      <th>NeS_0_1</th>\n",
       "      <th>NeS_1_10</th>\n",
       "      <th>NeS_10_100</th>\n",
       "      <th>NeS_100_99</th>\n",
       "    </tr>\n",
       "  </thead>\n",
       "  <tbody>\n",
       "    <tr>\n",
       "      <th>mean</th>\n",
       "      <td>0.101022</td>\n",
       "      <td>0.021351</td>\n",
       "      <td>-0.050461</td>\n",
       "      <td>0.002053</td>\n",
       "      <td>0.007490</td>\n",
       "      <td>0.040918</td>\n",
       "    </tr>\n",
       "    <tr>\n",
       "      <th>median</th>\n",
       "      <td>0.099108</td>\n",
       "      <td>0.021184</td>\n",
       "      <td>-0.049534</td>\n",
       "      <td>0.000850</td>\n",
       "      <td>0.003727</td>\n",
       "      <td>0.050882</td>\n",
       "    </tr>\n",
       "    <tr>\n",
       "      <th>std</th>\n",
       "      <td>0.065176</td>\n",
       "      <td>0.021203</td>\n",
       "      <td>0.016843</td>\n",
       "      <td>0.017703</td>\n",
       "      <td>0.028365</td>\n",
       "      <td>0.045219</td>\n",
       "    </tr>\n",
       "  </tbody>\n",
       "</table>\n",
       "</div>"
      ],
      "text/plain": [
       "           alpha     omega   NeS_0_1  NeS_1_10  NeS_10_100  NeS_100_99\n",
       "mean    0.101022  0.021351 -0.050461  0.002053    0.007490    0.040918\n",
       "median  0.099108  0.021184 -0.049534  0.000850    0.003727    0.050882\n",
       "std     0.065176  0.021203  0.016843  0.017703    0.028365    0.045219"
      ]
     },
     "execution_count": 197,
     "metadata": {},
     "output_type": "execute_result"
    }
   ],
   "source": [
    "df_summary"
   ]
  },
  {
   "cell_type": "markdown",
   "id": "working-headset",
   "metadata": {},
   "source": [
    "#### Calculate p-value\n",
    "z = (mean of sample - mean of population)/(population std/sqrt(sample_n))"
   ]
  },
  {
   "cell_type": "code",
   "execution_count": 198,
   "id": "suffering-disaster",
   "metadata": {},
   "outputs": [],
   "source": [
    "sample_mean = df_summary.loc['mean',]\n",
    "population_mean = population_summary.loc['mean',]\n",
    "population_std = population_summary.loc['std',]\n",
    "sample_n = 100\n",
    "z = (sample_mean - population_mean)/(population_std)*math.sqrt(sample_n)\n",
    "p_value = z.apply(lambda x: scipy.stats.norm.sf(abs(x))*2).drop(['index'])#twosided"
   ]
  },
  {
   "cell_type": "code",
   "execution_count": 200,
   "id": "certified-electronics",
   "metadata": {},
   "outputs": [],
   "source": [
    "#how often is bs_diff greater than candidate(value)-noncandidate(value)?\n",
    "sample_stats = pd.DataFrame(columns = [\"alpha\", \"omega\", \"NeS_0_1\", \"NeS_1_10\", \"NeS_10_100\", \"NeS_100_99\"], \n",
    "                            index = ['pop>sample', 'pop<sample','p_value'])\n",
    "for col in sample_stats.columns:\n",
    "    greater = sum([1 for i in population.loc['mean',col] if i > df_summary.loc['mean',col]])\n",
    "    sample_stats.loc['pop>sample',col] = greater\n",
    "    less = sum([1 for i in population.loc['mean',col] if i < df_summary.loc['mean',col]])\n",
    "    sample_stats.loc['pop<sample',col] = less\n",
    "    sample_stats.loc['p_value',col]= greater/sum([greater, less])"
   ]
  },
  {
   "cell_type": "code",
   "execution_count": 201,
   "id": "suited-panama",
   "metadata": {},
   "outputs": [
    {
     "data": {
      "text/html": [
       "<div>\n",
       "<style scoped>\n",
       "    .dataframe tbody tr th:only-of-type {\n",
       "        vertical-align: middle;\n",
       "    }\n",
       "\n",
       "    .dataframe tbody tr th {\n",
       "        vertical-align: top;\n",
       "    }\n",
       "\n",
       "    .dataframe thead th {\n",
       "        text-align: right;\n",
       "    }\n",
       "</style>\n",
       "<table border=\"1\" class=\"dataframe\">\n",
       "  <thead>\n",
       "    <tr style=\"text-align: right;\">\n",
       "      <th></th>\n",
       "      <th>alpha</th>\n",
       "      <th>omega</th>\n",
       "      <th>NeS_0_1</th>\n",
       "      <th>NeS_1_10</th>\n",
       "      <th>NeS_10_100</th>\n",
       "      <th>NeS_100_99</th>\n",
       "    </tr>\n",
       "  </thead>\n",
       "  <tbody>\n",
       "    <tr>\n",
       "      <th>pop&gt;sample</th>\n",
       "      <td>0</td>\n",
       "      <td>0</td>\n",
       "      <td>1000</td>\n",
       "      <td>135</td>\n",
       "      <td>2</td>\n",
       "      <td>0</td>\n",
       "    </tr>\n",
       "    <tr>\n",
       "      <th>pop&lt;sample</th>\n",
       "      <td>1000</td>\n",
       "      <td>1000</td>\n",
       "      <td>0</td>\n",
       "      <td>865</td>\n",
       "      <td>998</td>\n",
       "      <td>1000</td>\n",
       "    </tr>\n",
       "    <tr>\n",
       "      <th>p_value</th>\n",
       "      <td>0</td>\n",
       "      <td>0</td>\n",
       "      <td>1</td>\n",
       "      <td>0.135</td>\n",
       "      <td>0.002</td>\n",
       "      <td>0</td>\n",
       "    </tr>\n",
       "  </tbody>\n",
       "</table>\n",
       "</div>"
      ],
      "text/plain": [
       "           alpha omega NeS_0_1 NeS_1_10 NeS_10_100 NeS_100_99\n",
       "pop>sample     0     0    1000      135          2          0\n",
       "pop<sample  1000  1000       0      865        998       1000\n",
       "p_value        0     0       1    0.135      0.002          0"
      ]
     },
     "execution_count": 201,
     "metadata": {},
     "output_type": "execute_result"
    }
   ],
   "source": [
    "sample_stats"
   ]
  },
  {
   "cell_type": "code",
   "execution_count": 202,
   "id": "boxed-leonard",
   "metadata": {},
   "outputs": [
    {
     "name": "stdout",
     "output_type": "stream",
     "text": [
      "population mean = 0.00091\n",
      "population sd = 0.09628\n",
      "sample mean = 0.10102\n",
      "z-score p-value = 0.0\n",
      "boostrap p-value = 0.0\n",
      "\n"
     ]
    },
    {
     "data": {
      "image/png": "[encoded data removed]",
      "text/plain": [
       "<Figure size 432x360 with 1 Axes>"
      ]
     },
     "metadata": {
      "needs_background": "light"
     },
     "output_type": "display_data"
    },
    {
     "name": "stdout",
     "output_type": "stream",
     "text": [
      "population mean = 0.0002\n",
      "population sd = 0.02586\n",
      "sample mean = 0.02135\n",
      "z-score p-value = 0.0\n",
      "boostrap p-value = 0.0\n",
      "\n"
     ]
    },
    {
     "data": {
      "image/png": "[encoded data removed]",
      "text/plain": [
       "<Figure size 432x360 with 1 Axes>"
      ]
     },
     "metadata": {
      "needs_background": "light"
     },
     "output_type": "display_data"
    },
    {
     "name": "stdout",
     "output_type": "stream",
     "text": [
      "population mean = -0.00041\n",
      "population sd = 0.0394\n",
      "sample mean = -0.05046\n",
      "z-score p-value = 0.0\n",
      "boostrap p-value = 1.0\n",
      "\n"
     ]
    },
    {
     "data": {
      "image/png": "[encoded data removed]",
      "text/plain": [
       "<Figure size 432x360 with 1 Axes>"
      ]
     },
     "metadata": {
      "needs_background": "light"
     },
     "output_type": "display_data"
    },
    {
     "name": "stdout",
     "output_type": "stream",
     "text": [
      "population mean = 0.0001\n",
      "population sd = 0.01762\n",
      "sample mean = 0.00205\n",
      "z-score p-value = 0.26785\n",
      "boostrap p-value = 0.135\n",
      "\n"
     ]
    },
    {
     "data": {
      "image/png": "[encoded data removed]",
      "text/plain": [
       "<Figure size 432x360 with 1 Axes>"
      ]
     },
     "metadata": {
      "needs_background": "light"
     },
     "output_type": "display_data"
    },
    {
     "name": "stdout",
     "output_type": "stream",
     "text": [
      "population mean = 0.00019\n",
      "population sd = 0.02861\n",
      "sample mean = 0.00749\n",
      "z-score p-value = 0.01067\n",
      "boostrap p-value = 0.002\n",
      "\n"
     ]
    },
    {
     "data": {
      "image/png": "[encoded data removed]",
      "text/plain": [
       "<Figure size 432x360 with 1 Axes>"
      ]
     },
     "metadata": {
      "needs_background": "light"
     },
     "output_type": "display_data"
    },
    {
     "name": "stdout",
     "output_type": "stream",
     "text": [
      "population mean = 0.00013\n",
      "population sd = 0.05349\n",
      "sample mean = 0.04092\n",
      "z-score p-value = 0.0\n",
      "boostrap p-value = 0.0\n",
      "\n"
     ]
    },
    {
     "data": {
      "image/png": "[encoded data removed]",
      "text/plain": [
       "<Figure size 432x360 with 1 Axes>"
      ]
     },
     "metadata": {
      "needs_background": "light"
     },
     "output_type": "display_data"
    }
   ],
   "source": [
    "\n",
    "for col in sample.columns:\n",
    "    \n",
    "    #annotation\n",
    "    text_string = \"population mean = {}\\n\".format(round(population_summary.loc['mean',col], 5))+ \\\n",
    "                    \"population sd = {}\\n\".format(round(population_summary.loc['std',col], 5))+ \\\n",
    "                    \"sample mean = {}\\n\".format(round(df_summary.loc['mean',col],5)) + \\\n",
    "                    'z-score p-value = {}\\n'.format(round(p_value[col],5)) + \\\n",
    "                    'boostrap p-value = {}\\n'.format(round(sample_stats.loc['p_value',col],5))\n",
    "    #confidence_int = \"95% confidence interval: (\" + str(round(sample_summary.loc['mean',col] - 2*sample_summary.loc['std',col], 5)) + \", \" + \\\n",
    "    #                str(round(sample_summary.loc['mean',col] + 2*sample_summary.loc['std',col], 5)) +\")\"\n",
    "    print(text_string)\n",
    "    \n",
    "    plt.figure(figsize=(6, 5))\n",
    "    population[population.index == 'mean'][col].plot(kind = \"hist\", density = False, bins = 20)\n",
    "    #sample_diff[col].plot(kind = \"kde\")\n",
    "    #plt.ylabel('Counts')\n",
    "    plt.xlabel(col)\n",
    "    \n",
    "    #ax.set_ylim(0, 1)\n",
    "\n",
    "    plt.axvline(x = df_summary.loc['mean',col], color = 'red', label='sample mean\\nx = {}'.format(df_summary.loc['mean',col]))\n",
    "    plt.show()\n",
    "    #plt.grid(None) "
   ]
  },
  {
   "cell_type": "markdown",
   "id": "different-produce",
   "metadata": {},
   "source": [
    "# Method 2\n",
    "1. Create bootstrap candidate/noncandidate sample from candidate/noncandidate pool of dfe_alpha output values. Reppeat 10000 times.\n",
    ">`bs(cand)`, `bs(noncand)`\n",
    "2. Calculate `bs(cand)-bs(noncand)` for each boostrap run.\n",
    "3. Count how often is `bs(cand)-bs(noncand)` greater than `cand-noncand`\n",
    "4. Use binomial test to calculate `p_value`"
   ]
  },
  {
   "cell_type": "code",
   "execution_count": 181,
   "id": "similar-delivery",
   "metadata": {},
   "outputs": [],
   "source": [
    "df = pd.read_csv(\"../../data/dfe_alpha_analysis/20210204_composite_genome/bootstrap_values.txt\", sep='\\t')\n",
    "df.columns = [\"group\",\"alpha\", \"omega\",\"pFDM\", \"NeS_0_1\", \"NeS_1_10\", \"NeS_10_100\", \"NeS_100_99\"]\n",
    "df = df.drop(columns=[\"pFDM\"])"
   ]
  },
  {
   "cell_type": "code",
   "execution_count": 182,
   "id": "geological-street",
   "metadata": {},
   "outputs": [],
   "source": [
    "# construct the simulated null population distribution\n",
    "population= pd.DataFrame(columns = [\"alpha\", \"omega\", \"NeS_0_1\", \"NeS_1_10\", \"NeS_10_100\", \"NeS_100_99\"])\n",
    "\n",
    "for i in range(1000):\n",
    "    random.seed(i)\n",
    "    \n",
    "    #Resample candidates and noncandidates\n",
    "    candidate_bs = resample(df, replace=True, n_samples=100, random_state=random.randint(0,10000)).drop(columns = 'group')\n",
    "    noncandidate_bs = resample(df, replace=True, n_samples=100, random_state=random.randint(0,10000)).drop(columns = 'group')\n",
    "    #calculate bs(cand) - bs(noncand)\n",
    "    bs_diff = candidate_bs.agg(['mean'])-noncandidate_bs.agg(['mean'])\n",
    "    \n",
    "    population = population.append(bs_diff)"
   ]
  },
  {
   "cell_type": "code",
   "execution_count": 183,
   "id": "peaceful-treaty",
   "metadata": {},
   "outputs": [],
   "source": [
    "# the mean and standard deviation of the sample distribution\n",
    "c_summary = df[df.group == 'candidate'].agg(['mean','std', 'median'])\n",
    "nc_summary = df[df.group == 'noncandidate'].agg(['mean','std', 'median'])\n",
    "df_summary = c_summary - nc_summary\n",
    "std_tmp = c_summary[c_summary.index == 'std'].apply(lambda x: x**2) + nc_summary[nc_summary.index == 'std'].apply(lambda x: x**2)\n",
    "std_tmp = pd.Series(std_tmp.apply(lambda x: math.sqrt(x)), name = 'std')\n",
    "df_summary = df_summary.drop(index = 'std').append(std_tmp)"
   ]
  },
  {
   "cell_type": "code",
   "execution_count": 184,
   "id": "moved-strengthening",
   "metadata": {},
   "outputs": [
    {
     "data": {
      "text/html": [
       "<div>\n",
       "<style scoped>\n",
       "    .dataframe tbody tr th:only-of-type {\n",
       "        vertical-align: middle;\n",
       "    }\n",
       "\n",
       "    .dataframe tbody tr th {\n",
       "        vertical-align: top;\n",
       "    }\n",
       "\n",
       "    .dataframe thead th {\n",
       "        text-align: right;\n",
       "    }\n",
       "</style>\n",
       "<table border=\"1\" class=\"dataframe\">\n",
       "  <thead>\n",
       "    <tr style=\"text-align: right;\">\n",
       "      <th></th>\n",
       "      <th>alpha</th>\n",
       "      <th>omega</th>\n",
       "      <th>NeS_0_1</th>\n",
       "      <th>NeS_1_10</th>\n",
       "      <th>NeS_10_100</th>\n",
       "      <th>NeS_100_99</th>\n",
       "    </tr>\n",
       "  </thead>\n",
       "  <tbody>\n",
       "    <tr>\n",
       "      <th>mean</th>\n",
       "      <td>0.101022</td>\n",
       "      <td>0.021351</td>\n",
       "      <td>-0.050461</td>\n",
       "      <td>0.002053</td>\n",
       "      <td>0.007490</td>\n",
       "      <td>0.040918</td>\n",
       "    </tr>\n",
       "    <tr>\n",
       "      <th>median</th>\n",
       "      <td>0.099108</td>\n",
       "      <td>0.021184</td>\n",
       "      <td>-0.049534</td>\n",
       "      <td>0.000850</td>\n",
       "      <td>0.003727</td>\n",
       "      <td>0.050882</td>\n",
       "    </tr>\n",
       "    <tr>\n",
       "      <th>std</th>\n",
       "      <td>0.065176</td>\n",
       "      <td>0.021203</td>\n",
       "      <td>0.016843</td>\n",
       "      <td>0.017703</td>\n",
       "      <td>0.028365</td>\n",
       "      <td>0.045219</td>\n",
       "    </tr>\n",
       "  </tbody>\n",
       "</table>\n",
       "</div>"
      ],
      "text/plain": [
       "           alpha     omega   NeS_0_1  NeS_1_10  NeS_10_100  NeS_100_99\n",
       "mean    0.101022  0.021351 -0.050461  0.002053    0.007490    0.040918\n",
       "median  0.099108  0.021184 -0.049534  0.000850    0.003727    0.050882\n",
       "std     0.065176  0.021203  0.016843  0.017703    0.028365    0.045219"
      ]
     },
     "execution_count": 184,
     "metadata": {},
     "output_type": "execute_result"
    }
   ],
   "source": [
    "df_summary"
   ]
  },
  {
   "cell_type": "code",
   "execution_count": 185,
   "id": "flush-psychology",
   "metadata": {},
   "outputs": [],
   "source": [
    "#how often is bs_diff greater than candidate(value)-noncandidate(value)?\n",
    "sample_stats = pd.DataFrame(columns = [\"alpha\", \"omega\", \"NeS_0_1\", \"NeS_1_10\", \"NeS_10_100\", \"NeS_100_99\"], \n",
    "                            index = ['pop>sample', 'pop<sample', 'p_value'])\n",
    "for col in sample_stats.columns:\n",
    "    greater = sum([1 for i in population[col] if i > df_summary.loc['mean',col]])\n",
    "    sample_stats.loc['pop>sample',col] = greater\n",
    "    less = sum([1 for i in population[col] if i < df_summary.loc['mean',col]])\n",
    "    sample_stats.loc['pop<sample',col] = less\n",
    "    sample_stats.loc['p_value',col]= greater/sum([greater, less])"
   ]
  },
  {
   "cell_type": "code",
   "execution_count": 186,
   "id": "corresponding-luther",
   "metadata": {},
   "outputs": [
    {
     "data": {
      "text/html": [
       "<div>\n",
       "<style scoped>\n",
       "    .dataframe tbody tr th:only-of-type {\n",
       "        vertical-align: middle;\n",
       "    }\n",
       "\n",
       "    .dataframe tbody tr th {\n",
       "        vertical-align: top;\n",
       "    }\n",
       "\n",
       "    .dataframe thead th {\n",
       "        text-align: right;\n",
       "    }\n",
       "</style>\n",
       "<table border=\"1\" class=\"dataframe\">\n",
       "  <thead>\n",
       "    <tr style=\"text-align: right;\">\n",
       "      <th></th>\n",
       "      <th>alpha</th>\n",
       "      <th>omega</th>\n",
       "      <th>NeS_0_1</th>\n",
       "      <th>NeS_1_10</th>\n",
       "      <th>NeS_10_100</th>\n",
       "      <th>NeS_100_99</th>\n",
       "    </tr>\n",
       "  </thead>\n",
       "  <tbody>\n",
       "    <tr>\n",
       "      <th>pop&gt;sample</th>\n",
       "      <td>0</td>\n",
       "      <td>0</td>\n",
       "      <td>1000</td>\n",
       "      <td>127</td>\n",
       "      <td>2</td>\n",
       "      <td>0</td>\n",
       "    </tr>\n",
       "    <tr>\n",
       "      <th>pop&lt;sample</th>\n",
       "      <td>1000</td>\n",
       "      <td>1000</td>\n",
       "      <td>0</td>\n",
       "      <td>873</td>\n",
       "      <td>998</td>\n",
       "      <td>1000</td>\n",
       "    </tr>\n",
       "    <tr>\n",
       "      <th>binomial_p_value</th>\n",
       "      <td>1</td>\n",
       "      <td>1</td>\n",
       "      <td>9.33264e-302</td>\n",
       "      <td>1</td>\n",
       "      <td>1</td>\n",
       "      <td>1</td>\n",
       "    </tr>\n",
       "    <tr>\n",
       "      <th>p_value</th>\n",
       "      <td>0</td>\n",
       "      <td>0</td>\n",
       "      <td>1</td>\n",
       "      <td>0.127</td>\n",
       "      <td>0.002</td>\n",
       "      <td>0</td>\n",
       "    </tr>\n",
       "  </tbody>\n",
       "</table>\n",
       "</div>"
      ],
      "text/plain": [
       "                 alpha omega       NeS_0_1 NeS_1_10 NeS_10_100 NeS_100_99\n",
       "pop>sample           0     0          1000      127          2          0\n",
       "pop<sample        1000  1000             0      873        998       1000\n",
       "binomial_p_value     1     1  9.33264e-302        1          1          1\n",
       "p_value              0     0             1    0.127      0.002          0"
      ]
     },
     "execution_count": 186,
     "metadata": {},
     "output_type": "execute_result"
    }
   ],
   "source": [
    "sample_stats"
   ]
  },
  {
   "cell_type": "code",
   "execution_count": null,
   "id": "published-adams",
   "metadata": {},
   "outputs": [],
   "source": []
  }
 ],
 "metadata": {
  "kernelspec": {
   "display_name": "Python 3",
   "language": "python",
   "name": "python3"
  },
  "language_info": {
   "codemirror_mode": {
    "name": "ipython",
    "version": 3
   },
   "file_extension": ".py",
   "mimetype": "text/x-python",
   "name": "python",
   "nbconvert_exporter": "python",
   "pygments_lexer": "ipython3",
   "version": "3.6.12"
  }
 },
 "nbformat": 4,
 "nbformat_minor": 5
}
