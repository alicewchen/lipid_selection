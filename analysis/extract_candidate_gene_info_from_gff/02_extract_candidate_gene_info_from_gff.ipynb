{
 "cells": [
  {
   "cell_type": "markdown",
   "metadata": {},
   "source": [
    "# Extract candidate gene info from *Chlamy* gff\n",
    "\n",
    "gff file path: `scratch/research/references/chlamydomonas/5.3_chlamy_w_organelles_mt_minus/annotation/Creinhardtii_v5.3_223_gene.gff3.gz `\n",
    "\n",
    "Target data structure:\n"
   ]
  },
  {
   "cell_type": "code",
   "execution_count": 3,
   "metadata": {},
   "outputs": [],
   "source": [
    "import gzip"
   ]
  },
  {
   "cell_type": "code",
   "execution_count": 4,
   "metadata": {},
   "outputs": [
    {
     "name": "stdout",
     "output_type": "stream",
     "text": [
      "##gff-version 3\n",
      "\n",
      "chromosome_1\tphytozome8_0\tgene\t24026\t30617\t.\t+\t.\tID=Cre01.g000050;Name=Cre01.g000050\n",
      "\n",
      "chromosome_1\tphytozome8_0\tmRNA\t24026\t30617\t.\t+\t.\tID=PAC:26903339;Name=Cre01.g000050.t1.3;pacid=26903339;longest=1;geneName=RWP14;Parent=Cre01.g000050\n",
      "\n",
      "chromosome_1\tphytozome8_0\tfive_prime_UTR\t24026\t24125\t.\t+\t.\tID=PAC:26903339.five_prime_UTR.1;Parent=PAC:26903339;pacid=26903339\n",
      "\n",
      "chromosome_1\tphytozome8_0\tCDS\t24126\t28105\t.\t+\t0\tID=PAC:26903339.CDS.1;Parent=PAC:26903339;pacid=26903339\n",
      "\n",
      "chromosome_1\tphytozome8_0\tCDS\t28291\t28644\t.\t+\t1\tID=PAC:26903339.CDS.2;Parent=PAC:26903339;pacid=26903339\n",
      "\n",
      "chromosome_1\tphytozome8_0\tCDS\t28842\t29091\t.\t+\t1\tID=PAC:26903339.CDS.3;Parent=PAC:26903339;pacid=26903339\n",
      "\n",
      "chromosome_1\tphytozome8_0\tCDS\t29347\t29577\t.\t+\t0\tID=PAC:26903339.CDS.4;Parent=PAC:26903339;pacid=26903339\n",
      "\n",
      "chromosome_1\tphytozome8_0\tthree_prime_UTR\t29578\t30617\t.\t+\t.\tID=PAC:26903339.three_prime_UTR.1;Parent=PAC:26903339;pacid=26903339\n",
      "\n",
      "chromosome_1\tphytozome8_0\tgene\t30776\t41037\t.\t+\t.\tID=Cre01.g000100;Name=Cre01.g000100\n",
      "\n"
     ]
    }
   ],
   "source": [
    "gff_file_path='/scratch/research/references/chlamydomonas/5.3_chlamy_w_organelles_mt_minus/annotation/Creinhardtii_v5.3_223_gene.gff3.gz'\n",
    "with gzip.open(gff_file_path, \"rt\", encoding=\"utf-8\") as z:\n",
    "    for line in z.readlines()[:10]: \n",
    "        print(line)\n",
    "        "
   ]
  },
  {
   "cell_type": "code",
   "execution_count": null,
   "metadata": {},
   "outputs": [],
   "source": []
  }
 ],
 "metadata": {
  "kernelspec": {
   "display_name": "Python 3",
   "language": "python",
   "name": "python3"
  },
  "language_info": {
   "codemirror_mode": {
    "name": "ipython",
    "version": 3
   },
   "file_extension": ".py",
   "mimetype": "text/x-python",
   "name": "python",
   "nbconvert_exporter": "python",
   "pygments_lexer": "ipython3",
   "version": "3.5.1"
  }
 },
 "nbformat": 4,
 "nbformat_minor": 2
}
