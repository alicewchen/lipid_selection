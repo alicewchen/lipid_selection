{
 "cells": [
  {
   "cell_type": "markdown",
   "metadata": {},
   "source": [
    "# Query Chlamy genes from Phytozome12\n",
    "\n",
    "**Date of query:** May 11, 2020\n",
    "\n",
    "**Genome version:** v5.0\n",
    "\n",
    "**Annotation version:** v5.5 \n",
    "\n",
    "Reference resources:\n",
    "- https://phytozome.jgi.doe.gov/phytomine/query.do\n",
    "- https://github.com/intermine/intermine-ws-python-docs\n",
    "\n",
    "#### Install intermine"
   ]
  },
  {
   "cell_type": "code",
   "execution_count": 22,
   "metadata": {},
   "outputs": [
    {
     "data": {
      "text/plain": [
       "['',\n",
       " '/usr/local/lib/python35.zip',\n",
       " '/usr/local/lib/python3.5',\n",
       " '/usr/local/lib/python3.5/plat-linux',\n",
       " '/usr/local/lib/python3.5/lib-dynload',\n",
       " '/usr/local/lib/python3.5/site-packages',\n",
       " '/scratch/research/repos',\n",
       " '/scratch/research/repos/ness_fasta',\n",
       " '/scratch/research/repos/annotation',\n",
       " '/scratch/research/repos/ness_fastq',\n",
       " '/scratch/research/repos/ness_vcf',\n",
       " '/scratch/research/repos/vcf2fasta',\n",
       " '/usr/local/lib/python3.5/site-packages/IPython/extensions',\n",
       " '/home/chenwe72/.ipython',\n",
       " '/home/chenwe72/local/lib/python3.5/site-packages']"
      ]
     },
     "execution_count": 22,
     "metadata": {},
     "output_type": "execute_result"
    }
   ],
   "source": [
    "#import sys\n",
    "#sys.path.append('/home/chenwe72/local/lib/python3.5/site-packages')\n",
    "#sys.path"
   ]
  },
  {
   "cell_type": "code",
   "execution_count": 5,
   "metadata": {},
   "outputs": [
    {
     "name": "stdout",
     "output_type": "stream",
     "text": [
      "Collecting intermine\n",
      "  Using cached https://files.pythonhosted.org/packages/dd/4e/efaa2b00520dc1a93519cbb1bd2a5440628917bdcbcc8ff46da8c1c9b551/intermine-1.11.0.tar.gz\n",
      "Installing collected packages: intermine\n",
      "  Running setup.py install for intermine: started\n",
      "    Running setup.py install for intermine: finished with status 'done'\n",
      "Successfully installed intermine-1.11.0\n"
     ]
    },
    {
     "name": "stderr",
     "output_type": "stream",
     "text": [
      "DEPRECATION: Python 2.7 will reach the end of its life on January 1st, 2020. Please upgrade your Python as Python 2.7 won't be maintained after that date. A future version of pip will drop support for Python 2.7.\n",
      "/usr/local/lib/python2.7/site-packages/pip/_vendor/urllib3/util/ssl_.py:354: SNIMissingWarning: An HTTPS request has been made, but the SNI (Server Name Indication) extension to TLS is not available on this platform. This may cause the server to present an incorrect TLS certificate, which can cause validation failures. You can upgrade to a newer version of Python to solve this. For more information, see https://urllib3.readthedocs.io/en/latest/advanced-usage.html#ssl-warnings\n",
      "  SNIMissingWarning\n",
      "/usr/local/lib/python2.7/site-packages/pip/_vendor/urllib3/util/ssl_.py:150: InsecurePlatformWarning: A true SSLContext object is not available. This prevents urllib3 from configuring SSL appropriately and may cause certain SSL connections to fail. You can upgrade to a newer version of Python to solve this. For more information, see https://urllib3.readthedocs.io/en/latest/advanced-usage.html#ssl-warnings\n",
      "  InsecurePlatformWarning\n",
      "WARNING: You are using pip version 19.1.1, however version 20.1 is available.\n",
      "You should consider upgrading via the 'pip install --upgrade pip' command.\n"
     ]
    }
   ],
   "source": [
    "#%%bash \n",
    "#pip install intermine -t \"/home/chenwe72/local/lib/python3.5/site-packages\""
   ]
  },
  {
   "cell_type": "code",
   "execution_count": 10,
   "metadata": {},
   "outputs": [
    {
     "name": "stdout",
     "output_type": "stream",
     "text": [
      "intermine\n",
      "intermine-1.11.0-py2.7.egg-info\n"
     ]
    }
   ],
   "source": [
    "#%%bash \n",
    "#ls \"/home/chenwe72/local/lib/python3.5/site-packages\""
   ]
  },
  {
   "cell_type": "markdown",
   "metadata": {},
   "source": [
    "## Query from Phytozyme 12 using intermine"
   ]
  },
  {
   "cell_type": "code",
   "execution_count": 77,
   "metadata": {},
   "outputs": [],
   "source": [
    "from intermine.webservice import Service"
   ]
  },
  {
   "cell_type": "code",
   "execution_count": 79,
   "metadata": {},
   "outputs": [
    {
     "data": {
      "text/plain": [
       "<TernaryConstraint: Gene.organism LOOKUP Chlamydomonas reinhardtii>"
      ]
     },
     "execution_count": 79,
     "metadata": {},
     "output_type": "execute_result"
    }
   ],
   "source": [
    "from intermine.webservice import Service\n",
    "service = Service(\"https://phytozome.jgi.doe.gov/phytomine/service\")\n",
    "query = service.new_query(\"Gene\")\n",
    "query.add_view(\n",
    "    \"primaryIdentifier\", \"secondaryIdentifier\", \"symbol\")\n",
    "query.add_constraint(\"organism\", \"LOOKUP\", \"Chlamydomonas reinhardtii\", code = \"A\")\n"
   ]
  },
  {
   "cell_type": "code",
   "execution_count": 81,
   "metadata": {},
   "outputs": [],
   "source": [
    "import csv\n",
    "with open('../../data/intermediate_data_02/gene_info.csv', mode='w') as gene_info:\n",
    "    gene_info = csv.writer(gene_info, delimiter=',', quotechar='\"', quoting=csv.QUOTE_MINIMAL)\n",
    "    gene_info.writerow(['gene_id', 'secondaryid', 'gene_name'])\n",
    "    #count = 0\n",
    "    for row in query.rows():\n",
    "        #count +=1\n",
    "        gene_info.writerow([row[\"primaryIdentifier\"], row[\"secondaryIdentifier\"], row[\"symbol\"]])\n",
    "        #if count >100 : break"
   ]
  }
 ],
 "metadata": {
  "kernelspec": {
   "display_name": "Python 3",
   "language": "python",
   "name": "python3"
  },
  "language_info": {
   "codemirror_mode": {
    "name": "ipython",
    "version": 3
   },
   "file_extension": ".py",
   "mimetype": "text/x-python",
   "name": "python",
   "nbconvert_exporter": "python",
   "pygments_lexer": "ipython3",
   "version": "3.5.1"
  }
 },
 "nbformat": 4,
 "nbformat_minor": 2
}
