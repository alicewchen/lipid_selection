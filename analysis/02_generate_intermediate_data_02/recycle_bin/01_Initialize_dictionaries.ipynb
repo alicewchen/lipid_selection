{
 "cells": [
  {
   "cell_type": "markdown",
   "metadata": {},
   "source": [
    "# Compile list of unique genes from intermediate_data_01\n",
    "\n",
    "## Workflow\n",
    "\n",
    "1. Loop through each dataset from `data/intermediate_data_01/`\n",
    "2. For each dataset,\n",
    "    - collect list of unique genes and associated candidate gene label\n",
    "    - `included` =  the number of times the gene is assigned as candidate gene\n",
    "    - `total_comparisons` = the number of comparisons (`fold_difference` or `protein_fold_difference`) for each gene. Computationally, this is the number of rows of data for that gene.\n",
    "    - append `gene_id`, `included`, `total_comparisons`, `firstauthor_year` to dictionary `matches` or `mismatches` depending on whether the `gene_id` has a match in query output `gene_info.csv`.\n",
    "3. Export `matches`, `mismatches`, and `problems` using `pickle`"
   ]
  },
  {
   "cell_type": "code",
   "execution_count": 2,
   "metadata": {},
   "outputs": [],
   "source": [
    "#Initialize dictionaries for 02_Compile_list_of_unique_genes\n",
    "import pickle\n",
    "\n",
    "matches = {}\n",
    "mismatches = {}\n",
    "\n",
    "pickle_out = open(\"../../data/intermediate_data_02/matches\", \"wb\")\n",
    "pickle.dump(matches, pickle_out)\n",
    "pickle_out.close()\n",
    "\n",
    "pickle_out = open(\"../../data/intermediate_data_02/mismatches\", \"wb\")\n",
    "pickle.dump(mismatches, pickle_out)\n",
    "pickle_out.close()"
   ]
  },
  {
   "cell_type": "code",
   "execution_count": null,
   "metadata": {},
   "outputs": [],
   "source": []
  }
 ],
 "metadata": {
  "kernelspec": {
   "display_name": "Python 3",
   "language": "python",
   "name": "python3"
  },
  "language_info": {
   "codemirror_mode": {
    "name": "ipython",
    "version": 3
   },
   "file_extension": ".py",
   "mimetype": "text/x-python",
   "name": "python",
   "nbconvert_exporter": "python",
   "pygments_lexer": "ipython3",
   "version": "3.5.1"
  }
 },
 "nbformat": 4,
 "nbformat_minor": 2
}
