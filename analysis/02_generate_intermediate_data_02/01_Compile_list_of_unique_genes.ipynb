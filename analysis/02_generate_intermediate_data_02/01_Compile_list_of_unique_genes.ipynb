{
 "cells": [
  {
   "cell_type": "markdown",
   "metadata": {},
   "source": [
    "# Compile list of unique genes from intermediate_data_01\n",
    "\n",
    "## Workflow\n",
    "\n",
    "1. Loop through each dataset from `data/intermediate_data_01/`\n",
    "2. For each dataset,\n",
    "    - collect list of unique genes and associated candidate gene label\n",
    "    - `included` =  the number of times the gene is assigned as candidate gene\n",
    "    - `total_comparisons` = the number of comparisons (`fold_difference` or `protein_fold_difference`) for each gene. Computationally, this is the number of rows of data for that gene.\n",
    "    - append `gene_id`, `included`, `total_comparisons`, `firstauthor_year` to dictionary `matches` or `mismatches` depending on whether the `gene_id` has a match in `ChlamydomonasTranscriptNameConversionBetweenReleases.Mch12b.txt`\n",
    "3. Export `matches` and `mismatches` using `pickle`"
   ]
  },
  {
   "cell_type": "code",
   "execution_count": 1,
   "metadata": {},
   "outputs": [],
   "source": [
    "import pandas as pd\n",
    "import numpy as np\n",
    "import os\n",
    "import re\n",
    "import warnings\n",
    "import time\n",
    "import pickle\n",
    "import gzip\n",
    "import re"
   ]
  },
  {
   "cell_type": "markdown",
   "metadata": {},
   "source": [
    "## I. Essential functions\n",
    "\n",
    "#### 1. Jump Search\n",
    "`Jumpsearch` is a common search algorithm. The function below is modified from https://stackabuse.com/search-algorithms-in-python/  (accessed on May 19,2020). "
   ]
  },
  {
   "cell_type": "code",
   "execution_count": 2,
   "metadata": {},
   "outputs": [],
   "source": [
    "#test cell\n",
    "import math\n",
    "\n",
    "def JumpSearch (lys, val):\n",
    "    \n",
    "    '''This function returns the position of the element in the list lys that contains the string pattern lys. If no match \n",
    "    \n",
    "    Usage: lys = list of strings to search through; val = string pattern to search for\n",
    "    \n",
    "    Warning: This function only works when the beginning of the string matches val'''\n",
    "    \n",
    "    length = len(lys)\n",
    "    jump = int(math.sqrt(length))\n",
    "    left, right = 0, 0\n",
    "    index_list = sorted([lys[left],val,lys[right]])\n",
    "    p = re.compile(re.escape(val))\n",
    "    while left < length and index_list.index(lys[left]) <= index_list.index(val):\n",
    "        right = min(length - 1, left + jump)\n",
    "        index_list = sorted([lys[left],val,lys[right]])\n",
    "        if index_list.index(lys[left]) <= index_list.index(val) and index_list.index(lys[right]) >= index_list.index(val):\n",
    "            break\n",
    "        left += jump;\n",
    "        \n",
    "    if left >= length or index_list.index(lys[left]) > index_list.index(val):\n",
    "        return -1\n",
    "    right = min(length-1, right)\n",
    "    i = left\n",
    "    #index_list = sorted([lys[i],val])\n",
    "    while i <= right:\n",
    "        index_list = sorted([lys[i],val])\n",
    "        #print(p.search(lys[i]), lys[i])\n",
    "        if p.match(lys[i]):\n",
    "            return i\n",
    "        i += 1\n",
    "      \n",
    "    return -1"
   ]
  },
  {
   "cell_type": "markdown",
   "metadata": {},
   "source": [
    "##### Test `Jumpsearch`"
   ]
  },
  {
   "cell_type": "code",
   "execution_count": 3,
   "metadata": {},
   "outputs": [
    {
     "name": "stdout",
     "output_type": "stream",
     "text": [
      "['Cre01.g001000.t1.2', 'Cre01.g001100.t1.1', 'Cre01.g001150.t1.2', 'Cre01.g001200.t1.2', 'Cre01.g001250.t1.1', 'Cre01.g001300.t1.2', 'Cre01.g001350.t1.1', 'Cre01.g001400.t1.1', 'Cre01.g001450.t1.1', 'Cre01.g001500.t1.1', 'Cre01.g001550.t1.2']\n"
     ]
    }
   ],
   "source": [
    "#Generate sample list\n",
    "file_path='/scratch/research/projects/chlamydomonas/lipid_selection/data/gene_name_conversion/ChlamydomonasTranscriptNameConversionBetweenReleases.Mch12b.txt.gz'\n",
    "with gzip.open(file_path, \"rt\", encoding=\"utf-8\") as z:\n",
    "    conversion_key = pd.read_csv(z, delimiter = r\"\\s+\",skiprows = 1, na_values = \"--\")\n",
    "    conversion_key.columns = ['5.5', '3.1', 'Genbank', '4', '4.3', 'u5', 'u9', '5.3.1']\n",
    "conversion_key = conversion_key[['5.5', genome_version ]].dropna()\n",
    "#val = 'Cre01.g000300'\n",
    "print(lys[20:31])\n"
   ]
  },
  {
   "cell_type": "code",
   "execution_count": 4,
   "metadata": {},
   "outputs": [
    {
     "name": "stdout",
     "output_type": "stream",
     "text": [
      "28 Cre01.g001450.t1.1\n",
      "28 Cre01.g001450.t1.1\n",
      "-1\n",
      "-1\n",
      "0.0013446807861328125\n"
     ]
    }
   ],
   "source": [
    "t0 = time.time()\n",
    "\n",
    "#When value fully matches a string\n",
    "val= 'Cre01.g001450.t1.1'\n",
    "i = JumpSearch(lys , val)\n",
    "print(i, lys[i])\n",
    "\n",
    "#When value matches the beginning of a string\n",
    "val= 'Cre01.g001450'\n",
    "i = JumpSearch(lys , val)\n",
    "print(i, lys[i])\n",
    "\n",
    "#When value matches somewhere in the middle of a string\n",
    "val='e01.g0014'\n",
    "print(JumpSearch(lys , val))\n",
    "\n",
    "#When value does not match any string\n",
    "val= 'Bet you can\\'t match this'\n",
    "print(JumpSearch(lys , val))\n",
    "\n",
    "t1= time.time()\n",
    "total = t1-t0\n",
    "print(total)  "
   ]
  },
  {
   "cell_type": "markdown",
   "metadata": {},
   "source": [
    "#### Import datasets"
   ]
  },
  {
   "cell_type": "code",
   "execution_count": 5,
   "metadata": {},
   "outputs": [
    {
     "name": "stdout",
     "output_type": "stream",
     "text": [
      "  transcript_identifier        gene_id gene_symbol              pathway_id  \\\n",
      "0    Cre01.g000300.t1.1  Cre01.g000300         NaN  Creinhardtii PWY0-1319   \n",
      "1    Cre01.g000300.t1.1  Cre01.g000300         NaN   Creinhardtii PWY4FS-7   \n",
      "2    Cre01.g000300.t1.1  Cre01.g000300         NaN   Creinhardtii PWY4FS-8   \n",
      "3    Cre01.g000300.t1.1  Cre01.g000300         NaN   Creinhardtii PWY-5667   \n",
      "4    Cre01.g000300.t1.1  Cre01.g000300         NaN   Creinhardtii PWY-7411   \n",
      "\n",
      "  annotation_version  \n",
      "0               v5.5  \n",
      "1               v5.5  \n",
      "2               v5.5  \n",
      "3               v5.5  \n",
      "4               v5.5  \n",
      "  first_author  publication_year genome_version database_source  \\\n",
      "0     Bajhaiya              2016          5.3.1   Phytozome 9.1   \n",
      "1        Blaby              2013            4.3  Augustus u10.2   \n",
      "2        Boyle              2012            4.3  Augustus u10.2   \n",
      "3     Gargouri              2015            5.5  Phytozyme 10.0   \n",
      "4     Gargouri              2015            5.5  Phytozyme 10.0   \n",
      "\n",
      "               inclusion_criteria    type_of_study  \n",
      "0  fold difference greater than 2  gene_expression  \n",
      "1  fold difference greater than 2  gene_expression  \n",
      "2  fold difference greater than 2  gene_expression  \n",
      "3  fold difference greater than 2  gene_expression  \n",
      "4                   p-value <0.05  gene_expression  \n"
     ]
    }
   ],
   "source": [
    "current_dir = os.getcwd()\n",
    "gene_info = pd.read_csv(\"../../data/intermediate_data_02/gene_info.csv\", delimiter = \",\")\n",
    "basic_info = pd. read_csv(\"../../data/intermediate_data_01/basic_info.txt\", delimiter='\\t')\n",
    "print(gene_info[:5])\n",
    "print(basic_info[:5])"
   ]
  },
  {
   "cell_type": "markdown",
   "metadata": {},
   "source": [
    "## II. Match genes to `ChlamydomonasTranscriptNameConversionBetweenReleases.Mch12b.txt`\n",
    "\n",
    "**Dictionary structure**\n",
    "\n",
    "`matches = {'gene_id': { 'firstauthor_year:included:total' }`\n",
    "\n",
    "`mismatches = {'gene_id': { 'firstauthor_year:included:total' }`"
   ]
  },
  {
   "cell_type": "code",
   "execution_count": 6,
   "metadata": {},
   "outputs": [
    {
     "name": "stdout",
     "output_type": "stream",
     "text": [
      "Hemme_2014\n",
      "4.3 <class 'str'>\n",
      "Bajhaiya_2016\n",
      "5.3.1 <class 'str'>\n",
      "Goodenough_2014\n",
      "4.3 <class 'str'>\n",
      "Blaby_2013\n",
      "4.3 <class 'str'>\n",
      "Boyle_2012\n",
      "4.3 <class 'str'>\n",
      "Juergens_2015\n",
      "5.3.1 <class 'str'>\n",
      "Kwak_2017\n",
      "5.5 <class 'str'>\n",
      "Gargouri_2015\n",
      "5.5 <class 'str'>\n",
      "29.245651960372925\n"
     ]
    }
   ],
   "source": [
    "#test cell\n",
    "matches = []\n",
    "mismatches = []\n",
    "match_summary = pd.DataFrame(columns = [\"first_author\", \"year\",'matches', 'mismatches', 'total'])\n",
    "file_path='/scratch/research/projects/chlamydomonas/lipid_selection/data/gene_name_conversion/ChlamydomonasTranscriptNameConversionBetweenReleases.Mch12b.txt.gz'\n",
    "\n",
    "os.chdir(\"../../data/intermediate_data_01/\")\n",
    "t0 = time.time()\n",
    "count = 0\n",
    "for file in os.listdir(os.getcwd()):\n",
    "    #print(file)\n",
    "    #if count>1: break\n",
    "    #count+=1\n",
    "    \n",
    "    if file.endswith(\".txt\"):\n",
    "        df = pd.read_csv(file, delimiter = \"\\t\")\n",
    "        total_genes, num_matches, num_mismatches, num_problems = [0]*4\n",
    "    else: continue\n",
    "    #if df['gene_id'].empty == False:\n",
    "    #Loop through each unique gene in dataset\n",
    "    if not ('gene_id' in list(df.columns)) or (file == \"basic_info.txt\"): \n",
    "        continue\n",
    "    \n",
    "    source = file.split(\".\")[0]\n",
    "    first_author = source.split(\"_\")[0]\n",
    "    publication_year = int(source.split(\"_\")[1])\n",
    "    \n",
    "    print(source)\n",
    "    \n",
    "    genome_version = str(list(basic_info[(basic_info['first_author']==first_author) & (basic_info['publication_year']==publication_year)].loc[:,'genome_version'])[0])\n",
    "    print(genome_version, type(genome_version))\n",
    "    \n",
    "    with gzip.open(file_path, \"rt\", encoding=\"utf-8\") as z:\n",
    "        conversion_key = pd.read_csv(z, delimiter = r\"\\s+\",skiprows = 1, na_values = \"--\")\n",
    "        conversion_key.columns = ['5.5', '3.1', 'Genbank', '4', '4.3', 'u5', 'u9', '5.3.1']\n",
    "        #conversion_key.rename(columns = {'5.5': \"#5.5\"})\n",
    "        if genome_version != '5.5':\n",
    "            try: \n",
    "                conversion_key = conversion_key[['5.5', genome_version ]]\n",
    "                #print(conversion_key)\n",
    "            except KeyError: print(\"Genome version not found!\")\n",
    "        if genome_version == '5.5':\n",
    "            conversion_key = conversion_key[['5.5']]\n",
    "        conversion_key = conversion_key.dropna().sort_values(by=[genome_version])\n",
    "    \n",
    "    included = list(df[['gene_id','candidate_gene']].groupby(['gene_id']).sum().astype(int).candidate_gene)\n",
    "    gene = list(np.unique(df['gene_id']))\n",
    "    total_comparisons = list(df['gene_id'].value_counts())\n",
    "    total_genes = len(gene)\n",
    "    #matches_temp = [conversion_key.iloc[matching_gene.index]['5.5'] for matching_gene in conversion_key[genome_version] if any(g in matching_gene for g in gene)]\n",
    "    \n",
    "    for i in range(total_genes):\n",
    "  \n",
    "    \n",
    "    #Search for matching genes in key based on genome version\n",
    "        \n",
    "        search_output = JumpSearch(list(conversion_key[genome_version]), gene[i])\n",
    "        \n",
    "        if search_output == -1: \n",
    "            num_mismatches +=1\n",
    "            \n",
    "            #Generate output in dictionary format\n",
    "            output = {'source': source, 'included': int(included[i]), 'total_comparisons': int(total_comparisons[i]), 'gene_id': gene[i]}\n",
    "            mismatches.append(output)\n",
    "        \n",
    "        if search_output != -1:\n",
    "            num_matches +=1\n",
    "            \n",
    "            #Generate output in dictionary format\n",
    "            output = {'source': source, 'included': int(included[i]), 'total_comparisons': int(total_comparisons[i]), 'gene_id': list(conversion_key['5.5'])[search_output]}\n",
    "            matches.append(output)\n",
    "        \n",
    "    if total_genes != num_matches+num_mismatches: \n",
    "        print(source, \"genes did not add up\")\n",
    "        print(total_genes, num_matches, num_mismatches)\n",
    "    \n",
    "    match_summary = match_summary.append(pd.Series([first_author, publication_year, num_matches, num_mismatches, total_genes], \n",
    "                                                    index = match_summary.columns), \n",
    "                                            ignore_index=True)\n",
    "\n",
    "matches = pd.DataFrame(matches)     \n",
    "mismatches = pd.DataFrame(mismatches) \n",
    "        \n",
    "t1= time.time()\n",
    "total = t1-t0\n",
    "print(total)        "
   ]
  },
  {
   "cell_type": "markdown",
   "metadata": {},
   "source": [
    "## Show summary of matches and mismatches"
   ]
  },
  {
   "cell_type": "code",
   "execution_count": 7,
   "metadata": {},
   "outputs": [],
   "source": [
    "match_summary['proportion_of_matches'] = match_summary['matches']/match_summary['total']"
   ]
  },
  {
   "cell_type": "code",
   "execution_count": 8,
   "metadata": {},
   "outputs": [
    {
     "name": "stdout",
     "output_type": "stream",
     "text": [
      "Number of matches: 21671\n",
      "              gene_id  included      source  total_comparisons\n",
      "0  Cre01.g000350.t1.1         0  Hemme_2014                  1\n",
      "1  Cre01.g000850.t1.2         0  Hemme_2014                  1\n",
      "2  Cre01.g001100.t1.2         0  Hemme_2014                  1\n",
      "3  Cre01.g001300.t1.1         0  Hemme_2014                  1\n",
      "4  Cre01.g002300.t1.2         0  Hemme_2014                  1\n",
      "Number of mismatches: 150\n",
      "             gene_id  included      source  total_comparisons\n",
      "0   Cre-1.g000035.t1         0  Hemme_2014                  2\n",
      "1   Cre-1.g000040.t1         0  Hemme_2014                  2\n",
      "2  Cre-1.g2716955.t1         0  Hemme_2014                  2\n",
      "3  Cre-1.g2716958.t1         0  Hemme_2014                  2\n",
      "4  Cre-1.g2716959.t1         0  Hemme_2014                  2\n",
      "  first_author    year  matches  mismatches    total  proportion_of_matches\n",
      "0        Hemme  2014.0   1894.0        86.0   1980.0               0.956566\n",
      "1     Bajhaiya  2016.0  17736.0         1.0  17737.0               0.999944\n",
      "2   Goodenough  2014.0     66.0         2.0     68.0               0.970588\n",
      "3        Blaby  2013.0    591.0        51.0    642.0               0.920561\n",
      "4        Boyle  2012.0     24.0         1.0     25.0               0.960000\n",
      "5     Juergens  2015.0     96.0         9.0    105.0               0.914286\n",
      "6         Kwak  2017.0    850.0         0.0    850.0               1.000000\n",
      "7     Gargouri  2015.0    414.0         0.0    414.0               1.000000\n"
     ]
    }
   ],
   "source": [
    "print(\"Number of matches:\", len(matches))\n",
    "print(matches[:5])\n",
    "\n",
    "print(\"Number of mismatches:\", len(mismatches))\n",
    "print(mismatches[:5])\n",
    "\n",
    "#print(\"Number of Problems:\", len(pd.unique(problems['gene_id'])))\n",
    "#print (problems[:5])\n",
    "print(match_summary)"
   ]
  },
  {
   "cell_type": "markdown",
   "metadata": {},
   "source": [
    "## Export to intermediate_data_02"
   ]
  },
  {
   "cell_type": "code",
   "execution_count": 9,
   "metadata": {},
   "outputs": [],
   "source": [
    "pickle_out = open(\"../../data/intermediate_data_02/matches\", \"wb\")\n",
    "pickle.dump(matches, pickle_out)\n",
    "pickle_out.close()\n",
    "\n",
    "pickle_out = open(\"../../data/intermediate_data_02/mismatches\", \"wb\")\n",
    "pickle.dump(mismatches, pickle_out)\n",
    "pickle_out.close()\n",
    "\n",
    "match_summary.to_csv(\"../../data/intermediate_data_02/match_summary.csv\", index = False)\n"
   ]
  },
  {
   "cell_type": "markdown",
   "metadata": {},
   "source": [
    "## Visualize summary\n",
    "\n",
    "#### What is the distribution of matches among the papers?\n",
    "- Is the proportion of matches related to year of publication?\n",
    "\n",
    "Save figure output to `analysis/generate_intermediate_data_02/` folder"
   ]
  },
  {
   "cell_type": "code",
   "execution_count": 10,
   "metadata": {},
   "outputs": [],
   "source": [
    "%matplotlib inline\n",
    "import matplotlib.pyplot as plt\n",
    "os.chdir(current_dir)"
   ]
  },
  {
   "cell_type": "code",
   "execution_count": 11,
   "metadata": {},
   "outputs": [
    {
     "name": "stdout",
     "output_type": "stream",
     "text": [
      "Index(['first_author', 'year', 'matches', 'mismatches', 'total',\n",
      "       'proportion_of_matches'],\n",
      "      dtype='object')\n",
      "first_author              object\n",
      "year                     float64\n",
      "matches                  float64\n",
      "mismatches               float64\n",
      "total                    float64\n",
      "proportion_of_matches    float64\n",
      "dtype: object\n"
     ]
    },
    {
     "data": {
      "text/plain": [
       "<matplotlib.figure.Figure at 0x7f62ca02f390>"
      ]
     },
     "metadata": {},
     "output_type": "display_data"
    },
    {
     "data": {
      "image/png": "[encoded data removed]",
      "text/plain": [
       "<matplotlib.figure.Figure at 0x7f62c89a5588>"
      ]
     },
     "metadata": {},
     "output_type": "display_data"
    }
   ],
   "source": [
    "caption = \"This scatterplot shows the proportion of genes with matches in Phytozyme 12 plotted against the publication year of the dataset. Mismatches can result from gene id changing over time due to version updates.\"\n",
    "\n",
    "print(match_summary.columns)\n",
    "match_summary['year'] = pd.to_numeric(match_summary['year'])\n",
    "print(match_summary.dtypes)\n",
    "\n",
    "fig = plt.figure()\n",
    "match_summary.plot(x= 'year', y = 'proportion_of_matches', kind = \"scatter\")\n",
    "plt.ticklabel_format(useOffset=False)\n",
    "plt.subplots_adjust(bottom=0.35)\n",
    "plt.figtext(0.05, 0.05,caption, fontsize=12, ha = 'left', wrap = True );\n",
    "\n",
    "#Figure output is saved to analysis/generate_intermediate_data_02/ folder\n",
    "plt.savefig(\"p_matches_versus_publication_year.png\")"
   ]
  },
  {
   "cell_type": "code",
   "execution_count": null,
   "metadata": {},
   "outputs": [],
   "source": []
  }
 ],
 "metadata": {
  "kernelspec": {
   "display_name": "Python 3",
   "language": "python",
   "name": "python3"
  },
  "language_info": {
   "codemirror_mode": {
    "name": "ipython",
    "version": 3
   },
   "file_extension": ".py",
   "mimetype": "text/x-python",
   "name": "python",
   "nbconvert_exporter": "python",
   "pygments_lexer": "ipython3",
   "version": "3.5.1"
  }
 },
 "nbformat": 4,
 "nbformat_minor": 2
}
