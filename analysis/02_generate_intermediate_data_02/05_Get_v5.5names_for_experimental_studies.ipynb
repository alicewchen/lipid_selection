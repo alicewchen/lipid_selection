{
 "cells": [
  {
   "cell_type": "markdown",
   "metadata": {},
   "source": [
    "# Get v5.5 names for genes in experimental studies"
   ]
  },
  {
   "cell_type": "code",
   "execution_count": 1,
   "metadata": {},
   "outputs": [],
   "source": [
    "import sys\n",
    "sys.path.append(\"../../scripts/\")\n",
    "sys.path.append('/home/chenwe72/local/lib/python3.5/site-packages')"
   ]
  },
  {
   "cell_type": "code",
   "execution_count": 2,
   "metadata": {},
   "outputs": [],
   "source": [
    "import pandas as pd\n",
    "import numpy as np\n",
    "import os\n",
    "import re\n",
    "import time\n",
    "import gzip\n",
    "import Search_algorithms as sag\n",
    "from intermine.webservice import Service\n",
    "import csv"
   ]
  },
  {
   "cell_type": "markdown",
   "metadata": {},
   "source": [
    "### Find matching v5.5 transcript id's based on transcript id (`value`) and `genome_version`"
   ]
  },
  {
   "cell_type": "code",
   "execution_count": 3,
   "metadata": {},
   "outputs": [],
   "source": [
    "#Import key to convert transcript id's between annotation versions (used interchangeably with genome_version in this notebook)\n",
    "file_path='/scratch/research/projects/chlamydomonas/lipid_selection/data/gene_name_conversion/ChlamydomonasTranscriptNameConversionBetweenReleases.Mch12b.txt.gz'\n",
    "with gzip.open(file_path, \"rt\", encoding=\"utf-8\") as z:\n",
    "    conversion_key = pd.read_csv(z, delimiter = r\"\\s+\",skiprows = 1, na_values = \"--\")\n",
    "    conversion_key.columns = ['5.5', '3.1', 'Genbank', '4', '4.3', 'u5', 'u9', '5.3.1']\n",
    "#conversion_key = conversion_key[['5.5', genome_version ]].dropna()"
   ]
  },
  {
   "cell_type": "code",
   "execution_count": 4,
   "metadata": {},
   "outputs": [
    {
     "data": {
      "text/html": [
       "<div>\n",
       "<table border=\"1\" class=\"dataframe\">\n",
       "  <thead>\n",
       "    <tr style=\"text-align: right;\">\n",
       "      <th></th>\n",
       "      <th>5.5</th>\n",
       "      <th>Genbank</th>\n",
       "    </tr>\n",
       "  </thead>\n",
       "  <tbody>\n",
       "  </tbody>\n",
       "</table>\n",
       "</div>"
      ],
      "text/plain": [
       "Empty DataFrame\n",
       "Columns: [5.5, Genbank]\n",
       "Index: []"
      ]
     },
     "execution_count": 4,
     "metadata": {},
     "output_type": "execute_result"
    }
   ],
   "source": [
    "#Modify this cell to find matching v5.5 transcript id's based on transcript id (value) and genome_version\n",
    "value = '484000'\n",
    "genome_version = 'Genbank'\n",
    "#re.match(value, x)\n",
    "temp = conversion_key[['5.5', genome_version ]].dropna()\n",
    "temp[temp[genome_version].str.contains(value)]"
   ]
  },
  {
   "cell_type": "code",
   "execution_count": 5,
   "metadata": {},
   "outputs": [
    {
     "data": {
      "text/html": [
       "<div>\n",
       "<table border=\"1\" class=\"dataframe\">\n",
       "  <thead>\n",
       "    <tr style=\"text-align: right;\">\n",
       "      <th></th>\n",
       "      <th>5.5</th>\n",
       "    </tr>\n",
       "  </thead>\n",
       "  <tbody>\n",
       "    <tr>\n",
       "      <th>12751</th>\n",
       "      <td>Cre12.g484000.t1.2</td>\n",
       "    </tr>\n",
       "  </tbody>\n",
       "</table>\n",
       "</div>"
      ],
      "text/plain": [
       "                      5.5\n",
       "12751  Cre12.g484000.t1.2"
      ]
     },
     "execution_count": 5,
     "metadata": {},
     "output_type": "execute_result"
    }
   ],
   "source": [
    "#Modify value to find full transcript id in annotation v5.5\n",
    "value = '484000'\n",
    "temp = conversion_key[['5.5']].dropna()\n",
    "temp[temp['5.5'].str.contains(value)]"
   ]
  },
  {
   "cell_type": "markdown",
   "metadata": {},
   "source": [
    "### Compile list of genes sampled in experimental studies "
   ]
  },
  {
   "cell_type": "code",
   "execution_count": 6,
   "metadata": {},
   "outputs": [],
   "source": [
    "df1 = pd.read_excel(\"../../data/raw_data/Summary_of_primary_data.xlsx\", 'Sheet1')\n",
    "df = df1[['Genes_sampled','Genes_knocked_out', 'Genes_with_effect',\"Genes_no_effect\"]]\n",
    "temp = []\n",
    "for col in df.columns:\n",
    "    temp += list(df[col].dropna())\n",
    "genes_to_lookup=[]\n",
    "for i in temp:\n",
    "    ls = i.split(\"; \")\n",
    "    ls = [i.replace(\" \",\"\") for i in ls]\n",
    "    genes_to_lookup += ls\n",
    "genes_to_lookup = list(np.unique(genes_to_lookup))"
   ]
  },
  {
   "cell_type": "code",
   "execution_count": 7,
   "metadata": {},
   "outputs": [
    {
     "name": "stdout",
     "output_type": "stream",
     "text": [
      "['ACC', 'ACP', 'ACS2', 'ACT1', 'AMT1D', 'APL1', 'ARG7', 'ARG9', 'BCX1', 'CAH1']\n",
      "72\n"
     ]
    }
   ],
   "source": [
    "print(genes_to_lookup[:10])\n",
    "print(len(genes_to_lookup))"
   ]
  },
  {
   "cell_type": "markdown",
   "metadata": {},
   "source": [
    "### Query Chlamy genes using Phytozome12"
   ]
  },
  {
   "cell_type": "code",
   "execution_count": 8,
   "metadata": {},
   "outputs": [],
   "source": [
    "#Query Chlamy genes from Phytozome12\n",
    "#sys.path.append('/home/chenwe72/local/lib/python3.5/site-packages')\n",
    "#from intermine.webservice import Service\n",
    "#import csv\n",
    "\n",
    "service = Service(\"https://phytozome.jgi.doe.gov/phytomine/service\")\n",
    "\n",
    "query_results = {}\n",
    "transcript_id = []\n",
    "symbol = []\n",
    "no_matching_symbol = []\n",
    "\n",
    "for i in genes_to_lookup:\n",
    "    query = service.new_query(\"Transcript\")\n",
    "    query.add_view(\"primaryIdentifier\", \"gene.symbol\")\n",
    "    query.add_constraint(\"organism\", \"LOOKUP\", \"Chlamydomonas reinhardtii\", code = \"A\")\n",
    "    query.add_constraint(\"gene.symbol\", \"CONTAINS\", i, code = \"B\")\n",
    "    if query.count() ==0: no_matching_symbol.append(i)\n",
    "    else:\n",
    "        for row in query.rows():\n",
    "            transcript_id.append(row.values()[10])\n",
    "            symbol.append(row.values()[11])"
   ]
  },
  {
   "cell_type": "code",
   "execution_count": 9,
   "metadata": {},
   "outputs": [],
   "source": [
    "query_results = {'transcript_id': transcript_id+[0]*len(no_matching_symbol),\n",
    "                'symbol': symbol+no_matching_symbol}\n",
    "df = pd.DataFrame(query_results)"
   ]
  },
  {
   "cell_type": "code",
   "execution_count": 10,
   "metadata": {},
   "outputs": [
    {
     "name": "stdout",
     "output_type": "stream",
     "text": [
      "Number of genes without matching symbol on Phytozome12:  44\n",
      "Total number of genes queried:  73\n"
     ]
    }
   ],
   "source": [
    "print(\"Number of genes without matching symbol on Phytozome12: \",len(no_matching_symbol))\n",
    "print(\"Total number of genes queried: \", len(df))"
   ]
  },
  {
   "cell_type": "code",
   "execution_count": 11,
   "metadata": {},
   "outputs": [],
   "source": [
    "df.to_csv('sampled_genes_key.csv', index=False)"
   ]
  },
  {
   "cell_type": "code",
   "execution_count": null,
   "metadata": {},
   "outputs": [],
   "source": []
  }
 ],
 "metadata": {
  "kernelspec": {
   "display_name": "Python 3",
   "language": "python",
   "name": "python3"
  },
  "language_info": {
   "codemirror_mode": {
    "name": "ipython",
    "version": 3
   },
   "file_extension": ".py",
   "mimetype": "text/x-python",
   "name": "python",
   "nbconvert_exporter": "python",
   "pygments_lexer": "ipython3",
   "version": "3.5.1"
  }
 },
 "nbformat": 4,
 "nbformat_minor": 2
}
