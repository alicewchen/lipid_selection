{
 "cells": [
  {
   "cell_type": "markdown",
   "metadata": {},
   "source": [
    "# Aggregate experimental studies data\n",
    "\n",
    "Output file path: `lipid_selection/data/intermediate_data_02/experimental_studies.pickle`\n",
    "\n",
    "Target dataframe output format:\n",
    "\n",
    "| transcript_id | exp_num_detected | exp_num_sampled |exp_num_no_effect | exp_proportion | exp_source                 | annotation_version |\n",
    "|---------------|------------------|-----------------|------------------|----------------|----------------------------|--------------------|\n",
    "| `<string>`    | `<int>`          | `<int>`         | `<float>`        | `<float>`      | `['Firstauthor_year',...]` | `v5.5`             |\n",
    "\n",
    "**`exp_proportion`:** `<float>` \n",
    "> `exp_proportion` = `exp_num_detected`/`num_exp_source`\n",
    "\n",
    "**`num_exp_source`:** `<int>` number of experimental studies\n",
    "\n",
    "Define **experimental studies** as studies that \n",
    "- Have at these one of the following tags:\n",
    "    > ['knock_out','gene_silence','RT_qPCR','gene_knockout','genetic_transformation']\n",
    "- have at least 1 gene manipulated.\n",
    "- are not one of the studies in `match_summary.csv`"
   ]
  },
  {
   "cell_type": "code",
   "execution_count": 1,
   "metadata": {},
   "outputs": [],
   "source": [
    "import pandas as pd\n",
    "import numpy as np\n",
    "import re\n",
    "import pickle\n",
    "import itertools"
   ]
  },
  {
   "cell_type": "code",
   "execution_count": 2,
   "metadata": {},
   "outputs": [],
   "source": [
    "df = pd.read_excel(\"../../data/raw_data/Summary_of_primary_data.xlsx\", 'Sheet1')\n",
    "df = df[['Genus', 'Species','First_author','Publication_year','Type_of_study','Genes_sampled','Genes_manipulated', 'Genes_with_effect',\"Genes_no_effect\"]]\n",
    "match_summary = pd.read_csv(\"../../data/intermediate_data_02/match_summary.csv\")"
   ]
  },
  {
   "cell_type": "code",
   "execution_count": 3,
   "metadata": {},
   "outputs": [
    {
     "name": "stdout",
     "output_type": "stream",
     "text": [
      "             Genus      Species First_author  Publication_year  \\\n",
      "0  Nannochloropsis          NaN        Zheng              2013   \n",
      "1    Chlamydomonas  reinhardtii           Lv              2013   \n",
      "2    Chlamydomonas  reinhardtii           Lv              2013   \n",
      "3      Fistulifera      solaris       Tanaka              2015   \n",
      "4      Fistulifera      solaris        Osada              2017   \n",
      "\n",
      "     Type_of_study Genes_sampled                     Genes_manipulated  \\\n",
      "0  transcriptomics           NaN                                   NaN   \n",
      "1  transcriptomics           NaN                                   NaN   \n",
      "2        knock_out           NaN  Cre05.g248150.t1; Cre06.g299050.t1.2   \n",
      "3  transcriptomics           NaN                                   NaN   \n",
      "4  transcriptomics           NaN                                   NaN   \n",
      "\n",
      "    Genes_with_effect   Genes_no_effect  \n",
      "0                 NaN               NaN  \n",
      "1                 NaN               NaN  \n",
      "2  Cre06.g299050.t1.2  Cre05.g248150.t1  \n",
      "3                 NaN               NaN  \n",
      "4                 NaN               NaN  \n",
      "  first_author    year  matches  mismatches    total  proportion_of_matches\n",
      "0        Hemme  2014.0   1894.0        86.0   1980.0               0.956566\n",
      "1     Bajhaiya  2016.0  17736.0         1.0  17737.0               0.999944\n",
      "2   Goodenough  2014.0     66.0         2.0     68.0               0.970588\n",
      "3        Blaby  2013.0    591.0        51.0    642.0               0.920561\n",
      "4        Boyle  2012.0     24.0         1.0     25.0               0.960000\n"
     ]
    }
   ],
   "source": [
    "print(df.head())\n",
    "print(match_summary.head())"
   ]
  },
  {
   "cell_type": "markdown",
   "metadata": {},
   "source": [
    "### What are the types of studies?"
   ]
  },
  {
   "cell_type": "code",
   "execution_count": 4,
   "metadata": {},
   "outputs": [],
   "source": [
    "types_of_studies = []\n",
    "\n",
    "for study in list(df.Type_of_study.unique()):\n",
    "    try: \n",
    "        study = study.split(\"; \")\n",
    "        for i in study: \n",
    "            if not i in types_of_studies: types_of_studies.append(i)\n",
    "    except: pass"
   ]
  },
  {
   "cell_type": "code",
   "execution_count": 5,
   "metadata": {},
   "outputs": [
    {
     "name": "stdout",
     "output_type": "stream",
     "text": [
      "['transcriptomics', 'knock_out', 'gene_silence', 'proteomics', 'RT_qPCR', 'gene_knockout', 'genomics', 'genetic_transformation']\n"
     ]
    }
   ],
   "source": [
    "print(types_of_studies)"
   ]
  },
  {
   "cell_type": "markdown",
   "metadata": {},
   "source": [
    "### Subset data to experimental studies only"
   ]
  },
  {
   "cell_type": "code",
   "execution_count": 6,
   "metadata": {},
   "outputs": [
    {
     "name": "stdout",
     "output_type": "stream",
     "text": [
      "re.compile('knock_out|gene_silence|RT_qPCR|gene_knockout|genetic_transformation')\n",
      "re.compile('Hemme|Bajhaiya|Goodenough|Blaby|Boyle|Juergens|Kwak|Gargouri')\n"
     ]
    }
   ],
   "source": [
    "pattern_study = re.compile(\"|\".join(['knock_out','gene_silence','RT_qPCR','gene_knockout','genetic_transformation']))\n",
    "print(pattern_study)\n",
    "\n",
    "pattern_author = re.compile(\"|\".join(list(match_summary.first_author)))\n",
    "print(pattern_author)\n",
    "\n"
   ]
  },
  {
   "cell_type": "code",
   "execution_count": 7,
   "metadata": {},
   "outputs": [
    {
     "name": "stdout",
     "output_type": "stream",
     "text": [
      "            Genus      Species First_author  Publication_year Type_of_study  \\\n",
      "2   Chlamydomonas  reinhardtii           Lv              2013     knock_out   \n",
      "9   Chlamydomonas  reinhardtii        Siaut              2011     knock_out   \n",
      "10  Chlamydomonas  reinhardtii         Wang              2009     knock_out   \n",
      "11  Chlamydomonas  reinhardtii   Moellering              2009  gene_silence   \n",
      "16  Chlamydomonas  reinhardtii           Li              2010     knock_out   \n",
      "\n",
      "   Genes_sampled                     Genes_manipulated  \\\n",
      "2            NaN  Cre05.g248150.t1; Cre06.g299050.t1.2   \n",
      "9            NaN                STA1; STA6; STA7; STA8   \n",
      "10           NaN                                  STA6   \n",
      "11           NaN                                  MLDP   \n",
      "16           NaN         STA6; STA7; STA1; STA11; ARG7   \n",
      "\n",
      "                Genes_with_effect   Genes_no_effect  \n",
      "2              Cre06.g299050.t1.2  Cre05.g248150.t1  \n",
      "9          STA1; STA6; STA7; STA8               NaN  \n",
      "10                           STA6               NaN  \n",
      "11                           MLDP               NaN  \n",
      "16  STA6; STA7; STA1; STA11; ARG7               NaN   \n",
      "\n",
      " (23, 9)\n"
     ]
    },
    {
     "name": "stderr",
     "output_type": "stream",
     "text": [
      "/usr/local/lib/python3.5/site-packages/ipykernel_launcher.py:1: UserWarning: Boolean Series key will be reindexed to match DataFrame index.\n",
      "  \"\"\"Entry point for launching an IPython kernel.\n"
     ]
    }
   ],
   "source": [
    "subset = df[df.Type_of_study.str.contains(pattern_study)==True][df.Genes_manipulated.isnull()==False][df.First_author.str.contains(pattern_author)==False]\n",
    "print(subset.head(), '\\n'*2,subset.shape)\n",
    "num_studies = subset.shape[0]"
   ]
  },
  {
   "cell_type": "code",
   "execution_count": 8,
   "metadata": {},
   "outputs": [
    {
     "name": "stdout",
     "output_type": "stream",
     "text": [
      "            Genus      Species First_author  Publication_year  \\\n",
      "2   Chlamydomonas  reinhardtii           Lv              2013   \n",
      "9   Chlamydomonas  reinhardtii        Siaut              2011   \n",
      "10  Chlamydomonas  reinhardtii         Wang              2009   \n",
      "11  Chlamydomonas  reinhardtii   Moellering              2009   \n",
      "16  Chlamydomonas  reinhardtii           Li              2010   \n",
      "\n",
      "      Type_of_study Genes_sampled                       Genes_manipulated  \\\n",
      "2      (knock_out,)           NaN  (Cre05.g248150.t1, Cre06.g299050.t1.2)   \n",
      "9      (knock_out,)           NaN                (STA1, STA6, STA7, STA8)   \n",
      "10     (knock_out,)           NaN                                 (STA6,)   \n",
      "11  (gene_silence,)           NaN                                 (MLDP,)   \n",
      "16     (knock_out,)           NaN         (STA6, STA7, STA1, STA11, ARG7)   \n",
      "\n",
      "                  Genes_with_effect      Genes_no_effect  \n",
      "2             (Cre06.g299050.t1.2,)  (Cre05.g248150.t1,)  \n",
      "9          (STA1, STA6, STA7, STA8)                  NaN  \n",
      "10                          (STA6,)                  NaN  \n",
      "11                          (MLDP,)                  NaN  \n",
      "16  (STA6, STA7, STA1, STA11, ARG7)                  NaN  \n"
     ]
    }
   ],
   "source": [
    "for col in df.columns[4:]:\n",
    "    subset[col] = subset[col].apply(lambda x: tuple(x.split(\"; \")) if isinstance(x,str) else np.NaN) \n",
    "print(subset.head())  "
   ]
  },
  {
   "cell_type": "code",
   "execution_count": 9,
   "metadata": {},
   "outputs": [
    {
     "name": "stdout",
     "output_type": "stream",
     "text": [
      "Index(['Genus', 'Species', 'First_author', 'Publication_year', 'Type_of_study',\n",
      "       'Genes_sampled', 'Genes_manipulated', 'Genes_with_effect',\n",
      "       'Genes_no_effect'],\n",
      "      dtype='object')\n"
     ]
    }
   ],
   "source": [
    "print(subset.columns)"
   ]
  },
  {
   "cell_type": "markdown",
   "metadata": {},
   "source": [
    "### Reaarrange subset to target datframe format"
   ]
  },
  {
   "cell_type": "markdown",
   "metadata": {},
   "source": [
    "#### Convert 20201019_sampled_genes_key.csv to dictionary format with `symbol` as keys and `transcript_id` as values"
   ]
  },
  {
   "cell_type": "code",
   "execution_count": 10,
   "metadata": {},
   "outputs": [
    {
     "name": "stdout",
     "output_type": "stream",
     "text": [
      "                                              source symbol  \\\n",
      "0  Sim, L., Beeren, S. R., Findinier, J., Dauvill...   STA8   \n",
      "1                                        Phytozome12   APL1   \n",
      "2                                        Phytozome12  PEPC1   \n",
      "3                                              Query   NRR1   \n",
      "4                                              Query   SQD1   \n",
      "\n",
      "        transcript_id  \n",
      "0  Cre17.g698850.t1.1  \n",
      "1  Cre16.g683450.t1.1  \n",
      "2       Cre16.g673852  \n",
      "3  Cre16.g673250.t1.1  \n",
      "4  Cre16.g656400.t1.2  \n",
      "[('Cre05.g248150.t1', 'Cre05.g248150.t1.2'), ('SCD', 'Cre09.g397250'), ('ARG7', 'Cre01.g021251.t1.1'), ('FEA1', 'Cre12.g546550.t1.1'), ('ACS2', 'Cre01.g055408.t1.1')]\n"
     ]
    }
   ],
   "source": [
    "sampled_genes_key = pd.read_csv(\"../../analysis/01_generate_intermediate_data_01/20201019_sampled_genes_key.csv\")\n",
    "print(sampled_genes_key.head())\n",
    "#print()\n",
    "key = dict(zip(sampled_genes_key.symbol, sampled_genes_key.transcript_id))\n",
    "print(list(key.items())[:5])"
   ]
  },
  {
   "cell_type": "code",
   "execution_count": 11,
   "metadata": {},
   "outputs": [],
   "source": [
    "transformed_subset = pd.DataFrame(columns = ['transcript_id','exp_num_sampled', 'exp_num_manipulated', 'exp_num_detected', 'exp_num_no_effect', 'exp_source'])\n",
    "for index, row in subset.iterrows():\n",
    "    source = row.First_author + \"_\" + str(row.Publication_year)\n",
    "    for i in range(0,4): \n",
    "        if type(row[i+5]) != float:\n",
    "            for gene in row[i+5]: #Genes_sampled\n",
    "                output = [0]*(i)+[1]+[0]*(3-i)\n",
    "                try: \n",
    "                    gene = key[re.sub(r\" |;\",\"\", gene)]\n",
    "                except: gene = re.sub(r\" |;\",\"\", gene)\n",
    "                output = pd.Series([gene]+output+[source], index = transformed_subset.columns)\n",
    "                transformed_subset = transformed_subset.append(output, ignore_index = True)\n",
    "                #print(output)\n"
   ]
  },
  {
   "cell_type": "code",
   "execution_count": 12,
   "metadata": {},
   "outputs": [
    {
     "data": {
      "text/html": [
       "<div>\n",
       "<table border=\"1\" class=\"dataframe\">\n",
       "  <thead>\n",
       "    <tr style=\"text-align: right;\">\n",
       "      <th></th>\n",
       "      <th>transcript_id</th>\n",
       "      <th>exp_num_sampled</th>\n",
       "      <th>exp_num_manipulated</th>\n",
       "      <th>exp_num_detected</th>\n",
       "      <th>exp_num_no_effect</th>\n",
       "      <th>exp_source</th>\n",
       "    </tr>\n",
       "  </thead>\n",
       "  <tbody>\n",
       "    <tr>\n",
       "      <th>0</th>\n",
       "      <td>Cre05.g248150.t1.2</td>\n",
       "      <td>0.0</td>\n",
       "      <td>1.0</td>\n",
       "      <td>0.0</td>\n",
       "      <td>0.0</td>\n",
       "      <td>Lv_2013</td>\n",
       "    </tr>\n",
       "    <tr>\n",
       "      <th>1</th>\n",
       "      <td>Cre06.g299050.t1.2</td>\n",
       "      <td>0.0</td>\n",
       "      <td>1.0</td>\n",
       "      <td>0.0</td>\n",
       "      <td>0.0</td>\n",
       "      <td>Lv_2013</td>\n",
       "    </tr>\n",
       "    <tr>\n",
       "      <th>2</th>\n",
       "      <td>Cre06.g299050.t1.2</td>\n",
       "      <td>0.0</td>\n",
       "      <td>0.0</td>\n",
       "      <td>1.0</td>\n",
       "      <td>0.0</td>\n",
       "      <td>Lv_2013</td>\n",
       "    </tr>\n",
       "    <tr>\n",
       "      <th>3</th>\n",
       "      <td>Cre05.g248150.t1.2</td>\n",
       "      <td>0.0</td>\n",
       "      <td>0.0</td>\n",
       "      <td>0.0</td>\n",
       "      <td>1.0</td>\n",
       "      <td>Lv_2013</td>\n",
       "    </tr>\n",
       "    <tr>\n",
       "      <th>4</th>\n",
       "      <td>Cre13.g567950.t1.2</td>\n",
       "      <td>0.0</td>\n",
       "      <td>1.0</td>\n",
       "      <td>0.0</td>\n",
       "      <td>0.0</td>\n",
       "      <td>Siaut_2011</td>\n",
       "    </tr>\n",
       "  </tbody>\n",
       "</table>\n",
       "</div>"
      ],
      "text/plain": [
       "        transcript_id  exp_num_sampled  exp_num_manipulated  exp_num_detected  \\\n",
       "0  Cre05.g248150.t1.2              0.0                  1.0               0.0   \n",
       "1  Cre06.g299050.t1.2              0.0                  1.0               0.0   \n",
       "2  Cre06.g299050.t1.2              0.0                  0.0               1.0   \n",
       "3  Cre05.g248150.t1.2              0.0                  0.0               0.0   \n",
       "4  Cre13.g567950.t1.2              0.0                  1.0               0.0   \n",
       "\n",
       "   exp_num_no_effect  exp_source  \n",
       "0                0.0     Lv_2013  \n",
       "1                0.0     Lv_2013  \n",
       "2                0.0     Lv_2013  \n",
       "3                1.0     Lv_2013  \n",
       "4                0.0  Siaut_2011  "
      ]
     },
     "execution_count": 12,
     "metadata": {},
     "output_type": "execute_result"
    }
   ],
   "source": [
    "transformed_subset.head()"
   ]
  },
  {
   "cell_type": "code",
   "execution_count": 13,
   "metadata": {},
   "outputs": [],
   "source": [
    "sample = transformed_subset.groupby(['transcript_id'])[['exp_num_sampled', 'exp_num_manipulated', 'exp_num_detected', 'exp_num_no_effect']].sum()\n",
    "source = transformed_subset.groupby(['transcript_id'])[['exp_source']].agg(lambda x: list(np.unique(list(itertools.chain(x)))))"
   ]
  },
  {
   "cell_type": "code",
   "execution_count": 14,
   "metadata": {},
   "outputs": [
    {
     "data": {
      "text/html": [
       "<div>\n",
       "<table border=\"1\" class=\"dataframe\">\n",
       "  <thead>\n",
       "    <tr style=\"text-align: right;\">\n",
       "      <th></th>\n",
       "      <th>exp_num_sampled</th>\n",
       "      <th>exp_num_manipulated</th>\n",
       "      <th>exp_num_detected</th>\n",
       "      <th>exp_num_no_effect</th>\n",
       "    </tr>\n",
       "    <tr>\n",
       "      <th>transcript_id</th>\n",
       "      <th></th>\n",
       "      <th></th>\n",
       "      <th></th>\n",
       "      <th></th>\n",
       "    </tr>\n",
       "  </thead>\n",
       "  <tbody>\n",
       "    <tr>\n",
       "      <th>Cre01.g021251.t1.1</th>\n",
       "      <td>0.0</td>\n",
       "      <td>1.0</td>\n",
       "      <td>1.0</td>\n",
       "      <td>0.0</td>\n",
       "    </tr>\n",
       "    <tr>\n",
       "      <th>Cre01.g038550.t1.1</th>\n",
       "      <td>1.0</td>\n",
       "      <td>1.0</td>\n",
       "      <td>1.0</td>\n",
       "      <td>0.0</td>\n",
       "    </tr>\n",
       "    <tr>\n",
       "      <th>Cre01.g045903.t1.1</th>\n",
       "      <td>3.0</td>\n",
       "      <td>0.0</td>\n",
       "      <td>1.0</td>\n",
       "      <td>1.0</td>\n",
       "    </tr>\n",
       "    <tr>\n",
       "      <th>Cre01.g053000.t1.2</th>\n",
       "      <td>1.0</td>\n",
       "      <td>0.0</td>\n",
       "      <td>1.0</td>\n",
       "      <td>0.0</td>\n",
       "    </tr>\n",
       "    <tr>\n",
       "      <th>Cre01.g053150.t1.2</th>\n",
       "      <td>1.0</td>\n",
       "      <td>0.0</td>\n",
       "      <td>1.0</td>\n",
       "      <td>0.0</td>\n",
       "    </tr>\n",
       "  </tbody>\n",
       "</table>\n",
       "</div>"
      ],
      "text/plain": [
       "                    exp_num_sampled  exp_num_manipulated  exp_num_detected  \\\n",
       "transcript_id                                                                \n",
       "Cre01.g021251.t1.1              0.0                  1.0               1.0   \n",
       "Cre01.g038550.t1.1              1.0                  1.0               1.0   \n",
       "Cre01.g045903.t1.1              3.0                  0.0               1.0   \n",
       "Cre01.g053000.t1.2              1.0                  0.0               1.0   \n",
       "Cre01.g053150.t1.2              1.0                  0.0               1.0   \n",
       "\n",
       "                    exp_num_no_effect  \n",
       "transcript_id                          \n",
       "Cre01.g021251.t1.1                0.0  \n",
       "Cre01.g038550.t1.1                0.0  \n",
       "Cre01.g045903.t1.1                1.0  \n",
       "Cre01.g053000.t1.2                0.0  \n",
       "Cre01.g053150.t1.2                0.0  "
      ]
     },
     "execution_count": 14,
     "metadata": {},
     "output_type": "execute_result"
    }
   ],
   "source": [
    "sample.head()"
   ]
  },
  {
   "cell_type": "code",
   "execution_count": 15,
   "metadata": {},
   "outputs": [
    {
     "data": {
      "text/html": [
       "<div>\n",
       "<table border=\"1\" class=\"dataframe\">\n",
       "  <thead>\n",
       "    <tr style=\"text-align: right;\">\n",
       "      <th></th>\n",
       "      <th>exp_source</th>\n",
       "    </tr>\n",
       "    <tr>\n",
       "      <th>transcript_id</th>\n",
       "      <th></th>\n",
       "    </tr>\n",
       "  </thead>\n",
       "  <tbody>\n",
       "    <tr>\n",
       "      <th>Cre01.g021251.t1.1</th>\n",
       "      <td>[Li_2010]</td>\n",
       "    </tr>\n",
       "    <tr>\n",
       "      <th>Cre01.g038550.t1.1</th>\n",
       "      <td>[Iwai_2014]</td>\n",
       "    </tr>\n",
       "    <tr>\n",
       "      <th>Cre01.g045903.t1.1</th>\n",
       "      <td>[Iwai_2014, Msanne_2012, Sato_2014]</td>\n",
       "    </tr>\n",
       "    <tr>\n",
       "      <th>Cre01.g053000.t1.2</th>\n",
       "      <td>[Sato_2014]</td>\n",
       "    </tr>\n",
       "    <tr>\n",
       "      <th>Cre01.g053150.t1.2</th>\n",
       "      <td>[Sato_2014]</td>\n",
       "    </tr>\n",
       "  </tbody>\n",
       "</table>\n",
       "</div>"
      ],
      "text/plain": [
       "                                             exp_source\n",
       "transcript_id                                          \n",
       "Cre01.g021251.t1.1                            [Li_2010]\n",
       "Cre01.g038550.t1.1                          [Iwai_2014]\n",
       "Cre01.g045903.t1.1  [Iwai_2014, Msanne_2012, Sato_2014]\n",
       "Cre01.g053000.t1.2                          [Sato_2014]\n",
       "Cre01.g053150.t1.2                          [Sato_2014]"
      ]
     },
     "execution_count": 15,
     "metadata": {},
     "output_type": "execute_result"
    }
   ],
   "source": [
    "source.head()"
   ]
  },
  {
   "cell_type": "code",
   "execution_count": 16,
   "metadata": {},
   "outputs": [
    {
     "data": {
      "text/html": [
       "<div>\n",
       "<table border=\"1\" class=\"dataframe\">\n",
       "  <thead>\n",
       "    <tr style=\"text-align: right;\">\n",
       "      <th></th>\n",
       "      <th>exp_num_sampled</th>\n",
       "      <th>exp_num_manipulated</th>\n",
       "      <th>exp_num_detected</th>\n",
       "      <th>exp_num_no_effect</th>\n",
       "      <th>exp_source</th>\n",
       "    </tr>\n",
       "    <tr>\n",
       "      <th>transcript_id</th>\n",
       "      <th></th>\n",
       "      <th></th>\n",
       "      <th></th>\n",
       "      <th></th>\n",
       "      <th></th>\n",
       "    </tr>\n",
       "  </thead>\n",
       "  <tbody>\n",
       "    <tr>\n",
       "      <th>Cre01.g021251.t1.1</th>\n",
       "      <td>0.0</td>\n",
       "      <td>1.0</td>\n",
       "      <td>1.0</td>\n",
       "      <td>0.0</td>\n",
       "      <td>[Li_2010]</td>\n",
       "    </tr>\n",
       "    <tr>\n",
       "      <th>Cre01.g038550.t1.1</th>\n",
       "      <td>1.0</td>\n",
       "      <td>1.0</td>\n",
       "      <td>1.0</td>\n",
       "      <td>0.0</td>\n",
       "      <td>[Iwai_2014]</td>\n",
       "    </tr>\n",
       "    <tr>\n",
       "      <th>Cre01.g045903.t1.1</th>\n",
       "      <td>3.0</td>\n",
       "      <td>0.0</td>\n",
       "      <td>1.0</td>\n",
       "      <td>1.0</td>\n",
       "      <td>[Iwai_2014, Msanne_2012, Sato_2014]</td>\n",
       "    </tr>\n",
       "    <tr>\n",
       "      <th>Cre01.g053000.t1.2</th>\n",
       "      <td>1.0</td>\n",
       "      <td>0.0</td>\n",
       "      <td>1.0</td>\n",
       "      <td>0.0</td>\n",
       "      <td>[Sato_2014]</td>\n",
       "    </tr>\n",
       "    <tr>\n",
       "      <th>Cre01.g053150.t1.2</th>\n",
       "      <td>1.0</td>\n",
       "      <td>0.0</td>\n",
       "      <td>1.0</td>\n",
       "      <td>0.0</td>\n",
       "      <td>[Sato_2014]</td>\n",
       "    </tr>\n",
       "  </tbody>\n",
       "</table>\n",
       "</div>"
      ],
      "text/plain": [
       "                    exp_num_sampled  exp_num_manipulated  exp_num_detected  \\\n",
       "transcript_id                                                                \n",
       "Cre01.g021251.t1.1              0.0                  1.0               1.0   \n",
       "Cre01.g038550.t1.1              1.0                  1.0               1.0   \n",
       "Cre01.g045903.t1.1              3.0                  0.0               1.0   \n",
       "Cre01.g053000.t1.2              1.0                  0.0               1.0   \n",
       "Cre01.g053150.t1.2              1.0                  0.0               1.0   \n",
       "\n",
       "                    exp_num_no_effect                           exp_source  \n",
       "transcript_id                                                               \n",
       "Cre01.g021251.t1.1                0.0                            [Li_2010]  \n",
       "Cre01.g038550.t1.1                0.0                          [Iwai_2014]  \n",
       "Cre01.g045903.t1.1                1.0  [Iwai_2014, Msanne_2012, Sato_2014]  \n",
       "Cre01.g053000.t1.2                0.0                          [Sato_2014]  \n",
       "Cre01.g053150.t1.2                0.0                          [Sato_2014]  "
      ]
     },
     "execution_count": 16,
     "metadata": {},
     "output_type": "execute_result"
    }
   ],
   "source": [
    "transformed_subset = pd.merge(sample, source, left_index = True, right_index= True)\n",
    "transformed_subset.head()"
   ]
  },
  {
   "cell_type": "code",
   "execution_count": 17,
   "metadata": {},
   "outputs": [],
   "source": [
    "transformed_subset['exp_proportion'] = transformed_subset.exp_num_detected / num_studies\n",
    "transformed_subset['annotation_version'] = 'v5.5'"
   ]
  },
  {
   "cell_type": "code",
   "execution_count": 18,
   "metadata": {},
   "outputs": [
    {
     "data": {
      "text/html": [
       "<div>\n",
       "<table border=\"1\" class=\"dataframe\">\n",
       "  <thead>\n",
       "    <tr style=\"text-align: right;\">\n",
       "      <th></th>\n",
       "      <th>exp_num_sampled</th>\n",
       "      <th>exp_num_manipulated</th>\n",
       "      <th>exp_num_detected</th>\n",
       "      <th>exp_num_no_effect</th>\n",
       "      <th>exp_source</th>\n",
       "      <th>exp_proportion</th>\n",
       "      <th>annotation_version</th>\n",
       "    </tr>\n",
       "    <tr>\n",
       "      <th>transcript_id</th>\n",
       "      <th></th>\n",
       "      <th></th>\n",
       "      <th></th>\n",
       "      <th></th>\n",
       "      <th></th>\n",
       "      <th></th>\n",
       "      <th></th>\n",
       "    </tr>\n",
       "  </thead>\n",
       "  <tbody>\n",
       "    <tr>\n",
       "      <th>Cre01.g021251.t1.1</th>\n",
       "      <td>0.0</td>\n",
       "      <td>1.0</td>\n",
       "      <td>1.0</td>\n",
       "      <td>0.0</td>\n",
       "      <td>[Li_2010]</td>\n",
       "      <td>0.043478</td>\n",
       "      <td>v5.5</td>\n",
       "    </tr>\n",
       "    <tr>\n",
       "      <th>Cre01.g038550.t1.1</th>\n",
       "      <td>1.0</td>\n",
       "      <td>1.0</td>\n",
       "      <td>1.0</td>\n",
       "      <td>0.0</td>\n",
       "      <td>[Iwai_2014]</td>\n",
       "      <td>0.043478</td>\n",
       "      <td>v5.5</td>\n",
       "    </tr>\n",
       "    <tr>\n",
       "      <th>Cre01.g045903.t1.1</th>\n",
       "      <td>3.0</td>\n",
       "      <td>0.0</td>\n",
       "      <td>1.0</td>\n",
       "      <td>1.0</td>\n",
       "      <td>[Iwai_2014, Msanne_2012, Sato_2014]</td>\n",
       "      <td>0.043478</td>\n",
       "      <td>v5.5</td>\n",
       "    </tr>\n",
       "    <tr>\n",
       "      <th>Cre01.g053000.t1.2</th>\n",
       "      <td>1.0</td>\n",
       "      <td>0.0</td>\n",
       "      <td>1.0</td>\n",
       "      <td>0.0</td>\n",
       "      <td>[Sato_2014]</td>\n",
       "      <td>0.043478</td>\n",
       "      <td>v5.5</td>\n",
       "    </tr>\n",
       "    <tr>\n",
       "      <th>Cre01.g053150.t1.2</th>\n",
       "      <td>1.0</td>\n",
       "      <td>0.0</td>\n",
       "      <td>1.0</td>\n",
       "      <td>0.0</td>\n",
       "      <td>[Sato_2014]</td>\n",
       "      <td>0.043478</td>\n",
       "      <td>v5.5</td>\n",
       "    </tr>\n",
       "  </tbody>\n",
       "</table>\n",
       "</div>"
      ],
      "text/plain": [
       "                    exp_num_sampled  exp_num_manipulated  exp_num_detected  \\\n",
       "transcript_id                                                                \n",
       "Cre01.g021251.t1.1              0.0                  1.0               1.0   \n",
       "Cre01.g038550.t1.1              1.0                  1.0               1.0   \n",
       "Cre01.g045903.t1.1              3.0                  0.0               1.0   \n",
       "Cre01.g053000.t1.2              1.0                  0.0               1.0   \n",
       "Cre01.g053150.t1.2              1.0                  0.0               1.0   \n",
       "\n",
       "                    exp_num_no_effect                           exp_source  \\\n",
       "transcript_id                                                                \n",
       "Cre01.g021251.t1.1                0.0                            [Li_2010]   \n",
       "Cre01.g038550.t1.1                0.0                          [Iwai_2014]   \n",
       "Cre01.g045903.t1.1                1.0  [Iwai_2014, Msanne_2012, Sato_2014]   \n",
       "Cre01.g053000.t1.2                0.0                          [Sato_2014]   \n",
       "Cre01.g053150.t1.2                0.0                          [Sato_2014]   \n",
       "\n",
       "                    exp_proportion annotation_version  \n",
       "transcript_id                                          \n",
       "Cre01.g021251.t1.1        0.043478               v5.5  \n",
       "Cre01.g038550.t1.1        0.043478               v5.5  \n",
       "Cre01.g045903.t1.1        0.043478               v5.5  \n",
       "Cre01.g053000.t1.2        0.043478               v5.5  \n",
       "Cre01.g053150.t1.2        0.043478               v5.5  "
      ]
     },
     "execution_count": 18,
     "metadata": {},
     "output_type": "execute_result"
    }
   ],
   "source": [
    "transformed_subset.head()"
   ]
  },
  {
   "cell_type": "code",
   "execution_count": 19,
   "metadata": {},
   "outputs": [],
   "source": [
    "transformed_subset['transcript_id']= transformed_subset.index"
   ]
  },
  {
   "cell_type": "code",
   "execution_count": 20,
   "metadata": {},
   "outputs": [],
   "source": [
    "transformed_subset.index = range(len(transformed_subset))"
   ]
  },
  {
   "cell_type": "code",
   "execution_count": 21,
   "metadata": {},
   "outputs": [
    {
     "data": {
      "text/html": [
       "<div>\n",
       "<table border=\"1\" class=\"dataframe\">\n",
       "  <thead>\n",
       "    <tr style=\"text-align: right;\">\n",
       "      <th></th>\n",
       "      <th>exp_num_sampled</th>\n",
       "      <th>exp_num_manipulated</th>\n",
       "      <th>exp_num_detected</th>\n",
       "      <th>exp_num_no_effect</th>\n",
       "      <th>exp_source</th>\n",
       "      <th>exp_proportion</th>\n",
       "      <th>annotation_version</th>\n",
       "      <th>transcript_id</th>\n",
       "    </tr>\n",
       "  </thead>\n",
       "  <tbody>\n",
       "    <tr>\n",
       "      <th>0</th>\n",
       "      <td>0.0</td>\n",
       "      <td>1.0</td>\n",
       "      <td>1.0</td>\n",
       "      <td>0.0</td>\n",
       "      <td>[Li_2010]</td>\n",
       "      <td>0.043478</td>\n",
       "      <td>v5.5</td>\n",
       "      <td>Cre01.g021251.t1.1</td>\n",
       "    </tr>\n",
       "    <tr>\n",
       "      <th>1</th>\n",
       "      <td>1.0</td>\n",
       "      <td>1.0</td>\n",
       "      <td>1.0</td>\n",
       "      <td>0.0</td>\n",
       "      <td>[Iwai_2014]</td>\n",
       "      <td>0.043478</td>\n",
       "      <td>v5.5</td>\n",
       "      <td>Cre01.g038550.t1.1</td>\n",
       "    </tr>\n",
       "    <tr>\n",
       "      <th>2</th>\n",
       "      <td>3.0</td>\n",
       "      <td>0.0</td>\n",
       "      <td>1.0</td>\n",
       "      <td>1.0</td>\n",
       "      <td>[Iwai_2014, Msanne_2012, Sato_2014]</td>\n",
       "      <td>0.043478</td>\n",
       "      <td>v5.5</td>\n",
       "      <td>Cre01.g045903.t1.1</td>\n",
       "    </tr>\n",
       "    <tr>\n",
       "      <th>3</th>\n",
       "      <td>1.0</td>\n",
       "      <td>0.0</td>\n",
       "      <td>1.0</td>\n",
       "      <td>0.0</td>\n",
       "      <td>[Sato_2014]</td>\n",
       "      <td>0.043478</td>\n",
       "      <td>v5.5</td>\n",
       "      <td>Cre01.g053000.t1.2</td>\n",
       "    </tr>\n",
       "    <tr>\n",
       "      <th>4</th>\n",
       "      <td>1.0</td>\n",
       "      <td>0.0</td>\n",
       "      <td>1.0</td>\n",
       "      <td>0.0</td>\n",
       "      <td>[Sato_2014]</td>\n",
       "      <td>0.043478</td>\n",
       "      <td>v5.5</td>\n",
       "      <td>Cre01.g053150.t1.2</td>\n",
       "    </tr>\n",
       "  </tbody>\n",
       "</table>\n",
       "</div>"
      ],
      "text/plain": [
       "   exp_num_sampled  exp_num_manipulated  exp_num_detected  exp_num_no_effect  \\\n",
       "0              0.0                  1.0               1.0                0.0   \n",
       "1              1.0                  1.0               1.0                0.0   \n",
       "2              3.0                  0.0               1.0                1.0   \n",
       "3              1.0                  0.0               1.0                0.0   \n",
       "4              1.0                  0.0               1.0                0.0   \n",
       "\n",
       "                            exp_source  exp_proportion annotation_version  \\\n",
       "0                            [Li_2010]        0.043478               v5.5   \n",
       "1                          [Iwai_2014]        0.043478               v5.5   \n",
       "2  [Iwai_2014, Msanne_2012, Sato_2014]        0.043478               v5.5   \n",
       "3                          [Sato_2014]        0.043478               v5.5   \n",
       "4                          [Sato_2014]        0.043478               v5.5   \n",
       "\n",
       "        transcript_id  \n",
       "0  Cre01.g021251.t1.1  \n",
       "1  Cre01.g038550.t1.1  \n",
       "2  Cre01.g045903.t1.1  \n",
       "3  Cre01.g053000.t1.2  \n",
       "4  Cre01.g053150.t1.2  "
      ]
     },
     "execution_count": 21,
     "metadata": {},
     "output_type": "execute_result"
    }
   ],
   "source": [
    "transformed_subset.head()"
   ]
  },
  {
   "cell_type": "markdown",
   "metadata": {},
   "source": [
    "### Export `transformed_subset` as `lipid_selection/data/intermediate_data_02/experimental_studies.pickle`\n"
   ]
  },
  {
   "cell_type": "code",
   "execution_count": 22,
   "metadata": {},
   "outputs": [],
   "source": [
    "with open('../../data/intermediate_data_02/experimental_studies.pickle', 'wb') as f:\n",
    "    pickle.dump(transformed_subset, f)"
   ]
  },
  {
   "cell_type": "markdown",
   "metadata": {},
   "source": [
    "### What is the distribution of number of exp_source and exp_num_sampled/manipulated for the genes?"
   ]
  },
  {
   "cell_type": "code",
   "execution_count": 23,
   "metadata": {},
   "outputs": [],
   "source": [
    "from matplotlib import pyplot as plt\n",
    "fig, ax = plt.subplots()\n",
    "plt.hist(transformed_subset.exp_proportion, bins = 10, histtype = 'stepfilled')\n",
    "ax.set_xlabel('Proportion of datasets that detected effect of a unique gene')\n",
    "ax.set_ylabel('Number of unique genes')\n",
    "plt.savefig('simulations_output/distribution_of_exp_proportion.png', bbox_inches = \"tight\", dpi = 300)  "
   ]
  },
  {
   "cell_type": "code",
   "execution_count": 24,
   "metadata": {},
   "outputs": [
    {
     "data": {
      "image/png": "[encoded data removed]",
      "text/plain": [
       "<matplotlib.figure.Figure at 0x7fbf090d7780>"
      ]
     },
     "metadata": {},
     "output_type": "display_data"
    }
   ],
   "source": [
    "fig, ax = plt.subplots()\n",
    "temp = transformed_subset.exp_source.apply(lambda x: len(x))\n",
    "plt.hist(temp, bins = 10, histtype = 'stepfilled')\n",
    "ax.set_xlabel('Number of experimental studies that\\nsampled/manipulated each gene')\n",
    "ax.set_ylabel('Number of unique genes')\n",
    "plt.savefig('simulations_output/num_exp_source_per_unique_gene.png', bbox_inches = \"tight\", dpi = 300) "
   ]
  },
  {
   "cell_type": "code",
   "execution_count": null,
   "metadata": {},
   "outputs": [],
   "source": []
  },
  {
   "cell_type": "code",
   "execution_count": null,
   "metadata": {},
   "outputs": [],
   "source": []
  }
 ],
 "metadata": {
  "kernelspec": {
   "display_name": "Python 3",
   "language": "python",
   "name": "python3"
  },
  "language_info": {
   "codemirror_mode": {
    "name": "ipython",
    "version": 3
   },
   "file_extension": ".py",
   "mimetype": "text/x-python",
   "name": "python",
   "nbconvert_exporter": "python",
   "pygments_lexer": "ipython3",
   "version": "3.5.1"
  }
 },
 "nbformat": 4,
 "nbformat_minor": 2
}
