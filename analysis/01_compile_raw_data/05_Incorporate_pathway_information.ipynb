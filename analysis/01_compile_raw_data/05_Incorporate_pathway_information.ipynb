{
 "cells": [
  {
   "cell_type": "markdown",
   "metadata": {},
   "source": [
    "# Generate table of transcripts with associated pathways\n",
    "\n",
    "Target data structure:\n",
    "\n",
    "| gene_id | transcript_id | num_detected | num_sampled | source        | gene_symbol | pathway_id    |\n",
    "|:-------:|:-------------:|:------------:|:-----------:|:-------------:|:-----------:|:-------------:|\n",
    "| `<str>`   | `<str>`         | `<int>`        | `<int>`       | `[<str>,<str>,...]` | `<str>`       | `[<str>,<str>,...]` |\n",
    "\n",
    "\n",
    "\n",
    "Workflow:\n",
    "\n",
    "1. Query all *C. reinhardtii* v5.5 transcripts from Phytozome v12.1 using intermine. Only transcripts with identified pathways are returned in the query results.\n",
    "2. Export query results to `~/lipid_selection/data/intermediate_data_02/gene_info`"
   ]
  },
  {
   "cell_type": "code",
   "execution_count": 18,
   "metadata": {},
   "outputs": [],
   "source": [
    "import sys\n",
    "sys.path.append('/home/chenwe72/local/lib/python3.5/site-packages')\n",
    "sys.path.append('../../scripts/')\n",
    "#sys.path"
   ]
  },
  {
   "cell_type": "code",
   "execution_count": 19,
   "metadata": {},
   "outputs": [],
   "source": [
    "import pickle\n",
    "import csv\n",
    "from intermine.webservice import Service\n",
    "import pandas as pd\n",
    "import time\n",
    "import numpy as np\n",
    "import re\n",
    "import Search_algorithms as sag\n",
    "from functools import partial\n",
    "import psutil #psutil-5.7.0\n",
    "from multiprocessing import Pool #multiprocessing-2.6.2.1"
   ]
  },
  {
   "cell_type": "markdown",
   "metadata": {},
   "source": [
    "## 1. Query all C. reinhardtii v5.5 transcripts from Phytozome v12.1 using intermine."
   ]
  },
  {
   "cell_type": "code",
   "execution_count": null,
   "metadata": {},
   "outputs": [],
   "source": [
    "#require intermine\n",
    "t0= time.time()\n",
    "service = Service(\"https://phytozome.jgi.doe.gov/phytomine/service\")\n",
    "query = service.new_query(\"Transcript\")\n",
    "query.add_view(\n",
    "    \"primaryIdentifier\", \"gene.primaryIdentifier\", \"gene.symbol\",\n",
    "    \"gene.pathways.identifier\", \"organism.annotationVersion\"\n",
    ")\n",
    "query.add_constraint(\"organism\", \"LOOKUP\", \"Chlamydomonas reinhardtii\", code = \"A\")\n",
    "query.outerjoin(\"gene.pathways\")"
   ]
  },
  {
   "cell_type": "code",
   "execution_count": 4,
   "metadata": {},
   "outputs": [
    {
     "name": "stdout",
     "output_type": "stream",
     "text": [
      "Query took 8.769787788391113 s\n"
     ]
    }
   ],
   "source": [
    "#require csv\n",
    "\n",
    "with open('../../data/intermediate_data_02/query.csv', mode='w') as gene_info:\n",
    "    gene_info = csv.writer(gene_info, delimiter=',', quotechar='\"', quoting=csv.QUOTE_MINIMAL)\n",
    "    gene_info.writerow(['transcript_id', 'gene_id', 'gene_symbol', \"pathway_id\", \"annotation_version\"])\n",
    "    #count = 0\n",
    "    for row in query.rows():\n",
    "        #count +=1\n",
    "        gene_info.writerow([row[\"primaryIdentifier\"], row[\"gene.primaryIdentifier\"], row[\"gene.symbol\"], \\\n",
    "        row[\"gene.pathways.identifier\"], row[\"organism.annotationVersion\"]])\n",
    "        #if count >100 : break\n",
    "        \n",
    "t1= time.time()\n",
    "print(\"Query took\", t1-t0, \"s\")"
   ]
  },
  {
   "cell_type": "markdown",
   "metadata": {},
   "source": [
    "## 2. Data wrangling\n",
    "\n",
    "Reorganize query result to the follow dataframe structure:\n",
    "\n",
    "| gene_id | transcript_id | gene_symbol | pathway_id    | annotation_version   |\n",
    "|:-------:|:-------------:|:-----------:|:-------------:|:-------------:|\n",
    "| `<str>`   | `<str>`         | `<str>`       | `[<str>,<str>,...]` |`<str>`       |\n"
   ]
  },
  {
   "cell_type": "code",
   "execution_count": null,
   "metadata": {},
   "outputs": [],
   "source": [
    "#This is faster than dictionary method\n",
    "t0= time.time()\n",
    "\n",
    "#Import query result\n",
    "gene_info = pd.read_csv(\"../../data/intermediate_data_02/query.csv\")\n",
    "\n",
    "#Group by 'transcript_id', 'gene_id',and 'annotation_version', because each transcript has only one of these\n",
    "grouped_by = ['transcript_id', 'gene_id', 'annotation_version']\n",
    "\n",
    "#Check if any transcript has more than one gene_id's, annotation_versions, or gene_symbols\n",
    "if len(gene_info.groupby(grouped_by)) == len(gene_info.groupby(['transcript_id'])):\n",
    "    grouped = gene_info.groupby(grouped_by)\n",
    "else: print(\"transcripts may have more than one gene_id's or annotation_versions\")\n",
    "    \n",
    "#Initialize empty dictionary to convert to dataframe later\n",
    "temp_dict= dict((key,[]) for key in gene_info.columns)\n",
    "\n",
    "\n",
    "for name, group in grouped: \n",
    "\n",
    "    #each name is a unique combination of 'transcript_id', 'gene_id',and 'annotation_version'\n",
    "    #group is the groupby dataframe of that combination\n",
    "    \n",
    "    for i in ['transcript_id', 'gene_id', 'annotation_version','gene_symbol']:\n",
    "        \n",
    "        ls = list(group.dropna(subset=[i])[i])\n",
    "        if len(ls)==0:temp_dict[i].append(None)\n",
    "        elif len(list(np.unique(ls)))==1: temp_dict[i].append(ls[0])\n",
    "            \n",
    "    i = 'pathway_id'  \n",
    "    ls = list(group.dropna(subset=[i])[i])\n",
    "    if len(ls) ==0:temp_dict[i].append(None)\n",
    "    elif len(ls) >0: temp_dict[i].append(list(np.unique(ls)))\n",
    "            \n",
    "df = pd.DataFrame(temp_dict)\n",
    "    \n",
    "t1= time.time()\n",
    "print(\"Time taken\", t1-t0, \"s\")\n"
   ]
  },
  {
   "cell_type": "raw",
   "metadata": {},
   "source": [
    "#Check output format\n",
    "for key, value in temp_dict.items():\n",
    "    print(len(value), value[:10], \"\\n\")\n",
    "print(temp_dict.values)"
   ]
  },
  {
   "cell_type": "markdown",
   "metadata": {},
   "source": [
    "## 3. Query result summary"
   ]
  },
  {
   "cell_type": "code",
   "execution_count": 6,
   "metadata": {},
   "outputs": [
    {
     "name": "stdout",
     "output_type": "stream",
     "text": [
      "Query returned 22282 results and 19526 unique transcripts.\n",
      "1216 unique transcripts have matching pathways.\n"
     ]
    }
   ],
   "source": [
    "#export results\n",
    "df.to_csv(\"../../data/intermediate_data_02/query_result.csv\", index = False, header = True)\n",
    "\n",
    "print(\"Query returned\", gene_info.shape[0], \"results and\", len(np.unique(gene_info.transcript_id)), \"unique transcripts.\")\n",
    "#gene_info.pathway_id = gene_info.pathway_id.apply(lambda x: x.split(\" \")[1])\n",
    "#temp = gene_info.dropna(subset = ['pathway_id'])\n",
    "print(len(np.unique(gene_info.dropna(subset=['pathway_id']).transcript_id)), \"unique transcripts have matching pathways.\")"
   ]
  },
  {
   "cell_type": "markdown",
   "metadata": {},
   "source": [
    "#### Check if all transcripts in int_data02 have matching transcripts in query result"
   ]
  },
  {
   "cell_type": "code",
   "execution_count": 22,
   "metadata": {},
   "outputs": [],
   "source": [
    "df = pd.read_csv(\"../../data/intermediate_data_02/query_result.csv\")"
   ]
  },
  {
   "cell_type": "raw",
   "metadata": {},
   "source": [
    "#test cell\n",
    "import math\n",
    "\n",
    "def JumpSearch (lys, val):\n",
    "    \n",
    "    '''This function returns the position of the element in the list lys that contains the string pattern lys. If no match \n",
    "    \n",
    "    Usage: lys = list of strings to search through; val = string pattern to search for\n",
    "    \n",
    "    Warning: This function only works when the beginning of the string matches val'''\n",
    "    \n",
    "    length = len(lys)\n",
    "    jump = int(math.sqrt(length))\n",
    "    left, right = 0, 0\n",
    "    index_list = sorted([lys[left],val,lys[right]])\n",
    "    p = re.compile(re.escape(val))\n",
    "    while left < length and index_list.index(lys[left]) <= index_list.index(val):\n",
    "        right = min(length - 1, left + jump)\n",
    "        index_list = sorted([lys[left],val,lys[right]])\n",
    "        if index_list.index(lys[left]) <= index_list.index(val) and index_list.index(lys[right]) >= index_list.index(val):\n",
    "            break\n",
    "        left += jump;\n",
    "        \n",
    "    if left >= length or index_list.index(lys[left]) > index_list.index(val):\n",
    "        return -1\n",
    "    right = min(length-1, right)\n",
    "    i = left\n",
    "    #index_list = sorted([lys[i],val])\n",
    "    while i <= right:\n",
    "        index_list = sorted([lys[i],val])\n",
    "        #print(p.search(lys[i]), lys[i])\n",
    "        if p.match(lys[i]):\n",
    "            return i\n",
    "        i += 1\n",
    "      \n",
    "    return -1"
   ]
  },
  {
   "cell_type": "code",
   "execution_count": 15,
   "metadata": {},
   "outputs": [],
   "source": [
    "#require pickle\n",
    "int_data02 = pd.read_pickle(\"../../data/intermediate_data_02/sampled_genes.pk\")\n",
    "int_data02 = int_data02.rename(columns = {'gene_id':'transcript_id'})\n",
    "int_data02 = int_data02.reset_index(drop=True) "
   ]
  },
  {
   "cell_type": "code",
   "execution_count": 36,
   "metadata": {},
   "outputs": [
    {
     "data": {
      "text/plain": [
       "0    Cre01.g000017.t1.1\n",
       "1    Cre01.g000017.t1.1\n",
       "2    Cre01.g000033.t1.1\n",
       "3    Cre01.g000050.t1.1\n",
       "4    Cre01.g000100.t1.1\n",
       "5    Cre01.g000150.t1.2\n",
       "6    Cre01.g000200.t1.1\n",
       "7    Cre01.g000250.t1.2\n",
       "8    Cre01.g000300.t1.1\n",
       "9    Cre01.g000350.t1.1\n",
       "Name: transcript_id, dtype: object"
      ]
     },
     "execution_count": 36,
     "metadata": {},
     "output_type": "execute_result"
    }
   ],
   "source": [
    "int_data02.transcript_id[:10]"
   ]
  },
  {
   "cell_type": "code",
   "execution_count": 38,
   "metadata": {},
   "outputs": [
    {
     "data": {
      "text/html": [
       "<div>\n",
       "<table border=\"1\" class=\"dataframe\">\n",
       "  <thead>\n",
       "    <tr style=\"text-align: right;\">\n",
       "      <th></th>\n",
       "      <th>annotation_version</th>\n",
       "      <th>gene_id</th>\n",
       "      <th>gene_symbol</th>\n",
       "      <th>pathway_id</th>\n",
       "      <th>transcript_id</th>\n",
       "    </tr>\n",
       "  </thead>\n",
       "  <tbody>\n",
       "    <tr>\n",
       "      <th>0</th>\n",
       "      <td>v5.5</td>\n",
       "      <td>Cre01.g000017</td>\n",
       "      <td>NaN</td>\n",
       "      <td>NaN</td>\n",
       "      <td>Cre01.g000017.t1.1</td>\n",
       "    </tr>\n",
       "    <tr>\n",
       "      <th>1</th>\n",
       "      <td>v5.5</td>\n",
       "      <td>Cre01.g000033</td>\n",
       "      <td>NaN</td>\n",
       "      <td>NaN</td>\n",
       "      <td>Cre01.g000033.t1.1</td>\n",
       "    </tr>\n",
       "    <tr>\n",
       "      <th>2</th>\n",
       "      <td>v5.5</td>\n",
       "      <td>Cre01.g000050</td>\n",
       "      <td>NaN</td>\n",
       "      <td>NaN</td>\n",
       "      <td>Cre01.g000050.t1.1</td>\n",
       "    </tr>\n",
       "    <tr>\n",
       "      <th>3</th>\n",
       "      <td>v5.5</td>\n",
       "      <td>Cre01.g000100</td>\n",
       "      <td>NaN</td>\n",
       "      <td>NaN</td>\n",
       "      <td>Cre01.g000100.t1.1</td>\n",
       "    </tr>\n",
       "    <tr>\n",
       "      <th>4</th>\n",
       "      <td>v5.5</td>\n",
       "      <td>Cre01.g000150</td>\n",
       "      <td>ZRT2</td>\n",
       "      <td>NaN</td>\n",
       "      <td>Cre01.g000150.t1.2</td>\n",
       "    </tr>\n",
       "  </tbody>\n",
       "</table>\n",
       "</div>"
      ],
      "text/plain": [
       "  annotation_version        gene_id gene_symbol pathway_id       transcript_id\n",
       "0               v5.5  Cre01.g000017         NaN        NaN  Cre01.g000017.t1.1\n",
       "1               v5.5  Cre01.g000033         NaN        NaN  Cre01.g000033.t1.1\n",
       "2               v5.5  Cre01.g000050         NaN        NaN  Cre01.g000050.t1.1\n",
       "3               v5.5  Cre01.g000100         NaN        NaN  Cre01.g000100.t1.1\n",
       "4               v5.5  Cre01.g000150        ZRT2        NaN  Cre01.g000150.t1.2"
      ]
     },
     "execution_count": 38,
     "metadata": {},
     "output_type": "execute_result"
    }
   ],
   "source": [
    "df.head()"
   ]
  },
  {
   "cell_type": "markdown",
   "metadata": {},
   "source": [
    "#### 1. Single process"
   ]
  },
  {
   "cell_type": "code",
   "execution_count": 32,
   "metadata": {},
   "outputs": [
    {
     "name": "stdout",
     "output_type": "stream",
     "text": [
      "1.374121904373169 s\n"
     ]
    }
   ],
   "source": [
    "cannot_find_matching_transcript = []\n",
    "t0= time.time()\n",
    "for gene in list(int_data02.transcript_id)[:100]:\n",
    "    \n",
    "    q =  JumpSearch(np.unique(df.transcript_id), gene) \n",
    "    \n",
    "    if q== -1: cannot_find_matching_transcript.append(gene)\n",
    "        \n",
    "    else: pass\n",
    "    \n",
    "t1 = time.time()\n",
    "print(t1-t0, \"s\")"
   ]
  },
  {
   "cell_type": "markdown",
   "metadata": {},
   "source": [
    "#### 2. One process using multiple processing"
   ]
  },
  {
   "cell_type": "code",
   "execution_count": 58,
   "metadata": {},
   "outputs": [],
   "source": [
    "def cannot_find_match (input_string):\n",
    "    q =  JumpSearch(transcripts, gene)\n",
    "    if q == -1: return(gene)\n",
    "    else: return(None)\n",
    "    "
   ]
  },
  {
   "cell_type": "code",
   "execution_count": 59,
   "metadata": {},
   "outputs": [
    {
     "name": "stdout",
     "output_type": "stream",
     "text": [
      "100 genes took: 0.050256967544555664 seconds.\n",
      "Estimated calculation time: 0.18151979060967763 minutes\n"
     ]
    }
   ],
   "source": [
    "t0 = time.time()\n",
    "cannot_find_matching_transcript = []\n",
    "transcripts = np.unique(df.transcript_id)\n",
    "global transcripts\n",
    "\n",
    "def main():\n",
    "    pool = Pool(processes=1)\n",
    "    #func = partial (cannot_find_match, transcripts = transcripts)\n",
    "    \n",
    "    cannot_find_matching_transcript = list(pool.map(cannot_find_match, int_data02.transcript_id[:100]))\n",
    "    \n",
    "    return cannot_find_matching_transcript\n",
    "\n",
    "if __name__ == '__main__':\n",
    "    cannot_find_matching_transcript = main()\n",
    "    \n",
    "t1 = time.time()\n",
    "print(\"100 genes took:\", t1-t0, \"seconds.\")\n",
    "print(\"Estimated calculation time:\", len(int_data02.transcript_id)/100*(t1-t0)/60, \"minutes\")"
   ]
  },
  {
   "cell_type": "markdown",
   "metadata": {},
   "source": [
    "#### Complete process using one core."
   ]
  },
  {
   "cell_type": "code",
   "execution_count": 60,
   "metadata": {},
   "outputs": [
    {
     "name": "stdout",
     "output_type": "stream",
     "text": [
      "Total time: 2.395581007003784 seconds.\n"
     ]
    }
   ],
   "source": [
    "t0 = time.time()\n",
    "cannot_find_matching_transcript = []\n",
    "transcripts = np.unique(df.transcript_id)\n",
    "global transcripts\n",
    "\n",
    "def main():\n",
    "    pool = Pool(processes=1)\n",
    "    \n",
    "    #func = partial (cannot_find_match, transcripts = transcripts)\n",
    "    \n",
    "    cannot_find_matching_transcript = list(pool.map(cannot_find_match, int_data02.transcript_id))\n",
    "    \n",
    "    return cannot_find_matching_transcript\n",
    "\n",
    "if __name__ == '__main__':\n",
    "    cannot_find_matching_transcript = main()\n",
    "    \n",
    "t1 = time.time()\n",
    "print(\"Total time:\", t1-t0, \"seconds.\")"
   ]
  },
  {
   "cell_type": "code",
   "execution_count": 71,
   "metadata": {},
   "outputs": [
    {
     "name": "stdout",
     "output_type": "stream",
     "text": [
      "All transcripts from ~/data/intermediate_data_02/sampled_genes.pk have matching transcripts in Phytozome v12.1 query.\n"
     ]
    }
   ],
   "source": [
    "cannot_find_matching_transcript = [i for i in cannot_find_matching_transcript if i != None]\n",
    "if len(cannot_find_matching_transcript)>0: \n",
    "    print(len(cannot_find_matching_transcript), cannot_find_matching_transcript)\n",
    "\n",
    "else: print(\"All transcripts from ~/data/intermediate_data_02/sampled_genes.pk have matching transcripts in Phytozome v12.1 query.\")"
   ]
  },
  {
   "cell_type": "markdown",
   "metadata": {},
   "source": [
    "## 4. Merge int_data02 and query_result.csv"
   ]
  },
  {
   "cell_type": "code",
   "execution_count": 72,
   "metadata": {},
   "outputs": [
    {
     "data": {
      "text/html": [
       "<div>\n",
       "<table border=\"1\" class=\"dataframe\">\n",
       "  <thead>\n",
       "    <tr style=\"text-align: right;\">\n",
       "      <th></th>\n",
       "      <th>num_detected</th>\n",
       "      <th>num_manipulated</th>\n",
       "      <th>num_sampled</th>\n",
       "      <th>source</th>\n",
       "      <th>transcript_id</th>\n",
       "      <th>annotation_version</th>\n",
       "      <th>gene_id</th>\n",
       "      <th>gene_symbol</th>\n",
       "      <th>pathway_id</th>\n",
       "    </tr>\n",
       "  </thead>\n",
       "  <tbody>\n",
       "    <tr>\n",
       "      <th>0</th>\n",
       "      <td>0.0</td>\n",
       "      <td>0</td>\n",
       "      <td>1.0</td>\n",
       "      <td>Bajhaiya_2016</td>\n",
       "      <td>Cre01.g000017.t1.1</td>\n",
       "      <td>v5.5</td>\n",
       "      <td>Cre01.g000017</td>\n",
       "      <td>NaN</td>\n",
       "      <td>NaN</td>\n",
       "    </tr>\n",
       "    <tr>\n",
       "      <th>1</th>\n",
       "      <td>0.0</td>\n",
       "      <td>0</td>\n",
       "      <td>1.0</td>\n",
       "      <td>Kwak_2017</td>\n",
       "      <td>Cre01.g000017.t1.1</td>\n",
       "      <td>v5.5</td>\n",
       "      <td>Cre01.g000017</td>\n",
       "      <td>NaN</td>\n",
       "      <td>NaN</td>\n",
       "    </tr>\n",
       "    <tr>\n",
       "      <th>2</th>\n",
       "      <td>1.0</td>\n",
       "      <td>0</td>\n",
       "      <td>1.0</td>\n",
       "      <td>Bajhaiya_2016</td>\n",
       "      <td>Cre01.g000033.t1.1</td>\n",
       "      <td>v5.5</td>\n",
       "      <td>Cre01.g000033</td>\n",
       "      <td>NaN</td>\n",
       "      <td>NaN</td>\n",
       "    </tr>\n",
       "    <tr>\n",
       "      <th>3</th>\n",
       "      <td>0.0</td>\n",
       "      <td>0</td>\n",
       "      <td>1.0</td>\n",
       "      <td>Gargouri_2015</td>\n",
       "      <td>Cre01.g000050.t1.1</td>\n",
       "      <td>v5.5</td>\n",
       "      <td>Cre01.g000050</td>\n",
       "      <td>NaN</td>\n",
       "      <td>NaN</td>\n",
       "    </tr>\n",
       "    <tr>\n",
       "      <th>4</th>\n",
       "      <td>0.0</td>\n",
       "      <td>0</td>\n",
       "      <td>1.0</td>\n",
       "      <td>Bajhaiya_2016</td>\n",
       "      <td>Cre01.g000100.t1.1</td>\n",
       "      <td>v5.5</td>\n",
       "      <td>Cre01.g000100</td>\n",
       "      <td>NaN</td>\n",
       "      <td>NaN</td>\n",
       "    </tr>\n",
       "  </tbody>\n",
       "</table>\n",
       "</div>"
      ],
      "text/plain": [
       "   num_detected  num_manipulated  num_sampled         source  \\\n",
       "0           0.0                0          1.0  Bajhaiya_2016   \n",
       "1           0.0                0          1.0      Kwak_2017   \n",
       "2           1.0                0          1.0  Bajhaiya_2016   \n",
       "3           0.0                0          1.0  Gargouri_2015   \n",
       "4           0.0                0          1.0  Bajhaiya_2016   \n",
       "\n",
       "        transcript_id annotation_version        gene_id gene_symbol pathway_id  \n",
       "0  Cre01.g000017.t1.1               v5.5  Cre01.g000017         NaN        NaN  \n",
       "1  Cre01.g000017.t1.1               v5.5  Cre01.g000017         NaN        NaN  \n",
       "2  Cre01.g000033.t1.1               v5.5  Cre01.g000033         NaN        NaN  \n",
       "3  Cre01.g000050.t1.1               v5.5  Cre01.g000050         NaN        NaN  \n",
       "4  Cre01.g000100.t1.1               v5.5  Cre01.g000100         NaN        NaN  "
      ]
     },
     "execution_count": 72,
     "metadata": {},
     "output_type": "execute_result"
    }
   ],
   "source": [
    "merged = pd.merge(int_data02, df)\n",
    "merged[:5]"
   ]
  },
  {
   "cell_type": "markdown",
   "metadata": {},
   "source": [
    "#### Export merged dataframe as `~/lipid_selection/data/intermediate_data_02/observational_studies.pickle`"
   ]
  },
  {
   "cell_type": "code",
   "execution_count": 73,
   "metadata": {},
   "outputs": [],
   "source": [
    "with open('../../data/intermediate_data_02/sampledd_genes.pk', 'wb') as f:\n",
    "    pickle.dump(merged, f)"
   ]
  },
  {
   "cell_type": "code",
   "execution_count": null,
   "metadata": {},
   "outputs": [],
   "source": []
  }
 ],
 "metadata": {
  "kernelspec": {
   "display_name": "Python 3",
   "language": "python",
   "name": "python3"
  },
  "language_info": {
   "codemirror_mode": {
    "name": "ipython",
    "version": 3
   },
   "file_extension": ".py",
   "mimetype": "text/x-python",
   "name": "python",
   "nbconvert_exporter": "python",
   "pygments_lexer": "ipython3",
   "version": "3.5.1"
  }
 },
 "nbformat": 4,
 "nbformat_minor": 4
}
