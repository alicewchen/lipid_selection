{
 "cells": [
  {
   "cell_type": "markdown",
   "metadata": {},
   "source": [
    "# Generate clean_primary_data.pk\n",
    "**Output:** `../../data/workflow/clean_primary_data.pk`"
   ]
  },
  {
   "cell_type": "code",
   "execution_count": 1,
   "metadata": {},
   "outputs": [],
   "source": [
    "import pandas as pd\n",
    "import numpy as np\n",
    "import pickle as pk"
   ]
  },
  {
   "cell_type": "code",
   "execution_count": 2,
   "metadata": {},
   "outputs": [
    {
     "data": {
      "text/html": [
       "<div>\n",
       "<table border=\"1\" class=\"dataframe\">\n",
       "  <thead>\n",
       "    <tr style=\"text-align: right;\">\n",
       "      <th></th>\n",
       "      <th>File_name</th>\n",
       "      <th>Genus</th>\n",
       "      <th>Species</th>\n",
       "      <th>Strain</th>\n",
       "      <th>Source_DOI</th>\n",
       "      <th>First_author</th>\n",
       "      <th>Publication_year</th>\n",
       "      <th>Downloaded_file_name</th>\n",
       "      <th>Date_downloaded</th>\n",
       "      <th>Article_source_type</th>\n",
       "      <th>Article_source</th>\n",
       "      <th>Type_of_study</th>\n",
       "      <th>Genes_sampled</th>\n",
       "      <th>Genes_manipulated</th>\n",
       "      <th>Genes_with_effect</th>\n",
       "      <th>Genes_no_effect</th>\n",
       "      <th>Additional notes</th>\n",
       "      <th>Annotation version</th>\n",
       "    </tr>\n",
       "  </thead>\n",
       "  <tbody>\n",
       "    <tr>\n",
       "      <th>0</th>\n",
       "      <td>Zheng_2013.xls</td>\n",
       "      <td>Nannochloropsis</td>\n",
       "      <td>NaN</td>\n",
       "      <td>NaN</td>\n",
       "      <td>https://doi.org/10.1016/j.gene.2013.04.005</td>\n",
       "      <td>Zheng</td>\n",
       "      <td>2013</td>\n",
       "      <td>Additional file 1. The detailed annotations of...</td>\n",
       "      <td>2020-03-24</td>\n",
       "      <td>Review</td>\n",
       "      <td>Arora et al. 2018</td>\n",
       "      <td>transcriptomics</td>\n",
       "      <td>NaN</td>\n",
       "      <td>NaN</td>\n",
       "      <td>NaN</td>\n",
       "      <td>NaN</td>\n",
       "      <td>NaN</td>\n",
       "      <td>NaN</td>\n",
       "    </tr>\n",
       "    <tr>\n",
       "      <th>1</th>\n",
       "      <td>Lv_2013.txt</td>\n",
       "      <td>Chlamydomonas</td>\n",
       "      <td>reinhardtii</td>\n",
       "      <td>4A</td>\n",
       "      <td>https://doi.org/10.1016/j.ygeno.2013.01.004</td>\n",
       "      <td>Lv</td>\n",
       "      <td>2013</td>\n",
       "      <td>Table 2</td>\n",
       "      <td>2020-03-24</td>\n",
       "      <td>Review</td>\n",
       "      <td>Arora et al. 2018</td>\n",
       "      <td>knock_out; transcriptomics</td>\n",
       "      <td>NaN</td>\n",
       "      <td>Cre05.g248150.t1; Cre06.g299050.t1.2</td>\n",
       "      <td>Cre06.g299050.t1.2</td>\n",
       "      <td>Cre05.g248150.t1</td>\n",
       "      <td>Cre05.g248150.t1.2(LPAAT); Cre06.g299050.t1.2(...</td>\n",
       "      <td>5.5</td>\n",
       "    </tr>\n",
       "    <tr>\n",
       "      <th>2</th>\n",
       "      <td>Tanaka_2015.txt</td>\n",
       "      <td>Fistulifera</td>\n",
       "      <td>solaris</td>\n",
       "      <td>JPCC DA0580</td>\n",
       "      <td>https://doi.org/10.1105/tpc.114.135194</td>\n",
       "      <td>Tanaka</td>\n",
       "      <td>2015</td>\n",
       "      <td>Figure 4</td>\n",
       "      <td>2020-03-24</td>\n",
       "      <td>Review</td>\n",
       "      <td>Arora et al. 2018</td>\n",
       "      <td>transcriptomics</td>\n",
       "      <td>NaN</td>\n",
       "      <td>NaN</td>\n",
       "      <td>NaN</td>\n",
       "      <td>NaN</td>\n",
       "      <td>Transcribed Figure 4 image to .txt file</td>\n",
       "      <td>NaN</td>\n",
       "    </tr>\n",
       "  </tbody>\n",
       "</table>\n",
       "</div>"
      ],
      "text/plain": [
       "         File_name            Genus      Species       Strain  \\\n",
       "0   Zheng_2013.xls  Nannochloropsis          NaN          NaN   \n",
       "1      Lv_2013.txt    Chlamydomonas  reinhardtii           4A   \n",
       "2  Tanaka_2015.txt      Fistulifera      solaris  JPCC DA0580   \n",
       "\n",
       "                                    Source_DOI First_author  Publication_year  \\\n",
       "0   https://doi.org/10.1016/j.gene.2013.04.005        Zheng              2013   \n",
       "1  https://doi.org/10.1016/j.ygeno.2013.01.004           Lv              2013   \n",
       "2       https://doi.org/10.1105/tpc.114.135194       Tanaka              2015   \n",
       "\n",
       "                                Downloaded_file_name Date_downloaded  \\\n",
       "0  Additional file 1. The detailed annotations of...      2020-03-24   \n",
       "1                                            Table 2      2020-03-24   \n",
       "2                                           Figure 4      2020-03-24   \n",
       "\n",
       "  Article_source_type     Article_source               Type_of_study  \\\n",
       "0              Review  Arora et al. 2018             transcriptomics   \n",
       "1              Review  Arora et al. 2018  knock_out; transcriptomics   \n",
       "2              Review  Arora et al. 2018             transcriptomics   \n",
       "\n",
       "  Genes_sampled                     Genes_manipulated   Genes_with_effect  \\\n",
       "0           NaN                                   NaN                 NaN   \n",
       "1           NaN  Cre05.g248150.t1; Cre06.g299050.t1.2  Cre06.g299050.t1.2   \n",
       "2           NaN                                   NaN                 NaN   \n",
       "\n",
       "    Genes_no_effect                                   Additional notes  \\\n",
       "0               NaN                                                NaN   \n",
       "1  Cre05.g248150.t1  Cre05.g248150.t1.2(LPAAT); Cre06.g299050.t1.2(...   \n",
       "2               NaN            Transcribed Figure 4 image to .txt file   \n",
       "\n",
       "   Annotation version  \n",
       "0                 NaN  \n",
       "1                 5.5  \n",
       "2                 NaN  "
      ]
     },
     "execution_count": 2,
     "metadata": {},
     "output_type": "execute_result"
    }
   ],
   "source": [
    "primary_data = pd.read_excel(\"../../data/raw_data/Summary_of_primary_data.xlsx\", 'Sheet1')\n",
    "primary_data[:3]"
   ]
  },
  {
   "cell_type": "code",
   "execution_count": 3,
   "metadata": {},
   "outputs": [
    {
     "name": "stderr",
     "output_type": "stream",
     "text": [
      "/usr/local/lib/python3.5/site-packages/ipykernel_launcher.py:2: UserWarning: Boolean Series key will be reindexed to match DataFrame index.\n",
      "  \n"
     ]
    },
    {
     "data": {
      "text/html": [
       "<div>\n",
       "<table border=\"1\" class=\"dataframe\">\n",
       "  <thead>\n",
       "    <tr style=\"text-align: right;\">\n",
       "      <th></th>\n",
       "      <th>index</th>\n",
       "      <th>Genus</th>\n",
       "      <th>Species</th>\n",
       "      <th>First_author</th>\n",
       "      <th>Publication_year</th>\n",
       "      <th>Type_of_study</th>\n",
       "      <th>Genes_sampled</th>\n",
       "      <th>Genes_manipulated</th>\n",
       "      <th>Genes_with_effect</th>\n",
       "      <th>Genes_no_effect</th>\n",
       "    </tr>\n",
       "  </thead>\n",
       "  <tbody>\n",
       "    <tr>\n",
       "      <th>0</th>\n",
       "      <td>1</td>\n",
       "      <td>Chlamydomonas</td>\n",
       "      <td>reinhardtii</td>\n",
       "      <td>Lv</td>\n",
       "      <td>2013</td>\n",
       "      <td>knock_out; transcriptomics</td>\n",
       "      <td>NaN</td>\n",
       "      <td>Cre05.g248150.t1; Cre06.g299050.t1.2</td>\n",
       "      <td>Cre06.g299050.t1.2</td>\n",
       "      <td>Cre05.g248150.t1</td>\n",
       "    </tr>\n",
       "    <tr>\n",
       "      <th>1</th>\n",
       "      <td>5</td>\n",
       "      <td>Chlamydomonas</td>\n",
       "      <td>reinhardtii</td>\n",
       "      <td>Miller</td>\n",
       "      <td>2010</td>\n",
       "      <td>transcriptomics</td>\n",
       "      <td>NaN</td>\n",
       "      <td>NaN</td>\n",
       "      <td>NaN</td>\n",
       "      <td>NaN</td>\n",
       "    </tr>\n",
       "    <tr>\n",
       "      <th>2</th>\n",
       "      <td>7</td>\n",
       "      <td>Chlamydomonas</td>\n",
       "      <td>reinhardtii</td>\n",
       "      <td>Kwak</td>\n",
       "      <td>2017</td>\n",
       "      <td>transcriptomics</td>\n",
       "      <td>NaN</td>\n",
       "      <td>NaN</td>\n",
       "      <td>NaN</td>\n",
       "      <td>NaN</td>\n",
       "    </tr>\n",
       "  </tbody>\n",
       "</table>\n",
       "</div>"
      ],
      "text/plain": [
       "   index          Genus      Species First_author  Publication_year  \\\n",
       "0      1  Chlamydomonas  reinhardtii           Lv              2013   \n",
       "1      5  Chlamydomonas  reinhardtii       Miller              2010   \n",
       "2      7  Chlamydomonas  reinhardtii         Kwak              2017   \n",
       "\n",
       "                Type_of_study Genes_sampled  \\\n",
       "0  knock_out; transcriptomics           NaN   \n",
       "1             transcriptomics           NaN   \n",
       "2             transcriptomics           NaN   \n",
       "\n",
       "                      Genes_manipulated   Genes_with_effect   Genes_no_effect  \n",
       "0  Cre05.g248150.t1; Cre06.g299050.t1.2  Cre06.g299050.t1.2  Cre05.g248150.t1  \n",
       "1                                   NaN                 NaN               NaN  \n",
       "2                                   NaN                 NaN               NaN  "
      ]
     },
     "execution_count": 3,
     "metadata": {},
     "output_type": "execute_result"
    }
   ],
   "source": [
    "primary_data = primary_data[['Genus', 'Species','First_author','Publication_year',\\\n",
    "                             'Type_of_study','Genes_sampled','Genes_manipulated', 'Genes_with_effect',\\\n",
    "                             \"Genes_no_effect\"]]\n",
    "subset = primary_data[primary_data.Genus=='Chlamydomonas'][primary_data.Species=='reinhardtii'].reset_index()\n",
    "subset[:3]"
   ]
  },
  {
   "cell_type": "code",
   "execution_count": 4,
   "metadata": {},
   "outputs": [],
   "source": [
    "df = pd.DataFrame()\n",
    "subset.Publication_year = subset.Publication_year.astype(str)\n",
    "df['source'] = subset.First_author+\"_\"+subset.Publication_year\n",
    "df['manipulated_gene'] = subset.apply(lambda x: 1 if x.Genes_manipulated is not np.nan else 0, axis =1)\n",
    "df['type_of_study']  = subset.apply(lambda x: x.Type_of_study.split(\"; \"), axis =1)"
   ]
  },
  {
   "cell_type": "code",
   "execution_count": 5,
   "metadata": {},
   "outputs": [
    {
     "data": {
      "text/html": [
       "<div>\n",
       "<table border=\"1\" class=\"dataframe\">\n",
       "  <thead>\n",
       "    <tr style=\"text-align: right;\">\n",
       "      <th></th>\n",
       "      <th>source</th>\n",
       "      <th>manipulated_gene</th>\n",
       "      <th>type_of_study</th>\n",
       "    </tr>\n",
       "  </thead>\n",
       "  <tbody>\n",
       "    <tr>\n",
       "      <th>0</th>\n",
       "      <td>Lv_2013</td>\n",
       "      <td>1</td>\n",
       "      <td>[knock_out, transcriptomics]</td>\n",
       "    </tr>\n",
       "    <tr>\n",
       "      <th>1</th>\n",
       "      <td>Miller_2010</td>\n",
       "      <td>0</td>\n",
       "      <td>[transcriptomics]</td>\n",
       "    </tr>\n",
       "    <tr>\n",
       "      <th>2</th>\n",
       "      <td>Kwak_2017</td>\n",
       "      <td>0</td>\n",
       "      <td>[transcriptomics]</td>\n",
       "    </tr>\n",
       "  </tbody>\n",
       "</table>\n",
       "</div>"
      ],
      "text/plain": [
       "        source  manipulated_gene                 type_of_study\n",
       "0      Lv_2013                 1  [knock_out, transcriptomics]\n",
       "1  Miller_2010                 0             [transcriptomics]\n",
       "2    Kwak_2017                 0             [transcriptomics]"
      ]
     },
     "execution_count": 5,
     "metadata": {},
     "output_type": "execute_result"
    }
   ],
   "source": [
    "df[:3]"
   ]
  },
  {
   "cell_type": "code",
   "execution_count": 6,
   "metadata": {},
   "outputs": [],
   "source": [
    "with open('../../data/workflow/clean_primary_data.pk', 'wb') as f:\n",
    "    pk.dump(df, f)"
   ]
  },
  {
   "cell_type": "code",
   "execution_count": 7,
   "metadata": {},
   "outputs": [
    {
     "name": "stdout",
     "output_type": "stream",
     "text": [
      "['RT_qPCR', 'gene_silence', 'genetic_transformation', 'genomics', 'knock_out', 'proteomics', 'transcriptomics']\n"
     ]
    }
   ],
   "source": [
    "types_of_study = list(np.unique([i for sublist in df.type_of_study for i in sublist]))\n",
    "print(types_of_study)"
   ]
  }
 ],
 "metadata": {
  "kernelspec": {
   "display_name": "Python 3",
   "language": "python",
   "name": "python3"
  },
  "language_info": {
   "codemirror_mode": {
    "name": "ipython",
    "version": 3
   },
   "file_extension": ".py",
   "mimetype": "text/x-python",
   "name": "python",
   "nbconvert_exporter": "python",
   "pygments_lexer": "ipython3",
   "version": "3.5.1"
  }
 },
 "nbformat": 4,
 "nbformat_minor": 2
}
