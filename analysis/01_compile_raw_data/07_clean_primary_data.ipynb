{
 "cells": [
  {
   "cell_type": "markdown",
   "metadata": {},
   "source": [
    "# Generate clean_primary_data.pk\n",
    "**Output:** `../../data/intermediate_data_02/clean_primary_data.pk`"
   ]
  },
  {
   "cell_type": "code",
   "execution_count": 39,
   "metadata": {},
   "outputs": [],
   "source": [
    "import pandas as pd\n",
    "import numpy as np\n",
    "import pickle as pk"
   ]
  },
  {
   "cell_type": "code",
   "execution_count": 2,
   "metadata": {},
   "outputs": [
    {
     "name": "stderr",
     "output_type": "stream",
     "text": [
      "/usr/local/lib/python3.5/site-packages/ipykernel_launcher.py:4: UserWarning: Boolean Series key will be reindexed to match DataFrame index.\n",
      "  after removing the cwd from sys.path.\n"
     ]
    },
    {
     "data": {
      "text/html": [
       "<div>\n",
       "<table border=\"1\" class=\"dataframe\">\n",
       "  <thead>\n",
       "    <tr style=\"text-align: right;\">\n",
       "      <th></th>\n",
       "      <th>Genus</th>\n",
       "      <th>Species</th>\n",
       "      <th>First_author</th>\n",
       "      <th>Publication_year</th>\n",
       "      <th>Type_of_study</th>\n",
       "      <th>Genes_sampled</th>\n",
       "      <th>Genes_manipulated</th>\n",
       "      <th>Genes_with_effect</th>\n",
       "      <th>Genes_no_effect</th>\n",
       "    </tr>\n",
       "  </thead>\n",
       "  <tbody>\n",
       "    <tr>\n",
       "      <th>1</th>\n",
       "      <td>Chlamydomonas</td>\n",
       "      <td>reinhardtii</td>\n",
       "      <td>Lv</td>\n",
       "      <td>2013</td>\n",
       "      <td>knock_out; transcriptomics</td>\n",
       "      <td>NaN</td>\n",
       "      <td>Cre05.g248150.t1; Cre06.g299050.t1.2</td>\n",
       "      <td>Cre06.g299050.t1.2</td>\n",
       "      <td>Cre05.g248150.t1</td>\n",
       "    </tr>\n",
       "    <tr>\n",
       "      <th>5</th>\n",
       "      <td>Chlamydomonas</td>\n",
       "      <td>reinhardtii</td>\n",
       "      <td>Miller</td>\n",
       "      <td>2010</td>\n",
       "      <td>transcriptomics</td>\n",
       "      <td>NaN</td>\n",
       "      <td>NaN</td>\n",
       "      <td>NaN</td>\n",
       "      <td>NaN</td>\n",
       "    </tr>\n",
       "    <tr>\n",
       "      <th>7</th>\n",
       "      <td>Chlamydomonas</td>\n",
       "      <td>reinhardtii</td>\n",
       "      <td>Kwak</td>\n",
       "      <td>2017</td>\n",
       "      <td>transcriptomics</td>\n",
       "      <td>NaN</td>\n",
       "      <td>NaN</td>\n",
       "      <td>NaN</td>\n",
       "      <td>NaN</td>\n",
       "    </tr>\n",
       "  </tbody>\n",
       "</table>\n",
       "</div>"
      ],
      "text/plain": [
       "           Genus      Species First_author  Publication_year  \\\n",
       "1  Chlamydomonas  reinhardtii           Lv              2013   \n",
       "5  Chlamydomonas  reinhardtii       Miller              2010   \n",
       "7  Chlamydomonas  reinhardtii         Kwak              2017   \n",
       "\n",
       "                Type_of_study Genes_sampled  \\\n",
       "1  knock_out; transcriptomics           NaN   \n",
       "5             transcriptomics           NaN   \n",
       "7             transcriptomics           NaN   \n",
       "\n",
       "                      Genes_manipulated   Genes_with_effect   Genes_no_effect  \n",
       "1  Cre05.g248150.t1; Cre06.g299050.t1.2  Cre06.g299050.t1.2  Cre05.g248150.t1  \n",
       "5                                   NaN                 NaN               NaN  \n",
       "7                                   NaN                 NaN               NaN  "
      ]
     },
     "execution_count": 2,
     "metadata": {},
     "output_type": "execute_result"
    }
   ],
   "source": [
    "primary_data = pd.read_excel(\"../../data/raw_data/Summary_of_primary_data.xlsx\", 'Sheet1')\n",
    "primary_data[:3]"
   ]
  },
  {
   "cell_type": "code",
   "execution_count": 16,
   "metadata": {},
   "outputs": [
    {
     "name": "stderr",
     "output_type": "stream",
     "text": [
      "/usr/local/lib/python3.5/site-packages/ipykernel_launcher.py:2: UserWarning: Boolean Series key will be reindexed to match DataFrame index.\n",
      "  \n"
     ]
    },
    {
     "data": {
      "text/html": [
       "<div>\n",
       "<table border=\"1\" class=\"dataframe\">\n",
       "  <thead>\n",
       "    <tr style=\"text-align: right;\">\n",
       "      <th></th>\n",
       "      <th>index</th>\n",
       "      <th>Genus</th>\n",
       "      <th>Species</th>\n",
       "      <th>First_author</th>\n",
       "      <th>Publication_year</th>\n",
       "      <th>Type_of_study</th>\n",
       "      <th>Genes_sampled</th>\n",
       "      <th>Genes_manipulated</th>\n",
       "      <th>Genes_with_effect</th>\n",
       "      <th>Genes_no_effect</th>\n",
       "    </tr>\n",
       "  </thead>\n",
       "  <tbody>\n",
       "    <tr>\n",
       "      <th>0</th>\n",
       "      <td>1</td>\n",
       "      <td>Chlamydomonas</td>\n",
       "      <td>reinhardtii</td>\n",
       "      <td>Lv</td>\n",
       "      <td>2013</td>\n",
       "      <td>knock_out; transcriptomics</td>\n",
       "      <td>NaN</td>\n",
       "      <td>Cre05.g248150.t1; Cre06.g299050.t1.2</td>\n",
       "      <td>Cre06.g299050.t1.2</td>\n",
       "      <td>Cre05.g248150.t1</td>\n",
       "    </tr>\n",
       "    <tr>\n",
       "      <th>1</th>\n",
       "      <td>5</td>\n",
       "      <td>Chlamydomonas</td>\n",
       "      <td>reinhardtii</td>\n",
       "      <td>Miller</td>\n",
       "      <td>2010</td>\n",
       "      <td>transcriptomics</td>\n",
       "      <td>NaN</td>\n",
       "      <td>NaN</td>\n",
       "      <td>NaN</td>\n",
       "      <td>NaN</td>\n",
       "    </tr>\n",
       "    <tr>\n",
       "      <th>2</th>\n",
       "      <td>7</td>\n",
       "      <td>Chlamydomonas</td>\n",
       "      <td>reinhardtii</td>\n",
       "      <td>Kwak</td>\n",
       "      <td>2017</td>\n",
       "      <td>transcriptomics</td>\n",
       "      <td>NaN</td>\n",
       "      <td>NaN</td>\n",
       "      <td>NaN</td>\n",
       "      <td>NaN</td>\n",
       "    </tr>\n",
       "  </tbody>\n",
       "</table>\n",
       "</div>"
      ],
      "text/plain": [
       "   index          Genus      Species First_author  Publication_year  \\\n",
       "0      1  Chlamydomonas  reinhardtii           Lv              2013   \n",
       "1      5  Chlamydomonas  reinhardtii       Miller              2010   \n",
       "2      7  Chlamydomonas  reinhardtii         Kwak              2017   \n",
       "\n",
       "                Type_of_study Genes_sampled  \\\n",
       "0  knock_out; transcriptomics           NaN   \n",
       "1             transcriptomics           NaN   \n",
       "2             transcriptomics           NaN   \n",
       "\n",
       "                      Genes_manipulated   Genes_with_effect   Genes_no_effect  \n",
       "0  Cre05.g248150.t1; Cre06.g299050.t1.2  Cre06.g299050.t1.2  Cre05.g248150.t1  \n",
       "1                                   NaN                 NaN               NaN  \n",
       "2                                   NaN                 NaN               NaN  "
      ]
     },
     "execution_count": 16,
     "metadata": {},
     "output_type": "execute_result"
    }
   ],
   "source": [
    "primary_data = primary_data[['Genus', 'Species','First_author','Publication_year',\\\n",
    "                             'Type_of_study','Genes_sampled','Genes_manipulated', 'Genes_with_effect',\\\n",
    "                             \"Genes_no_effect\"]]\n",
    "subset = primary_data[primary_data.Genus=='Chlamydomonas'][primary_data.Species=='reinhardtii'].reset_index()\n",
    "subset[:3]"
   ]
  },
  {
   "cell_type": "code",
   "execution_count": 31,
   "metadata": {},
   "outputs": [],
   "source": [
    "df = pd.DataFrame()\n",
    "subset.Publication_year = subset.Publication_year.astype(str)\n",
    "df['source'] = subset.First_author+\"_\"+subset.Publication_year\n",
    "df['manipulated_gene'] = subset.apply(lambda x: 1 if x.Genes_manipulated is not np.nan else 0, axis =1)\n",
    "df['type_of_study']  = subset.apply(lambda x: x.Type_of_study.split(\"; \"), axis =1)"
   ]
  },
  {
   "cell_type": "code",
   "execution_count": 34,
   "metadata": {},
   "outputs": [
    {
     "data": {
      "text/html": [
       "<div>\n",
       "<table border=\"1\" class=\"dataframe\">\n",
       "  <thead>\n",
       "    <tr style=\"text-align: right;\">\n",
       "      <th></th>\n",
       "      <th>source</th>\n",
       "      <th>manipulated_gene</th>\n",
       "      <th>type_of_study</th>\n",
       "    </tr>\n",
       "  </thead>\n",
       "  <tbody>\n",
       "    <tr>\n",
       "      <th>0</th>\n",
       "      <td>Lv_2013</td>\n",
       "      <td>1</td>\n",
       "      <td>[knock_out, transcriptomics]</td>\n",
       "    </tr>\n",
       "    <tr>\n",
       "      <th>1</th>\n",
       "      <td>Miller_2010</td>\n",
       "      <td>0</td>\n",
       "      <td>[transcriptomics]</td>\n",
       "    </tr>\n",
       "    <tr>\n",
       "      <th>2</th>\n",
       "      <td>Kwak_2017</td>\n",
       "      <td>0</td>\n",
       "      <td>[transcriptomics]</td>\n",
       "    </tr>\n",
       "  </tbody>\n",
       "</table>\n",
       "</div>"
      ],
      "text/plain": [
       "        source  manipulated_gene                 type_of_study\n",
       "0      Lv_2013                 1  [knock_out, transcriptomics]\n",
       "1  Miller_2010                 0             [transcriptomics]\n",
       "2    Kwak_2017                 0             [transcriptomics]"
      ]
     },
     "execution_count": 34,
     "metadata": {},
     "output_type": "execute_result"
    }
   ],
   "source": [
    "df[:3]"
   ]
  },
  {
   "cell_type": "code",
   "execution_count": 40,
   "metadata": {},
   "outputs": [],
   "source": [
    "with open('../../data/dfe_alpha/clean_primary_data.pk', 'wb') as f:\n",
    "    pk.dump(df, f)"
   ]
  },
  {
   "cell_type": "code",
   "execution_count": 37,
   "metadata": {},
   "outputs": [
    {
     "name": "stdout",
     "output_type": "stream",
     "text": [
      "['RT_qPCR', 'gene_silence', 'genetic_transformation', 'genomics', 'knock_out', 'proteomics', 'transcriptomics']\n"
     ]
    }
   ],
   "source": [
    "types_of_study = list(np.unique([i for sublist in df.type_of_study for i in sublist]))\n",
    "print(types_of_study)"
   ]
  }
 ],
 "metadata": {
  "kernelspec": {
   "display_name": "Python 3",
   "language": "python",
   "name": "python3"
  },
  "language_info": {
   "codemirror_mode": {
    "name": "ipython",
    "version": 3
   },
   "file_extension": ".py",
   "mimetype": "text/x-python",
   "name": "python",
   "nbconvert_exporter": "python",
   "pygments_lexer": "ipython3",
   "version": "3.5.1"
  }
 },
 "nbformat": 4,
 "nbformat_minor": 2
}
