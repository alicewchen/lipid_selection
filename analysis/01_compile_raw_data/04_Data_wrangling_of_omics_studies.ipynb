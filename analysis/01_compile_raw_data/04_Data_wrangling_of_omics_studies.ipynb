{
 "cells": [
  {
   "cell_type": "markdown",
   "metadata": {},
   "source": [
    "# Data wrangle omics studies and Summary_of_primary_data.csv"
   ]
  },
  {
   "cell_type": "code",
   "execution_count": 1,
   "metadata": {},
   "outputs": [],
   "source": [
    "import pickle\n",
    "import random\n",
    "import pandas as pd\n",
    "import numpy as np\n",
    "import statistics as stats\n",
    "import random\n",
    "from matplotlib import pyplot as plt\n",
    "import time\n",
    "import re"
   ]
  },
  {
   "cell_type": "markdown",
   "metadata": {},
   "source": [
    "# omics studies"
   ]
  },
  {
   "cell_type": "code",
   "execution_count": 2,
   "metadata": {},
   "outputs": [
    {
     "data": {
      "text/html": [
       "<div>\n",
       "<table border=\"1\" class=\"dataframe\">\n",
       "  <thead>\n",
       "    <tr style=\"text-align: right;\">\n",
       "      <th></th>\n",
       "      <th>gene_id</th>\n",
       "      <th>included</th>\n",
       "      <th>source</th>\n",
       "      <th>total_comparisons</th>\n",
       "    </tr>\n",
       "  </thead>\n",
       "  <tbody>\n",
       "    <tr>\n",
       "      <th>0</th>\n",
       "      <td>Cre01.g000350.t1.1</td>\n",
       "      <td>0</td>\n",
       "      <td>Hemme_2014</td>\n",
       "      <td>1</td>\n",
       "    </tr>\n",
       "    <tr>\n",
       "      <th>1</th>\n",
       "      <td>Cre01.g000850.t1.2</td>\n",
       "      <td>0</td>\n",
       "      <td>Hemme_2014</td>\n",
       "      <td>1</td>\n",
       "    </tr>\n",
       "    <tr>\n",
       "      <th>2</th>\n",
       "      <td>Cre01.g001100.t1.2</td>\n",
       "      <td>0</td>\n",
       "      <td>Hemme_2014</td>\n",
       "      <td>1</td>\n",
       "    </tr>\n",
       "    <tr>\n",
       "      <th>3</th>\n",
       "      <td>Cre01.g001300.t1.1</td>\n",
       "      <td>0</td>\n",
       "      <td>Hemme_2014</td>\n",
       "      <td>1</td>\n",
       "    </tr>\n",
       "    <tr>\n",
       "      <th>4</th>\n",
       "      <td>Cre01.g002300.t1.2</td>\n",
       "      <td>0</td>\n",
       "      <td>Hemme_2014</td>\n",
       "      <td>1</td>\n",
       "    </tr>\n",
       "  </tbody>\n",
       "</table>\n",
       "</div>"
      ],
      "text/plain": [
       "              gene_id  included      source  total_comparisons\n",
       "0  Cre01.g000350.t1.1         0  Hemme_2014                  1\n",
       "1  Cre01.g000850.t1.2         0  Hemme_2014                  1\n",
       "2  Cre01.g001100.t1.2         0  Hemme_2014                  1\n",
       "3  Cre01.g001300.t1.1         0  Hemme_2014                  1\n",
       "4  Cre01.g002300.t1.2         0  Hemme_2014                  1"
      ]
     },
     "execution_count": 2,
     "metadata": {},
     "output_type": "execute_result"
    }
   ],
   "source": [
    "#p = open(\"../../data/intermediate_data_02/matches\", \"rb\")\n",
    "matches = pd.read_pickle(\"../../data/intermediate_data_02/matches\").drop_duplicates()\n",
    "matches[:5]"
   ]
  },
  {
   "cell_type": "code",
   "execution_count": 3,
   "metadata": {},
   "outputs": [],
   "source": [
    "matches.columns = ['transcript_id', 'num_detected', 'source', 'num_sampled']\n",
    "matches.num_sampled = float(1)\n",
    "matches['annotation_version']='v5.5'\n",
    "matches.num_detected = matches.num_detected.apply(lambda x: float(1) if x > 0 else float(0))\n",
    "#matches.num_sampled = matches.num_sampled.apply(lambda x: float(x))\n",
    "matches['num_manipulated'] = float(0)\n",
    "##matches[:5]"
   ]
  },
  {
   "cell_type": "markdown",
   "metadata": {},
   "source": [
    "# primary_data"
   ]
  },
  {
   "cell_type": "code",
   "execution_count": 4,
   "metadata": {},
   "outputs": [
    {
     "name": "stderr",
     "output_type": "stream",
     "text": [
      "/usr/local/lib/python3.5/site-packages/ipykernel_launcher.py:4: UserWarning: Boolean Series key will be reindexed to match DataFrame index.\n",
      "  after removing the cwd from sys.path.\n"
     ]
    },
    {
     "data": {
      "text/html": [
       "<div>\n",
       "<table border=\"1\" class=\"dataframe\">\n",
       "  <thead>\n",
       "    <tr style=\"text-align: right;\">\n",
       "      <th></th>\n",
       "      <th>Genus</th>\n",
       "      <th>Species</th>\n",
       "      <th>First_author</th>\n",
       "      <th>Publication_year</th>\n",
       "      <th>Type_of_study</th>\n",
       "      <th>Genes_sampled</th>\n",
       "      <th>Genes_manipulated</th>\n",
       "      <th>Genes_with_effect</th>\n",
       "      <th>Genes_no_effect</th>\n",
       "    </tr>\n",
       "  </thead>\n",
       "  <tbody>\n",
       "    <tr>\n",
       "      <th>1</th>\n",
       "      <td>Chlamydomonas</td>\n",
       "      <td>reinhardtii</td>\n",
       "      <td>Lv</td>\n",
       "      <td>2013</td>\n",
       "      <td>knock_out; transcriptomics</td>\n",
       "      <td>NaN</td>\n",
       "      <td>Cre05.g248150.t1; Cre06.g299050.t1.2</td>\n",
       "      <td>Cre06.g299050.t1.2</td>\n",
       "      <td>Cre05.g248150.t1</td>\n",
       "    </tr>\n",
       "    <tr>\n",
       "      <th>5</th>\n",
       "      <td>Chlamydomonas</td>\n",
       "      <td>reinhardtii</td>\n",
       "      <td>Miller</td>\n",
       "      <td>2010</td>\n",
       "      <td>transcriptomics</td>\n",
       "      <td>NaN</td>\n",
       "      <td>NaN</td>\n",
       "      <td>NaN</td>\n",
       "      <td>NaN</td>\n",
       "    </tr>\n",
       "    <tr>\n",
       "      <th>7</th>\n",
       "      <td>Chlamydomonas</td>\n",
       "      <td>reinhardtii</td>\n",
       "      <td>Kwak</td>\n",
       "      <td>2017</td>\n",
       "      <td>transcriptomics</td>\n",
       "      <td>NaN</td>\n",
       "      <td>NaN</td>\n",
       "      <td>NaN</td>\n",
       "      <td>NaN</td>\n",
       "    </tr>\n",
       "  </tbody>\n",
       "</table>\n",
       "</div>"
      ],
      "text/plain": [
       "           Genus      Species First_author  Publication_year  \\\n",
       "1  Chlamydomonas  reinhardtii           Lv              2013   \n",
       "5  Chlamydomonas  reinhardtii       Miller              2010   \n",
       "7  Chlamydomonas  reinhardtii         Kwak              2017   \n",
       "\n",
       "                Type_of_study Genes_sampled  \\\n",
       "1  knock_out; transcriptomics           NaN   \n",
       "5             transcriptomics           NaN   \n",
       "7             transcriptomics           NaN   \n",
       "\n",
       "                      Genes_manipulated   Genes_with_effect   Genes_no_effect  \n",
       "1  Cre05.g248150.t1; Cre06.g299050.t1.2  Cre06.g299050.t1.2  Cre05.g248150.t1  \n",
       "5                                   NaN                 NaN               NaN  \n",
       "7                                   NaN                 NaN               NaN  "
      ]
     },
     "execution_count": 4,
     "metadata": {},
     "output_type": "execute_result"
    }
   ],
   "source": [
    "primary_data = pd.read_excel(\"../../data/raw_data/Summary_of_primary_data.xlsx\", 'Sheet1')\n",
    "primary_data = primary_data[['Genus', 'Species','First_author','Publication_year','Type_of_study','Genes_sampled','Genes_manipulated', 'Genes_with_effect',\"Genes_no_effect\"]]\n",
    "primary_data[:3]\n",
    "subset = primary_data[primary_data.Genus=='Chlamydomonas'][primary_data.Species=='reinhardtii']\n",
    "subset[:3]"
   ]
  },
  {
   "cell_type": "code",
   "execution_count": 5,
   "metadata": {},
   "outputs": [
    {
     "data": {
      "text/html": [
       "<div>\n",
       "<table border=\"1\" class=\"dataframe\">\n",
       "  <thead>\n",
       "    <tr style=\"text-align: right;\">\n",
       "      <th></th>\n",
       "      <th>Genus</th>\n",
       "      <th>Species</th>\n",
       "      <th>First_author</th>\n",
       "      <th>Publication_year</th>\n",
       "      <th>Type_of_study</th>\n",
       "      <th>Genes_sampled</th>\n",
       "      <th>Genes_manipulated</th>\n",
       "      <th>Genes_with_effect</th>\n",
       "      <th>Genes_no_effect</th>\n",
       "    </tr>\n",
       "  </thead>\n",
       "  <tbody>\n",
       "    <tr>\n",
       "      <th>1</th>\n",
       "      <td>Chlamydomonas</td>\n",
       "      <td>reinhardtii</td>\n",
       "      <td>Lv</td>\n",
       "      <td>2013</td>\n",
       "      <td>(knock_out, transcriptomics)</td>\n",
       "      <td>NaN</td>\n",
       "      <td>(Cre05.g248150.t1, Cre06.g299050.t1.2)</td>\n",
       "      <td>(Cre06.g299050.t1.2,)</td>\n",
       "      <td>(Cre05.g248150.t1,)</td>\n",
       "    </tr>\n",
       "    <tr>\n",
       "      <th>5</th>\n",
       "      <td>Chlamydomonas</td>\n",
       "      <td>reinhardtii</td>\n",
       "      <td>Miller</td>\n",
       "      <td>2010</td>\n",
       "      <td>(transcriptomics,)</td>\n",
       "      <td>NaN</td>\n",
       "      <td>NaN</td>\n",
       "      <td>NaN</td>\n",
       "      <td>NaN</td>\n",
       "    </tr>\n",
       "    <tr>\n",
       "      <th>7</th>\n",
       "      <td>Chlamydomonas</td>\n",
       "      <td>reinhardtii</td>\n",
       "      <td>Kwak</td>\n",
       "      <td>2017</td>\n",
       "      <td>(transcriptomics,)</td>\n",
       "      <td>NaN</td>\n",
       "      <td>NaN</td>\n",
       "      <td>NaN</td>\n",
       "      <td>NaN</td>\n",
       "    </tr>\n",
       "    <tr>\n",
       "      <th>8</th>\n",
       "      <td>Chlamydomonas</td>\n",
       "      <td>reinhardtii</td>\n",
       "      <td>Siaut</td>\n",
       "      <td>2011</td>\n",
       "      <td>(knock_out,)</td>\n",
       "      <td>NaN</td>\n",
       "      <td>(STA1, STA6, STA7, STA8)</td>\n",
       "      <td>(STA1, STA6, STA7, STA8)</td>\n",
       "      <td>NaN</td>\n",
       "    </tr>\n",
       "    <tr>\n",
       "      <th>9</th>\n",
       "      <td>Chlamydomonas</td>\n",
       "      <td>reinhardtii</td>\n",
       "      <td>Wang</td>\n",
       "      <td>2009</td>\n",
       "      <td>(knock_out,)</td>\n",
       "      <td>NaN</td>\n",
       "      <td>(STA6,)</td>\n",
       "      <td>(STA6,)</td>\n",
       "      <td>NaN</td>\n",
       "    </tr>\n",
       "  </tbody>\n",
       "</table>\n",
       "</div>"
      ],
      "text/plain": [
       "           Genus      Species First_author  Publication_year  \\\n",
       "1  Chlamydomonas  reinhardtii           Lv              2013   \n",
       "5  Chlamydomonas  reinhardtii       Miller              2010   \n",
       "7  Chlamydomonas  reinhardtii         Kwak              2017   \n",
       "8  Chlamydomonas  reinhardtii        Siaut              2011   \n",
       "9  Chlamydomonas  reinhardtii         Wang              2009   \n",
       "\n",
       "                  Type_of_study Genes_sampled  \\\n",
       "1  (knock_out, transcriptomics)           NaN   \n",
       "5            (transcriptomics,)           NaN   \n",
       "7            (transcriptomics,)           NaN   \n",
       "8                  (knock_out,)           NaN   \n",
       "9                  (knock_out,)           NaN   \n",
       "\n",
       "                        Genes_manipulated         Genes_with_effect  \\\n",
       "1  (Cre05.g248150.t1, Cre06.g299050.t1.2)     (Cre06.g299050.t1.2,)   \n",
       "5                                     NaN                       NaN   \n",
       "7                                     NaN                       NaN   \n",
       "8                (STA1, STA6, STA7, STA8)  (STA1, STA6, STA7, STA8)   \n",
       "9                                 (STA6,)                   (STA6,)   \n",
       "\n",
       "       Genes_no_effect  \n",
       "1  (Cre05.g248150.t1,)  \n",
       "5                  NaN  \n",
       "7                  NaN  \n",
       "8                  NaN  \n",
       "9                  NaN  "
      ]
     },
     "execution_count": 5,
     "metadata": {},
     "output_type": "execute_result"
    }
   ],
   "source": [
    "for col in subset.columns[4:]:\n",
    "    subset[col] = subset[col].apply(lambda x: tuple(x.split(\"; \")) if isinstance(x,str) else np.NaN) \n",
    "subset.head()"
   ]
  },
  {
   "cell_type": "code",
   "execution_count": 6,
   "metadata": {},
   "outputs": [
    {
     "name": "stdout",
     "output_type": "stream",
     "text": [
      "Index(['Genus', 'Species', 'First_author', 'Publication_year', 'Type_of_study',\n",
      "       'Genes_sampled', 'Genes_manipulated', 'Genes_with_effect',\n",
      "       'Genes_no_effect'],\n",
      "      dtype='object')\n"
     ]
    }
   ],
   "source": [
    "print(subset.columns)"
   ]
  },
  {
   "cell_type": "markdown",
   "metadata": {},
   "source": [
    "#### Convert `20201019_sampled_genes_key.csv` to dictionary format with `symbol` as keys and `transcript_id` as values"
   ]
  },
  {
   "cell_type": "code",
   "execution_count": 7,
   "metadata": {},
   "outputs": [
    {
     "name": "stdout",
     "output_type": "stream",
     "text": [
      "                                              source symbol  \\\n",
      "0  Sim, L., Beeren, S. R., Findinier, J., Dauvill...   STA8   \n",
      "1                                        Phytozome12   APL1   \n",
      "2                                        Phytozome12  PEPC1   \n",
      "3                                              Query   NRR1   \n",
      "4                                              Query   SQD1   \n",
      "\n",
      "        transcript_id  \n",
      "0  Cre17.g698850.t1.1  \n",
      "1  Cre16.g683450.t1.1  \n",
      "2       Cre16.g673852  \n",
      "3  Cre16.g673250.t1.1  \n",
      "4  Cre16.g656400.t1.2  \n",
      "[('CsnRK2', 'Cre10.g466350'), ('ACS2', 'Cre01.g055408.t1.1'), ('FEA1', 'Cre12.g546550.t1.1'), ('KAR', 'Cre03.g172000.t1.2'), ('SQD1', 'Cre16.g656400.t1.2')]\n"
     ]
    }
   ],
   "source": [
    "sampled_genes_key = pd.read_csv(\"../01_compile_raw_data/20201019_sampled_genes_key.csv\")\n",
    "print(sampled_genes_key.head())\n",
    "#print()\n",
    "key = dict(zip(sampled_genes_key.symbol, sampled_genes_key.transcript_id))\n",
    "print(list(key.items())[:5])"
   ]
  },
  {
   "cell_type": "code",
   "execution_count": 8,
   "metadata": {},
   "outputs": [],
   "source": [
    "transformed_subset = pd.DataFrame(columns = ['transcript_id','num_sampled', 'num_manipulated', 'num_detected', 'source'])\n",
    "for index, row in subset.iterrows():\n",
    "    source = row.First_author + \"_\" + str(row.Publication_year)\n",
    "    for i in range(0,3): \n",
    "        if type(row[i+5]) != float:\n",
    "            for gene in row[i+5]: #Genes_sampled\n",
    "                output = [0]*(i)+[1]+[0]*(2-i)\n",
    "                try: \n",
    "                    gene = key[re.sub(r\" |;\",\"\", gene)]\n",
    "                except: gene = re.sub(r\" |;\",\"\", gene)\n",
    "                output = pd.Series([gene]+output+[source], index = transformed_subset.columns)\n",
    "                transformed_subset = transformed_subset.append(output, ignore_index = True)\n",
    "                #print(output)"
   ]
  },
  {
   "cell_type": "code",
   "execution_count": 9,
   "metadata": {},
   "outputs": [],
   "source": [
    "transformed_subset['annotation_version'] = 'v5.5'"
   ]
  },
  {
   "cell_type": "code",
   "execution_count": 10,
   "metadata": {},
   "outputs": [
    {
     "data": {
      "text/html": [
       "<div>\n",
       "<table border=\"1\" class=\"dataframe\">\n",
       "  <thead>\n",
       "    <tr style=\"text-align: right;\">\n",
       "      <th></th>\n",
       "      <th>transcript_id</th>\n",
       "      <th>num_sampled</th>\n",
       "      <th>num_manipulated</th>\n",
       "      <th>num_detected</th>\n",
       "      <th>source</th>\n",
       "      <th>annotation_version</th>\n",
       "    </tr>\n",
       "  </thead>\n",
       "  <tbody>\n",
       "    <tr>\n",
       "      <th>0</th>\n",
       "      <td>Cre05.g248150.t1.2</td>\n",
       "      <td>0.0</td>\n",
       "      <td>1.0</td>\n",
       "      <td>0.0</td>\n",
       "      <td>Lv_2013</td>\n",
       "      <td>v5.5</td>\n",
       "    </tr>\n",
       "    <tr>\n",
       "      <th>1</th>\n",
       "      <td>Cre06.g299050.t1.2</td>\n",
       "      <td>0.0</td>\n",
       "      <td>1.0</td>\n",
       "      <td>0.0</td>\n",
       "      <td>Lv_2013</td>\n",
       "      <td>v5.5</td>\n",
       "    </tr>\n",
       "    <tr>\n",
       "      <th>2</th>\n",
       "      <td>Cre06.g299050.t1.2</td>\n",
       "      <td>0.0</td>\n",
       "      <td>0.0</td>\n",
       "      <td>1.0</td>\n",
       "      <td>Lv_2013</td>\n",
       "      <td>v5.5</td>\n",
       "    </tr>\n",
       "    <tr>\n",
       "      <th>3</th>\n",
       "      <td>Cre13.g567950.t1.2</td>\n",
       "      <td>0.0</td>\n",
       "      <td>1.0</td>\n",
       "      <td>0.0</td>\n",
       "      <td>Siaut_2011</td>\n",
       "      <td>v5.5</td>\n",
       "    </tr>\n",
       "    <tr>\n",
       "      <th>4</th>\n",
       "      <td>Cre03.g188250.t1.2</td>\n",
       "      <td>0.0</td>\n",
       "      <td>1.0</td>\n",
       "      <td>0.0</td>\n",
       "      <td>Siaut_2011</td>\n",
       "      <td>v5.5</td>\n",
       "    </tr>\n",
       "  </tbody>\n",
       "</table>\n",
       "</div>"
      ],
      "text/plain": [
       "        transcript_id  num_sampled  num_manipulated  num_detected      source  \\\n",
       "0  Cre05.g248150.t1.2          0.0              1.0           0.0     Lv_2013   \n",
       "1  Cre06.g299050.t1.2          0.0              1.0           0.0     Lv_2013   \n",
       "2  Cre06.g299050.t1.2          0.0              0.0           1.0     Lv_2013   \n",
       "3  Cre13.g567950.t1.2          0.0              1.0           0.0  Siaut_2011   \n",
       "4  Cre03.g188250.t1.2          0.0              1.0           0.0  Siaut_2011   \n",
       "\n",
       "  annotation_version  \n",
       "0               v5.5  \n",
       "1               v5.5  \n",
       "2               v5.5  \n",
       "3               v5.5  \n",
       "4               v5.5  "
      ]
     },
     "execution_count": 10,
     "metadata": {},
     "output_type": "execute_result"
    }
   ],
   "source": [
    "transformed_subset.head()"
   ]
  },
  {
   "cell_type": "markdown",
   "metadata": {},
   "source": [
    "### Merge matches and primary_data to one dataframe"
   ]
  },
  {
   "cell_type": "code",
   "execution_count": 11,
   "metadata": {},
   "outputs": [
    {
     "name": "stdout",
     "output_type": "stream",
     "text": [
      "                                  num_detected  num_sampled  num_manipulated\n",
      "transcript_id      source                                                   \n",
      "Cre01.g000017.t1.1 Bajhaiya_2016           0.0          1.0              0.0\n",
      "                   Kwak_2017               0.0          1.0              0.0\n",
      "Cre01.g000033.t1.1 Bajhaiya_2016           1.0          1.0              0.0\n"
     ]
    }
   ],
   "source": [
    "merged = pd.concat([transformed_subset, matches], ignore_index=True)\n",
    "grouped = matches.groupby(['transcript_id', 'source']).sum()\n",
    "print(grouped[:3])"
   ]
  },
  {
   "cell_type": "code",
   "execution_count": 12,
   "metadata": {},
   "outputs": [
    {
     "data": {
      "text/html": [
       "<div>\n",
       "<table border=\"1\" class=\"dataframe\">\n",
       "  <thead>\n",
       "    <tr style=\"text-align: right;\">\n",
       "      <th></th>\n",
       "      <th>transcript_id</th>\n",
       "      <th>source</th>\n",
       "      <th>num_detected</th>\n",
       "      <th>num_manipulated</th>\n",
       "      <th>num_sampled</th>\n",
       "    </tr>\n",
       "  </thead>\n",
       "  <tbody>\n",
       "    <tr>\n",
       "      <th>0</th>\n",
       "      <td>Cre01.g000017.t1.1</td>\n",
       "      <td>Bajhaiya_2016</td>\n",
       "      <td>0.0</td>\n",
       "      <td>0.0</td>\n",
       "      <td>1.0</td>\n",
       "    </tr>\n",
       "    <tr>\n",
       "      <th>1</th>\n",
       "      <td>Cre01.g000017.t1.1</td>\n",
       "      <td>Kwak_2017</td>\n",
       "      <td>0.0</td>\n",
       "      <td>0.0</td>\n",
       "      <td>1.0</td>\n",
       "    </tr>\n",
       "    <tr>\n",
       "      <th>2</th>\n",
       "      <td>Cre01.g000033.t1.1</td>\n",
       "      <td>Bajhaiya_2016</td>\n",
       "      <td>1.0</td>\n",
       "      <td>0.0</td>\n",
       "      <td>1.0</td>\n",
       "    </tr>\n",
       "    <tr>\n",
       "      <th>3</th>\n",
       "      <td>Cre01.g000050.t1.1</td>\n",
       "      <td>Gargouri_2015</td>\n",
       "      <td>0.0</td>\n",
       "      <td>0.0</td>\n",
       "      <td>1.0</td>\n",
       "    </tr>\n",
       "    <tr>\n",
       "      <th>4</th>\n",
       "      <td>Cre01.g000100.t1.1</td>\n",
       "      <td>Bajhaiya_2016</td>\n",
       "      <td>0.0</td>\n",
       "      <td>0.0</td>\n",
       "      <td>1.0</td>\n",
       "    </tr>\n",
       "  </tbody>\n",
       "</table>\n",
       "</div>"
      ],
      "text/plain": [
       "        transcript_id         source  num_detected  num_manipulated  \\\n",
       "0  Cre01.g000017.t1.1  Bajhaiya_2016           0.0              0.0   \n",
       "1  Cre01.g000017.t1.1      Kwak_2017           0.0              0.0   \n",
       "2  Cre01.g000033.t1.1  Bajhaiya_2016           1.0              0.0   \n",
       "3  Cre01.g000050.t1.1  Gargouri_2015           0.0              0.0   \n",
       "4  Cre01.g000100.t1.1  Bajhaiya_2016           0.0              0.0   \n",
       "\n",
       "   num_sampled  \n",
       "0          1.0  \n",
       "1          1.0  \n",
       "2          1.0  \n",
       "3          1.0  \n",
       "4          1.0  "
      ]
     },
     "execution_count": 12,
     "metadata": {},
     "output_type": "execute_result"
    }
   ],
   "source": [
    "transcript_list = [list(i)[0] for i in grouped.index]\n",
    "source_list = [list(i)[1] for i in grouped.index]\n",
    "\n",
    "df= pd.DataFrame.from_dict({\"num_detected\": grouped.num_detected,\n",
    "                            \"num_sampled\": grouped.num_sampled,\n",
    "                            'num_manipulated': grouped.num_manipulated}).reset_index()\n",
    "df.head()"
   ]
  },
  {
   "cell_type": "code",
   "execution_count": 13,
   "metadata": {},
   "outputs": [
    {
     "data": {
      "text/html": [
       "<div>\n",
       "<table border=\"1\" class=\"dataframe\">\n",
       "  <thead>\n",
       "    <tr style=\"text-align: right;\">\n",
       "      <th></th>\n",
       "      <th>transcript_id</th>\n",
       "      <th>source</th>\n",
       "      <th>num_detected</th>\n",
       "      <th>num_manipulated</th>\n",
       "      <th>num_sampled</th>\n",
       "    </tr>\n",
       "  </thead>\n",
       "  <tbody>\n",
       "  </tbody>\n",
       "</table>\n",
       "</div>"
      ],
      "text/plain": [
       "Empty DataFrame\n",
       "Columns: [transcript_id, source, num_detected, num_manipulated, num_sampled]\n",
       "Index: []"
      ]
     },
     "execution_count": 13,
     "metadata": {},
     "output_type": "execute_result"
    }
   ],
   "source": [
    "#Check if any num_detected > num_sampled, because this shouldn't happen\n",
    "df[df.num_detected>df.num_sampled]"
   ]
  },
  {
   "cell_type": "code",
   "execution_count": 14,
   "metadata": {},
   "outputs": [],
   "source": [
    "with open(\"../../data/intermediate_data_02/sampled_genes.pk\", \"wb\") as f:\n",
    "    pickle.dump(df, f)"
   ]
  }
 ],
 "metadata": {
  "kernelspec": {
   "display_name": "Python 3",
   "language": "python",
   "name": "python3"
  },
  "language_info": {
   "codemirror_mode": {
    "name": "ipython",
    "version": 3
   },
   "file_extension": ".py",
   "mimetype": "text/x-python",
   "name": "python",
   "nbconvert_exporter": "python",
   "pygments_lexer": "ipython3",
   "version": "3.5.1"
  }
 },
 "nbformat": 4,
 "nbformat_minor": 2
}
