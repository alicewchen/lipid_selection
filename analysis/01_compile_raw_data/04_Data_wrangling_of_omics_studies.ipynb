{
 "cells": [
  {
   "cell_type": "markdown",
   "metadata": {},
   "source": [
    "# Data wrangle omics studies and Summary_of_primary_data.csv"
   ]
  },
  {
   "cell_type": "code",
   "execution_count": null,
   "metadata": {},
   "outputs": [],
   "source": [
    "import pickle\n",
    "import random\n",
    "import pandas as pd\n",
    "import numpy as np\n",
    "import statistics as stats\n",
    "from matplotlib import pyplot as plt\n",
    "import time\n",
    "import re"
   ]
  },
  {
   "cell_type": "markdown",
   "metadata": {},
   "source": [
    "# omics studies"
   ]
  },
  {
   "cell_type": "code",
   "execution_count": null,
   "metadata": {},
   "outputs": [],
   "source": [
    "#p = open(\"../../data/intermediate_data_02/matches\", \"rb\")\n",
    "matches = pd.read_pickle(\"../../data/intermediate_data_02/matches\").drop_duplicates()\n",
    "matches[:5]"
   ]
  },
  {
   "cell_type": "code",
   "execution_count": null,
   "metadata": {},
   "outputs": [],
   "source": [
    "matches.columns = ['transcript_id', 'num_detected', 'source', 'num_sampled']\n",
    "matches.num_sampled = float(1)\n",
    "matches['annotation_version']='v5.5'\n",
    "matches.num_detected = matches.num_detected.apply(lambda x: float(1) if x > 0 else float(0))\n",
    "#matches.num_sampled = matches.num_sampled.apply(lambda x: float(x))\n",
    "matches['num_manipulated'] = float(0)\n",
    "matches[:5]"
   ]
  },
  {
   "cell_type": "markdown",
   "metadata": {},
   "source": [
    "# primary_data"
   ]
  },
  {
   "cell_type": "code",
   "execution_count": null,
   "metadata": {},
   "outputs": [],
   "source": [
    "primary_data = pd.read_excel(\"../../data/raw_data/Summary_of_primary_data.xlsx\", 'Sheet1')\n",
    "primary_data = primary_data[['Genus', 'Species','First_author','Publication_year','Type_of_study','Genes_sampled','Genes_manipulated', 'Genes_with_effect',\"Genes_no_effect\"]]\n",
    "primary_data[:3]\n",
    "subset = primary_data[primary_data.Genus=='Chlamydomonas'][primary_data.Species=='reinhardtii']\n",
    "subset[:3]"
   ]
  },
  {
   "cell_type": "code",
   "execution_count": null,
   "metadata": {},
   "outputs": [],
   "source": [
    "for col in subset.columns[4:]:\n",
    "    subset[col] = subset[col].apply(lambda x: tuple(x.split(\"; \")) if isinstance(x,str) else np.NaN) \n",
    "subset.head()"
   ]
  },
  {
   "cell_type": "code",
   "execution_count": null,
   "metadata": {},
   "outputs": [],
   "source": [
    "print(subset.columns)"
   ]
  },
  {
   "cell_type": "markdown",
   "metadata": {},
   "source": [
    "#### Convert `20201019_sampled_genes_key.csv` to dictionary format with `symbol` as keys and `transcript_id` as values"
   ]
  },
  {
   "cell_type": "code",
   "execution_count": null,
   "metadata": {},
   "outputs": [],
   "source": [
    "sampled_genes_key = pd.read_csv(\"../01_compile_raw_data/20201019_sampled_genes_key.csv\")\n",
    "print(sampled_genes_key.head())\n",
    "#print()\n",
    "key = dict(zip(sampled_genes_key.symbol, sampled_genes_key.transcript_id))\n",
    "print(list(key.items())[:5])"
   ]
  },
  {
   "cell_type": "code",
   "execution_count": null,
   "metadata": {},
   "outputs": [],
   "source": [
    "transformed_subset = pd.DataFrame(columns = ['transcript_id','num_sampled', 'num_manipulated', 'num_detected', 'source'])\n",
    "for index, row in subset.iterrows():\n",
    "    source = row.First_author + \"_\" + str(row.Publication_year)\n",
    "    for i in range(0,3): \n",
    "        if type(row[i+5]) != float:\n",
    "            for gene in row[i+5]: #Genes_sampled\n",
    "                output = [0]*(i)+[1]+[0]*(2-i)\n",
    "                try: \n",
    "                    gene = key[re.sub(r\" |;\",\"\", gene)]\n",
    "                except: gene = re.sub(r\" |;\",\"\", gene)\n",
    "                output = pd.Series([gene]+output+[source], index = transformed_subset.columns)\n",
    "                transformed_subset = transformed_subset.append(output, ignore_index = True)\n",
    "                #print(output)"
   ]
  },
  {
   "cell_type": "code",
   "execution_count": null,
   "metadata": {},
   "outputs": [],
   "source": [
    "transformed_subset['annotation_version'] = 'v5.5'\n",
    "transformed_subset['num_sampled'] = transformed_subset.apply(lambda x: x.num_detected if x.num_detected >0 else x.num_manipulated, axis = 1)"
   ]
  },
  {
   "cell_type": "markdown",
   "metadata": {},
   "source": [
    "### Merge matches and primary_data to one dataframe"
   ]
  },
  {
   "cell_type": "code",
   "execution_count": null,
   "metadata": {},
   "outputs": [],
   "source": [
    "merged = pd.concat([transformed_subset, matches], ignore_index=True)\n",
    "grouped = merged.groupby(['transcript_id', 'source']).sum()\n",
    "print(grouped[:3])"
   ]
  },
  {
   "cell_type": "code",
   "execution_count": null,
   "metadata": {},
   "outputs": [],
   "source": [
    "transcript_list = [list(i)[0] for i in grouped.index]\n",
    "source_list = [list(i)[1] for i in grouped.index]\n",
    "\n",
    "df= pd.DataFrame.from_dict({\"num_detected\": grouped.num_detected,\n",
    "                            \"num_sampled\": grouped.num_sampled,\n",
    "                            'num_manipulated': grouped.num_manipulated}).reset_index()\n",
    "df.head()"
   ]
  },
  {
   "cell_type": "code",
   "execution_count": null,
   "metadata": {},
   "outputs": [],
   "source": [
    "#Check if any num_detected > num_sampled, because this shouldn't happen\n",
    "df[df.num_detected>df.num_sampled]"
   ]
  },
  {
   "cell_type": "code",
   "execution_count": null,
   "metadata": {},
   "outputs": [],
   "source": [
    "with open(\"../../data/intermediate_data_02/sampled_genes.pk\", \"wb\") as f:\n",
    "    pickle.dump(df, f)"
   ]
  }
 ],
 "metadata": {
  "kernelspec": {
   "display_name": "Python 3",
   "language": "python",
   "name": "python3"
  },
  "language_info": {
   "codemirror_mode": {
    "name": "ipython",
    "version": 3
   },
   "file_extension": ".py",
   "mimetype": "text/x-python",
   "name": "python",
   "nbconvert_exporter": "python",
   "pygments_lexer": "ipython3",
   "version": "3.9.2"
  }
 },
 "nbformat": 4,
 "nbformat_minor": 4
}
