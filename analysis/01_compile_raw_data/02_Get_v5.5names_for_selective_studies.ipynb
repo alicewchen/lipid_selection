{
 "cells": [
  {
   "cell_type": "markdown",
   "metadata": {},
   "source": [
    "# Get v5.5 names for genes in selective studies"
   ]
  },
  {
   "cell_type": "code",
   "execution_count": 1,
   "metadata": {},
   "outputs": [],
   "source": [
    "import sys\n",
    "sys.path.append(\"../../scripts/\")\n",
    "sys.path.append('/home/chenwe72/local/lib/python3.5/site-packages')"
   ]
  },
  {
   "cell_type": "code",
   "execution_count": 2,
   "metadata": {},
   "outputs": [],
   "source": [
    "import pandas as pd\n",
    "import numpy as np\n",
    "import os\n",
    "import re\n",
    "import time\n",
    "import gzip\n",
    "import Search_algorithms as sag\n",
    "from intermine.webservice import Service\n",
    "import csv"
   ]
  },
  {
   "cell_type": "markdown",
   "metadata": {},
   "source": [
    "### Find matching v5.5 transcript id's based on transcript id (`value`) and `genome_version`"
   ]
  },
  {
   "cell_type": "code",
   "execution_count": 3,
   "metadata": {},
   "outputs": [],
   "source": [
    "#Import key to convert transcript id's between annotation versions (used interchangeably with genome_version in this notebook)\n",
    "file_path='/scratch/research/projects/chlamydomonas/lipid_selection/data/gene_name_conversion/ChlamydomonasTranscriptNameConversionBetweenReleases.Mch12b.txt.gz'\n",
    "with gzip.open(file_path, \"rt\", encoding=\"utf-8\") as z:\n",
    "    conversion_key = pd.read_csv(z, delimiter = r\"\\s+\",skiprows = 1, na_values = \"--\")\n",
    "    conversion_key.columns = ['5.5', '3.1', 'Genbank', '4', '4.3', 'u5', 'u9', '5.3.1']\n",
    "#conversion_key = conversion_key[['5.5', genome_version ]].dropna()"
   ]
  },
  {
   "cell_type": "code",
   "execution_count": 4,
   "metadata": {},
   "outputs": [
    {
     "data": {
      "text/html": [
       "<div>\n",
       "<table border=\"1\" class=\"dataframe\">\n",
       "  <thead>\n",
       "    <tr style=\"text-align: right;\">\n",
       "      <th></th>\n",
       "      <th>5.5</th>\n",
       "      <th>Genbank</th>\n",
       "    </tr>\n",
       "  </thead>\n",
       "  <tbody>\n",
       "  </tbody>\n",
       "</table>\n",
       "</div>"
      ],
      "text/plain": [
       "Empty DataFrame\n",
       "Columns: [5.5, Genbank]\n",
       "Index: []"
      ]
     },
     "execution_count": 4,
     "metadata": {},
     "output_type": "execute_result"
    }
   ],
   "source": [
    "#Modify this cell to find matching v5.5 transcript id's based on transcript id (value) and genome_version\n",
    "value = '484000'\n",
    "genome_version = 'Genbank'\n",
    "#re.match(value, x)\n",
    "temp = conversion_key[['5.5', genome_version ]].dropna()\n",
    "temp[temp[genome_version].str.contains(value)]"
   ]
  },
  {
   "cell_type": "code",
   "execution_count": 5,
   "metadata": {},
   "outputs": [
    {
     "data": {
      "text/html": [
       "<div>\n",
       "<table border=\"1\" class=\"dataframe\">\n",
       "  <thead>\n",
       "    <tr style=\"text-align: right;\">\n",
       "      <th></th>\n",
       "      <th>5.5</th>\n",
       "    </tr>\n",
       "  </thead>\n",
       "  <tbody>\n",
       "    <tr>\n",
       "      <th>12751</th>\n",
       "      <td>Cre12.g484000.t1.2</td>\n",
       "    </tr>\n",
       "  </tbody>\n",
       "</table>\n",
       "</div>"
      ],
      "text/plain": [
       "                      5.5\n",
       "12751  Cre12.g484000.t1.2"
      ]
     },
     "execution_count": 5,
     "metadata": {},
     "output_type": "execute_result"
    }
   ],
   "source": [
    "#Modify value to find matching full transcript id in annotation v5.5\n",
    "value = '484000'\n",
    "temp = conversion_key[['5.5']].dropna()\n",
    "temp[temp['5.5'].str.contains(value)]"
   ]
  },
  {
   "cell_type": "markdown",
   "metadata": {},
   "source": [
    "### Compile list of genes sampled in selective studies "
   ]
  },
  {
   "cell_type": "code",
   "execution_count": 6,
   "metadata": {},
   "outputs": [],
   "source": [
    "df1 = pd.read_excel(\"../../data/raw_data/Summary_of_primary_data.xlsx\", 'Sheet1')\n",
    "df = df1[['Genes_sampled','Genes_manipulated', 'Genes_with_effect',\"Genes_no_effect\"]]\n",
    "temp = []\n",
    "for col in df.columns:\n",
    "    temp += list(df[col].dropna())\n",
    "genes_to_lookup=[]\n",
    "for i in temp:\n",
    "    ls = i.split(\"; \")\n",
    "    ls = [i.replace(\" \",\"\") for i in ls]\n",
    "    genes_to_lookup += ls\n",
    "genes_to_lookup = list(np.unique(genes_to_lookup))"
   ]
  },
  {
   "cell_type": "code",
   "execution_count": 7,
   "metadata": {},
   "outputs": [
    {
     "name": "stdout",
     "output_type": "stream",
     "text": [
      "['ACC', 'ACP', 'ACS2', 'ACT1', 'AMT1D', 'APL1', 'ARG7', 'ARG9', 'BCX1', 'CAH1']\n",
      "77\n"
     ]
    }
   ],
   "source": [
    "print(genes_to_lookup[:10])\n",
    "print(len(genes_to_lookup))"
   ]
  },
  {
   "cell_type": "markdown",
   "metadata": {},
   "source": [
    "### Query Chlamy genes using Phytozome12"
   ]
  },
  {
   "cell_type": "code",
   "execution_count": 8,
   "metadata": {},
   "outputs": [],
   "source": [
    "#Query Chlamy genes from Phytozome12\n",
    "#sys.path.append('/home/chenwe72/local/lib/python3.5/site-packages')\n",
    "#from intermine.webservice import Service\n",
    "#import csv\n",
    "\n",
    "service = Service(\"https://phytozome.jgi.doe.gov/phytomine/service\")\n",
    "\n",
    "query_results = {}\n",
    "transcript_id = []\n",
    "symbol = []\n",
    "no_matching_symbol = []\n",
    "\n",
    "for i in genes_to_lookup:\n",
    "    query = service.new_query(\"Transcript\")\n",
    "    query.add_view(\"primaryIdentifier\", \"gene.symbol\")\n",
    "    query.add_constraint(\"organism\", \"LOOKUP\", \"Chlamydomonas reinhardtii\", code = \"A\")\n",
    "    query.add_constraint(\"gene.symbol\", \"CONTAINS\", i, code = \"B\")\n",
    "    if query.count() ==0: no_matching_symbol.append(i)\n",
    "    else:\n",
    "        for row in query.rows():\n",
    "            transcript_id.append(row.values()[10])\n",
    "            symbol.append(row.values()[11])"
   ]
  },
  {
   "cell_type": "code",
   "execution_count": 9,
   "metadata": {},
   "outputs": [],
   "source": [
    "query_results = {'transcript_id': transcript_id+[0]*len(no_matching_symbol),\n",
    "                'symbol': symbol+no_matching_symbol,\n",
    "                'source': \"Query\"}\n",
    "df = pd.DataFrame(query_results)"
   ]
  },
  {
   "cell_type": "code",
   "execution_count": 10,
   "metadata": {},
   "outputs": [
    {
     "name": "stdout",
     "output_type": "stream",
     "text": [
      "Number of genes without matching symbol on Phytozome12:  49\n",
      "Total number of genes queried:  78\n"
     ]
    }
   ],
   "source": [
    "print(\"Number of genes without matching symbol on Phytozome12: \",len(no_matching_symbol))\n",
    "print(\"Total number of genes queried: \", len(df))"
   ]
  },
  {
   "cell_type": "code",
   "execution_count": 12,
   "metadata": {},
   "outputs": [],
   "source": [
    "df.to_csv('05_Get_v5.5names_output/Query_sampled_genes_key.csv', index=False)"
   ]
  },
  {
   "cell_type": "markdown",
   "metadata": {},
   "source": [
    "### Merge updated sampled_genes_key.csv with old version 20200716_sampled_genes_key.csv"
   ]
  },
  {
   "cell_type": "code",
   "execution_count": 13,
   "metadata": {},
   "outputs": [],
   "source": [
    "new_key = pd.read_csv('05_Get_v5.5names_output/Query_sampled_genes_key.csv').dropna()\n",
    "old_key = pd.read_csv('20200716_sampled_genes_key.csv')\n"
   ]
  },
  {
   "cell_type": "code",
   "execution_count": 14,
   "metadata": {},
   "outputs": [
    {
     "name": "stdout",
     "output_type": "stream",
     "text": [
      "  source symbol       transcript_id\n",
      "0  Query   ACP2  Cre13.g577100.t1.2\n",
      "1  Query   ARG7  Cre01.g021251.t1.1\n",
      "2  Query   BCX1  Cre12.g484000.t1.2\n",
      "3  Query   CTR2  Cre10.g434350.t1.1\n",
      "4  Query  DGAT1  Cre01.g045903.t1.1\n"
     ]
    }
   ],
   "source": [
    "new_key.transcript_id = new_key.transcript_id.replace('0', np.NaN)\n",
    "#new_key = new_key.set_index('symbol')\n",
    "print(new_key.head())"
   ]
  },
  {
   "cell_type": "code",
   "execution_count": 15,
   "metadata": {},
   "outputs": [
    {
     "name": "stdout",
     "output_type": "stream",
     "text": [
      "  symbol       transcript_id source\n",
      "0   ACP2  Cre13.g577100.t1.2  Query\n",
      "1   ARG7  Cre01.g021251.t1.1  Query\n",
      "2   BCX1  Cre12.g484000.t1.2  Query\n",
      "3   CTR2  Cre10.g434350.t1.1  Query\n",
      "4  DGAT1  Cre01.g045903.t1.1  Query\n"
     ]
    }
   ],
   "source": [
    "old_key.columns = ['symbol', 'transcript_id', 'source']\n",
    "#old_key = old_key.set_index('symbol')\n",
    "old_key.transcript_id = old_key.transcript_id.replace('0', np.NaN)\n",
    "print(old_key.head())"
   ]
  },
  {
   "cell_type": "code",
   "execution_count": 16,
   "metadata": {},
   "outputs": [
    {
     "name": "stdout",
     "output_type": "stream",
     "text": [
      "  source symbol     transcript_id_x     transcript_id_y\n",
      "0  Query   ACP2  Cre13.g577100.t1.2  Cre13.g577100.t1.2\n",
      "1  Query   ARG7  Cre01.g021251.t1.1  Cre01.g021251.t1.1\n",
      "2  Query   BCX1  Cre12.g484000.t1.2  Cre12.g484000.t1.2\n",
      "3  Query   CTR2  Cre10.g434350.t1.1  Cre10.g434350.t1.1\n",
      "4  Query  DGAT1  Cre01.g045903.t1.1  Cre01.g045903.t1.1\n"
     ]
    }
   ],
   "source": [
    "updated_key = pd.merge(new_key, old_key, on = ['symbol', 'source'], how = 'outer')\n",
    "print (updated_key.head())"
   ]
  },
  {
   "cell_type": "code",
   "execution_count": 17,
   "metadata": {},
   "outputs": [],
   "source": [
    "def get_transcript_id(x,y): \n",
    "    if isinstance(x, str): return x\n",
    "    elif isinstance(y, str): return y\n",
    "    else: return np.NaN\n",
    "updated_key['transcript_id'] = list(map(get_transcript_id, updated_key.transcript_id_x, updated_key.transcript_id_y))"
   ]
  },
  {
   "cell_type": "code",
   "execution_count": 18,
   "metadata": {},
   "outputs": [
    {
     "name": "stdout",
     "output_type": "stream",
     "text": [
      "                                                source symbol  \\\n",
      "118  Sim, L., Beeren, S. R., Findinier, J., Dauvill...   STA8   \n",
      "85                                         Phytozome12   APL1   \n",
      "99                                         Phytozome12  PEPC1   \n",
      "16                                               Query   NRR1   \n",
      "22                                               Query   SQD1   \n",
      "\n",
      "          transcript_id  \n",
      "118  Cre17.g698850.t1.1  \n",
      "85   Cre16.g683450.t1.1  \n",
      "99        Cre16.g673852  \n",
      "16   Cre16.g673250.t1.1  \n",
      "22   Cre16.g656400.t1.2  \n"
     ]
    }
   ],
   "source": [
    "updated_key = updated_key.drop(['transcript_id_x','transcript_id_y'], axis = 1).sort_values(['transcript_id'], ascending=False)\n",
    "updated_key = updated_key.drop_duplicates(subset='symbol', keep='first')\n",
    "print(updated_key.head())\n",
    "updated_key.to_csv('05_Get_v5.5names_output/sampled_genes_key.csv', index=False)"
   ]
  },
  {
   "cell_type": "code",
   "execution_count": null,
   "metadata": {},
   "outputs": [],
   "source": []
  }
 ],
 "metadata": {
  "kernelspec": {
   "display_name": "Python 3",
   "language": "python",
   "name": "python3"
  },
  "language_info": {
   "codemirror_mode": {
    "name": "ipython",
    "version": 3
   },
   "file_extension": ".py",
   "mimetype": "text/x-python",
   "name": "python",
   "nbconvert_exporter": "python",
   "pygments_lexer": "ipython3",
   "version": "3.9.2"
  }
 },
 "nbformat": 4,
 "nbformat_minor": 4
}
