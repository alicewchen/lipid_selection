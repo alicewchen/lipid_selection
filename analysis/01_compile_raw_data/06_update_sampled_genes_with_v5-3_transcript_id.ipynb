{
 "cells": [
  {
   "cell_type": "markdown",
   "metadata": {},
   "source": [
    "# Create a Chlamy annotation v5.3.1 version of `sampled_genes.pk`\n",
    "output: `../../data/intermediate_data_02/sampled_genes.csv`"
   ]
  },
  {
   "cell_type": "code",
   "execution_count": 1,
   "metadata": {},
   "outputs": [],
   "source": [
    "import gzip\n",
    "import pandas as pd\n",
    "import re\n",
    "import time\n",
    "import sys\n",
    "sys.path.append('../../scripts/')\n",
    "import Search_algorithms as sag"
   ]
  },
  {
   "cell_type": "markdown",
   "metadata": {},
   "source": [
    "## 1. Import relevant files\n",
    "\n",
    "#### Transcipt id conversion key\n",
    "Conversion key file path : `/scratch/research/projects/chlamydomonas/lipid_selection/data/gene_name_conversion/ChlamydomonasTranscriptNameConversionBetweenReleases.Mch12b.txt.gz`"
   ]
  },
  {
   "cell_type": "code",
   "execution_count": 2,
   "metadata": {},
   "outputs": [],
   "source": [
    "file_path='/scratch/research/projects/chlamydomonas/lipid_selection/data/gene_name_conversion/ChlamydomonasTranscriptNameConversionBetweenReleases.Mch12b.txt.gz'\n",
    "\n",
    "genome_version = '5.3.1'\n",
    "with gzip.open(file_path, \"rt\", encoding=\"utf-8\") as z:\n",
    "    conversion_key = pd.read_csv(z, delimiter = r\"\\s+\",skiprows = 1, na_values = \"--\")\n",
    "    conversion_key.columns = ['5.5', '3.1', 'Genbank', '4', '4.3', 'u5', 'u9', '5.3.1']\n",
    "    conversion_key = conversion_key[['5.5', genome_version ]].dropna()\n",
    "\n",
    "#sort conversion_key by v5.5 transcript id's\n",
    "conversion_key = conversion_key.sort_values(by = ['5.5'])"
   ]
  },
  {
   "cell_type": "code",
   "execution_count": 3,
   "metadata": {},
   "outputs": [
    {
     "name": "stdout",
     "output_type": "stream",
     "text": [
      "                  5.5               5.3.1\n",
      "0  Cre01.g000017.t1.1               g2.t1\n",
      "1  Cre01.g000033.t1.1               g3.t1\n",
      "2  Cre01.g000050.t1.1  Cre01.g000050.t1.3\n",
      "3  Cre01.g000100.t1.1  Cre01.g000100.t1.3\n",
      "4  Cre01.g000150.t1.2  Cre01.g000150.t1.2\n",
      "5  Cre01.g000200.t1.1  Cre01.g000200.t1.3\n",
      "6  Cre01.g000250.t1.2  Cre01.g000250.t1.2\n",
      "7  Cre01.g000300.t1.1  Cre01.g000300.t1.3\n",
      "8  Cre01.g000350.t1.1  Cre01.g000350.t1.3\n",
      "9  Cre01.g000400.t1.2  Cre01.g000400.t1.2\n"
     ]
    }
   ],
   "source": [
    "print(conversion_key[:10])"
   ]
  },
  {
   "cell_type": "markdown",
   "metadata": {},
   "source": [
    "#### `data/intermediate_data_02/merged.csv`"
   ]
  },
  {
   "cell_type": "code",
   "execution_count": 4,
   "metadata": {},
   "outputs": [],
   "source": [
    "sampled_genes = pd.read_pickle(\"../../data/intermediate_data_02/sampled_genes.pk\")\n",
    "sampled_genes = sampled_genes.sort_values(by = ['transcript_id'])"
   ]
  },
  {
   "cell_type": "code",
   "execution_count": 5,
   "metadata": {},
   "outputs": [
    {
     "name": "stdout",
     "output_type": "stream",
     "text": [
      "Index(['num_detected', 'num_manipulated', 'num_sampled', 'source',\n",
      "       'transcript_id', 'annotation_version', 'gene_id', 'gene_symbol',\n",
      "       'pathway_id'],\n",
      "      dtype='object')\n"
     ]
    }
   ],
   "source": [
    "print(sampled_genes.columns)"
   ]
  },
  {
   "cell_type": "markdown",
   "metadata": {},
   "source": [
    "## 2.1 Binary search method"
   ]
  },
  {
   "cell_type": "code",
   "execution_count": 6,
   "metadata": {},
   "outputs": [
    {
     "name": "stdout",
     "output_type": "stream",
     "text": [
      "4\n",
      "-1\n",
      "-1\n",
      "4\n"
     ]
    }
   ],
   "source": [
    "#Test cell for BinarySearch\n",
    "\n",
    "#When matching string exists\n",
    "test_list = list(conversion_key['5.5'][:10])\n",
    "value = 'Cre01.g000150.t1.2'\n",
    "print(sag.BinarySearch(test_list, value))\n",
    "\n",
    "#When matching string does not exist\n",
    "value = 'Does not exist'\n",
    "print(sag.BinarySearch(test_list, value))\n",
    "\n",
    "#When matching string is in the middle of an existing string\n",
    "value = \"g000250\"\n",
    "print(sag.BinarySearch(test_list, value))\n",
    "\n",
    "#When matching string starts an existing string\n",
    "value = \"Cre01.g000150\"\n",
    "print(sag.BinarySearch(test_list, value))"
   ]
  },
  {
   "cell_type": "code",
   "execution_count": 7,
   "metadata": {},
   "outputs": [
    {
     "name": "stdout",
     "output_type": "stream",
     "text": [
      "17.55692958831787 s\n"
     ]
    }
   ],
   "source": [
    "t0 = time.time()\n",
    "transcript_id_v5_3_1 =[]\n",
    "\n",
    "for transcript in list(sampled_genes.transcript_id):    \n",
    "    \n",
    "    \n",
    "    index = sag.BinarySearch(list(conversion_key['5.5']), transcript)\n",
    "                         \n",
    "    if index == -1: transcript_id_v5_3_1.append(None)\n",
    "                         \n",
    "    else: transcript_id_v5_3_1.append(conversion_key.loc[index, '5.3.1'])\n",
    "        \n",
    "t1 = time.time()\n",
    "print(t1-t0,\"s\")"
   ]
  },
  {
   "cell_type": "code",
   "execution_count": 8,
   "metadata": {},
   "outputs": [
    {
     "name": "stdout",
     "output_type": "stream",
     "text": [
      "Number of v5.5 transcripts that does not have a matching v5.3.1 transcript id:  0\n"
     ]
    }
   ],
   "source": [
    "print(\"Number of v5.5 transcripts that does not have a matching v5.3.1 transcript id: \", transcript_id_v5_3_1.count(None))"
   ]
  },
  {
   "cell_type": "markdown",
   "metadata": {},
   "source": [
    "## 2.2 JumpSearch method\n",
    "\n",
    "Search took ~21.4s. This is slower than the binary search method."
   ]
  },
  {
   "cell_type": "raw",
   "metadata": {},
   "source": [
    "t0 = time.time()\n",
    "transcript_id_v5_3_1 =[]\n",
    "\n",
    "for transcript in list(sampled_genes.transcript_id):    \n",
    "    \n",
    "    \n",
    "    index = sag.JumpSearch(list(conversion_key['5.5']), transcript)\n",
    "                         \n",
    "    if index == -1: transcript_id_v5_3_1.append(None)\n",
    "                         \n",
    "    else: transcript_id_v5_3_1.append(conversion_key.loc[index, '5.3.1'])\n",
    "        \n",
    "t1 = time.time()\n",
    "print(t1-t0, \"s\")"
   ]
  },
  {
   "cell_type": "markdown",
   "metadata": {},
   "source": [
    "## 3. Create v5.3.1 annotation version of merged.csv"
   ]
  },
  {
   "cell_type": "code",
   "execution_count": 9,
   "metadata": {},
   "outputs": [],
   "source": [
    "sampled_genes['transcript_id_v5.3.1']=  transcript_id_v5_3_1\n",
    "sampled_genes.to_csv('../../data/intermediate_data_02/sampled_genes.csv', index=False) "
   ]
  }
 ],
 "metadata": {
  "kernelspec": {
   "display_name": "Python 3",
   "language": "python",
   "name": "python3"
  },
  "language_info": {
   "codemirror_mode": {
    "name": "ipython",
    "version": 3
   },
   "file_extension": ".py",
   "mimetype": "text/x-python",
   "name": "python",
   "nbconvert_exporter": "python",
   "pygments_lexer": "ipython3",
   "version": "3.5.1"
  }
 },
 "nbformat": 4,
 "nbformat_minor": 2
}
