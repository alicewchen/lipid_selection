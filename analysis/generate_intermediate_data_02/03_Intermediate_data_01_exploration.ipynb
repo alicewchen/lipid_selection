{
 "cells": [
  {
   "cell_type": "markdown",
   "metadata": {},
   "source": [
    "# Data Exploration: `Intermediate_data_01`\n",
    "\n",
    "#### Objectives:\n",
    "1. What is the distribution of the number of times each gene is sampled?\n",
    "2. What is the distribution of the proportion of papers that found >2-fold difference for each gene?\n",
    "3. Are we looking at substantially diminishing returns of new unique candidate genes per dataset processed already?\n",
    "4. What proportion of TAG synthesis pathway genes are included in this set of unique genes?\n",
    "\n",
    "#### Method:\n",
    "\n",
    "1. Iterate through intermediate datasets to collect \"candidate genes.\"\n",
    "2. \n",
    "\n",
    "y-axis: number of unique candidate genes\n",
    "\n",
    "\n",
    "#### New candidate_gene inclusion criteria:\n",
    "- showed up as `True` in at least **one comparison per paper** AND in at least **two papers**\n",
    "\n",
    "x-axis: number of datasets"
   ]
  },
  {
   "cell_type": "code",
   "execution_count": 1,
   "metadata": {},
   "outputs": [],
   "source": [
    "import pickle\n",
    "import random\n",
    "import pandas as pd\n",
    "import numpy as np\n",
    "import statistics as stats\n",
    "import random\n",
    "from matplotlib import pyplot as plt\n",
    "import time\n",
    "import re"
   ]
  },
  {
   "cell_type": "code",
   "execution_count": 2,
   "metadata": {},
   "outputs": [
    {
     "name": "stdout",
     "output_type": "stream",
     "text": [
      "  first_author    year  matches  mismatches    total  proportion_of_matches  \\\n",
      "0        Hemme  2014.0   1894.0        86.0   1980.0               0.956566   \n",
      "1     Bajhaiya  2016.0  17736.0         1.0  17737.0               0.999944   \n",
      "2   Goodenough  2014.0     66.0         2.0     68.0               0.970588   \n",
      "3        Blaby  2013.0    591.0        51.0    642.0               0.920561   \n",
      "4        Boyle  2012.0     24.0         1.0     25.0               0.960000   \n",
      "5     Juergens  2015.0     96.0         9.0    105.0               0.914286   \n",
      "6         Kwak  2017.0    850.0         0.0    850.0               1.000000   \n",
      "7     Gargouri  2015.0    414.0         0.0    414.0               1.000000   \n",
      "\n",
      "  firstauthor_year  \n",
      "0       Hemme_2014  \n",
      "1    Bajhaiya_2016  \n",
      "2  Goodenough_2014  \n",
      "3       Blaby_2013  \n",
      "4       Boyle_2012  \n",
      "5    Juergens_2015  \n",
      "6        Kwak_2017  \n",
      "7    Gargouri_2015  \n"
     ]
    }
   ],
   "source": [
    "p = open(\"../../data/intermediate_data_02/matches\", \"rb\")\n",
    "matches = pickle.load(p)\n",
    "match_summary = pd.read_csv(\"../../data/intermediate_data_02/match_summary.csv\")\n",
    "match_summary[\"firstauthor_year\"] = match_summary[\"first_author\"] + \"_\"+match_summary[\"year\"].astype(int).astype(str)\n",
    "print(match_summary)"
   ]
  },
  {
   "cell_type": "markdown",
   "metadata": {},
   "source": [
    "### Categorize gene_ids as candidate genes based on cut-off\n",
    "\n",
    "`Candidate_gene` new criteria: detected as candidate gene in **at least one comparison per paper** AND in **at least two papers**\n"
   ]
  },
  {
   "cell_type": "code",
   "execution_count": 13,
   "metadata": {},
   "outputs": [],
   "source": [
    "#random.seed(1)\n",
    "#random.shuffle()\n",
    "cut_off = 0.75\n",
    "num_papers = 8\n",
    "count = 0\n",
    "list_temp =[]\n",
    "candidates = {}"
   ]
  },
  {
   "cell_type": "markdown",
   "metadata": {},
   "source": [
    "#### 1. What is the distribution of the number of times each gene is sampled?"
   ]
  },
  {
   "cell_type": "code",
   "execution_count": 14,
   "metadata": {},
   "outputs": [
    {
     "data": {
      "image/png": "[encoded data removed]",
      "text/plain": [
       "<matplotlib.figure.Figure at 0x7f4d45e4a320>"
      ]
     },
     "metadata": {},
     "output_type": "display_data"
    }
   ],
   "source": [
    "#Distribution of number of times each gene is sampled\n",
    "temp = []\n",
    "dict_temp = dict([(key, 0) for key in [i for i in range(num_papers+1)]])\n",
    "i = 0\n",
    "for gene in matches.keys():\n",
    "    count = len(matches[gene])\n",
    "    temp.append(count)\n",
    "    dict_temp[count]+=1\n",
    "    #print(count)\n",
    "    #if i> 10: break\n",
    "    \n",
    "fig, ax = plt.subplots()\n",
    "plt.hist(temp, bins = 8, histtype = 'stepfilled')\n",
    "ax.set_xlabel('Number of datasets')\n",
    "ax.set_ylabel('Number of unique genes')\n",
    "plt.savefig('distribution_of_genes_detected.png', bbox_inches = \"tight\", dpi = 300)"
   ]
  },
  {
   "cell_type": "code",
   "execution_count": 15,
   "metadata": {},
   "outputs": [
    {
     "name": "stdout",
     "output_type": "stream",
     "text": [
      "Count = number of studies that sampled a gene\n",
      "   count  number_of_genes\n",
      "0      0                0\n",
      "1      1            14843\n",
      "2      2             2607\n",
      "3      3              421\n",
      "4      4               75\n",
      "5      5                9\n",
      "6      6                1\n",
      "7      7                0\n",
      "8      8                0\n"
     ]
    }
   ],
   "source": [
    "dict_temp2 = {'count': list(dict_temp.keys()), \n",
    "            'number_of_genes': list(dict_temp.values())}\n",
    "df= pd.DataFrame.from_dict(dict_temp2)\n",
    "print(\"Count = number of studies that sampled a gene\")\n",
    "print (df)\n",
    "#print( np.percentile(temp,98))"
   ]
  },
  {
   "cell_type": "markdown",
   "metadata": {},
   "source": [
    "#### 2. What is the distribution of the proportion of papers that found >2-fold difference for each gene?\n",
    "\n",
    "- After filtering out genes sampled by only one paper"
   ]
  },
  {
   "cell_type": "code",
   "execution_count": 31,
   "metadata": {},
   "outputs": [],
   "source": [
    "#random.seed(1)\n",
    "#random.shuffle()\n",
    "num_papers = 8\n",
    "count = 0\n",
    "p_true =[]\n",
    "candidates = {}\n",
    "for gene in matches.keys():\n",
    "    \n",
    "    #Only consider genes sampled by at least two papers\n",
    "    if len(matches[gene])>1:\n",
    "        \n",
    "        #Proportion of papers that found >2-fold difference for each gene\n",
    "        tmp = [dataset.split(':')[1] for value in matches[gene] for dataset in [value]]\n",
    "        tmp = [1 if int(i)>0 else 0 for i in tmp]\n",
    "        p_true = sum(tmp)/num_papers\n",
    "        list_temp.append(p_true)\n",
    "        \n",
    "        #Create sub-dictionary of genes with at least two papers that fold>2-fold difference for each gene\n",
    "        if sum(tmp) >= 2: candidates[gene] = matches[gene]\n",
    "        else: pass\n",
    "        \n",
    "        \n",
    "    else: pass \n",
    "    #if included > 0.5: print(included)\n"
   ]
  },
  {
   "cell_type": "code",
   "execution_count": 30,
   "metadata": {},
   "outputs": [
    {
     "data": {
      "image/png": "[encoded data removed]",
      "text/plain": [
       "<matplotlib.figure.Figure at 0x7f4d4651b438>"
      ]
     },
     "metadata": {},
     "output_type": "display_data"
    }
   ],
   "source": [
    "fig, ax = plt.subplots()\n",
    "plt.hist(list_temp, bins = 10, histtype = 'stepfilled')\n",
    "ax.set_xlabel('Proportion of datasets')\n",
    "ax.set_ylabel('Number of unique genes')\n",
    "caption =\"This plot shows the distribution of the proportion of datasets\\nthat found each unique gene. Only genes sampled by at\\n least two papers are considered.\"\n",
    "plt.subplots_adjust(bottom=0.3)\n",
    "plt.figtext(0.05, 0.05, caption, fontsize=12, ha = 'left', wrap = True )\n",
    "plt.savefig('Proportion_of_datasets.png', bbox_inches = \"tight\", dpi = 300)\n"
   ]
  },
  {
   "cell_type": "code",
   "execution_count": 8,
   "metadata": {},
   "outputs": [
    {
     "name": "stdout",
     "output_type": "stream",
     "text": [
      "Total number of candidates after filtering:  590\n"
     ]
    }
   ],
   "source": [
    "print(\"Total number of candidates after filtering: \", len(candidates.keys()))"
   ]
  },
  {
   "cell_type": "markdown",
   "metadata": {},
   "source": [
    "#### 3. Are we looking at substantially diminishing returns of new unique candidate genes per dataset processed already?\n",
    "\n",
    "Simulate dataset collection by randomly sample all datasets without replacements and calculate the number of new unique candidate genes per dataset. Repeat this simulation `rep` times.\n",
    "\n",
    "`uniq` dictionary structure:\n",
    "\n",
    "`uniq = { [ nth sampled dataset <int> ] : number of unique candidate genes <int> }`"
   ]
  },
  {
   "cell_type": "code",
   "execution_count": 9,
   "metadata": {},
   "outputs": [],
   "source": [
    "omit = []\n",
    "rep = 100\n",
    "uniq = dict((key,[0]*rep) for key in range(1,len(list(np.unique(match_summary.firstauthor_year)))+1))\n",
    "#print(uniq)"
   ]
  },
  {
   "cell_type": "code",
   "execution_count": 10,
   "metadata": {},
   "outputs": [
    {
     "name": "stdout",
     "output_type": "stream",
     "text": [
      "Simulation of 100 times took 0.6718635559082031 sec.\n"
     ]
    }
   ],
   "source": [
    "t0 = time.time()\n",
    "shuffled_ls = list(match_summary.firstauthor_year)\n",
    "for r in range(rep):\n",
    "    \n",
    "    #Randomly reorder datasets\n",
    "    random.seed(r)\n",
    "    random.shuffle(shuffled_ls)\n",
    "    \n",
    "    #Keep a list of sampled datasets\n",
    "    omit = []\n",
    "    \n",
    "    for i in range(len(shuffled_ls)):\n",
    "    \n",
    "        for gene in candidates.keys():\n",
    "            \n",
    "            #If sample dataset is in candidates[gene] and none of the sampled datasets in omit list is in candidates[gene], number of unique candidate genes detected by the dataset +1.\n",
    "            if any(shuffled_ls[i] in value for value in candidates[gene]) and any(counted in value for value in candidates[gene] for counted in omit) ==False :\n",
    "                \n",
    "                uniq[i+1][r]+=1\n",
    "\n",
    "            else: pass\n",
    "        \n",
    "        #Add sampled dataset to omit list once all the genes have been accounted for\n",
    "        omit.append(shuffled_ls[i])\n",
    "            \n",
    "t1 = time.time()    \n",
    "print(\"Simulation of\", rep, \"times took\", t1-t0, \"sec.\")"
   ]
  },
  {
   "cell_type": "markdown",
   "metadata": {},
   "source": [
    "Convert `uniq` dictionary to `df` dataframe. \n",
    "\n",
    "**`df`** dataframe structure:\n",
    "\n",
    "\n",
    "| 1         \t| 2                   \t| 3                             \t| ... \t| `rep` \t| average \t| SD \t|\n",
    "|-----------------------------------------\t|-------              \t|-------                        \t|-------\t|-------\t|----------------------\t|----------------------------------\t|\n",
    "| cumsum(number of unique genes)<br>`<int>` \t| `<int>` \t| `<int>` \t| `<int>` \t| `<int>` \t| RowAverage <br>`<int>` \t| RowStandardDeviation <br>`<float>` \t|\n",
    "\n",
    "**`rep`**: `<int>` number of simulations"
   ]
  },
  {
   "cell_type": "code",
   "execution_count": 11,
   "metadata": {},
   "outputs": [],
   "source": [
    "df = pd.DataFrame.from_dict(uniq, orient = \"index\")\n",
    "for col in df.columns:\n",
    "    df[col] = df[col].cumsum()\n",
    "df['average'] = df.mean(axis=1)\n",
    "\n",
    "df['SD'] = df[df.columns[range(rep)]].std(axis=1)"
   ]
  },
  {
   "cell_type": "code",
   "execution_count": 13,
   "metadata": {},
   "outputs": [],
   "source": [
    "col_names = ['dataset_num', 'cumsum']\n",
    "reshaped_df= pd.DataFrame(columns = col_names)\n",
    "\n",
    "for col in df.columns[range(rep)]:\n",
    "    \n",
    "    temp = df[col].reset_index()\n",
    "    temp.columns =['dataset_num', 'cumsum']\n",
    "    #temp['cumsum'] = temp['unique_genes'].cumsum()\n",
    "    reshaped_df= pd.concat([reshaped_df, temp])\n",
    "    \n",
    "#print(reshaped_df)"
   ]
  },
  {
   "cell_type": "code",
   "execution_count": 16,
   "metadata": {},
   "outputs": [
    {
     "data": {
      "image/png": "[encoded data removed]",
      "text/plain": [
       "<matplotlib.figure.Figure at 0x7f8b537669e8>"
      ]
     },
     "metadata": {},
     "output_type": "display_data"
    }
   ],
   "source": [
    "fig, ax = plt.subplots()\n",
    "\n",
    "plt.scatter(x='dataset_num', y='cumsum', data = reshaped_df, alpha = 0.05, zorder =2)\n",
    "ax.errorbar(list(df.index), list(df.average),\n",
    "       yerr=list(df.SD),\n",
    "       alpha=1,\n",
    "       color='red',\n",
    "       capsize=5)\n",
    "ax.set_xlabel('Number of datasets processed')\n",
    "ax.set_ylabel('Cumulative sum of\\nunique candidate genes')\n",
    "#plt.show()\n",
    "plt.savefig('cumulative_unique_genes.png', bbox_inches = \"tight\", dpi = 300)"
   ]
  },
  {
   "cell_type": "markdown",
   "metadata": {},
   "source": [
    "#### 4. What proportion of TAG synthesis pathway genes are included in this set of unique genes?\n",
    "*C. reinhardtii* TAG synthesis pathway genes are downloaded from BioCyc (accessed on May 20, 2020)"
   ]
  },
  {
   "cell_type": "code",
   "execution_count": 73,
   "metadata": {},
   "outputs": [
    {
     "name": "stdout",
     "output_type": "stream",
     "text": [
      "Number of TAG synthesis pathway genes: 26\n"
     ]
    }
   ],
   "source": [
    "#Import TAG synthesis pathway genes\n",
    "TAG_genes= pd.read_csv(\"../../data/raw_data/lipid_pathway_genes/triacylglycerol_biosynthesis.txt\",skiprows = 1, delimiter = \"\\t\")\n",
    "TAG_genes = pd.Series(TAG_genes[\"Enzymatic activity\"].values, index=TAG_genes[\"Gene Accession\"]).to_dict()\n",
    "\n",
    "print(\"Number of TAG synthesis pathway genes:\", len(TAG_genes))"
   ]
  },
  {
   "cell_type": "code",
   "execution_count": 74,
   "metadata": {},
   "outputs": [
    {
     "name": "stdout",
     "output_type": "stream",
     "text": [
      "Number of TAG synthesis pathway genes detected as candidate genes: 4 \n",
      " {'Cre09.g386912.t1.1': 'diacylglycerol O-acyltransferase', 'Cre02.g106400.t1.1': 'phospholipid:diacylglycerol acyltransferase', 'Cre12.g557750.t1.1': 'diacylglycerol O-acyltransferase', 'Cre01.g045903.t1.1': 'diacylglycerol O-acyltransferase'}\n"
     ]
    }
   ],
   "source": [
    "candidate_TAG_genes ={}\n",
    "for key in candidates.keys():\n",
    "    if key in TAG_genes: candidate_TAG_genes[key] = TAG_genes[key]\n",
    "print(\"Number of TAG synthesis pathway genes detected as candidate genes:\", len(candidate_TAG_genes),'\\n' ,candidate_TAG_genes)"
   ]
  },
  {
   "cell_type": "markdown",
   "metadata": {},
   "source": [
    "### Export dictionary of unique genes with dataset information to `data/intermediate_data_02/`"
   ]
  },
  {
   "cell_type": "code",
   "execution_count": 70,
   "metadata": {},
   "outputs": [],
   "source": [
    "pickle_out = open(\"../../data/intermediate_data_02/unique\", \"wb\")\n",
    "pickle.dump(uniq, pickle_out)\n",
    "pickle_out.close()"
   ]
  },
  {
   "cell_type": "code",
   "execution_count": null,
   "metadata": {},
   "outputs": [],
   "source": []
  }
 ],
 "metadata": {
  "kernelspec": {
   "display_name": "Python 3",
   "language": "python",
   "name": "python3"
  },
  "language_info": {
   "codemirror_mode": {
    "name": "ipython",
    "version": 3
   },
   "file_extension": ".py",
   "mimetype": "text/x-python",
   "name": "python",
   "nbconvert_exporter": "python",
   "pygments_lexer": "ipython3",
   "version": "3.5.1"
  }
 },
 "nbformat": 4,
 "nbformat_minor": 2
}
