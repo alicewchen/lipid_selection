{
 "cells": [
  {
   "cell_type": "markdown",
   "metadata": {},
   "source": [
    "# Compile list of unique genes from intermediate_data_01\n",
    "\n",
    "## Workflow\n",
    "\n",
    "1. Loop through each dataset from `data/intermediate_data_01/`\n",
    "2. For each dataset,\n",
    "    - collect list of unique genes and associated candidate gene label\n",
    "    - `included` =  the number of times the gene is assigned as candidate gene\n",
    "    - `total_comparisons` = the number of comparisons (`fold_difference` or `protein_fold_difference`) for each gene. Computationally, this is the number of rows of data for that gene.\n",
    "    - append `gene_id`, `included`, `total_comparisons`, `firstauthor_year` to dictionary `matches` or `mismatches` depending on whether the `gene_id` has a match in query output `gene_info.csv`.\n",
    "3. Export `matches`, `mismatches`, and `problems` using `pickle`"
   ]
  },
  {
   "cell_type": "code",
   "execution_count": 56,
   "metadata": {},
   "outputs": [
    {
     "ename": "ImportError",
     "evalue": "No module named 'sklearn'",
     "output_type": "error",
     "traceback": [
      "\u001b[0;31m---------------------------------------------------------------------------\u001b[0m",
      "\u001b[0;31mImportError\u001b[0m                               Traceback (most recent call last)",
      "\u001b[0;32m<ipython-input-56-256e43a82e3e>\u001b[0m in \u001b[0;36m<module>\u001b[0;34m()\u001b[0m\n\u001b[1;32m      7\u001b[0m \u001b[0;32mimport\u001b[0m \u001b[0mpickle\u001b[0m\u001b[0;34m\u001b[0m\u001b[0m\n\u001b[1;32m      8\u001b[0m \u001b[0;32mimport\u001b[0m \u001b[0mmatplotlib\u001b[0m\u001b[0;34m.\u001b[0m\u001b[0mpyplot\u001b[0m \u001b[0;32mas\u001b[0m \u001b[0mplt\u001b[0m\u001b[0;34m\u001b[0m\u001b[0m\n\u001b[0;32m----> 9\u001b[0;31m \u001b[0;32mfrom\u001b[0m \u001b[0msklearn\u001b[0m\u001b[0;34m.\u001b[0m\u001b[0mlinear_model\u001b[0m \u001b[0;32mimport\u001b[0m \u001b[0mLinearRegression\u001b[0m\u001b[0;34m\u001b[0m\u001b[0m\n\u001b[0m",
      "\u001b[0;31mImportError\u001b[0m: No module named 'sklearn'"
     ]
    }
   ],
   "source": [
    "import pandas as pd\n",
    "import numpy as np\n",
    "import os\n",
    "import re\n",
    "import warnings\n",
    "import time\n",
    "import pickle"
   ]
  },
  {
   "cell_type": "code",
   "execution_count": 2,
   "metadata": {},
   "outputs": [
    {
     "name": "stdout",
     "output_type": "stream",
     "text": [
      "         gene_id   secondaryid gene_name\n",
      "0  Cre06.g261000  PAC:30779314      PSBR\n",
      "1  Cre10.g452450  PAC:30790862    CIM110\n",
      "2  Cre06.g302050  PAC:30779788       NaN\n",
      "3  Cre03.g183700  PAC:30786959       NaN\n",
      "4  Cre03.g185000  PAC:30787114       NaN\n"
     ]
    }
   ],
   "source": [
    "current_dir = os.getcwd()\n",
    "gene_info = pd.read_csv(\"../../data/intermediate_data_02/gene_info.csv\", delimiter = \",\")\n",
    "print(gene_info[:5])"
   ]
  },
  {
   "cell_type": "markdown",
   "metadata": {},
   "source": [
    "# Create empty dictionaries to store genes that match the query and don't match the query\n",
    "Dictionary structure\n",
    "\n",
    "`matches = {gene_id: { firstauthor_year : [included,total] }`"
   ]
  },
  {
   "cell_type": "code",
   "execution_count": 46,
   "metadata": {},
   "outputs": [],
   "source": [
    "matches = {}\n",
    "mismatches = {}\n",
    "problems = pd.DataFrame()\n",
    "match_summary = pd.DataFrame(columns = [\"first_author\", \"year\",'matches', 'mismatches','problems', 'total'])"
   ]
  },
  {
   "cell_type": "code",
   "execution_count": 49,
   "metadata": {},
   "outputs": [
    {
     "name": "stdout",
     "output_type": "stream",
     "text": [
      "Hemme_2014\n"
     ]
    },
    {
     "name": "stderr",
     "output_type": "stream",
     "text": [
      "/usr/local/lib/python3.5/site-packages/ipykernel_launcher.py:48: UserWarning: Unique gene has more than one gene_name\n",
      "/usr/local/lib/python3.5/site-packages/ipykernel_launcher.py:49: SettingWithCopyWarning: \n",
      "A value is trying to be set on a copy of a slice from a DataFrame.\n",
      "Try using .loc[row_indexer,col_indexer] = value instead\n",
      "\n",
      "See the caveats in the documentation: http://pandas.pydata.org/pandas-docs/stable/indexing.html#indexing-view-versus-copy\n"
     ]
    },
    {
     "name": "stdout",
     "output_type": "stream",
     "text": [
      "Bajhaiya_2016\n",
      "Goodenough_2014\n",
      "Blaby_2013\n"
     ]
    },
    {
     "name": "stderr",
     "output_type": "stream",
     "text": [
      "/usr/local/lib/python3.5/site-packages/ipykernel_launcher.py:104: SettingWithCopyWarning: \n",
      "A value is trying to be set on a copy of a slice from a DataFrame.\n",
      "Try using .loc[row_indexer,col_indexer] = value instead\n",
      "\n",
      "See the caveats in the documentation: http://pandas.pydata.org/pandas-docs/stable/indexing.html#indexing-view-versus-copy\n"
     ]
    },
    {
     "name": "stdout",
     "output_type": "stream",
     "text": [
      "Boyle_2012\n",
      "Juergens_2015\n",
      "Kwak_2017\n",
      "Gargouri_2015\n",
      "156.79244232177734\n"
     ]
    }
   ],
   "source": [
    "matches = {}\n",
    "mismatches = {}\n",
    "problems = pd.DataFrame()\n",
    "match_summary = pd.DataFrame(columns = [\"first_author\", \"year\",'matches', 'mismatches','problems', 'total'])\n",
    "\n",
    "#Loop through firstauthor_year.txt files in intermediate_data_01\n",
    "#path = \"../../data/intermediate_data_01/\"\n",
    "os.chdir(\"../../data/intermediate_data_01/\")\n",
    "t0 = time.time()\n",
    "for file in os.listdir(os.getcwd()):\n",
    "    #print(file)\n",
    "    if file.endswith(\".txt\"):\n",
    "        df = pd.read_csv(file, delimiter = \"\\t\")\n",
    "        total_genes, num_matches, num_mismatches, num_problems = [0]*4\n",
    "    else: continue\n",
    "    #if df['gene_id'].empty == False:\n",
    "    #Loop through each unique gene in dataset\n",
    "    if not ('gene_id' in list(df.columns)) or (file == \"basic_info.txt\"): \n",
    "        continue\n",
    "    \n",
    "    first_author = source.split(\"_\")[0]\n",
    "    publication_year = source.split(\"_\")[1]\n",
    "    source = file.split(\".\")[0]\n",
    "    print(source)\n",
    "    \n",
    "    for gene in np.unique(df['gene_id']):\n",
    "    #count +=1\n",
    "    #if count >50: break\n",
    "        total_genes +=1\n",
    "    #create temporary working dataframe\n",
    "        temp = df[df.gene_id == gene]\n",
    "    \n",
    "    #Get the number of total comparisons and number of comparisons qualifying candidate gene criteria\n",
    "        total_comparisons = len(temp)\n",
    "        included = len(temp[temp.candidate_gene == True])\n",
    "  \n",
    "    #Generate output in dictionary format\n",
    "        \n",
    "        output = [\":\".join([source,str(included),str(total_comparisons)])]\n",
    "    \n",
    "        geneName = None\n",
    "    \n",
    "    #Add gene to problems dataframe to keep track of unique genes with more than one gene_names\n",
    "    #Track number of problem genes\n",
    "        try:         \n",
    "            if len(pd.unique(temp['gene_name'])) > 1: \n",
    "                num_problems +=1\n",
    "                warnings.warn(\"Unique gene has more than one gene_name\")\n",
    "                temp['source'] = [source]*len(temp)\n",
    "                problems = problems.append(temp, ignore_index = True)\n",
    "                continue\n",
    "        \n",
    "    #Set geneName as the first unique gene_name in the temporary df that contains only one gene_id\n",
    "            if len(pd.unique(temp['gene_name'])) == 1:\n",
    "                geneName = pd.unique(temp['gene_name'])[0]\n",
    "        except KeyError: geneName = None\n",
    "\n",
    "        \n",
    "    #Find gene_id matches in \"gene_name\" and \"secondaryid\"\n",
    "        match = False\n",
    "        \n",
    "    #See if gene exists in matches/mismatches dictionaries already\n",
    "        if gene in matches.keys(): \n",
    "            matches[gene].append(output)\n",
    "            num_matches +=1\n",
    "        \n",
    "        elif gene in mismatches.keys(): \n",
    "            mismatches[gene].append(output)\n",
    "            num_mismatches +=1\n",
    "        \n",
    "    #If gene does not exist in matches/mismatches dictionaries, search in gene_info\n",
    "    #if match found, rename gene as primaryIdentifier\n",
    "    \n",
    "    #Find gene_id matches in \"gene_name\" and \"secondaryid\" from downloaded gene_info\n",
    "        elif gene in list(gene_info['gene_id']): \n",
    "            gene = gene_info[gene_info.gene_id==gene]\n",
    "            match = True\n",
    "  \n",
    "        elif gene in list(gene_info['secondaryid']):\n",
    "            gene = gene_info[gene_info.secondaryid==gene]\n",
    "            match = True\n",
    "        \n",
    "    #Find questionable gene_name matches in \"gene_name\"\n",
    "        elif (geneName!= None) & (geneName in list(gene_info['gene_name'])):\n",
    "            gene = gene_info[gene_info.gene_name==geneName]\n",
    "            match = True\n",
    "        \n",
    "    #At this point, the only possibility is the gene does not have a match in Phytozyme\n",
    "    #Add to mismatches dictionary if cannot find matching gene id/name in qeary results (gene_info)\n",
    "        else:\n",
    "            mismatches[str(gene)] = list(output)\n",
    "            num_mismatches +=1\n",
    "            continue\n",
    "    \n",
    "    #Add to matches dictionary if find matching gene id/name in query results (gene_info)\n",
    "        if match == True:\n",
    "            gene.index = pd.RangeIndex(len(gene.index))\n",
    "            if gene.empty != True:\n",
    "                gene = gene.iloc[0,0]\n",
    "                matches[str(gene)] = list(output)\n",
    "                num_matches +=1\n",
    "            else: \n",
    "                num_problems +=1\n",
    "                temp['source'] = [source]*len(temp)\n",
    "                problems = problems.append(temp, ignore_index = True)\n",
    "                continue\n",
    "                \n",
    "    #Give a warning if loop fails to assign all genes to appropriate dictionaries/dataframes\n",
    "    if total_genes != num_matches + num_mismatches + num_problems:\n",
    "        print(file)\n",
    "        warnings.warn(\" \".join([source,\"did not capture all genes\"]))\n",
    "        \n",
    "    match_summary = match_summary.append(pd.Series(\n",
    "                                                    [first_author, publication_year, num_matches, num_mismatches, num_problems, len(np.unique(df['gene_id']))], \n",
    "                                                    index = match_summary.columns), \n",
    "                                            ignore_index=True)\n",
    "        \n",
    "t1= time.time()\n",
    "total = t1-t0\n",
    "print(total)  "
   ]
  },
  {
   "cell_type": "markdown",
   "metadata": {},
   "source": [
    "## Show summary of matches, mismatches, and problems"
   ]
  },
  {
   "cell_type": "code",
   "execution_count": 52,
   "metadata": {},
   "outputs": [],
   "source": [
    "match_summary['proportion_of_matches'] = match_summary['matches']/match_summary['total']"
   ]
  },
  {
   "cell_type": "code",
   "execution_count": 53,
   "metadata": {},
   "outputs": [
    {
     "name": "stdout",
     "output_type": "stream",
     "text": [
      "Number of matches: 12287\n",
      "[('Cre10.g444100', ['Bajhaiya_2016:0:4']), ('Cre03.g172750', ['Bajhaiya_2016:1:4']), ('Cre01.g049500', ['Hemme_2014:0:1', ['Kwak_2017:0:2']]), ('Cre08.g365400', ['Hemme_2014:0:1', ['Bajhaiya_2016:3:4'], ['Kwak_2017:1:2']]), ('Cre10.g458250', ['Bajhaiya_2016:0:4'])]\n",
      "Number of mismatches: 6343\n",
      "[('g9822', ['Bajhaiya_2016:0:4']), ('g16557', ['Bajhaiya_2016:0:4']), ('g2883', ['Bajhaiya_2016:0:4']), ('g12048', ['Bajhaiya_2016:0:4']), ('g2487', ['Bajhaiya_2016:0:4'])]\n",
      "Number of Problems: 130\n",
      "  first_author  year  matches  mismatches  problems    total  \\\n",
      "0     Gargouri  2015   1623.0       353.0       3.0   1979.0   \n",
      "1        Hemme  2014  11763.0      5974.0       0.0  17737.0   \n",
      "2     Bajhaiya  2016     57.0        11.0       0.0     68.0   \n",
      "3   Goodenough  2014    470.0        45.0     127.0    642.0   \n",
      "4        Blaby  2013     21.0         4.0       0.0     25.0   \n",
      "5        Boyle  2012     80.0        25.0       0.0    105.0   \n",
      "6     Juergens  2015    757.0         0.0       0.0    757.0   \n",
      "7         Kwak  2017    414.0         0.0       0.0    414.0   \n",
      "\n",
      "   proportion_of_matches  \n",
      "0               0.820111  \n",
      "1               0.663190  \n",
      "2               0.838235  \n",
      "3               0.732087  \n",
      "4               0.840000  \n",
      "5               0.761905  \n",
      "6               1.000000  \n",
      "7               1.000000  \n"
     ]
    }
   ],
   "source": [
    "print(\"Number of matches:\", len(matches))\n",
    "print(list(matches.items())[:5])\n",
    "\n",
    "print(\"Number of mismatches:\", len(mismatches))\n",
    "print(list(mismatches.items())[:5])\n",
    "\n",
    "print(\"Number of Problems:\", len(pd.unique(problems['gene_id'])))\n",
    "#print (problems[:5])\n",
    "print(match_summary)"
   ]
  },
  {
   "cell_type": "markdown",
   "metadata": {},
   "source": [
    "## Export to intermediate_data_02"
   ]
  },
  {
   "cell_type": "code",
   "execution_count": 54,
   "metadata": {},
   "outputs": [],
   "source": [
    "pickle_out = open(\"../../data/intermediate_data_02/matches\", \"wb\")\n",
    "pickle.dump(matches, pickle_out)\n",
    "pickle_out.close()\n",
    "\n",
    "pickle_out = open(\"../../data/intermediate_data_02/mismatches\", \"wb\")\n",
    "pickle.dump(mismatches, pickle_out)\n",
    "pickle_out.close()\n",
    "\n",
    "problems.to_csv(\"../../data/intermediate_data_02/problems.csv\", index = False)\n",
    "\n",
    "match_summary.to_csv(\"../../data/intermediate_data_02/match_summary.csv\", index = False)\n"
   ]
  },
  {
   "cell_type": "markdown",
   "metadata": {},
   "source": [
    "## Visualize summary\n",
    "\n",
    "#### What is the distribution of matches among the papers?\n",
    "- Is the proportion of matches related to year of publication?\n",
    "\n",
    "Save figure output to `analysis/generate_intermediate_data_02/` folder"
   ]
  },
  {
   "cell_type": "code",
   "execution_count": null,
   "metadata": {},
   "outputs": [],
   "source": [
    "%matplotlib inline\n",
    "import matplotlib.pyplot as plt\n",
    "os.chdir(current_dir)"
   ]
  },
  {
   "cell_type": "code",
   "execution_count": 179,
   "metadata": {},
   "outputs": [
    {
     "name": "stdout",
     "output_type": "stream",
     "text": [
      "Index(['first_author', 'year', 'matches', 'mismatches', 'problems', 'total',\n",
      "       'proportion_of_matches'],\n",
      "      dtype='object')\n",
      "first_author              object\n",
      "year                       int64\n",
      "matches                  float64\n",
      "mismatches               float64\n",
      "problems                 float64\n",
      "total                    float64\n",
      "proportion_of_matches    float64\n",
      "dtype: object\n"
     ]
    },
    {
     "data": {
      "text/plain": [
       "<matplotlib.figure.Figure at 0x7f942f083f98>"
      ]
     },
     "metadata": {},
     "output_type": "display_data"
    },
    {
     "data": {
      "image/png": "[encoded data removed]",
      "text/plain": [
       "<matplotlib.figure.Figure at 0x7f94567d5710>"
      ]
     },
     "metadata": {},
     "output_type": "display_data"
    }
   ],
   "source": [
    "caption = \"This scatterplot shows the proportion of genes with matches in Phytozyme 12 plotted against the publication year of the dataset. Mismatches can result from gene id changing over time due to version updates.\"\n",
    "\n",
    "print(match_summary.columns)\n",
    "match_summary['year'] = pd.to_numeric(match_summary['year'])\n",
    "print(match_summary.dtypes)\n",
    "\n",
    "fig = plt.figure()\n",
    "match_summary.plot(x= 'year', y = 'proportion_of_matches', kind = \"scatter\")\n",
    "plt.ticklabel_format(useOffset=False)\n",
    "plt.subplots_adjust(bottom=0.35)\n",
    "plt.figtext(0.05, 0.05,caption, fontsize=12, ha = 'left', wrap = True );\n",
    "\n",
    "#Figure output is saved to analysis/generate_intermediate_data_02/ folder\n",
    "plt.savefig(\"p_matches_versus_publication_year.png\")"
   ]
  }
 ],
 "metadata": {
  "kernelspec": {
   "display_name": "Python 3",
   "language": "python",
   "name": "python3"
  },
  "language_info": {
   "codemirror_mode": {
    "name": "ipython",
    "version": 3
   },
   "file_extension": ".py",
   "mimetype": "text/x-python",
   "name": "python",
   "nbconvert_exporter": "python",
   "pygments_lexer": "ipython3",
   "version": "3.5.1"
  }
 },
 "nbformat": 4,
 "nbformat_minor": 2
}
