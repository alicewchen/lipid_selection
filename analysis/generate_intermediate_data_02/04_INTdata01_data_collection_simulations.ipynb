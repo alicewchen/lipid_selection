{
 "cells": [
  {
   "cell_type": "markdown",
   "metadata": {},
   "source": [
    "# Simulation of random dataset sampling with replacements"
   ]
  },
  {
   "cell_type": "code",
   "execution_count": 25,
   "metadata": {},
   "outputs": [],
   "source": [
    "import itertools\n",
    "import pandas as pd\n",
    "import pickle\n",
    "import numpy as np\n",
    "import time\n",
    "from matplotlib import pyplot as plt\n",
    "import re"
   ]
  },
  {
   "cell_type": "code",
   "execution_count": 26,
   "metadata": {},
   "outputs": [
    {
     "name": "stdout",
     "output_type": "stream",
     "text": [
      "   num_detected  num_sampled       transcript_id  proportion  \\\n",
      "0             0            2  Cre01.g000017.t1.1       0.000   \n",
      "1             1            1  Cre01.g000033.t1.1       0.125   \n",
      "2             0            1  Cre01.g000050.t1.1       0.000   \n",
      "3             0            1  Cre01.g000100.t1.1       0.000   \n",
      "4             1            1  Cre01.g000150.t1.2       0.125   \n",
      "\n",
      "                           source        gene_id gene_symbol pathway_id  \\\n",
      "0  ['Bajhaiya_2016', 'Kwak_2017']  Cre01.g000017         NaN        NaN   \n",
      "1               ['Bajhaiya_2016']  Cre01.g000033         NaN        NaN   \n",
      "2               ['Gargouri_2015']  Cre01.g000050         NaN        NaN   \n",
      "3               ['Bajhaiya_2016']  Cre01.g000100         NaN        NaN   \n",
      "4               ['Bajhaiya_2016']  Cre01.g000150        ZRT2        NaN   \n",
      "\n",
      "  annotation_version  \n",
      "0               v5.5  \n",
      "1               v5.5  \n",
      "2               v5.5  \n",
      "3               v5.5  \n",
      "4               v5.5  \n"
     ]
    }
   ],
   "source": [
    "merged = pd.read_csv(\"../../data/intermediate_data_02/merged.csv\")\n",
    "match_summary = pd.read_csv(\"../../data/intermediate_data_02/match_summary.csv\")\n",
    "match_summary[\"firstauthor_year\"] = match_summary[\"first_author\"] + \"_\"+match_summary[\"year\"].astype(int).astype(str)\n",
    "print(merged[:5])"
   ]
  },
  {
   "cell_type": "markdown",
   "metadata": {},
   "source": [
    "Pathway code\n",
    "\n",
    "superpathway of fatty acid biosynthesis II (plant) = PWY-5156\n",
    "Creinhardtii PWY-4381\tfatty acid biosynthesis initiation I\n",
    "\n",
    "Identifier: \tPWY-6799Name: \tfatty acid biosynthesis (plant mitochondria)\n",
    "\n",
    "diacylglycerol and triacylglycerol biosynthesis = TRIGLSYN-PWY"
   ]
  },
  {
   "cell_type": "code",
   "execution_count": 50,
   "metadata": {},
   "outputs": [],
   "source": [
    "def count_unique_genes(conditions, df):\n",
    "\n",
    "    '''Takes in conditional statements to filter a dataframe. Return a dictionary with number of samples with replacements as key and the number of unique genes satisfying conditions and sampled by the samples as value.'''\n",
    "    \n",
    "    t0 = time.time()\n",
    "\n",
    "    filtered = df[conditions]\n",
    "    \n",
    "    sample_dict = dict((key, []) for key in range(1,len(match_summary.firstauthor_year)))\n",
    "\n",
    "    for i in range(1,len(match_summary.firstauthor_year)):\n",
    "        for sample in itertools.combinations_with_replacement(match_summary.firstauthor_year, i):\n",
    "        \n",
    "            unique_sample = list(np.unique(sample))\n",
    "            k = len(sample)\n",
    "        \n",
    "            count = 0\n",
    "        \n",
    "            for source in filtered.source:\n",
    "            \n",
    "            #if 'source' of a transcript contains sampled datasets,add 1 to count\n",
    "                if any(i in source for i in unique_sample):\n",
    "                    count+=1\n",
    "                    continue\n",
    "                    #print (source)\n",
    "                else: pass\n",
    "                \n",
    "            #Add count to running dictionary\n",
    "            sample_dict[k].append(count)\n",
    "   \n",
    "    t1 = time.time()   \n",
    "    print(t1-t0, \"s\")\n",
    "    return(sample_dict)"
   ]
  },
  {
   "cell_type": "code",
   "execution_count": 116,
   "metadata": {},
   "outputs": [],
   "source": [
    "A = (merged.num_detected>=2)\n",
    "B = (merged.num_sampled>=2)\n",
    "C = merged.pathway_id.str.contains(\"TRIGLSYN-PWY\")==True\n",
    "D = merged.pathway_id.str.contains(\"PWY-4381\")==True\n",
    "F = (merged.num_detected>=1)\n",
    "conditions = [(A), (A & B), (C), (D), (C&A), (C&B), (D&A), (D&B), ((C|D)&A), (C|D)]\n"
   ]
  },
  {
   "cell_type": "code",
   "execution_count": 103,
   "metadata": {
    "scrolled": true
   },
   "outputs": [],
   "source": [
    "condition = (A & B)\n",
    "filename = \"simulations_output/strong_evidence.png\""
   ]
  },
  {
   "cell_type": "code",
   "execution_count": 117,
   "metadata": {},
   "outputs": [],
   "source": [
    "condition = (F)\n",
    "filename = \"simulations_output/at_least_one_detected.png\""
   ]
  },
  {
   "cell_type": "code",
   "execution_count": 121,
   "metadata": {},
   "outputs": [],
   "source": [
    "condition = ((C|D)&A)\n",
    "filename = \"simulations_output/lipid_pathway_at_least_one_detected.png\""
   ]
  },
  {
   "cell_type": "code",
   "execution_count": 109,
   "metadata": {},
   "outputs": [],
   "source": [
    "condition = (C|D)\n",
    "filename = \"simulations_output/lipid_pathway.png\""
   ]
  },
  {
   "cell_type": "code",
   "execution_count": 122,
   "metadata": {},
   "outputs": [
    {
     "name": "stdout",
     "output_type": "stream",
     "text": [
      "0.23515915870666504 s\n"
     ]
    },
    {
     "data": {
      "image/png": "[encoded data removed]",
      "text/plain": [
       "<Figure size 432x288 with 1 Axes>"
      ]
     },
     "metadata": {
      "needs_background": "light"
     },
     "output_type": "display_data"
    }
   ],
   "source": [
    "sample_dict = count_unique_genes(condition, merged)\n",
    "num_datasets_plt =[]\n",
    "num_genes = []\n",
    "for k, v in sample_dict.items():\n",
    "    num_datasets_plt.extend([k]*len(v))\n",
    "    for e in v: num_genes.append(e)\n",
    "#print(num_genes)\n",
    "scatterplt = pd.DataFrame.from_dict({'num_datasets' : num_datasets_plt,\n",
    "                                    'num_genes' : num_genes})\n",
    "\n",
    "num_datasets = list(sample_dict.keys())\n",
    "average = [np.mean(i) for i in sample_dict.values() ]\n",
    "sd = [np.std(i) for i in sample_dict.values() ]\n",
    "\n",
    "fig, ax = plt.subplots()\n",
    "\n",
    "plt.scatter(x='num_datasets', y='num_genes', data = scatterplt, alpha = 0.05, zorder =2)\n",
    "ax.errorbar(num_datasets, average,\n",
    "       yerr=sd,\n",
    "       alpha=1,\n",
    "       color='red',\n",
    "       capsize=5)\n",
    "ax.set_xlabel('Number of datasets processed')\n",
    "ax.set_ylabel('Number of unique candidate genes')\n",
    "plt.savefig(filename, bbox_inches = \"tight\", dpi = 300)"
   ]
  },
  {
   "cell_type": "code",
   "execution_count": null,
   "metadata": {},
   "outputs": [],
   "source": []
  }
 ],
 "metadata": {
  "kernelspec": {
   "display_name": "Python 3",
   "language": "python",
   "name": "python3"
  },
  "language_info": {
   "codemirror_mode": {
    "name": "ipython",
    "version": 3
   },
   "file_extension": ".py",
   "mimetype": "text/x-python",
   "name": "python",
   "nbconvert_exporter": "python",
   "pygments_lexer": "ipython3",
   "version": "3.7.4"
  }
 },
 "nbformat": 4,
 "nbformat_minor": 4
}
