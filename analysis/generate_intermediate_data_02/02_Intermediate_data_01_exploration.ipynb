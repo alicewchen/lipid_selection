{
 "cells": [
  {
   "cell_type": "markdown",
   "metadata": {},
   "source": [
    "# Data Exploration: `Intermediate_data_01`\n",
    "\n",
    "#### Objectives:\n",
    "1. What is the distribution of the number of times each gene is sampled?\n",
    "2. What is the distribution of the proportion of papers that found >2-fold difference for each gene?\n",
    "3. Are we looking at substantially diminishing returns of new unique candidate genes per dataset processed already?\n",
    "4. What proportion of TAG synthesis pathway genes are included in this set of unique genes?\n",
    "\n",
    "#### New candidate_gene inclusion criteria:\n",
    "- showed up as `True` in at least **one comparison per paper** AND in at least **two papers**\n",
    "\n",
    "x-axis: number of datasets"
   ]
  },
  {
   "cell_type": "code",
   "execution_count": 1,
   "metadata": {},
   "outputs": [],
   "source": [
    "import pickle\n",
    "import random\n",
    "import pandas as pd\n",
    "import numpy as np\n",
    "import statistics as stats\n",
    "import random\n",
    "from matplotlib import pyplot as plt\n",
    "import time\n",
    "import re"
   ]
  },
  {
   "cell_type": "code",
   "execution_count": 2,
   "metadata": {},
   "outputs": [
    {
     "name": "stdout",
     "output_type": "stream",
     "text": [
      "  first_author    year  matches  mismatches    total  proportion_of_matches  \\\n",
      "0        Hemme  2014.0   1894.0        86.0   1980.0               0.956566   \n",
      "1     Bajhaiya  2016.0  17736.0         1.0  17737.0               0.999944   \n",
      "2   Goodenough  2014.0     66.0         2.0     68.0               0.970588   \n",
      "3        Blaby  2013.0    591.0        51.0    642.0               0.920561   \n",
      "4        Boyle  2012.0     24.0         1.0     25.0               0.960000   \n",
      "5     Juergens  2015.0     96.0         9.0    105.0               0.914286   \n",
      "6         Kwak  2017.0    850.0         0.0    850.0               1.000000   \n",
      "7     Gargouri  2015.0    414.0         0.0    414.0               1.000000   \n",
      "\n",
      "  firstauthor_year  \n",
      "0       Hemme_2014  \n",
      "1    Bajhaiya_2016  \n",
      "2  Goodenough_2014  \n",
      "3       Blaby_2013  \n",
      "4       Boyle_2012  \n",
      "5    Juergens_2015  \n",
      "6        Kwak_2017  \n",
      "7    Gargouri_2015  \n"
     ]
    },
    {
     "data": {
      "text/html": [
       "<div>\n",
       "<style scoped>\n",
       "    .dataframe tbody tr th:only-of-type {\n",
       "        vertical-align: middle;\n",
       "    }\n",
       "\n",
       "    .dataframe tbody tr th {\n",
       "        vertical-align: top;\n",
       "    }\n",
       "\n",
       "    .dataframe thead th {\n",
       "        text-align: right;\n",
       "    }\n",
       "</style>\n",
       "<table border=\"1\" class=\"dataframe\">\n",
       "  <thead>\n",
       "    <tr style=\"text-align: right;\">\n",
       "      <th></th>\n",
       "      <th>gene_id</th>\n",
       "      <th>included</th>\n",
       "      <th>source</th>\n",
       "      <th>total_comparisons</th>\n",
       "    </tr>\n",
       "  </thead>\n",
       "  <tbody>\n",
       "    <tr>\n",
       "      <td>0</td>\n",
       "      <td>Cre01.g000350.t1.1</td>\n",
       "      <td>0</td>\n",
       "      <td>Hemme_2014</td>\n",
       "      <td>1</td>\n",
       "    </tr>\n",
       "    <tr>\n",
       "      <td>1</td>\n",
       "      <td>Cre01.g000850.t1.2</td>\n",
       "      <td>0</td>\n",
       "      <td>Hemme_2014</td>\n",
       "      <td>1</td>\n",
       "    </tr>\n",
       "    <tr>\n",
       "      <td>2</td>\n",
       "      <td>Cre01.g001100.t1.2</td>\n",
       "      <td>0</td>\n",
       "      <td>Hemme_2014</td>\n",
       "      <td>1</td>\n",
       "    </tr>\n",
       "    <tr>\n",
       "      <td>3</td>\n",
       "      <td>Cre01.g001300.t1.1</td>\n",
       "      <td>0</td>\n",
       "      <td>Hemme_2014</td>\n",
       "      <td>1</td>\n",
       "    </tr>\n",
       "    <tr>\n",
       "      <td>4</td>\n",
       "      <td>Cre01.g002300.t1.2</td>\n",
       "      <td>0</td>\n",
       "      <td>Hemme_2014</td>\n",
       "      <td>1</td>\n",
       "    </tr>\n",
       "  </tbody>\n",
       "</table>\n",
       "</div>"
      ],
      "text/plain": [
       "              gene_id  included      source  total_comparisons\n",
       "0  Cre01.g000350.t1.1         0  Hemme_2014                  1\n",
       "1  Cre01.g000850.t1.2         0  Hemme_2014                  1\n",
       "2  Cre01.g001100.t1.2         0  Hemme_2014                  1\n",
       "3  Cre01.g001300.t1.1         0  Hemme_2014                  1\n",
       "4  Cre01.g002300.t1.2         0  Hemme_2014                  1"
      ]
     },
     "execution_count": 2,
     "metadata": {},
     "output_type": "execute_result"
    }
   ],
   "source": [
    "#p = open(\"../../data/intermediate_data_02/matches\", \"rb\")\n",
    "matches = pd.read_pickle(\"../../data/intermediate_data_02/matches\")\n",
    "#matches = pickle.load(p)\n",
    "match_summary = pd.read_csv(\"../../data/intermediate_data_02/match_summary.csv\")\n",
    "match_summary[\"firstauthor_year\"] = match_summary[\"first_author\"] + \"_\"+match_summary[\"year\"].astype(int).astype(str)\n",
    "print(match_summary)\n",
    "matches[:5]"
   ]
  },
  {
   "cell_type": "markdown",
   "metadata": {},
   "source": [
    "### Categorize gene_ids as candidate genes based on cut-off\n",
    "\n",
    "`Candidate_gene` new criteria: detected as candidate gene in **at least one comparison per paper** AND in **at least two papers**\n"
   ]
  },
  {
   "cell_type": "code",
   "execution_count": 3,
   "metadata": {},
   "outputs": [],
   "source": [
    "#random.seed(1)\n",
    "#random.shuffle()\n",
    "cut_off = 0.75\n",
    "num_papers = 8\n",
    "count = 0\n",
    "list_temp =[]\n",
    "candidates = {}"
   ]
  },
  {
   "cell_type": "code",
   "execution_count": 4,
   "metadata": {},
   "outputs": [
    {
     "data": {
      "text/plain": [
       "pandas.core.frame.DataFrame"
      ]
     },
     "execution_count": 4,
     "metadata": {},
     "output_type": "execute_result"
    }
   ],
   "source": [
    "type(matches)"
   ]
  },
  {
   "cell_type": "markdown",
   "metadata": {},
   "source": [
    "#### 1. What is the distribution of the number of times each gene is sampled?"
   ]
  },
  {
   "cell_type": "code",
   "execution_count": 5,
   "metadata": {},
   "outputs": [
    {
     "data": {
      "image/png": "[encoded data removed]",
      "text/plain": [
       "<Figure size 432x288 with 1 Axes>"
      ]
     },
     "metadata": {
      "needs_background": "light"
     },
     "output_type": "display_data"
    }
   ],
   "source": [
    "#Distribution of number of times each gene is sampled\n",
    "num_sampled = matches.groupby('gene_id').agg('size')\n",
    "\n",
    "fig, ax = plt.subplots()\n",
    "plt.hist(num_sampled, bins = 8, histtype = 'stepfilled')\n",
    "ax.set_xlabel('Number of datasets')\n",
    "ax.set_ylabel('Number of unique genes')\n",
    "plt.savefig('distribution_of_genes_detected.png', bbox_inches = \"tight\", dpi = 300)   \n"
   ]
  },
  {
   "cell_type": "code",
   "execution_count": 6,
   "metadata": {},
   "outputs": [
    {
     "name": "stdout",
     "output_type": "stream",
     "text": [
      "Count = number of studies that sampled the gene\n",
      "   Count  Number_of_genes\n",
      "1      1            14843\n",
      "2      2             2607\n",
      "3      3              421\n",
      "4      4               75\n",
      "5      5                9\n",
      "6      6                1\n"
     ]
    }
   ],
   "source": [
    "df= pd.DataFrame.from_dict({\"Count\": num_sampled.value_counts().index,\n",
    "                            \"Number_of_genes\": num_sampled.value_counts()})\n",
    "print(\"Count = number of studies that sampled the gene\")\n",
    "print (df)"
   ]
  },
  {
   "cell_type": "markdown",
   "metadata": {},
   "source": [
    "#### 2. What is the distribution of the proportion of papers that found >2-fold difference for each gene?\n",
    "\n",
    "- After filtering out genes sampled by only one paper"
   ]
  },
  {
   "cell_type": "code",
   "execution_count": 7,
   "metadata": {},
   "outputs": [
    {
     "name": "stdout",
     "output_type": "stream",
     "text": [
      "                  gene_id  included         source  total_comparisons\n",
      "16914  Cre01.g000017.t1.1         0  Bajhaiya_2016                  4\n",
      "20407  Cre01.g000017.t1.1         0      Kwak_2017                  2 \n",
      "\n",
      "                  gene_id  included         source  total_comparisons\n",
      "17337  Cre01.g000033.t1.1         1  Bajhaiya_2016                  4 \n",
      "\n",
      "                  gene_id  included         source  total_comparisons\n",
      "21257  Cre01.g000050.t1.1         0  Gargouri_2015                  7 \n",
      "\n",
      "                 gene_id  included         source  total_comparisons\n",
      "1894  Cre01.g000100.t1.1         0  Bajhaiya_2016                  4 \n",
      "\n"
     ]
    }
   ],
   "source": [
    "grouped = matches.groupby('gene_id')\n",
    "\n",
    "count = 0\n",
    "for name, group in grouped:\n",
    "    count+=1\n",
    "    if count <5: print(group, \"\\n\")\n",
    "    else: break"
   ]
  },
  {
   "cell_type": "code",
   "execution_count": 8,
   "metadata": {},
   "outputs": [
    {
     "name": "stdout",
     "output_type": "stream",
     "text": [
      "gene_id\n",
      "Cre01.g000017.t1.1    0\n",
      "Cre01.g000033.t1.1    1\n",
      "Cre01.g000050.t1.1    0\n",
      "Cre01.g000100.t1.1    0\n",
      "Cre01.g000150.t1.2    1\n",
      "Name: included, dtype: int64\n",
      "                    num_detected  num_sampled             gene_id  proportion\n",
      "gene_id                                                                      \n",
      "Cre01.g000017.t1.1             0            2  Cre01.g000017.t1.1       0.000\n",
      "Cre01.g000033.t1.1             1            1  Cre01.g000033.t1.1       0.125\n",
      "Cre01.g000050.t1.1             0            1  Cre01.g000050.t1.1       0.000\n",
      "Cre01.g000100.t1.1             0            1  Cre01.g000100.t1.1       0.000\n",
      "Cre01.g000150.t1.2             1            1  Cre01.g000150.t1.2       0.125\n"
     ]
    }
   ],
   "source": [
    "num_detected= grouped['included'].apply(lambda x: len(list(x)) - list(x).count(0))\n",
    "print(num_detected[:5])\n",
    "num_sampled = matches.groupby('gene_id').agg('size')\n",
    "df= pd.DataFrame.from_dict({\"num_detected\": num_detected,\n",
    "                            \"num_sampled\": num_sampled,\n",
    "                           \"gene_id\": num_sampled.index, \n",
    "                           'proportion': num_detected.apply(lambda x: x/num_papers) })\n",
    "#\n",
    "print(df[:5])"
   ]
  },
  {
   "cell_type": "code",
   "execution_count": 9,
   "metadata": {},
   "outputs": [
    {
     "data": {
      "image/png": "[encoded data removed]",
      "text/plain": [
       "<Figure size 432x288 with 1 Axes>"
      ]
     },
     "metadata": {
      "needs_background": "light"
     },
     "output_type": "display_data"
    }
   ],
   "source": [
    "fig, ax = plt.subplots()\n",
    "plt.hist(df.proportion[df.num_sampled>=2], bins = 10, histtype = 'stepfilled')\n",
    "ax.set_xlabel('Proportion of datasets that detected the candidate gene')\n",
    "ax.set_ylabel('Number of unique genes')\n",
    "caption =\"This plot shows the distribution of the proportion of datasets\\n \\\n",
    "            that found each unique gene. Only genes sampled by at\\n \\\n",
    "            least two papers are considered.\\n\\n \\\n",
    "            proportion = number of datasets that detected a candidate \\n \\\n",
    "            gene/ total number of studies \\n\\n \\\n",
    "            total number of studies = 8\"\n",
    "plt.subplots_adjust(right =.45)\n",
    "plt.figtext(0.5, 0.5, caption, fontsize=12, ha = 'left', wrap = True )\n",
    "plt.savefig('Proportion_of_datasets.png', bbox_inches = \"tight\", dpi = 300)\n"
   ]
  },
  {
   "cell_type": "code",
   "execution_count": 10,
   "metadata": {},
   "outputs": [
    {
     "name": "stdout",
     "output_type": "stream",
     "text": [
      "                    num_detected  num_sampled             gene_id  proportion  \\\n",
      "gene_id                                                                         \n",
      "Cre01.g000017.t1.1             0            2  Cre01.g000017.t1.1       0.000   \n",
      "Cre01.g000033.t1.1             1            1  Cre01.g000033.t1.1       0.125   \n",
      "Cre01.g000050.t1.1             0            1  Cre01.g000050.t1.1       0.000   \n",
      "Cre01.g000100.t1.1             0            1  Cre01.g000100.t1.1       0.000   \n",
      "Cre01.g000150.t1.2             1            1  Cre01.g000150.t1.2       0.125   \n",
      "\n",
      "                                        source  \n",
      "gene_id                                         \n",
      "Cre01.g000017.t1.1  [Bajhaiya_2016, Kwak_2017]  \n",
      "Cre01.g000033.t1.1             [Bajhaiya_2016]  \n",
      "Cre01.g000050.t1.1             [Gargouri_2015]  \n",
      "Cre01.g000100.t1.1             [Bajhaiya_2016]  \n",
      "Cre01.g000150.t1.2             [Bajhaiya_2016]  \n"
     ]
    }
   ],
   "source": [
    "df['source']= grouped['source'].apply(lambda x: list(x))\n",
    "print(df[:5])"
   ]
  },
  {
   "cell_type": "code",
   "execution_count": 11,
   "metadata": {},
   "outputs": [
    {
     "name": "stdout",
     "output_type": "stream",
     "text": [
      "Total number of candidates after filtering:  590\n"
     ]
    }
   ],
   "source": [
    "print(\"Total number of candidates after filtering: \", len(df.proportion[df.num_detected>=2 ]))"
   ]
  },
  {
   "cell_type": "markdown",
   "metadata": {},
   "source": [
    "#### Export dataframe of unique genes with dataset information to `data/intermediate_data_02/`"
   ]
  },
  {
   "cell_type": "code",
   "execution_count": 12,
   "metadata": {},
   "outputs": [],
   "source": [
    "pickle_out = open(\"../../data/intermediate_data_02/int_data02\", \"wb\")\n",
    "pickle.dump(df, pickle_out)\n",
    "pickle_out.close()"
   ]
  },
  {
   "cell_type": "markdown",
   "metadata": {},
   "source": [
    "#### 3. Are we looking at substantially diminishing returns of new unique candidate genes per dataset processed already?\n",
    "\n",
    "Simulate dataset collection by randomly sample all datasets without replacements and calculate the number of new unique candidate genes per dataset. Repeat this simulation `rep` times.\n",
    "\n",
    "`uniq` dictionary structure:\n",
    "\n",
    "`uniq = { [ nth sampled dataset <int> ] : number of unique candidate genes <int> }`"
   ]
  },
  {
   "cell_type": "code",
   "execution_count": 13,
   "metadata": {},
   "outputs": [],
   "source": [
    "df = pd.read_pickle(\"../../data/intermediate_data_02/int_data02\")\n",
    "omit = []\n",
    "rep = 100\n",
    "uniq = dict((key,[0]*rep) for key in range(1,len(list(np.unique(match_summary.firstauthor_year)))+1))\n",
    "#print(uniq)"
   ]
  },
  {
   "cell_type": "code",
   "execution_count": 14,
   "metadata": {},
   "outputs": [],
   "source": [
    "#condition1 = df.source.apply(lambda x: len(x)>=2)\n",
    "condition2 = df.num_detected.apply(lambda x: x>=2)"
   ]
  },
  {
   "cell_type": "code",
   "execution_count": 15,
   "metadata": {},
   "outputs": [
    {
     "name": "stdout",
     "output_type": "stream",
     "text": [
      "Simulation of 100 times took 0.39099764823913574 sec.\n"
     ]
    }
   ],
   "source": [
    "t0 = time.time()\n",
    "df = df[condition2]\n",
    "df_dict = dict(zip(df.gene_id, df.source))\n",
    "shuffled_ls = list(match_summary.firstauthor_year)\n",
    "\n",
    "for r in range(rep):\n",
    "    \n",
    "    #Randomly reorder datasets\n",
    "    random.seed(r)\n",
    "    random.shuffle(shuffled_ls)\n",
    "    \n",
    "    #Keep a list of sampled datasets\n",
    "    omit = []\n",
    "    \n",
    "    for i in range(len(shuffled_ls)): \n",
    "        \n",
    "        #If sample dataset is in match_summary and none of the sampled datasets in omit list is in candidates[gene], \n",
    "        #number of unique candidate genes detected by the dataset +1.\n",
    "        \n",
    "        for gene in df_dict.keys():\n",
    "            \n",
    "            #If sample dataset is in candidates[gene] and none of the sampled datasets in omit list is in candidates[gene], number of unique candidate genes detected by the dataset +1.\n",
    "            if any(shuffled_ls[i] in value for value in df_dict[gene]) and any(counted in value for value in df_dict[gene] for counted in omit) ==False :\n",
    "                \n",
    "                uniq[i+1][r]+=1\n",
    "\n",
    "            else: pass\n",
    "        \n",
    "        #Add sampled dataset to omit list once all the genes have been accounted for\n",
    "        omit.append(shuffled_ls[i])\n",
    "\n",
    "t1 = time.time()    \n",
    "print(\"Simulation of\", rep, \"times took\", t1-t0, \"sec.\")"
   ]
  },
  {
   "cell_type": "markdown",
   "metadata": {},
   "source": [
    "Convert `uniq` dictionary to `df` dataframe. \n",
    "\n",
    "**`df`** dataframe structure:\n",
    "\n",
    "\n",
    "| 1         \t| 2                   \t| 3                             \t| ... \t| `rep` \t| average \t| SD \t|\n",
    "|-----------------------------------------\t|-------              \t|-------                        \t|-------\t|-------\t|----------------------\t|----------------------------------\t|\n",
    "| cumsum(number of unique genes)<br>`<int>` \t| `<int>` \t| `<int>` \t| `<int>` \t| `<int>` \t| RowAverage <br>`<int>` \t| RowStandardDeviation <br>`<float>` \t|\n",
    "\n",
    "**`rep`**: `<int>` number of simulations"
   ]
  },
  {
   "cell_type": "code",
   "execution_count": 16,
   "metadata": {},
   "outputs": [],
   "source": [
    "df = pd.DataFrame.from_dict(uniq, orient = \"index\")\n",
    "for col in df.columns:\n",
    "    df[col] = df[col].cumsum()\n",
    "df['average'] = df.mean(axis=1)\n",
    "\n",
    "df['SD'] = df[df.columns[range(rep)]].std(axis=1)"
   ]
  },
  {
   "cell_type": "code",
   "execution_count": 17,
   "metadata": {},
   "outputs": [],
   "source": [
    "col_names = ['dataset_num', 'cumsum']\n",
    "reshaped_df= pd.DataFrame(columns = col_names)\n",
    "\n",
    "for col in df.columns[range(rep)]:\n",
    "    \n",
    "    temp = df[col].reset_index()\n",
    "    temp.columns =['dataset_num', 'cumsum']\n",
    "    #temp['cumsum'] = temp['unique_genes'].cumsum()\n",
    "    reshaped_df= pd.concat([reshaped_df, temp])\n",
    "    \n",
    "#print(reshaped_df)"
   ]
  },
  {
   "cell_type": "code",
   "execution_count": 18,
   "metadata": {},
   "outputs": [
    {
     "data": {
      "image/png": "[encoded data removed]",
      "text/plain": [
       "<Figure size 432x288 with 1 Axes>"
      ]
     },
     "metadata": {
      "needs_background": "light"
     },
     "output_type": "display_data"
    }
   ],
   "source": [
    "fig, ax = plt.subplots()\n",
    "\n",
    "plt.scatter(x='dataset_num', y='cumsum', data = reshaped_df, alpha = 0.05, zorder =2)\n",
    "ax.errorbar(list(df.index), list(df.average),\n",
    "       yerr=list(df.SD),\n",
    "       alpha=1,\n",
    "       color='red',\n",
    "       capsize=5)\n",
    "ax.set_xlabel('Number of datasets processed')\n",
    "ax.set_ylabel('Cumulative sum of\\nunique candidate genes')\n",
    "#plt.show()\n",
    "plt.savefig('cumulative_unique_genes.png', bbox_inches = \"tight\", dpi = 300)"
   ]
  },
  {
   "cell_type": "markdown",
   "metadata": {},
   "source": [
    "#### 4. What proportion of TAG synthesis pathway genes are included in this set of unique genes?\n",
    "*C. reinhardtii* TAG synthesis pathway genes are downloaded from BioCyc (accessed on May 20, 2020)"
   ]
  },
  {
   "cell_type": "code",
   "execution_count": 19,
   "metadata": {},
   "outputs": [
    {
     "name": "stdout",
     "output_type": "stream",
     "text": [
      "Number of TAG synthesis pathway genes: 26\n"
     ]
    }
   ],
   "source": [
    "#Import TAG synthesis pathway genes\n",
    "TAG_genes= pd.read_csv(\"../../data/raw_data/lipid_pathway_genes/triacylglycerol_biosynthesis.txt\",skiprows = 1, delimiter = \"\\t\")\n",
    "TAG_genes = pd.Series(TAG_genes[\"Enzymatic activity\"].values, index=TAG_genes[\"Gene Accession\"]).to_dict()\n",
    "\n",
    "print(\"Number of TAG synthesis pathway genes:\", len(TAG_genes))"
   ]
  },
  {
   "cell_type": "code",
   "execution_count": 20,
   "metadata": {},
   "outputs": [
    {
     "name": "stdout",
     "output_type": "stream",
     "text": [
      "Number of TAG synthesis pathway genes detected as candidate genes: 4 \n",
      "               gene_id                                       enzyme\n",
      "0  Cre01.g045903.t1.1             diacylglycerol O-acyltransferase\n",
      "1  Cre02.g106400.t1.1  phospholipid:diacylglycerol acyltransferase\n",
      "2  Cre09.g386912.t1.1             diacylglycerol O-acyltransferase\n",
      "3  Cre12.g557750.t1.1             diacylglycerol O-acyltransferase\n"
     ]
    }
   ],
   "source": [
    "candidate_TAG_genes ={}\n",
    "for key in df_dict.keys():\n",
    "    if key in TAG_genes: candidate_TAG_genes[key] = TAG_genes[key]\n",
    "df = pd.DataFrame(data=list(candidate_TAG_genes.items()), columns= ['gene_id', 'enzyme'])\n",
    "print(\"Number of TAG synthesis pathway genes detected as candidate genes:\", len(candidate_TAG_genes),'\\n' ,df)"
   ]
  },
  {
   "cell_type": "markdown",
   "metadata": {},
   "source": [
    "##### Repeat above with superpathways of fatty acid and acetylco-A biosynthesis"
   ]
  },
  {
   "cell_type": "code",
   "execution_count": 21,
   "metadata": {},
   "outputs": [
    {
     "name": "stdout",
     "output_type": "stream",
     "text": [
      "../../data/raw_data/lipid_pathway_genes/superpathway_of_fatty_acid_biosynthesis_II.txt 29\n",
      "Number pathway genes detected as candidate genes: 15 \n",
      "                gene_id                                           enzyme\n",
      "0   Cre01.g037850.t1.1                           acetyl-CoA carboxylase\n",
      "1   Cre02.g088250.t1.2                               Cre02.g088250.t1.2\n",
      "2   Cre03.g172000.t1.2                          fatty-acyl-CoA synthase\n",
      "3   Cre03.g182050.t1.2                 long-chain-fatty-acid-CoA ligase\n",
      "4   Cre03.g208050.t1.2                          fatty-acyl-CoA synthase\n",
      "5   Cre04.g216950.t1.2  beta-ketoacyl-acyl-carrier-protein synthase III\n",
      "6   Cre06.g294950.t1.1    enoyl-[acyl-carrier-protein] reductase (NADH)\n",
      "7   Cre08.g359350.t1.2                           acetyl-CoA carboxylase\n",
      "8   Cre08.g373050.t1.1                           acetyl-CoA carboxylase\n",
      "9   Cre11.g467723.t1.1    beta-ketoacyl-acyl-carrier-protein synthase I\n",
      "10  Cre12.g484000.t1.2                           acetyl-CoA carboxylase\n",
      "11  Cre12.g507400.t1.2                 long-chain-fatty-acid-CoA ligase\n",
      "12  Cre12.g519100.t1.2                           acetyl-CoA carboxylase\n",
      "13  Cre14.g621650.t1.1                          fatty-acyl-CoA synthase\n",
      "14  Cre17.g715250.t1.2                           acetyl-CoA carboxylase\n",
      "../../data/raw_data/lipid_pathway_genes/superpathway_of_acetyl-CoA_biosynthesis.txt 11\n",
      "Number pathway genes detected as candidate genes: 0 \n",
      " Empty DataFrame\n",
      "Columns: [gene_id, enzyme]\n",
      "Index: []\n"
     ]
    }
   ],
   "source": [
    "file_path = ['../../data/raw_data/lipid_pathway_genes/superpathway_of_fatty_acid_biosynthesis_II.txt',\n",
    "             '../../data/raw_data/lipid_pathway_genes/superpathway_of_acetyl-CoA_biosynthesis.txt']\n",
    "\n",
    "for file in file_path:\n",
    "    candidate_pathway_genes ={}\n",
    "    pathway_genes= pd.read_csv(file,skiprows = 1, delimiter = \"\\t\")\n",
    "    pathway_genes= pd.Series(pathway_genes[\"Enzymatic activity\"].values, index=pathway_genes[\"Gene Accession\"]).to_dict()\n",
    "    for key in df_dict.keys():\n",
    "        if key in pathway_genes: candidate_pathway_genes[key] = pathway_genes[key]\n",
    "    df = pd.DataFrame(data=list(candidate_pathway_genes.items()), columns= ['gene_id', 'enzyme'])\n",
    "    print(file, len(pathway_genes))\n",
    "    print(\"Number pathway genes detected as candidate genes:\", len(candidate_pathway_genes),'\\n' ,df)\n",
    "    "
   ]
  },
  {
   "cell_type": "code",
   "execution_count": null,
   "metadata": {},
   "outputs": [],
   "source": []
  },
  {
   "cell_type": "code",
   "execution_count": null,
   "metadata": {},
   "outputs": [],
   "source": []
  }
 ],
 "metadata": {
  "kernelspec": {
   "display_name": "Python 3",
   "language": "python",
   "name": "python3"
  },
  "language_info": {
   "codemirror_mode": {
    "name": "ipython",
    "version": 3
   },
   "file_extension": ".py",
   "mimetype": "text/x-python",
   "name": "python",
   "nbconvert_exporter": "python",
   "pygments_lexer": "ipython3",
   "version": "3.7.4"
  }
 },
 "nbformat": 4,
 "nbformat_minor": 4
}
