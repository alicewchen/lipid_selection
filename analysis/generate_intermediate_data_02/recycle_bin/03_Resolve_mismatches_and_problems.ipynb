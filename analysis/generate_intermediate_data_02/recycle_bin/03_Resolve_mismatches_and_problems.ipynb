{
 "cells": [
  {
   "cell_type": "markdown",
   "metadata": {},
   "source": [
    "# Resolve mismatch and problem cases \n",
    "\n",
    "Resolve mismatch and problem cases from `02_Compile_list_of_unique_genes.ipynb`.\n",
    "\n",
    "Workflow:\n",
    "1. Resolve mismatches:\n",
    "\n",
    "    1. For each genein mismatches, search gene in "
   ]
  },
  {
   "cell_type": "code",
   "execution_count": 47,
   "metadata": {},
   "outputs": [],
   "source": [
    "#Convert to gene_id in Chlamydomonas reinhardtii genome version 5.5\n",
    "def update_gene(old_gene_id, genome_version):\n",
    "    \n",
    "    '''requires gzip, re'''\n",
    "    '''genome_version options: '5.5', '3.1', 'Genbank', '4', '4.3', 'u5', 'u9', '5.3.1' '''  \n",
    "    \n",
    "    file_path='/scratch/research/projects/chlamydomonas/lipid_selection/data/gene_name_conversion/ChlamydomonasTranscriptNameConversionBetweenReleases.Mch12b.txt.gz'\n",
    "    \n",
    "    with gzip.open(file_path, \"r\") as z:\n",
    "    \n",
    "        columns = ['5.5', '3.1', 'Genbank', '4', '4.3', 'u5', 'u9', '5.3.1']\n",
    "        try: column_id = columns.index(genome_version)\n",
    "        except ValueError: \n",
    "            columns = [5.5, 3.1, 'Genbank', 4, 4.3, 'u5', 'u9', '5.3.1']\n",
    "            try: column_id = columns.index(genome_version)\n",
    "            except ValueError:\n",
    "                print(\"Genome version not found!\")\n",
    "                raise\n",
    "        \n",
    "        for line in z:\n",
    "            line = line.decode('utf-8')\n",
    "            p = re.compile(r\"\\s+\")\n",
    "            if old_gene_id in p.split(line.rstrip())[column_id]: \n",
    "                new_gene_id =  p.split(line.rstrip())[0]\n",
    "                return(new_gene_id)\n",
    "                break\n",
    "    "
   ]
  },
  {
   "cell_type": "code",
   "execution_count": null,
   "metadata": {},
   "outputs": [],
   "source": [
    "#Convert to gene_id in Chlamydomonas reinhardtii genome version 5.5\n",
    "def update_gene(old_gene_id, genome_version):\n",
    "    \n",
    "    '''requires gzip, re'''\n",
    "    '''genome_version options: '5.5', '3.1', 'Genbank', '4', '4.3', 'u5', 'u9', '5.3.1' '''  \n",
    "    \n",
    "    file_path='/scratch/research/projects/chlamydomonas/lipid_selection/data/gene_name_conversion/ChlamydomonasTranscriptNameConversionBetweenReleases.Mch12b.txt.gz'\n",
    "    \n",
    "    with gzip.open(file_path, \"r\") as z:\n",
    "    \n",
    "        columns = ['5.5', '3.1', 'Genbank', '4', '4.3', 'u5', 'u9', '5.3.1']\n",
    "        try: column_id = columns.index(genome_version)\n",
    "        except ValueError: \n",
    "            columns = [5.5, 3.1, 'Genbank', 4, 4.3, 'u5', 'u9', '5.3.1']\n",
    "            try: column_id = columns.index(genome_version)\n",
    "            except ValueError:\n",
    "                print(\"Genome version not found!\")\n",
    "                raise\n",
    "        \n",
    "        df= pd.read_csv(file_path, delimiter = \"\\t\")\n",
    "        old_gene_id in df[,column_id]: \n",
    "        new_gene_id =  p.split(line.rstrip())[0]\n",
    "                return(new_gene_id)\n",
    "                break\n",
    "    "
   ]
  },
  {
   "cell_type": "code",
   "execution_count": null,
   "metadata": {},
   "outputs": [],
   "source": []
  },
  {
   "cell_type": "code",
   "execution_count": 49,
   "metadata": {},
   "outputs": [
    {
     "name": "stdout",
     "output_type": "stream",
     "text": [
      "Cre01.g000050.t1.1\n"
     ]
    }
   ],
   "source": [
    "import gzip\n",
    "import re\n",
    "file_path='/scratch/research/projects/chlamydomonas/lipid_selection/data/gene_name_conversion/ChlamydomonasTranscriptNameConversionBetweenReleases.Mch12b.txt.gz'\n",
    "count =0\n",
    "\n",
    "old_gene_id = 'Cre01.g000050.t1.1'\n",
    "genome_version = '5.5'\n",
    "with gzip.open(file_path, \"r\") as z:\n",
    "    \n",
    "    columns = ['5.5', '3.1', 'Genbank', '4', '4.3', 'u5', 'u9', '5.3.1']\n",
    "    try: column_id = columns.index(genome_version)\n",
    "    except ValueError: \n",
    "        columns = [5.5, 3.1, 'Genbank', 4, 4.3, 'u5', 'u9', '5.3.1']\n",
    "        try: column_id = columns.index(genome_version)\n",
    "        except ValueError:\n",
    "            print(\"Genome version not found!\")\n",
    "        \n",
    "    for line in z:\n",
    "        line = line.decode('utf-8')\n",
    "        p = re.compile(r\"\\s+\")\n",
    "        if old_gene_id in p.split(line.rstrip())[column_id]: \n",
    "            new_gene_id =  p.split(line.rstrip())[0]\n",
    "            print(new_gene_id)\n",
    "            #break\n",
    "        count+=1\n",
    "        if count >10: break"
   ]
  },
  {
   "cell_type": "code",
   "execution_count": 58,
   "metadata": {},
   "outputs": [
    {
     "name": "stdout",
     "output_type": "stream",
     "text": [
      "[b'#Correspondence table from v5.5']\n",
      "[b'#5.5                     3.1                      Genbank                  4                        4.3                      u5                       u9                       5.3.1                    ']\n",
      "[b'Cre01.g000017.t1.1       --                       --                       --                       --                       --                       --                       g2.t1                    ']\n",
      "[b'Cre01.g000033.t1.1       --                       --                       --                       --                       --                       --                       g3.t1                    ']\n",
      "[b'Cre01.g000050.t1.1       jgi|Chlre3|153070        XM_001700274             jgi|Chlre4|153070        Cre01.g000050.t1.2       au5.g976_t1              Au9.Cre01.g000050.t1     Cre01.g000050.t1.3       ']\n",
      "[b'Cre01.g000100.t1.1       --                       --                       --                       Cre01.g000100.t1.2       --                       Au9.Cre01.g000100.t1     Cre01.g000100.t1.3       ']\n",
      "[b'Cre01.g000150.t1.2       jgi|Chlre3|153072        XM_001700275             jgi|Chlre4|153072        Cre01.g000150.t1.1       --                       Au9.Cre01.g000150.t1     Cre01.g000150.t1.2       ']\n",
      "[b'Cre01.g000200.t1.1       --                       --                       --                       Cre01.g000200.t1.2       au5.g978_t1              Au9.Cre01.g000200.t1     Cre01.g000200.t1.3       ']\n",
      "[b'Cre01.g000250.t1.2       jgi|Chlre3|153074        XM_001700304             jgi|Chlre4|153074        Cre01.g000250.t1.1       au5.g979_t1              Au9.Cre01.g000250.t1     Cre01.g000250.t1.2       ']\n",
      "[b'Cre01.g000300.t1.1       jgi|Chlre3|121979        XM_001700276             jgi|Chlre4|282442        Cre01.g000300.t1.2       au5.g980_t1              Au9.Cre01.g000300.t1     Cre01.g000300.t1.3       ']\n",
      "[b'Cre01.g000350.t1.1       jgi|Chlre3|153076        XM_001700305             jgi|Chlre4|153076        Cre01.g000350.t1.2       au5.g981_t1              Au9.Cre01.g000350.t1     Cre01.g000350.t1.3       ']\n"
     ]
    }
   ],
   "source": [
    "import gzip\n",
    "import re\n",
    "file_path='/scratch/research/projects/chlamydomonas/lipid_selection/data/gene_name_conversion/ChlamydomonasTranscriptNameConversionBetweenReleases.Mch12b.txt.gz'\n",
    "count =0\n",
    "\n",
    "old_gene_id = 'Cre01.g000050.t1.1'\n",
    "genome_version = '5.5'\n",
    "with gzip.open(file_path, \"r\") as z:\n",
    "    for line in z:\n",
    "        line = line.strip(b'\\n').split(b'\\t')\n",
    "        count +=1\n",
    "        print(line)\n",
    "        if count >10: break"
   ]
  },
  {
   "cell_type": "code",
   "execution_count": null,
   "metadata": {},
   "outputs": [],
   "source": [
    "import re\n",
    "\n",
    "p = open(\"../../data/intermediate_data_02/matches\", \"rb\")\n",
    "matches = pickle.load(p)"
   ]
  },
  {
   "cell_type": "code",
   "execution_count": 55,
   "metadata": {},
   "outputs": [
    {
     "name": "stdout",
     "output_type": "stream",
     "text": [
      "['Cre01.g000017.t1.1', 'g2.t1']\n",
      "['Cre01.g000033.t1.1', 'g3.t1']\n",
      "['Cre01.g000050.t1.1', 'g4.t1']\n",
      "['Cre01.g000100.t1.1', 'g5.t1']\n",
      "['Cre01.g000150.t1.2', 'g6.t1', 'Cre01.g000150.t1.1']\n",
      "['Cre01.g000200.t1.1', 'g7.t1']\n",
      "['Cre01.g000250.t1.2', 'g8.t1', 'Cre01.g000250.t1.1']\n",
      "['Cre01.g000300.t1.1', 'g9.t1']\n",
      "['Cre01.g000350.t1.1', 'g10.t1']\n",
      "['Cre01.g000400.t1.2', 'Cre01.g000400.t1.1', 'g11.t1']\n",
      "['Cre01.g000450.t1.2', 'g12.t1', 'Cre01.g000450.t1.1']\n"
     ]
    }
   ],
   "source": [
    "\n",
    "file_path='/scratch/research/projects/chlamydomonas/lipid_selection/data/gene_name_conversion/Creinhardtii_281_v5.6.synonym.txt'\n",
    "count = 0\n",
    "with open(file_path) as f:\n",
    "    for line in f:\n",
    "        line = line.strip('\\n').split('\\t')\n",
    "        count +=1\n",
    "        print(line)\n",
    "        if count >10: break"
   ]
  },
  {
   "cell_type": "code",
   "execution_count": 54,
   "metadata": {},
   "outputs": [
    {
     "data": {
      "text/plain": [
       "19526"
      ]
     },
     "execution_count": 54,
     "metadata": {},
     "output_type": "execute_result"
    }
   ],
   "source": [
    "len(conversion_dict.keys())"
   ]
  },
  {
   "cell_type": "code",
   "execution_count": 52,
   "metadata": {},
   "outputs": [
    {
     "name": "stdout",
     "output_type": "stream",
     "text": [
      "[('Cre02.g119651.t1.2', ['Cre02.g119651.t1.1', 'g2485.t1']), ('Cre09.g390986.t1.1', ['Cre02.g126350.t1.1', 'g9683.t1', 'Cre02.g126350.t1.2']), ('Cre06.g311550.t1.1', ['g7207.t1'])]\n"
     ]
    }
   ],
   "source": [
    "print(list(conversion_dict.items())[:3])"
   ]
  },
  {
   "cell_type": "code",
   "execution_count": null,
   "metadata": {},
   "outputs": [],
   "source": []
  }
 ],
 "metadata": {
  "kernelspec": {
   "display_name": "Python 3",
   "language": "python",
   "name": "python3"
  },
  "language_info": {
   "codemirror_mode": {
    "name": "ipython",
    "version": 3
   },
   "file_extension": ".py",
   "mimetype": "text/x-python",
   "name": "python",
   "nbconvert_exporter": "python",
   "pygments_lexer": "ipython3",
   "version": "3.5.1"
  }
 },
 "nbformat": 4,
 "nbformat_minor": 2
}
