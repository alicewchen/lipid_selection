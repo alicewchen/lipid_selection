{
 "cells": [
  {
   "cell_type": "markdown",
   "metadata": {},
   "source": [
    "# Generate table of transcripts with associated pathways\n",
    "\n",
    "Target data structure:\n",
    "\n",
    "| gene_id | transcript_id | num_detected | num_sampled | source        | gene_symbol | pathway_id    |\n",
    "|:-------:|:-------------:|:------------:|:-----------:|:-------------:|:-----------:|:-------------:|\n",
    "| `<str>`   | `<str>`         | `<int>`        | `<int>`       | `[<str>,<str>,...]` | `<str>`       | `[<str>,<str>,...]` |\n",
    "\n",
    "\n",
    "\n",
    "Workflow:\n",
    "\n",
    "1. Query all *C. reinhardtii* v5.5 transcripts from Phytozome v12.1 using intermine. Only transcripts with identified pathways are returned in the query results.\n",
    "2. Export query results to `~/lipid_selection/data/intermediate_data_02/gene_info`"
   ]
  },
  {
   "cell_type": "code",
   "execution_count": 1,
   "metadata": {},
   "outputs": [],
   "source": [
    "import sys\n",
    "sys.path.append('/home/chenwe72/local/lib/python3.5/site-packages')\n",
    "#sys.path"
   ]
  },
  {
   "cell_type": "code",
   "execution_count": 2,
   "metadata": {},
   "outputs": [],
   "source": [
    "import pickle\n",
    "import csv\n",
    "from intermine.webservice import Service\n",
    "import pandas as pd\n",
    "import time\n",
    "import numpy as np\n",
    "import re"
   ]
  },
  {
   "cell_type": "markdown",
   "metadata": {},
   "source": [
    "## 1. Query all C. reinhardtii v5.5 transcripts from Phytozome v12.1 using intermine."
   ]
  },
  {
   "cell_type": "code",
   "execution_count": 13,
   "metadata": {},
   "outputs": [
    {
     "data": {
      "text/plain": [
       "<intermine.query.Query at 0x22d7694dd08>"
      ]
     },
     "execution_count": 13,
     "metadata": {},
     "output_type": "execute_result"
    }
   ],
   "source": [
    "#require intermine\n",
    "t0= time.time()\n",
    "service = Service(\"https://phytozome.jgi.doe.gov/phytomine/service\")\n",
    "query = service.new_query(\"Transcript\")\n",
    "query.add_view(\n",
    "    \"primaryIdentifier\", \"gene.primaryIdentifier\", \"gene.symbol\",\n",
    "    \"gene.pathways.identifier\", \"organism.annotationVersion\"\n",
    ")\n",
    "query.add_constraint(\"organism\", \"LOOKUP\", \"Chlamydomonas reinhardtii\", code = \"A\")\n",
    "query.outerjoin(\"gene.pathways\")"
   ]
  },
  {
   "cell_type": "code",
   "execution_count": 14,
   "metadata": {},
   "outputs": [
    {
     "name": "stdout",
     "output_type": "stream",
     "text": [
      "Query took 8.237240552902222 s\n"
     ]
    }
   ],
   "source": [
    "#require csv\n",
    "\n",
    "with open('../../data/intermediate_data_02/query.csv', mode='w') as gene_info:\n",
    "    gene_info = csv.writer(gene_info, delimiter=',', quotechar='\"', quoting=csv.QUOTE_MINIMAL)\n",
    "    gene_info.writerow(['transcript_id', 'gene_id', 'gene_symbol', \"pathway_id\", \"annotation_version\"])\n",
    "    #count = 0\n",
    "    for row in query.rows():\n",
    "        #count +=1\n",
    "        gene_info.writerow([row[\"primaryIdentifier\"], row[\"gene.primaryIdentifier\"], row[\"gene.symbol\"], \\\n",
    "        row[\"gene.pathways.identifier\"], row[\"organism.annotationVersion\"]])\n",
    "        #if count >100 : break\n",
    "        \n",
    "t1= time.time()\n",
    "print(\"Query took\", t1-t0, \"s\")"
   ]
  },
  {
   "cell_type": "markdown",
   "metadata": {},
   "source": [
    "## 2. Data wrangling\n",
    "\n",
    "Reorganize query result to the follow dataframe structure:\n",
    "\n",
    "| gene_id | transcript_id | gene_symbol | pathway_id    | annotation_version   |\n",
    "|:-------:|:-------------:|:-----------:|:-------------:|:-------------:|\n",
    "| `<str>`   | `<str>`         | `<str>`       | `[<str>,<str>,...]` |`<str>`       |\n"
   ]
  },
  {
   "cell_type": "code",
   "execution_count": 5,
   "metadata": {},
   "outputs": [
    {
     "name": "stdout",
     "output_type": "stream",
     "text": [
      "Time taken 128.25716257095337 s\n"
     ]
    }
   ],
   "source": [
    "#This is faster than dictionary method\n",
    "t0= time.time()\n",
    "\n",
    "#Import query result\n",
    "gene_info = pd.read_csv(\"../../data/intermediate_data_02/query.csv\")\n",
    "\n",
    "#Group by 'transcript_id', 'gene_id',and 'annotation_version', because each transcript has only one of these\n",
    "grouped_by = ['transcript_id', 'gene_id', 'annotation_version']\n",
    "\n",
    "#Check if any transcript has more than one gene_id's, annotation_versions, or gene_symbols\n",
    "if len(gene_info.groupby(grouped_by)) == len(gene_info.groupby(['transcript_id'])):\n",
    "    grouped = gene_info.groupby(grouped_by)\n",
    "else: print(\"transcripts may have more than one gene_id's or annotation_versions\")\n",
    "    \n",
    "#Initialize empty dictionary to convert to dataframe later\n",
    "temp_dict= dict((key,[]) for key in gene_info.columns)\n",
    "\n",
    "\n",
    "for name, group in grouped: \n",
    "\n",
    "    #each name is a unique combination of 'transcript_id', 'gene_id',and 'annotation_version'\n",
    "    #group is the groupby dataframe of that combination\n",
    "    \n",
    "    for i in ['transcript_id', 'gene_id', 'annotation_version','gene_symbol']:\n",
    "        \n",
    "        ls = list(group.dropna(subset=[i])[i])\n",
    "        if len(ls)==0:temp_dict[i].append(None)\n",
    "        elif len(list(np.unique(ls)))==1: temp_dict[i].append(ls[0])\n",
    "            \n",
    "    i = 'pathway_id'  \n",
    "    ls = list(group.dropna(subset=[i])[i])\n",
    "    if len(ls) ==0:temp_dict[i].append(None)\n",
    "    elif len(ls) >0: temp_dict[i].append(list(np.unique(ls)))\n",
    "            \n",
    "df = pd.DataFrame(temp_dict)\n",
    "    \n",
    "t1= time.time()\n",
    "print(\"Time taken\", t1-t0, \"s\")\n"
   ]
  },
  {
   "cell_type": "raw",
   "metadata": {},
   "source": [
    "#Check output format\n",
    "for key, value in temp_dict.items():\n",
    "    print(len(value), value[:10], \"\\n\")\n",
    "print(temp_dict.values)"
   ]
  },
  {
   "cell_type": "markdown",
   "metadata": {},
   "source": [
    "## 3. Query result summary"
   ]
  },
  {
   "cell_type": "code",
   "execution_count": 6,
   "metadata": {},
   "outputs": [
    {
     "name": "stdout",
     "output_type": "stream",
     "text": [
      "Query returned 22282 results and 19526 unique transcripts.\n",
      "1216 unique transcripts have matching pathways.\n"
     ]
    }
   ],
   "source": [
    "#export results\n",
    "df.to_csv(\"../../data/intermediate_data_02/gene_info.csv\", index = False, header = True)\n",
    "\n",
    "print(\"Query returned\", gene_info.shape[0], \"results and\", len(np.unique(gene_info.transcript_id)), \"unique transcripts.\")\n",
    "#gene_info.pathway_id = gene_info.pathway_id.apply(lambda x: x.split(\" \")[1])\n",
    "#temp = gene_info.dropna(subset = ['pathway_id'])\n",
    "print(len(np.unique(gene_info.dropna(subset=['pathway_id']).transcript_id)), \"unique transcripts have matching pathways.\")"
   ]
  },
  {
   "cell_type": "markdown",
   "metadata": {},
   "source": [
    "#### Check if all transcripts in int_data02 have matching transcripts in query result"
   ]
  },
  {
   "cell_type": "code",
   "execution_count": 7,
   "metadata": {},
   "outputs": [],
   "source": [
    "#test cell\n",
    "import math\n",
    "\n",
    "def JumpSearch (lys, val):\n",
    "    \n",
    "    '''This function returns the position of the element in the list lys that contains the string pattern lys. If no match \n",
    "    \n",
    "    Usage: lys = list of strings to search through; val = string pattern to search for\n",
    "    \n",
    "    Warning: This function only works when the beginning of the string matches val'''\n",
    "    \n",
    "    length = len(lys)\n",
    "    jump = int(math.sqrt(length))\n",
    "    left, right = 0, 0\n",
    "    index_list = sorted([lys[left],val,lys[right]])\n",
    "    p = re.compile(re.escape(val))\n",
    "    while left < length and index_list.index(lys[left]) <= index_list.index(val):\n",
    "        right = min(length - 1, left + jump)\n",
    "        index_list = sorted([lys[left],val,lys[right]])\n",
    "        if index_list.index(lys[left]) <= index_list.index(val) and index_list.index(lys[right]) >= index_list.index(val):\n",
    "            break\n",
    "        left += jump;\n",
    "        \n",
    "    if left >= length or index_list.index(lys[left]) > index_list.index(val):\n",
    "        return -1\n",
    "    right = min(length-1, right)\n",
    "    i = left\n",
    "    #index_list = sorted([lys[i],val])\n",
    "    while i <= right:\n",
    "        index_list = sorted([lys[i],val])\n",
    "        #print(p.search(lys[i]), lys[i])\n",
    "        if p.match(lys[i]):\n",
    "            return i\n",
    "        i += 1\n",
    "      \n",
    "    return -1"
   ]
  },
  {
   "cell_type": "code",
   "execution_count": 8,
   "metadata": {},
   "outputs": [
    {
     "data": {
      "text/html": [
       "<div>\n",
       "<style scoped>\n",
       "    .dataframe tbody tr th:only-of-type {\n",
       "        vertical-align: middle;\n",
       "    }\n",
       "\n",
       "    .dataframe tbody tr th {\n",
       "        vertical-align: top;\n",
       "    }\n",
       "\n",
       "    .dataframe thead th {\n",
       "        text-align: right;\n",
       "    }\n",
       "</style>\n",
       "<table border=\"1\" class=\"dataframe\">\n",
       "  <thead>\n",
       "    <tr style=\"text-align: right;\">\n",
       "      <th></th>\n",
       "      <th>num_detected</th>\n",
       "      <th>num_sampled</th>\n",
       "      <th>transcript_id</th>\n",
       "      <th>proportion</th>\n",
       "      <th>source</th>\n",
       "    </tr>\n",
       "  </thead>\n",
       "  <tbody>\n",
       "    <tr>\n",
       "      <td>0</td>\n",
       "      <td>0</td>\n",
       "      <td>2</td>\n",
       "      <td>Cre01.g000017.t1.1</td>\n",
       "      <td>0.000</td>\n",
       "      <td>[Bajhaiya_2016, Kwak_2017]</td>\n",
       "    </tr>\n",
       "    <tr>\n",
       "      <td>1</td>\n",
       "      <td>1</td>\n",
       "      <td>1</td>\n",
       "      <td>Cre01.g000033.t1.1</td>\n",
       "      <td>0.125</td>\n",
       "      <td>[Bajhaiya_2016]</td>\n",
       "    </tr>\n",
       "    <tr>\n",
       "      <td>2</td>\n",
       "      <td>0</td>\n",
       "      <td>1</td>\n",
       "      <td>Cre01.g000050.t1.1</td>\n",
       "      <td>0.000</td>\n",
       "      <td>[Gargouri_2015]</td>\n",
       "    </tr>\n",
       "    <tr>\n",
       "      <td>3</td>\n",
       "      <td>0</td>\n",
       "      <td>1</td>\n",
       "      <td>Cre01.g000100.t1.1</td>\n",
       "      <td>0.000</td>\n",
       "      <td>[Bajhaiya_2016]</td>\n",
       "    </tr>\n",
       "    <tr>\n",
       "      <td>4</td>\n",
       "      <td>1</td>\n",
       "      <td>1</td>\n",
       "      <td>Cre01.g000150.t1.2</td>\n",
       "      <td>0.125</td>\n",
       "      <td>[Bajhaiya_2016]</td>\n",
       "    </tr>\n",
       "    <tr>\n",
       "      <td>...</td>\n",
       "      <td>...</td>\n",
       "      <td>...</td>\n",
       "      <td>...</td>\n",
       "      <td>...</td>\n",
       "      <td>...</td>\n",
       "    </tr>\n",
       "    <tr>\n",
       "      <td>17951</td>\n",
       "      <td>0</td>\n",
       "      <td>1</td>\n",
       "      <td>Cre50.g761447.t1.1</td>\n",
       "      <td>0.000</td>\n",
       "      <td>[Bajhaiya_2016]</td>\n",
       "    </tr>\n",
       "    <tr>\n",
       "      <td>17952</td>\n",
       "      <td>1</td>\n",
       "      <td>1</td>\n",
       "      <td>Cre50.g761497.t1.1</td>\n",
       "      <td>0.125</td>\n",
       "      <td>[Bajhaiya_2016]</td>\n",
       "    </tr>\n",
       "    <tr>\n",
       "      <td>17953</td>\n",
       "      <td>0</td>\n",
       "      <td>1</td>\n",
       "      <td>Cre51.g761547.t1.1</td>\n",
       "      <td>0.000</td>\n",
       "      <td>[Bajhaiya_2016]</td>\n",
       "    </tr>\n",
       "    <tr>\n",
       "      <td>17954</td>\n",
       "      <td>0</td>\n",
       "      <td>1</td>\n",
       "      <td>Cre51.g761597.t1.1</td>\n",
       "      <td>0.000</td>\n",
       "      <td>[Bajhaiya_2016]</td>\n",
       "    </tr>\n",
       "    <tr>\n",
       "      <td>17955</td>\n",
       "      <td>0</td>\n",
       "      <td>1</td>\n",
       "      <td>Cre52.g761647.t1.1</td>\n",
       "      <td>0.000</td>\n",
       "      <td>[Bajhaiya_2016]</td>\n",
       "    </tr>\n",
       "  </tbody>\n",
       "</table>\n",
       "<p>17956 rows × 5 columns</p>\n",
       "</div>"
      ],
      "text/plain": [
       "       num_detected  num_sampled       transcript_id  proportion  \\\n",
       "0                 0            2  Cre01.g000017.t1.1       0.000   \n",
       "1                 1            1  Cre01.g000033.t1.1       0.125   \n",
       "2                 0            1  Cre01.g000050.t1.1       0.000   \n",
       "3                 0            1  Cre01.g000100.t1.1       0.000   \n",
       "4                 1            1  Cre01.g000150.t1.2       0.125   \n",
       "...             ...          ...                 ...         ...   \n",
       "17951             0            1  Cre50.g761447.t1.1       0.000   \n",
       "17952             1            1  Cre50.g761497.t1.1       0.125   \n",
       "17953             0            1  Cre51.g761547.t1.1       0.000   \n",
       "17954             0            1  Cre51.g761597.t1.1       0.000   \n",
       "17955             0            1  Cre52.g761647.t1.1       0.000   \n",
       "\n",
       "                           source  \n",
       "0      [Bajhaiya_2016, Kwak_2017]  \n",
       "1                 [Bajhaiya_2016]  \n",
       "2                 [Gargouri_2015]  \n",
       "3                 [Bajhaiya_2016]  \n",
       "4                 [Bajhaiya_2016]  \n",
       "...                           ...  \n",
       "17951             [Bajhaiya_2016]  \n",
       "17952             [Bajhaiya_2016]  \n",
       "17953             [Bajhaiya_2016]  \n",
       "17954             [Bajhaiya_2016]  \n",
       "17955             [Bajhaiya_2016]  \n",
       "\n",
       "[17956 rows x 5 columns]"
      ]
     },
     "execution_count": 8,
     "metadata": {},
     "output_type": "execute_result"
    }
   ],
   "source": [
    "#require pickle\n",
    "int_data02 = pd.read_pickle(\"../../data/intermediate_data_02/int_data02\")\n",
    "int_data02 = int_data02.rename(columns = {'gene_id':'transcript_id'})\n",
    "int_data02.reset_index(drop=True) "
   ]
  },
  {
   "cell_type": "code",
   "execution_count": 9,
   "metadata": {},
   "outputs": [
    {
     "name": "stdout",
     "output_type": "stream",
     "text": [
      "99.41212439537048 s\n"
     ]
    }
   ],
   "source": [
    "cannot_find_matching_transcript = []\n",
    "t0= time.time()\n",
    "for gene in list(int_data02.transcript_id):\n",
    "    \n",
    "    q =  JumpSearch(np.unique(df.transcript_id), gene) \n",
    "    \n",
    "    if q== -1: cannot_find_matching_transcript.append(gene)\n",
    "        \n",
    "    else: pass\n",
    "    \n",
    "t1 = time.time()\n",
    "print(t1-t0, \"s\")"
   ]
  },
  {
   "cell_type": "code",
   "execution_count": 10,
   "metadata": {},
   "outputs": [
    {
     "name": "stdout",
     "output_type": "stream",
     "text": [
      "All transcripts from ~/data/intermediate_data_02/int_data02 have matching transcripts in Phytozome v12.1 query.\n"
     ]
    }
   ],
   "source": [
    "if len(cannot_find_matching_transcript)>0: \n",
    "    print(len(cannot_find_matching_transcript), cannot_find_matching_transcript)\n",
    "\n",
    "else: print(\"All transcripts from ~/data/intermediate_data_02/int_data02 have matching transcripts in Phytozome v12.1 query.\")"
   ]
  },
  {
   "cell_type": "markdown",
   "metadata": {},
   "source": [
    "## 4. Merge int_data02 and gene_info.csv"
   ]
  },
  {
   "cell_type": "code",
   "execution_count": 11,
   "metadata": {},
   "outputs": [
    {
     "data": {
      "text/html": [
       "<div>\n",
       "<style scoped>\n",
       "    .dataframe tbody tr th:only-of-type {\n",
       "        vertical-align: middle;\n",
       "    }\n",
       "\n",
       "    .dataframe tbody tr th {\n",
       "        vertical-align: top;\n",
       "    }\n",
       "\n",
       "    .dataframe thead th {\n",
       "        text-align: right;\n",
       "    }\n",
       "</style>\n",
       "<table border=\"1\" class=\"dataframe\">\n",
       "  <thead>\n",
       "    <tr style=\"text-align: right;\">\n",
       "      <th></th>\n",
       "      <th>num_detected</th>\n",
       "      <th>num_sampled</th>\n",
       "      <th>transcript_id</th>\n",
       "      <th>proportion</th>\n",
       "      <th>source</th>\n",
       "      <th>gene_id</th>\n",
       "      <th>gene_symbol</th>\n",
       "      <th>pathway_id</th>\n",
       "      <th>annotation_version</th>\n",
       "    </tr>\n",
       "  </thead>\n",
       "  <tbody>\n",
       "    <tr>\n",
       "      <td>0</td>\n",
       "      <td>0</td>\n",
       "      <td>2</td>\n",
       "      <td>Cre01.g000017.t1.1</td>\n",
       "      <td>0.000</td>\n",
       "      <td>[Bajhaiya_2016, Kwak_2017]</td>\n",
       "      <td>Cre01.g000017</td>\n",
       "      <td>None</td>\n",
       "      <td>None</td>\n",
       "      <td>v5.5</td>\n",
       "    </tr>\n",
       "    <tr>\n",
       "      <td>1</td>\n",
       "      <td>1</td>\n",
       "      <td>1</td>\n",
       "      <td>Cre01.g000033.t1.1</td>\n",
       "      <td>0.125</td>\n",
       "      <td>[Bajhaiya_2016]</td>\n",
       "      <td>Cre01.g000033</td>\n",
       "      <td>None</td>\n",
       "      <td>None</td>\n",
       "      <td>v5.5</td>\n",
       "    </tr>\n",
       "    <tr>\n",
       "      <td>2</td>\n",
       "      <td>0</td>\n",
       "      <td>1</td>\n",
       "      <td>Cre01.g000050.t1.1</td>\n",
       "      <td>0.000</td>\n",
       "      <td>[Gargouri_2015]</td>\n",
       "      <td>Cre01.g000050</td>\n",
       "      <td>None</td>\n",
       "      <td>None</td>\n",
       "      <td>v5.5</td>\n",
       "    </tr>\n",
       "    <tr>\n",
       "      <td>3</td>\n",
       "      <td>0</td>\n",
       "      <td>1</td>\n",
       "      <td>Cre01.g000100.t1.1</td>\n",
       "      <td>0.000</td>\n",
       "      <td>[Bajhaiya_2016]</td>\n",
       "      <td>Cre01.g000100</td>\n",
       "      <td>None</td>\n",
       "      <td>None</td>\n",
       "      <td>v5.5</td>\n",
       "    </tr>\n",
       "    <tr>\n",
       "      <td>4</td>\n",
       "      <td>1</td>\n",
       "      <td>1</td>\n",
       "      <td>Cre01.g000150.t1.2</td>\n",
       "      <td>0.125</td>\n",
       "      <td>[Bajhaiya_2016]</td>\n",
       "      <td>Cre01.g000150</td>\n",
       "      <td>ZRT2</td>\n",
       "      <td>None</td>\n",
       "      <td>v5.5</td>\n",
       "    </tr>\n",
       "  </tbody>\n",
       "</table>\n",
       "</div>"
      ],
      "text/plain": [
       "   num_detected  num_sampled       transcript_id  proportion  \\\n",
       "0             0            2  Cre01.g000017.t1.1       0.000   \n",
       "1             1            1  Cre01.g000033.t1.1       0.125   \n",
       "2             0            1  Cre01.g000050.t1.1       0.000   \n",
       "3             0            1  Cre01.g000100.t1.1       0.000   \n",
       "4             1            1  Cre01.g000150.t1.2       0.125   \n",
       "\n",
       "                       source        gene_id gene_symbol pathway_id  \\\n",
       "0  [Bajhaiya_2016, Kwak_2017]  Cre01.g000017        None       None   \n",
       "1             [Bajhaiya_2016]  Cre01.g000033        None       None   \n",
       "2             [Gargouri_2015]  Cre01.g000050        None       None   \n",
       "3             [Bajhaiya_2016]  Cre01.g000100        None       None   \n",
       "4             [Bajhaiya_2016]  Cre01.g000150        ZRT2       None   \n",
       "\n",
       "  annotation_version  \n",
       "0               v5.5  \n",
       "1               v5.5  \n",
       "2               v5.5  \n",
       "3               v5.5  \n",
       "4               v5.5  "
      ]
     },
     "execution_count": 11,
     "metadata": {},
     "output_type": "execute_result"
    }
   ],
   "source": [
    "merged = pd.merge(int_data02, df)\n",
    "merged[:5]"
   ]
  },
  {
   "cell_type": "markdown",
   "metadata": {},
   "source": [
    "#### Export merged dataframe as `~/lipid_selection/data/intermediate_data_02/gene_info`"
   ]
  },
  {
   "cell_type": "code",
   "execution_count": 12,
   "metadata": {},
   "outputs": [],
   "source": [
    "merged.to_csv(\"../../data/intermediate_data_02/merged.csv\", index = False, header = True)"
   ]
  },
  {
   "cell_type": "code",
   "execution_count": null,
   "metadata": {},
   "outputs": [],
   "source": []
  }
 ],
 "metadata": {
  "kernelspec": {
   "display_name": "Python 3",
   "language": "python",
   "name": "python3"
  },
  "language_info": {
   "codemirror_mode": {
    "name": "ipython",
    "version": 3
   },
   "file_extension": ".py",
   "mimetype": "text/x-python",
   "name": "python",
   "nbconvert_exporter": "python",
   "pygments_lexer": "ipython3",
   "version": "3.7.4"
  }
 },
 "nbformat": 4,
 "nbformat_minor": 4
}
