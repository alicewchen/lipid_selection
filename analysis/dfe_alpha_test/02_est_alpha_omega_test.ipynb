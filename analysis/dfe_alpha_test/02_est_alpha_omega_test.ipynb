{
 "cells": [
  {
   "cell_type": "code",
   "execution_count": 23,
   "metadata": {},
   "outputs": [],
   "source": [
    "import pickle\n",
    "import csv\n",
    "import pandas as pd"
   ]
  },
  {
   "cell_type": "markdown",
   "metadata": {},
   "source": [
    "## 1. Run est_dfe"
   ]
  },
  {
   "cell_type": "code",
   "execution_count": 13,
   "metadata": {},
   "outputs": [
    {
     "name": "stdout",
     "output_type": "stream",
     "text": [
      "/home/chenwe72/miniconda3/bin:/home/chenwe72/miniconda3/condabin:/usr/local/bin:/usr/local/bin:/usr/lib64/qt-3.3/bin:/usr/local/bin:/usr/local/bin:/bin:/usr/bin:/usr/local/sbin:/usr/sbin:/sbin:/opt/amos/bin:/opt/bbmap:/opt/bcl2fastq2/bin:/opt/bcftools/1.10.2:/opt/beast/bin:/opt/bedtools2/bin:/opt/blat:/opt/bowtie2:/opt/bwa/0.7.17:/opt/canu/Linux-amd64/bin:/opt/diamond:/opt/fastpmaster/0.20.1:/opt/fastqc/0.11.9:/opt/freebayes/1.3.1:/opt/idba/bin:/opt/megan:/opt/miniasm:/opt/minimap2:/opt/mummer/bin:/opt/ORG.asm-1.0.00-alpha10/bin:/opt/pandoc/2.9.2.1:/opt/pilon:/opt/qualimap/2.2.1:/opt/quast:/opt/samblaster:/opt/samtools/1.10:/opt/sratoolkit/bin:/opt/star:/opt/vsearch/bin:/opt/yaha/bin:HOME/bin:/opt/amos/bin:/opt/bbmap:/opt/bcl2fastq2/bin:/opt/bcftools/1.10.2:/opt/beast/bin:/opt/bedtools2/bin:/opt/blat:/opt/bowtie2:/opt/bwa/0.7.17:/opt/canu/Linux-amd64/bin:/opt/diamond:/opt/fastpmaster/0.20.1:/opt/fastqc/0.11.9:/opt/freebayes/1.3.1:/opt/idba/bin:/opt/megan:/opt/miniasm:/opt/minimap2:/opt/mummer/bin:/opt/ORG.asm-1.0.00-alpha10/bin:/opt/pandoc/2.9.2.1:/opt/pilon:/opt/qualimap/2.2.1:/opt/quast:/opt/samblaster:/opt/samtools/1.10:/opt/sratoolkit/bin:/opt/star:/opt/vsearch/bin:/opt/yaha/bin:HOME/bin:/scratch/research/tmp_apps/dfe-alpha-release-2.16:/opt/amos/bin:/opt/bbmap:/opt/bcl2fastq2/bin:/opt/bcftools/1.10.2:/opt/beast/bin:/opt/bedtools2/bin:/opt/blat:/opt/bowtie2:/opt/bwa/0.7.17:/opt/canu/Linux-amd64/bin:/opt/diamond:/opt/fastpmaster/0.20.1:/opt/fastqc/0.11.9:/opt/freebayes/1.3.1:/opt/idba/bin:/opt/megan:/opt/miniasm:/opt/minimap2:/opt/mummer/bin:/opt/ORG.asm-1.0.00-alpha10/bin:/opt/pandoc/2.9.2.1:/opt/pilon:/opt/qualimap/2.2.1:/opt/quast:/opt/samblaster:/opt/samtools/1.10:/opt/sratoolkit/bin:/opt/star:/opt/vsearch/bin:/opt/yaha/bin\n",
      "/opt/intel/compilers_and_libraries_2017.4.196/linux/tbb/lib/intel64_lin_mic:/opt/intel/compilers_and_libraries_2017.4.196/linux/tbb/lib/intel64_lin/gcc4.7:/opt/intel/compilers_and_libraries_2017.4.196/linux/tbb/lib/intel64_lin/gcc4.4:/opt/intel/compilers_and_libraries_2017.4.196/linux/tbb/lib/intel64_lin/gcc4.1:/usr/local/BerkeleyDB.4.8/lib/:/opt/intel/compilers_and_libraries_2017.4.196/linux/tbb/lib/intel64_lin_mic:/opt/intel/compilers_and_libraries_2017.4.196/linux/tbb/lib/intel64_lin/gcc4.7:/opt/intel/compilers_and_libraries_2017.4.196/linux/tbb/lib/intel64_lin/gcc4.4:/opt/intel/compilers_and_libraries_2017.4.196/linux/tbb/lib/intel64_lin/gcc4.1:/usr/local/BerkeleyDB.4.8/lib/:/opt/intel/compilers_and_libraries_2017.4.196/linux/tbb/lib/intel64_lin_mic:/opt/intel/compilers_and_libraries_2017.4.196/linux/tbb/lib/intel64_lin/gcc4.7:/opt/intel/compilers_and_libraries_2017.4.196/linux/tbb/lib/intel64_lin/gcc4.4:/opt/intel/compilers_and_libraries_2017.4.196/linux/tbb/lib/intel64_lin/gcc4.1:/usr/local/BerkeleyDB.4.8/lib/::/usr/local/lib/\n",
      ".\n",
      "..\n",
      ".ipynb_checkpoints\n",
      "divergence_file.txt\n",
      "est_alpha_omega_config.txt\n",
      "est_dfe.out\n",
      "est_dfe_neut_config.txt\n",
      "est_dfe_sel_config.txt\n",
      "log.txt\n",
      "neut_egf.out\n",
      "neut_exp_obs_allele_freqs.csv\n",
      "neutral\n",
      "selected\n",
      "sfs_input_file.txt\n",
      "test_config.txt\n",
      "test_input.txt\n"
     ]
    }
   ],
   "source": [
    "%%bash\n",
    "export PATH=$PATH:/scratch/research/tmp_apps/dfe-alpha-release-2.16/\n",
    "source ~/.bashrc\n",
    "echo $PATH\n",
    "export LD_LIBRARY_PATH=$LD_LIBRARY_PATH:/usr/local/lib/\n",
    "echo $LD_LIBRARY_PATH\n",
    "cd ../../data/dfe_alpha/test/\n",
    "ls -a\n",
    "est_dfe -c est_dfe_neut_config.txt &> log.txt\n",
    "est_dfe -c est_dfe_sel_config.txt &>> log.txt"
   ]
  },
  {
   "cell_type": "markdown",
   "metadata": {},
   "source": [
    "# 2. Omega alpha"
   ]
  },
  {
   "cell_type": "code",
   "execution_count": 14,
   "metadata": {},
   "outputs": [
    {
     "name": "stdout",
     "output_type": "stream",
     "text": [
      "/home/chenwe72/miniconda3/bin:/home/chenwe72/miniconda3/condabin:/usr/local/bin:/usr/local/bin:/usr/lib64/qt-3.3/bin:/usr/local/bin:/usr/local/bin:/bin:/usr/bin:/usr/local/sbin:/usr/sbin:/sbin:/opt/amos/bin:/opt/bbmap:/opt/bcl2fastq2/bin:/opt/bcftools/1.10.2:/opt/beast/bin:/opt/bedtools2/bin:/opt/blat:/opt/bowtie2:/opt/bwa/0.7.17:/opt/canu/Linux-amd64/bin:/opt/diamond:/opt/fastpmaster/0.20.1:/opt/fastqc/0.11.9:/opt/freebayes/1.3.1:/opt/idba/bin:/opt/megan:/opt/miniasm:/opt/minimap2:/opt/mummer/bin:/opt/ORG.asm-1.0.00-alpha10/bin:/opt/pandoc/2.9.2.1:/opt/pilon:/opt/qualimap/2.2.1:/opt/quast:/opt/samblaster:/opt/samtools/1.10:/opt/sratoolkit/bin:/opt/star:/opt/vsearch/bin:/opt/yaha/bin:HOME/bin:/opt/amos/bin:/opt/bbmap:/opt/bcl2fastq2/bin:/opt/bcftools/1.10.2:/opt/beast/bin:/opt/bedtools2/bin:/opt/blat:/opt/bowtie2:/opt/bwa/0.7.17:/opt/canu/Linux-amd64/bin:/opt/diamond:/opt/fastpmaster/0.20.1:/opt/fastqc/0.11.9:/opt/freebayes/1.3.1:/opt/idba/bin:/opt/megan:/opt/miniasm:/opt/minimap2:/opt/mummer/bin:/opt/ORG.asm-1.0.00-alpha10/bin:/opt/pandoc/2.9.2.1:/opt/pilon:/opt/qualimap/2.2.1:/opt/quast:/opt/samblaster:/opt/samtools/1.10:/opt/sratoolkit/bin:/opt/star:/opt/vsearch/bin:/opt/yaha/bin:HOME/bin:/scratch/research/tmp_apps/dfe-alpha-release-2.16:/opt/amos/bin:/opt/bbmap:/opt/bcl2fastq2/bin:/opt/bcftools/1.10.2:/opt/beast/bin:/opt/bedtools2/bin:/opt/blat:/opt/bowtie2:/opt/bwa/0.7.17:/opt/canu/Linux-amd64/bin:/opt/diamond:/opt/fastpmaster/0.20.1:/opt/fastqc/0.11.9:/opt/freebayes/1.3.1:/opt/idba/bin:/opt/megan:/opt/miniasm:/opt/minimap2:/opt/mummer/bin:/opt/ORG.asm-1.0.00-alpha10/bin:/opt/pandoc/2.9.2.1:/opt/pilon:/opt/qualimap/2.2.1:/opt/quast:/opt/samblaster:/opt/samtools/1.10:/opt/sratoolkit/bin:/opt/star:/opt/vsearch/bin:/opt/yaha/bin\n",
      "/opt/intel/compilers_and_libraries_2017.4.196/linux/tbb/lib/intel64_lin_mic:/opt/intel/compilers_and_libraries_2017.4.196/linux/tbb/lib/intel64_lin/gcc4.7:/opt/intel/compilers_and_libraries_2017.4.196/linux/tbb/lib/intel64_lin/gcc4.4:/opt/intel/compilers_and_libraries_2017.4.196/linux/tbb/lib/intel64_lin/gcc4.1:/usr/local/BerkeleyDB.4.8/lib/:/opt/intel/compilers_and_libraries_2017.4.196/linux/tbb/lib/intel64_lin_mic:/opt/intel/compilers_and_libraries_2017.4.196/linux/tbb/lib/intel64_lin/gcc4.7:/opt/intel/compilers_and_libraries_2017.4.196/linux/tbb/lib/intel64_lin/gcc4.4:/opt/intel/compilers_and_libraries_2017.4.196/linux/tbb/lib/intel64_lin/gcc4.1:/usr/local/BerkeleyDB.4.8/lib/:/opt/intel/compilers_and_libraries_2017.4.196/linux/tbb/lib/intel64_lin_mic:/opt/intel/compilers_and_libraries_2017.4.196/linux/tbb/lib/intel64_lin/gcc4.7:/opt/intel/compilers_and_libraries_2017.4.196/linux/tbb/lib/intel64_lin/gcc4.4:/opt/intel/compilers_and_libraries_2017.4.196/linux/tbb/lib/intel64_lin/gcc4.1:/usr/local/BerkeleyDB.4.8/lib/::/usr/local/lib/\n",
      ".\n",
      "..\n",
      ".ipynb_checkpoints\n",
      "divergence_file.txt\n",
      "est_alpha_omega_config.txt\n",
      "est_dfe.out\n",
      "est_dfe_neut_config.txt\n",
      "est_dfe_sel_config.txt\n",
      "log.txt\n",
      "neut_egf.out\n",
      "neut_exp_obs_allele_freqs.csv\n",
      "neutral\n",
      "selected\n",
      "sfs_input_file.txt\n",
      "test_config.txt\n",
      "test_input.txt\n"
     ]
    }
   ],
   "source": [
    "%%bash\n",
    "export PATH=$PATH:/scratch/research/tmp_apps/dfe-alpha-release-2.16/\n",
    "source ~/.bashrc\n",
    "echo $PATH\n",
    "export LD_LIBRARY_PATH=$LD_LIBRARY_PATH:/usr/local/lib/\n",
    "echo $LD_LIBRARY_PATH\n",
    "cd ../../data/dfe_alpha/test/\n",
    "ls -a\n",
    "est_alpha_omega -c est_alpha_omega_config.txt &>> log.txt"
   ]
  },
  {
   "cell_type": "markdown",
   "metadata": {},
   "source": [
    "- missing sel_egf.out\n",
    "- class0 = neutral\n",
    "- class1 = selected; class1.config expects to see results of class0 run"
   ]
  },
  {
   "cell_type": "markdown",
   "metadata": {},
   "source": [
    "# 3. Prop_mut"
   ]
  },
  {
   "cell_type": "code",
   "execution_count": 16,
   "metadata": {},
   "outputs": [
    {
     "name": "stdout",
     "output_type": "stream",
     "text": [
      "/home/chenwe72/miniconda3/bin:/home/chenwe72/miniconda3/condabin:/usr/local/bin:/usr/local/bin:/usr/lib64/qt-3.3/bin:/usr/local/bin:/usr/local/bin:/bin:/usr/bin:/usr/local/sbin:/usr/sbin:/sbin:/opt/amos/bin:/opt/bbmap:/opt/bcl2fastq2/bin:/opt/bcftools/1.10.2:/opt/beast/bin:/opt/bedtools2/bin:/opt/blat:/opt/bowtie2:/opt/bwa/0.7.17:/opt/canu/Linux-amd64/bin:/opt/diamond:/opt/fastpmaster/0.20.1:/opt/fastqc/0.11.9:/opt/freebayes/1.3.1:/opt/idba/bin:/opt/megan:/opt/miniasm:/opt/minimap2:/opt/mummer/bin:/opt/ORG.asm-1.0.00-alpha10/bin:/opt/pandoc/2.9.2.1:/opt/pilon:/opt/qualimap/2.2.1:/opt/quast:/opt/samblaster:/opt/samtools/1.10:/opt/sratoolkit/bin:/opt/star:/opt/vsearch/bin:/opt/yaha/bin:HOME/bin:/opt/amos/bin:/opt/bbmap:/opt/bcl2fastq2/bin:/opt/bcftools/1.10.2:/opt/beast/bin:/opt/bedtools2/bin:/opt/blat:/opt/bowtie2:/opt/bwa/0.7.17:/opt/canu/Linux-amd64/bin:/opt/diamond:/opt/fastpmaster/0.20.1:/opt/fastqc/0.11.9:/opt/freebayes/1.3.1:/opt/idba/bin:/opt/megan:/opt/miniasm:/opt/minimap2:/opt/mummer/bin:/opt/ORG.asm-1.0.00-alpha10/bin:/opt/pandoc/2.9.2.1:/opt/pilon:/opt/qualimap/2.2.1:/opt/quast:/opt/samblaster:/opt/samtools/1.10:/opt/sratoolkit/bin:/opt/star:/opt/vsearch/bin:/opt/yaha/bin:HOME/bin:/scratch/research/tmp_apps/dfe-alpha-release-2.16:/opt/amos/bin:/opt/bbmap:/opt/bcl2fastq2/bin:/opt/bcftools/1.10.2:/opt/beast/bin:/opt/bedtools2/bin:/opt/blat:/opt/bowtie2:/opt/bwa/0.7.17:/opt/canu/Linux-amd64/bin:/opt/diamond:/opt/fastpmaster/0.20.1:/opt/fastqc/0.11.9:/opt/freebayes/1.3.1:/opt/idba/bin:/opt/megan:/opt/miniasm:/opt/minimap2:/opt/mummer/bin:/opt/ORG.asm-1.0.00-alpha10/bin:/opt/pandoc/2.9.2.1:/opt/pilon:/opt/qualimap/2.2.1:/opt/quast:/opt/samblaster:/opt/samtools/1.10:/opt/sratoolkit/bin:/opt/star:/opt/vsearch/bin:/opt/yaha/bin\n",
      "/opt/intel/compilers_and_libraries_2017.4.196/linux/tbb/lib/intel64_lin_mic:/opt/intel/compilers_and_libraries_2017.4.196/linux/tbb/lib/intel64_lin/gcc4.7:/opt/intel/compilers_and_libraries_2017.4.196/linux/tbb/lib/intel64_lin/gcc4.4:/opt/intel/compilers_and_libraries_2017.4.196/linux/tbb/lib/intel64_lin/gcc4.1:/usr/local/BerkeleyDB.4.8/lib/:/opt/intel/compilers_and_libraries_2017.4.196/linux/tbb/lib/intel64_lin_mic:/opt/intel/compilers_and_libraries_2017.4.196/linux/tbb/lib/intel64_lin/gcc4.7:/opt/intel/compilers_and_libraries_2017.4.196/linux/tbb/lib/intel64_lin/gcc4.4:/opt/intel/compilers_and_libraries_2017.4.196/linux/tbb/lib/intel64_lin/gcc4.1:/usr/local/BerkeleyDB.4.8/lib/:/opt/intel/compilers_and_libraries_2017.4.196/linux/tbb/lib/intel64_lin_mic:/opt/intel/compilers_and_libraries_2017.4.196/linux/tbb/lib/intel64_lin/gcc4.7:/opt/intel/compilers_and_libraries_2017.4.196/linux/tbb/lib/intel64_lin/gcc4.4:/opt/intel/compilers_and_libraries_2017.4.196/linux/tbb/lib/intel64_lin/gcc4.1:/usr/local/BerkeleyDB.4.8/lib/::/usr/local/lib/\n",
      ".\n",
      "..\n",
      ".ipynb_checkpoints\n",
      "divergence_file.txt\n",
      "est_alpha_omega.out\n",
      "est_alpha_omega_config.txt\n",
      "est_dfe_neut_config.txt\n",
      "est_dfe_sel_config.txt\n",
      "log.txt\n",
      "neutral\n",
      "output_file\n",
      "selected\n",
      "sfs_input_file.txt\n",
      "prop_muts_in_s_ranges.c: version 1.02\n",
      "Output file expected\n",
      "Opened file output_file for write, overwrite mode.\n",
      "n2 99.230000\n",
      "es -5316.902748\n",
      "beta 0.095500\n",
      "mean_ns 527596.259684\n",
      "lower 0.000000 upper 1.000000 area 0.238196\n",
      "lower 1.000000 upper 10.000000 area 0.058584\n",
      "lower 10.000000 upper 100.000000 area 0.072992\n",
      "lower 100.000000 upper -99.000000 area 0.630227\n",
      "Total area 1.000000\n"
     ]
    }
   ],
   "source": [
    "%%bash\n",
    "export PATH=$PATH:/scratch/research/tmp_apps/dfe-alpha-release-2.16/\n",
    "source ~/.bashrc\n",
    "echo $PATH\n",
    "export LD_LIBRARY_PATH=$LD_LIBRARY_PATH:/usr/local/lib/\n",
    "echo $LD_LIBRARY_PATH\n",
    "cd ../../data/dfe_alpha/test/\n",
    "ls -a\n",
    "est_alpha_omega -c est_alpha_omega_config.txt &>> log.txt\n",
    "prop_muts_in_s_ranges -c selected/est_dfe.out -o output_file"
   ]
  },
  {
   "cell_type": "markdown",
   "metadata": {},
   "source": [
    "# 4. Try all together"
   ]
  },
  {
   "cell_type": "code",
   "execution_count": 17,
   "metadata": {},
   "outputs": [
    {
     "name": "stdout",
     "output_type": "stream",
     "text": [
      "/home/chenwe72/miniconda3/bin:/home/chenwe72/miniconda3/condabin:/usr/local/bin:/usr/local/bin:/usr/lib64/qt-3.3/bin:/usr/local/bin:/usr/local/bin:/bin:/usr/bin:/usr/local/sbin:/usr/sbin:/sbin:/opt/amos/bin:/opt/bbmap:/opt/bcl2fastq2/bin:/opt/bcftools/1.10.2:/opt/beast/bin:/opt/bedtools2/bin:/opt/blat:/opt/bowtie2:/opt/bwa/0.7.17:/opt/canu/Linux-amd64/bin:/opt/diamond:/opt/fastpmaster/0.20.1:/opt/fastqc/0.11.9:/opt/freebayes/1.3.1:/opt/idba/bin:/opt/megan:/opt/miniasm:/opt/minimap2:/opt/mummer/bin:/opt/ORG.asm-1.0.00-alpha10/bin:/opt/pandoc/2.9.2.1:/opt/pilon:/opt/qualimap/2.2.1:/opt/quast:/opt/samblaster:/opt/samtools/1.10:/opt/sratoolkit/bin:/opt/star:/opt/vsearch/bin:/opt/yaha/bin:HOME/bin:/opt/amos/bin:/opt/bbmap:/opt/bcl2fastq2/bin:/opt/bcftools/1.10.2:/opt/beast/bin:/opt/bedtools2/bin:/opt/blat:/opt/bowtie2:/opt/bwa/0.7.17:/opt/canu/Linux-amd64/bin:/opt/diamond:/opt/fastpmaster/0.20.1:/opt/fastqc/0.11.9:/opt/freebayes/1.3.1:/opt/idba/bin:/opt/megan:/opt/miniasm:/opt/minimap2:/opt/mummer/bin:/opt/ORG.asm-1.0.00-alpha10/bin:/opt/pandoc/2.9.2.1:/opt/pilon:/opt/qualimap/2.2.1:/opt/quast:/opt/samblaster:/opt/samtools/1.10:/opt/sratoolkit/bin:/opt/star:/opt/vsearch/bin:/opt/yaha/bin:HOME/bin:/scratch/research/tmp_apps/dfe-alpha-release-2.16:/opt/amos/bin:/opt/bbmap:/opt/bcl2fastq2/bin:/opt/bcftools/1.10.2:/opt/beast/bin:/opt/bedtools2/bin:/opt/blat:/opt/bowtie2:/opt/bwa/0.7.17:/opt/canu/Linux-amd64/bin:/opt/diamond:/opt/fastpmaster/0.20.1:/opt/fastqc/0.11.9:/opt/freebayes/1.3.1:/opt/idba/bin:/opt/megan:/opt/miniasm:/opt/minimap2:/opt/mummer/bin:/opt/ORG.asm-1.0.00-alpha10/bin:/opt/pandoc/2.9.2.1:/opt/pilon:/opt/qualimap/2.2.1:/opt/quast:/opt/samblaster:/opt/samtools/1.10:/opt/sratoolkit/bin:/opt/star:/opt/vsearch/bin:/opt/yaha/bin\n",
      "/opt/intel/compilers_and_libraries_2017.4.196/linux/tbb/lib/intel64_lin_mic:/opt/intel/compilers_and_libraries_2017.4.196/linux/tbb/lib/intel64_lin/gcc4.7:/opt/intel/compilers_and_libraries_2017.4.196/linux/tbb/lib/intel64_lin/gcc4.4:/opt/intel/compilers_and_libraries_2017.4.196/linux/tbb/lib/intel64_lin/gcc4.1:/usr/local/BerkeleyDB.4.8/lib/:/opt/intel/compilers_and_libraries_2017.4.196/linux/tbb/lib/intel64_lin_mic:/opt/intel/compilers_and_libraries_2017.4.196/linux/tbb/lib/intel64_lin/gcc4.7:/opt/intel/compilers_and_libraries_2017.4.196/linux/tbb/lib/intel64_lin/gcc4.4:/opt/intel/compilers_and_libraries_2017.4.196/linux/tbb/lib/intel64_lin/gcc4.1:/usr/local/BerkeleyDB.4.8/lib/:/opt/intel/compilers_and_libraries_2017.4.196/linux/tbb/lib/intel64_lin_mic:/opt/intel/compilers_and_libraries_2017.4.196/linux/tbb/lib/intel64_lin/gcc4.7:/opt/intel/compilers_and_libraries_2017.4.196/linux/tbb/lib/intel64_lin/gcc4.4:/opt/intel/compilers_and_libraries_2017.4.196/linux/tbb/lib/intel64_lin/gcc4.1:/usr/local/BerkeleyDB.4.8/lib/::/usr/local/lib/\n"
     ]
    }
   ],
   "source": [
    "%%bash\n",
    "export PATH=$PATH:/scratch/research/tmp_apps/dfe-alpha-release-2.16/\n",
    "source ~/.bashrc\n",
    "echo $PATH\n",
    "export LD_LIBRARY_PATH=$LD_LIBRARY_PATH:/usr/local/lib/\n",
    "echo $LD_LIBRARY_PATH\n",
    "cd ../../data/dfe_alpha/test/\n",
    "est_dfe -c est_dfe_neut_config.txt &> log.txt\n",
    "est_dfe -c est_dfe_sel_config.txt &>> log.txt\n",
    "est_alpha_omega -c est_alpha_omega_config.txt &>> log.txt\n",
    "prop_muts_in_s_ranges -c selected/est_dfe.out -o output_file &>> log.txt"
   ]
  },
  {
   "cell_type": "code",
   "execution_count": null,
   "metadata": {},
   "outputs": [],
   "source": []
  }
 ],
 "metadata": {
  "kernelspec": {
   "display_name": "Python 3",
   "language": "python",
   "name": "python3"
  },
  "language_info": {
   "codemirror_mode": {
    "name": "ipython",
    "version": 3
   },
   "file_extension": ".py",
   "mimetype": "text/x-python",
   "name": "python",
   "nbconvert_exporter": "python",
   "pygments_lexer": "ipython3",
   "version": "3.5.1"
  }
 },
 "nbformat": 4,
 "nbformat_minor": 2
}
