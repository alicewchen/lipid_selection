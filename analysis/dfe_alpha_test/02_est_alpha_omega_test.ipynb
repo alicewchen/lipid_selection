{
 "cells": [
  {
   "cell_type": "code",
   "execution_count": 23,
   "metadata": {},
   "outputs": [],
   "source": [
    "import pickle\n",
    "import csv\n",
    "import pandas as pd"
   ]
  },
  {
   "cell_type": "code",
   "execution_count": 25,
   "metadata": {},
   "outputs": [
    {
     "name": "stdout",
     "output_type": "stream",
     "text": [
      "         PAC_id                                        neutral_SFS  \\\n",
      "0  PAC:26887927  [0, 0, 0, 0, 0, 0, 0, 0, 0, 0, 0, 0, 0, 0, 0, ...   \n",
      "1  PAC:26887929  [126, 9, 0, 1, 1, 0, 0, 0, 3, 0, 0, 0, 0, 0, 0...   \n",
      "2  PAC:26887930  [273, 12, 11, 3, 5, 6, 6, 3, 8, 0, 0, 0, 0, 0,...   \n",
      "3  PAC:26887931  [791, 38, 16, 8, 8, 8, 8, 4, 10, 1, 0, 0, 0, 0...   \n",
      "4  PAC:26887932  [127, 4, 4, 1, 1, 6, 0, 1, 1, 0, 0, 0, 0, 0, 0...   \n",
      "\n",
      "                                        selected_SFS  \n",
      "0  [0, 0, 0, 0, 0, 0, 0, 0, 0, 0, 0, 0, 0, 0, 0, ...  \n",
      "1  [399, 9, 2, 0, 0, 0, 0, 0, 1, 0, 0, 0, 0, 0, 0...  \n",
      "2  [921, 22, 15, 9, 3, 6, 1, 1, 10, 0, 0, 0, 0, 0...  \n",
      "3  [2623, 26, 7, 5, 0, 4, 2, 1, 3, 0, 0, 0, 0, 0,...  \n",
      "4  [478, 1, 0, 0, 0, 0, 0, 0, 0, 0, 0, 0, 0, 0, 0...  \n",
      "   transcript_ID Cincerta_transcript_ID  aln_len  Cr_length  Ci_length  \\\n",
      "0       26888200               g6935.t1     4230       4230       4230   \n",
      "1       26904954              g13204.t1     1041       1041       1032   \n",
      "2       26894252              g11333.t1     4617       4323       4521   \n",
      "3       26891814              g15729.t1     5127       4308       4932   \n",
      "4       26901315               g5327.t1     2289       2289       2289   \n",
      "\n",
      "   diff_percent  diffs0  sites0  diffs4  sites4        k0        k4  \n",
      "0          0.05      24    2777     113     699  0.008642  0.161660  \n",
      "1          0.09      28     655      38     217  0.042748  0.175115  \n",
      "2          0.15     231    2638     311     950  0.087566  0.327368  \n",
      "3          0.22     450    2626     325     930  0.171363  0.349462  \n",
      "4          0.05       3    1483      72     412  0.002023  0.174757  \n"
     ]
    }
   ],
   "source": [
    "with open('../../analysis/04_generate_SFS_table/reduced_SFS.pickle', \"rb\") as f:\n",
    "    reduced_SFS = pickle.load(f)\n",
    "#divergence_table = open('/scratch/research/projects/chlamydomonas/mutability/analysis/calculate_divergence/Cinc/K4K0.out.txt', \"r\", encoding=\"utf-8\")\n",
    "print(reduced_SFS.head())\n",
    "divergence_table = pd.read_csv('/scratch/research/projects/chlamydomonas/mutability/analysis/calculate_divergence/Cinc/K4K0.out.txt',delimiter=\"\\t\")\n",
    "\n",
    "print(divergence_table.head())\n",
    "#print(divergence_table.readlines()[:10])"
   ]
  },
  {
   "cell_type": "code",
   "execution_count": 27,
   "metadata": {},
   "outputs": [],
   "source": [
    "def sum_SFSs(list_of_SFSs):\n",
    "    # for a bunch of SFSs that are the same length sum them alllll up into one big one\\\n",
    "#     sfs_size = len(list_of_SFSs[0])\n",
    "#     for i in range(sfs_size):\n",
    "#         sum([sfs[i] for sfs in list_of_SFSs ]\n",
    "    total_SFS = [sum(i) for i in zip(*list_of_SFSs)]\n",
    "    return total_SFS\n",
    "\n",
    "def column2SFSs(column_of_SFSs):\n",
    "    list_of_SFSs = []\n",
    "    for s in list(column_of_SFSs):\n",
    "        exec(\"list_of_SFSs.append(\" + s + \")\")\n",
    "    return list_of_SFSs"
   ]
  },
  {
   "cell_type": "code",
   "execution_count": 31,
   "metadata": {},
   "outputs": [
    {
     "name": "stdout",
     "output_type": "stream",
     "text": [
      "perc Sites Diffs\n",
      "Selected:  18492871 2089989\n",
      "Neutral:  6237928 2028258\n"
     ]
    }
   ],
   "source": [
    "print(\"perc Sites Diffs\")\n",
    "print(\"Selected: \", sum(divergence_table.sites0), sum(divergence_table.diffs0))\n",
    "print(\"Neutral: \", sum(divergence_table.sites4), sum(divergence_table.diffs4))"
   ]
  },
  {
   "cell_type": "code",
   "execution_count": 36,
   "metadata": {},
   "outputs": [
    {
     "name": "stdout",
     "output_type": "stream",
     "text": [
      "/usr/local/bin:/usr/local/bin:/usr/lib64/qt-3.3/bin:/usr/local/bin:/usr/local/bin:/bin:/usr/bin:/usr/local/sbin:/usr/sbin:/sbin:/opt/amos/bin:/opt/bbmap:/opt/bcl2fastq2/bin:/opt/bcftools/1.10.2:/opt/beast/bin:/opt/bedtools2/bin:/opt/blat:/opt/bowtie2:/opt/bwa/0.7.17:/opt/canu/Linux-amd64/bin:/opt/diamond:/opt/fastpmaster/0.20.1:/opt/fastqc/0.11.9:/opt/freebayes/1.3.1:/opt/idba/bin:/opt/megan:/opt/miniasm:/opt/minimap2:/opt/mummer/bin:/opt/ORG.asm-1.0.00-alpha10/bin:/opt/pandoc/2.9.2.1:/opt/pilon:/opt/qualimap/2.2.1:/opt/quast:/opt/samblaster:/opt/samtools/1.10:/opt/sratoolkit/bin:/opt/star:/opt/vsearch/bin:/opt/yaha/bin:HOME/bin:/opt/amos/bin:/opt/bbmap:/opt/bcl2fastq2/bin:/opt/bcftools/1.10.2:/opt/beast/bin:/opt/bedtools2/bin:/opt/blat:/opt/bowtie2:/opt/bwa/0.7.17:/opt/canu/Linux-amd64/bin:/opt/diamond:/opt/fastpmaster/0.20.1:/opt/fastqc/0.11.9:/opt/freebayes/1.3.1:/opt/idba/bin:/opt/megan:/opt/miniasm:/opt/minimap2:/opt/mummer/bin:/opt/ORG.asm-1.0.00-alpha10/bin:/opt/pandoc/2.9.2.1:/opt/pilon:/opt/qualimap/2.2.1:/opt/quast:/opt/samblaster:/opt/samtools/1.10:/opt/sratoolkit/bin:/opt/star:/opt/vsearch/bin:/opt/yaha/bin:HOME/bin:/scratch/research/tmp_apps/dfe-alpha-release-2.16/:/opt/amos/bin:/opt/bbmap:/opt/bcl2fastq2/bin:/opt/bcftools/1.10.2:/opt/beast/bin:/opt/bedtools2/bin:/opt/blat:/opt/bowtie2:/opt/bwa/0.7.17:/opt/canu/Linux-amd64/bin:/opt/diamond:/opt/fastpmaster/0.20.1:/opt/fastqc/0.11.9:/opt/freebayes/1.3.1:/opt/idba/bin:/opt/megan:/opt/miniasm:/opt/minimap2:/opt/mummer/bin:/opt/ORG.asm-1.0.00-alpha10/bin:/opt/pandoc/2.9.2.1:/opt/pilon:/opt/qualimap/2.2.1:/opt/quast:/opt/samblaster:/opt/samtools/1.10:/opt/sratoolkit/bin:/opt/star:/opt/vsearch/bin:/opt/yaha/bin\n",
      "/opt/intel/compilers_and_libraries_2017.4.196/linux/tbb/lib/intel64_lin_mic:/opt/intel/compilers_and_libraries_2017.4.196/linux/tbb/lib/intel64_lin/gcc4.7:/opt/intel/compilers_and_libraries_2017.4.196/linux/tbb/lib/intel64_lin/gcc4.4:/opt/intel/compilers_and_libraries_2017.4.196/linux/tbb/lib/intel64_lin/gcc4.1:/usr/local/BerkeleyDB.4.8/lib/:/opt/intel/compilers_and_libraries_2017.4.196/linux/tbb/lib/intel64_lin_mic:/opt/intel/compilers_and_libraries_2017.4.196/linux/tbb/lib/intel64_lin/gcc4.7:/opt/intel/compilers_and_libraries_2017.4.196/linux/tbb/lib/intel64_lin/gcc4.4:/opt/intel/compilers_and_libraries_2017.4.196/linux/tbb/lib/intel64_lin/gcc4.1:/usr/local/BerkeleyDB.4.8/lib/:/opt/intel/compilers_and_libraries_2017.4.196/linux/tbb/lib/intel64_lin_mic:/opt/intel/compilers_and_libraries_2017.4.196/linux/tbb/lib/intel64_lin/gcc4.7:/opt/intel/compilers_and_libraries_2017.4.196/linux/tbb/lib/intel64_lin/gcc4.4:/opt/intel/compilers_and_libraries_2017.4.196/linux/tbb/lib/intel64_lin/gcc4.1:/usr/local/BerkeleyDB.4.8/lib/::/usr/local/lib/\n",
      ".\n",
      "..\n",
      ".ipynb_checkpoints\n",
      "divergence_file.txt\n",
      "est_alpha_omega_config.txt\n",
      "est_dfe_alpha_config_file.txt\n",
      "sfs_input_file.txt\n",
      "test_config.txt\n",
      "test_input.txt\n",
      "est_alpha_omega version 2.02\n",
      "Opened file est_alpha_omega_config.txt for read.\n",
      "Failed to find string b in file /scratch/research/projects/chlamydomonas/lipid_selection/data/dfe_alpha/test/output/est_dfe.out\n",
      "ERROR Problem with get_val_from_key_val_pair_in_file 0\n"
     ]
    }
   ],
   "source": [
    "%%bash\n",
    "export PATH=$PATH:/scratch/research/tmp_apps/dfe-alpha-release-2.16/\n",
    "source ~/.bashrc\n",
    "echo $PATH\n",
    "export LD_LIBRARY_PATH=$LD_LIBRARY_PATH:/usr/local/lib/\n",
    "echo $LD_LIBRARY_PATH\n",
    "cd ../../data/dfe_alpha/test/input/\n",
    "ls -a\n",
    "est_alpha_omega -c est_alpha_omega_config.txt"
   ]
  },
  {
   "cell_type": "markdown",
   "metadata": {},
   "source": [
    "- missing sel_egf.out\n",
    "- class0 = neutral\n",
    "- class1 = selected; class1.config expects to see results of class0 run"
   ]
  },
  {
   "cell_type": "code",
   "execution_count": null,
   "metadata": {},
   "outputs": [],
   "source": []
  }
 ],
 "metadata": {
  "kernelspec": {
   "display_name": "Python 3",
   "language": "python",
   "name": "python3"
  },
  "language_info": {
   "codemirror_mode": {
    "name": "ipython",
    "version": 3
   },
   "file_extension": ".py",
   "mimetype": "text/x-python",
   "name": "python",
   "nbconvert_exporter": "python",
   "pygments_lexer": "ipython3",
   "version": "3.5.1"
  }
 },
 "nbformat": 4,
 "nbformat_minor": 2
}
