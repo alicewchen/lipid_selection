{
 "cells": [
  {
   "cell_type": "markdown",
   "metadata": {},
   "source": [
    "Run Rob's code first to define functions."
   ]
  },
  {
   "cell_type": "code",
   "execution_count": 42,
   "metadata": {},
   "outputs": [],
   "source": [
    "from ness_vcf import SFS\n",
    "from pysam import TabixFile\n",
    "from annotation import annotation_table\n",
    "\n",
    "def SFSs_from_annotation(annotation_tabix, coordinates, min_alleles=None, neutral_only=False):\n",
    "    \"\"\"\n",
    "    This function will return a dictionary of SFS objects\n",
    "    The dictionary will contain one SFS for each number of alleles that can be called\n",
    "        ie min_alleles to total number of individuals sequenced\n",
    "    It is possible to combine these SFSs by:\n",
    "        rounding MAF * (number of individuals sequenced) and keeping only one SFS\n",
    "    Arguments:\n",
    "     - take a TabixFile of the annotation table\n",
    "     - the chromosome, start and end (1-based inclusive)\n",
    "     - an optional minimum number of alleles - below this the site is shiite so don't take a bite\n",
    "     - neutral_only skips sites that aren't intergenic, intronic or 4-fold degenerate\n",
    "    \"\"\"\n",
    "    SFSs = {}\n",
    "    \n",
    "    #Loop through input list of (chromosome, start, end) from gff3\n",
    "    for i in coordinates:\n",
    "        chromosome, start, end = i\n",
    "        for line in annotation_tabix.fetch(chromosome, start-1, end):\n",
    "        # `annotation_line` is a class that has all the annotation table columns as attributes \n",
    "            a = annotation_table.annotation_line(line) #a has a lot of attributes\n",
    "            allele_counts = a.quebec_alleles\n",
    "            if neutral_only and sum([int(i) for i in [a.intergenic, a.intronic, a.fold4]]) == 0: #these are all neutral/silent sites\n",
    "                continue\n",
    "            try:\n",
    "                MAF, total_alleles_called  = MAF_from_allele_count(allele_counts,min_alleles=min_alleles)\n",
    "                #if MAF > 0: print(MAF, total_alleles_called)\n",
    "            except TypeError: \n",
    "                continue\n",
    "            if min_alleles != None and total_alleles_called < min_alleles: #filter sites with too few alleles called\n",
    "                continue\n",
    "            if total_alleles_called not in SFSs: \n",
    "                #make SFS dictionary where key = n for SFS vector of length n\n",
    "                #you can't feed program with different alleles, so try to standardize and round them somehow in proportion to max alleles\n",
    "                SFSs[total_alleles_called] = SFS([0]*(total_alleles_called+1))\n",
    "            SFSs[total_alleles_called].add(MAF,total_alleles_called)\n",
    "\n",
    "\n",
    "    return SFSs\n",
    "\n",
    "\n",
    "def MAF_from_allele_count(allele_counts, min_alleles=None): # num of rare alleles/num of total alleles\n",
    "    \"\"\"\n",
    "    return the minor allele frequency and the number of called alleles\n",
    "    take a single allele_counts from annotation table ie, A:C:G:T    \n",
    "    optionally min_alleles will filter sites with too few alleles called\n",
    "    \"\"\"\n",
    "    minor_allele_count = sorted([int(i) for i in allele_counts.split(\":\")])[-2]\n",
    "    total_alleles_called = sum([int(i) for i in allele_counts.split(\":\")])\n",
    "    if min_alleles != None and total_alleles_called <= min_alleles:\n",
    "        return None\n",
    "    try:\n",
    "        MAF = minor_allele_count/float(total_alleles_called)\n",
    "        return (MAF,total_alleles_called)\n",
    "    except ZeroDivisionError:\n",
    "        return None\n",
    "    \n",
    "annotation_tabix = TabixFile(filename=\"/scratch/research/references/chlamydomonas/5.3_chlamy_w_organelles_mt_minus/annotation/concatenated_GFF/annotation_table.txt.gz\")\n",
    "##annotation_table has clones filtered out"
   ]
  },
  {
   "cell_type": "code",
   "execution_count": 43,
   "metadata": {},
   "outputs": [],
   "source": [
    "import pickle"
   ]
  },
  {
   "cell_type": "raw",
   "metadata": {},
   "source": [
    "for line in annotation_tabix.fetch('chromosome_1',0,20):\n",
    "    a = annotation_table.annotation_line(line) \n",
    "    print(dir(a))\n",
    "    print(a.line)"
   ]
  },
  {
   "cell_type": "markdown",
   "metadata": {},
   "source": [
    "### generate dfe-alpha input file\n",
    "m = No. SFSs with different numbers of alleles sampled (m)\n",
    "\n",
    "allele = No. alleles sampled in SFS i (xi) [= no. elements in unfolded vector]"
   ]
  },
  {
   "cell_type": "code",
   "execution_count": 45,
   "metadata": {},
   "outputs": [],
   "source": [
    "m = 1\n",
    "allele = 13"
   ]
  },
  {
   "cell_type": "code",
   "execution_count": 46,
   "metadata": {},
   "outputs": [],
   "source": [
    "with open('../../data/intermediate_data_from_gff/gene_set.pickle', \"rb\") as f:\n",
    "    gene_set = pickle.load(f)\n",
    "    \n",
    "SFSs= SFSs_from_annotation(annotation_tabix, gene_set, min_alleles=12, neutral_only=True)\n",
    "neutral = SFSs[allele].sfs\n",
    "\n",
    "SFSs= SFSs_from_annotation(annotation_tabix, gene_set, min_alleles=12, neutral_only=False)\n",
    "selected = SFSs[allele].sfs\n",
    "\n",
    "ls = [m, allele, selected, neutral]"
   ]
  },
  {
   "cell_type": "code",
   "execution_count": 47,
   "metadata": {},
   "outputs": [],
   "source": [
    "with open('../../data/dfe_alpha/input/sfs_input_file.txt', 'w') as f:\n",
    "    for i in ls[:2]: f.write(str(i)+\"\\n\")\n",
    "    for i in ls[2:4]: \n",
    "        for val in i: f.write(str(val)+\" \") \n",
    "        f.write(str(val)+\"\\n\") \n",
    "f.close()"
   ]
  },
  {
   "cell_type": "markdown",
   "metadata": {},
   "source": [
    "## try to run est_dfe"
   ]
  },
  {
   "cell_type": "code",
   "execution_count": 50,
   "metadata": {},
   "outputs": [
    {
     "name": "stdout",
     "output_type": "stream",
     "text": [
      "/usr/local/bin:/usr/local/bin:/usr/lib64/qt-3.3/bin:/usr/local/bin:/usr/local/bin:/bin:/usr/bin:/usr/local/sbin:/usr/sbin:/sbin:/opt/amos/bin:/opt/bbmap:/opt/bcl2fastq2/bin:/opt/bcftools/1.10.2:/opt/beast/bin:/opt/bedtools2/bin:/opt/blat:/opt/bowtie2:/opt/bwa/0.7.17:/opt/canu/Linux-amd64/bin:/opt/diamond:/opt/fastpmaster/0.20.1:/opt/fastqc/0.11.9:/opt/freebayes/1.3.1:/opt/idba/bin:/opt/megan:/opt/miniasm:/opt/minimap2:/opt/mummer/bin:/opt/ORG.asm-1.0.00-alpha10/bin:/opt/pandoc/2.9.2.1:/opt/pilon:/opt/qualimap/2.2.1:/opt/quast:/opt/samblaster:/opt/samtools/1.10:/opt/sratoolkit/bin:/opt/star:/opt/vsearch/bin:/opt/yaha/bin:HOME/bin:/opt/amos/bin:/opt/bbmap:/opt/bcl2fastq2/bin:/opt/bcftools/1.10.2:/opt/beast/bin:/opt/bedtools2/bin:/opt/blat:/opt/bowtie2:/opt/bwa/0.7.17:/opt/canu/Linux-amd64/bin:/opt/diamond:/opt/fastpmaster/0.20.1:/opt/fastqc/0.11.9:/opt/freebayes/1.3.1:/opt/idba/bin:/opt/megan:/opt/miniasm:/opt/minimap2:/opt/mummer/bin:/opt/ORG.asm-1.0.00-alpha10/bin:/opt/pandoc/2.9.2.1:/opt/pilon:/opt/qualimap/2.2.1:/opt/quast:/opt/samblaster:/opt/samtools/1.10:/opt/sratoolkit/bin:/opt/star:/opt/vsearch/bin:/opt/yaha/bin:HOME/bin:/scratch/research/tmp_apps/dfe-alpha-release-2.16/:/opt/amos/bin:/opt/bbmap:/opt/bcl2fastq2/bin:/opt/bcftools/1.10.2:/opt/beast/bin:/opt/bedtools2/bin:/opt/blat:/opt/bowtie2:/opt/bwa/0.7.17:/opt/canu/Linux-amd64/bin:/opt/diamond:/opt/fastpmaster/0.20.1:/opt/fastqc/0.11.9:/opt/freebayes/1.3.1:/opt/idba/bin:/opt/megan:/opt/miniasm:/opt/minimap2:/opt/mummer/bin:/opt/ORG.asm-1.0.00-alpha10/bin:/opt/pandoc/2.9.2.1:/opt/pilon:/opt/qualimap/2.2.1:/opt/quast:/opt/samblaster:/opt/samtools/1.10:/opt/sratoolkit/bin:/opt/star:/opt/vsearch/bin:/opt/yaha/bin\n",
      "/opt/intel/compilers_and_libraries_2017.4.196/linux/tbb/lib/intel64_lin_mic:/opt/intel/compilers_and_libraries_2017.4.196/linux/tbb/lib/intel64_lin/gcc4.7:/opt/intel/compilers_and_libraries_2017.4.196/linux/tbb/lib/intel64_lin/gcc4.4:/opt/intel/compilers_and_libraries_2017.4.196/linux/tbb/lib/intel64_lin/gcc4.1:/usr/local/BerkeleyDB.4.8/lib/:/opt/intel/compilers_and_libraries_2017.4.196/linux/tbb/lib/intel64_lin_mic:/opt/intel/compilers_and_libraries_2017.4.196/linux/tbb/lib/intel64_lin/gcc4.7:/opt/intel/compilers_and_libraries_2017.4.196/linux/tbb/lib/intel64_lin/gcc4.4:/opt/intel/compilers_and_libraries_2017.4.196/linux/tbb/lib/intel64_lin/gcc4.1:/usr/local/BerkeleyDB.4.8/lib/:/opt/intel/compilers_and_libraries_2017.4.196/linux/tbb/lib/intel64_lin_mic:/opt/intel/compilers_and_libraries_2017.4.196/linux/tbb/lib/intel64_lin/gcc4.7:/opt/intel/compilers_and_libraries_2017.4.196/linux/tbb/lib/intel64_lin/gcc4.4:/opt/intel/compilers_and_libraries_2017.4.196/linux/tbb/lib/intel64_lin/gcc4.1:/usr/local/BerkeleyDB.4.8/lib/::/usr/local/lib/\n",
      ".\n",
      "..\n",
      ".ipynb_checkpoints\n",
      "est_dfe_alpha_config_file.txt\n",
      "sfs_input_file.txt\n",
      "test_config.txt\n",
      "test_input.txt\n",
      "ML estimation of the DFE version 2.16\n",
      "Warning messages are suppressed!!!\n",
      "Opened file est_dfe_alpha_config_file.txt for read.\n",
      "Read data_path_1 /scratch/research/tmp_apps/dfe-alpha-release-2.16/data/ from est_dfe_alpha_config_file.txt\n",
      "Read est_dfe_results_dir ../output from est_dfe_alpha_config_file.txt\n",
      "Read est_dfe_demography_results_file ../output/est_dfe.out from est_dfe_alpha_config_file.txt\n",
      "Read sfs_input_file sfs_input_file.txt from est_dfe_alpha_config_file.txt\n",
      "Read site_class 0.000000 from est_dfe_alpha_config_file.txt\n",
      "Read fold 1.000000 from est_dfe_alpha_config_file.txt\n",
      "Read epochs 2.000000 from est_dfe_alpha_config_file.txt\n",
      "Read search_n2 1.000000 from est_dfe_alpha_config_file.txt\n",
      "Read t2_variable 1.000000 from est_dfe_alpha_config_file.txt\n",
      "Read t2 50.000000 from est_dfe_alpha_config_file.txt\n",
      "Opened file sfs_input_file.txt for read.\n",
      "Total sites in sfs 1698.000000\n",
      "1555.00 53.00 25.00 19.00 14.00 13.00 19.00  0.00  0.00  0.00  0.00  0.00  0.00  0.00 \n",
      "1555.000000 53.000000 25.000000 19.000000 14.000000 13.000000 19.000000 \n",
      "Total sites in sfs 286.000000\n",
      " 0.00 239.00 14.00  9.00  5.00  5.00  3.00 11.00  0.00  0.00  0.00  0.00  0.00  0.00 \n",
      "0.000000 239.000000 14.000000 9.000000 5.000000 5.000000 14.000000 \n",
      "Neutral diversity 0.182646\n",
      "fold_distrib 1\n",
      "n_epochs 2\n",
      "n1 100\n",
      "n2 0\n",
      "t2_real[0] 1.000000 t2_real[1] 50.000000\n",
      "site_class: neutral_only\n",
      "gss_n2 1\n",
      "f0[0] 1.000000 f0[1] 0.000000\n",
      "f2n[0] 0.000000 f2n[1] 0.000000\n",
      "n1 100 n2 1 t2 33.057851 f0 0.000000 logL -1481.030101 \n",
      "ML for n2 = 1 is -1481.030101, overall ML is -1481.030101 \n",
      "n1 100 n2 2 t2 80.766341 f0 0.000000 logL -692.592164 \n",
      "ML for n2 = 2 is -692.592164, overall ML is -692.592164 \n",
      "n1 100 n2 3 t2 127.277423 f0 0.000000 logL -548.196548 \n",
      "ML for n2 = 3 is -548.196548, overall ML is -548.196548 \n",
      "n1 100 n2 4 t2 203.512397 f0 0.000000 logL -99999999999.990005 \n",
      "ML for n2 = 4 is -99999999999.990005, overall ML is -548.196548 \\/ n2\n",
      "n1 100 n2 5 t2 202.266564 f0 0.000000 logL -476.376705 \n",
      "ML for n2 = 5 is -476.376705, overall ML is -476.376705 \n",
      "n1 100 n2 6 t2 266.458490 f0 0.000000 logL -466.070906 \n",
      "ML for n2 = 6 is -466.070906, overall ML is -466.070906 \n",
      "n1 100 n2 7 t2 278.438439 f0 0.000000 logL -461.164123 \n",
      "ML for n2 = 7 is -461.164123, overall ML is -461.164123 \n",
      "n1 100 n2 8 t2 282.003301 f0 0.000000 logL -459.086240 \n",
      "ML for n2 = 8 is -459.086240, overall ML is -459.086240 \n",
      "n1 100 n2 9 t2 327.085294 f0 0.000000 logL -458.594130 \n",
      "ML for n2 = 9 is -458.594130, overall ML is -458.594130 \n",
      "n1 100 n2 10 t2 467.523244 f0 0.000000 logL -459.031251 \n",
      "ML for n2 = 10 is -459.031251, overall ML is -458.594130 \\/ n2\n",
      "n1 100 n2 11 t2 110.000000 f0 0.000000 logL -462.571943 \n",
      "ML for n2 = 11 is -462.571943, overall ML is -458.594130 \\/ n2\n",
      "n1 100 n2 12 t2 120.000000 f0 0.000000 logL -463.594626 \n",
      "ML for n2 = 12 is -463.594626, overall ML is -458.594130 \\/ n2\n",
      "n1 100 n2 13 t2 130.000000 f0 0.000000 logL -464.857901 \n",
      "ML for n2 = 13 is -464.857901, overall ML is -458.594130 \\/ n2\n",
      " 65 N1 100 N2 9 t2 327.0853 Nw  9.00 f0 0.000000000 L -458.5941\n",
      "Results written to ../output/est_dfe.out\n",
      "Opened file ../output/neut_egf.out for write, overwrite mode.\n",
      "Expected and observed allele frequencies output to ../output/neut_exp_obs_allele_freqs.csv\n"
     ]
    }
   ],
   "source": [
    "%%bash\n",
    "export PATH=$PATH:/scratch/research/tmp_apps/dfe-alpha-release-2.16/\n",
    "source ~/.bashrc\n",
    "echo $PATH\n",
    "export LD_LIBRARY_PATH=$LD_LIBRARY_PATH:/usr/local/lib/\n",
    "echo $LD_LIBRARY_PATH\n",
    "cd ../../data/dfe_alpha/test/input/\n",
    "ls -a\n",
    "est_dfe -c est_dfe_alpha_config_file.txt"
   ]
  },
  {
   "cell_type": "markdown",
   "metadata": {},
   "source": [
    "**directory_config.dat** `<str>`: Name of directory containing the data files for the 1 and 2 epoch models. If absent, default directory specified in directory_config.dat is used\n",
    "\n"
   ]
  },
  {
   "cell_type": "code",
   "execution_count": null,
   "metadata": {},
   "outputs": [],
   "source": [
    "est_dfe -c est_dfe_config_file.txt\n"
   ]
  },
  {
   "cell_type": "code",
   "execution_count": null,
   "metadata": {},
   "outputs": [],
   "source": []
  }
 ],
 "metadata": {
  "kernelspec": {
   "display_name": "Python 3",
   "language": "python",
   "name": "python3"
  },
  "language_info": {
   "codemirror_mode": {
    "name": "ipython",
    "version": 3
   },
   "file_extension": ".py",
   "mimetype": "text/x-python",
   "name": "python",
   "nbconvert_exporter": "python",
   "pygments_lexer": "ipython3",
   "version": "3.5.1"
  }
 },
 "nbformat": 4,
 "nbformat_minor": 2
}
