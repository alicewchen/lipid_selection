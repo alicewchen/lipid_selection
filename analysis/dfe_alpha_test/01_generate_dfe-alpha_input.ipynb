{
 "cells": [
  {
   "cell_type": "markdown",
   "metadata": {},
   "source": [
    "# Use SFS_and_divergence.pk to generate dfe-alpha input file"
   ]
  },
  {
   "cell_type": "code",
   "execution_count": 76,
   "metadata": {},
   "outputs": [],
   "source": [
    "import pickle"
   ]
  },
  {
   "cell_type": "markdown",
   "metadata": {},
   "source": [
    "# 1. Calculate total SFS vectors"
   ]
  },
  {
   "cell_type": "code",
   "execution_count": 77,
   "metadata": {},
   "outputs": [],
   "source": [
    "with open('../../data/workflow/SFS_and_divergence.pk', \"rb\") as f:\n",
    "    df = pickle.load(f)"
   ]
  },
  {
   "cell_type": "code",
   "execution_count": 62,
   "metadata": {},
   "outputs": [
    {
     "data": {
      "text/html": [
       "<div>\n",
       "<table border=\"1\" class=\"dataframe\">\n",
       "  <thead>\n",
       "    <tr style=\"text-align: right;\">\n",
       "      <th></th>\n",
       "      <th>Cincerta_transcript_ID</th>\n",
       "      <th>diffs0</th>\n",
       "      <th>sites0</th>\n",
       "      <th>diffs4</th>\n",
       "      <th>sites4</th>\n",
       "      <th>PAC_id</th>\n",
       "      <th>neutral_SFS</th>\n",
       "      <th>selected_SFS</th>\n",
       "    </tr>\n",
       "  </thead>\n",
       "  <tbody>\n",
       "    <tr>\n",
       "      <th>0</th>\n",
       "      <td>g6935.t1</td>\n",
       "      <td>24</td>\n",
       "      <td>2777</td>\n",
       "      <td>113</td>\n",
       "      <td>699</td>\n",
       "      <td>PAC:26888200</td>\n",
       "      <td>[609, 11, 17, 29, 6, 10, 6, 2, 8, 0, 0, 0, 0, ...</td>\n",
       "      <td>[2775, 1, 0, 0, 0, 0, 0, 1, 0, 0, 0, 0, 0, 0, ...</td>\n",
       "    </tr>\n",
       "    <tr>\n",
       "      <th>1</th>\n",
       "      <td>g13204.t1</td>\n",
       "      <td>28</td>\n",
       "      <td>655</td>\n",
       "      <td>38</td>\n",
       "      <td>217</td>\n",
       "      <td>PAC:26904954</td>\n",
       "      <td>[155, 4, 0, 2, 0, 4, 3, 3, 1, 0, 0, 0, 0, 0, 0...</td>\n",
       "      <td>[519, 1, 0, 0, 0, 1, 0, 1, 0, 0, 0, 0, 0, 0, 0...</td>\n",
       "    </tr>\n",
       "    <tr>\n",
       "      <th>2</th>\n",
       "      <td>g11333.t1</td>\n",
       "      <td>231</td>\n",
       "      <td>2638</td>\n",
       "      <td>311</td>\n",
       "      <td>950</td>\n",
       "      <td>PAC:26894252</td>\n",
       "      <td>[491, 4, 9, 4, 1, 0, 7, 2, 4, 1, 0, 0, 0, 0, 0...</td>\n",
       "      <td>[1435, 9, 2, 1, 0, 0, 4, 2, 3, 0, 0, 0, 0, 0, ...</td>\n",
       "    </tr>\n",
       "    <tr>\n",
       "      <th>3</th>\n",
       "      <td>g15729.t1</td>\n",
       "      <td>450</td>\n",
       "      <td>2626</td>\n",
       "      <td>325</td>\n",
       "      <td>930</td>\n",
       "      <td>PAC:26891814</td>\n",
       "      <td>[804, 48, 28, 18, 7, 9, 5, 3, 3, 0, 0, 0, 0, 0...</td>\n",
       "      <td>[2540, 55, 27, 11, 4, 6, 4, 7, 5, 1, 0, 0, 0, ...</td>\n",
       "    </tr>\n",
       "    <tr>\n",
       "      <th>4</th>\n",
       "      <td>g5327.t1</td>\n",
       "      <td>3</td>\n",
       "      <td>1483</td>\n",
       "      <td>72</td>\n",
       "      <td>412</td>\n",
       "      <td>PAC:26901315</td>\n",
       "      <td>[408, 3, 2, 0, 0, 0, 0, 0, 0, 0, 0, 0, 0, 0, 0...</td>\n",
       "      <td>[1478, 0, 0, 0, 0, 0, 0, 0, 0, 0, 0, 0, 0, 0, ...</td>\n",
       "    </tr>\n",
       "  </tbody>\n",
       "</table>\n",
       "</div>"
      ],
      "text/plain": [
       "  Cincerta_transcript_ID  diffs0  sites0  diffs4  sites4        PAC_id  \\\n",
       "0               g6935.t1      24    2777     113     699  PAC:26888200   \n",
       "1              g13204.t1      28     655      38     217  PAC:26904954   \n",
       "2              g11333.t1     231    2638     311     950  PAC:26894252   \n",
       "3              g15729.t1     450    2626     325     930  PAC:26891814   \n",
       "4               g5327.t1       3    1483      72     412  PAC:26901315   \n",
       "\n",
       "                                         neutral_SFS  \\\n",
       "0  [609, 11, 17, 29, 6, 10, 6, 2, 8, 0, 0, 0, 0, ...   \n",
       "1  [155, 4, 0, 2, 0, 4, 3, 3, 1, 0, 0, 0, 0, 0, 0...   \n",
       "2  [491, 4, 9, 4, 1, 0, 7, 2, 4, 1, 0, 0, 0, 0, 0...   \n",
       "3  [804, 48, 28, 18, 7, 9, 5, 3, 3, 0, 0, 0, 0, 0...   \n",
       "4  [408, 3, 2, 0, 0, 0, 0, 0, 0, 0, 0, 0, 0, 0, 0...   \n",
       "\n",
       "                                        selected_SFS  \n",
       "0  [2775, 1, 0, 0, 0, 0, 0, 1, 0, 0, 0, 0, 0, 0, ...  \n",
       "1  [519, 1, 0, 0, 0, 1, 0, 1, 0, 0, 0, 0, 0, 0, 0...  \n",
       "2  [1435, 9, 2, 1, 0, 0, 4, 2, 3, 0, 0, 0, 0, 0, ...  \n",
       "3  [2540, 55, 27, 11, 4, 6, 4, 7, 5, 1, 0, 0, 0, ...  \n",
       "4  [1478, 0, 0, 0, 0, 0, 0, 0, 0, 0, 0, 0, 0, 0, ...  "
      ]
     },
     "execution_count": 62,
     "metadata": {},
     "output_type": "execute_result"
    }
   ],
   "source": [
    "df[:5]"
   ]
  },
  {
   "cell_type": "code",
   "execution_count": 63,
   "metadata": {},
   "outputs": [],
   "source": [
    "def sum_SFSs(list_of_SFSs):\n",
    "    # for a bunch of SFSs that are the same length sum them alllll up into one big one\\\n",
    "#     sfs_size = len(list_of_SFSs[0])\n",
    "#     for i in range(sfs_size):\n",
    "#         sum([sfs[i] for sfs in list_of_SFSs ]\n",
    "    total_SFS = [sum(i) for i in zip(*list_of_SFSs)]\n",
    "    return total_SFS"
   ]
  },
  {
   "cell_type": "code",
   "execution_count": 69,
   "metadata": {},
   "outputs": [],
   "source": [
    "neutral = SFS(sum_SFSs(df.neutral_SFS)).fold().sfs\n",
    "selected = SFS(sum_SFSs(df.selected_SFS)).fold().sfs"
   ]
  },
  {
   "cell_type": "code",
   "execution_count": 71,
   "metadata": {},
   "outputs": [
    {
     "name": "stdout",
     "output_type": "stream",
     "text": [
      "Neutral:  [5070211, 179500, 99584, 80066, 58587, 58433, 48633, 47268, 45738, 0, 0, 0, 0, 0, 0, 0, 0, 0]\n",
      "Selected:  [16786666, 159569, 83676, 63640, 45234, 43463, 35869, 34378, 32922, 0, 0, 0, 0, 0, 0, 0, 0, 0]\n"
     ]
    }
   ],
   "source": [
    "print(\"Neutral: \" , neutral)\n",
    "print(\"Selected: \", selected)"
   ]
  },
  {
   "cell_type": "markdown",
   "metadata": {},
   "source": [
    "# 2. Generate dfe-est input file\n",
    "`M` = No. SFSs with different numbers of alleles sampled (m)\n",
    "\n",
    "`MIN_ALLELE` = No. alleles sampled in SFS i (xi) [= no. elements in unfolded vector]"
   ]
  },
  {
   "cell_type": "code",
   "execution_count": 72,
   "metadata": {},
   "outputs": [],
   "source": [
    "M = 1\n",
    "MIN_ALLELE = len(SFS(sum_SFSs(df.neutral_SFS)).sfs)\n",
    "ls = [M, MIN_ALLELE, selected, neutral]"
   ]
  },
  {
   "cell_type": "code",
   "execution_count": 74,
   "metadata": {},
   "outputs": [],
   "source": [
    "with open('../../data/dfe_alpha/test/input/sfs_input_file.txt', 'w') as f:\n",
    "    for i in ls[:2]: f.write(str(i)+\"\\n\")\n",
    "    for i in ls[2:4]: \n",
    "        for val in i: f.write(str(val)+\" \") \n",
    "        f.write(str(val)+\"\\n\") \n",
    "f.close()"
   ]
  },
  {
   "cell_type": "markdown",
   "metadata": {},
   "source": [
    "# 3. Generate est_alpha_omega input file"
   ]
  },
  {
   "cell_type": "code",
   "execution_count": 89,
   "metadata": {},
   "outputs": [
    {
     "name": "stdout",
     "output_type": "stream",
     "text": [
      "perc Sites Diffs\n",
      "Selected:  18456223 2072317\n",
      "Neutral:  6224278 2019169\n"
     ]
    }
   ],
   "source": [
    "selected = [str(i) for i in [1,sum(df.sites0),sum(df.diffs0)]]\n",
    "neutral = [str(i) for i in [0, str(sum(df.sites4)), str(sum(df.diffs4))]]\n",
    "print(\"perc Sites Diffs\")\n",
    "print(\"Selected: \", sum(df.sites0), sum(df.diffs0))\n",
    "print(\"Neutral: \", sum(df.sites4), sum(df.diffs4))"
   ]
  },
  {
   "cell_type": "code",
   "execution_count": 91,
   "metadata": {},
   "outputs": [],
   "source": [
    "with open('../../data/dfe_alpha/test/divergence_file.txt', 'w') as f:\n",
    "    f.write(\" \".join(selected)+\"\\n\") \n",
    "    f.write(\" \".join(neutral))\n",
    "f.close()"
   ]
  },
  {
   "cell_type": "code",
   "execution_count": null,
   "metadata": {},
   "outputs": [],
   "source": []
  }
 ],
 "metadata": {
  "kernelspec": {
   "display_name": "Python 3",
   "language": "python",
   "name": "python3"
  },
  "language_info": {
   "codemirror_mode": {
    "name": "ipython",
    "version": 3
   },
   "file_extension": ".py",
   "mimetype": "text/x-python",
   "name": "python",
   "nbconvert_exporter": "python",
   "pygments_lexer": "ipython3",
   "version": "3.5.1"
  }
 },
 "nbformat": 4,
 "nbformat_minor": 2
}
