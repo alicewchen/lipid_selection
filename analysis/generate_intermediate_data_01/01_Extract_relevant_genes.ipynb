{
 "cells": [
  {
   "cell_type": "markdown",
   "metadata": {},
   "source": [
    "# Add Source Data to intermediate_data_01\n",
    "\n",
    "## I. Essentials\n",
    "\n",
    "#### Check directories and load library packages\n",
    "\n",
    "Working directory is `project_folder/data/raw_data/source_data`."
   ]
  },
  {
   "cell_type": "code",
   "execution_count": null,
   "metadata": {},
   "outputs": [],
   "source": [
    "current_dir = getwd()\n",
    "source_data_dir = \"../../data/raw_data/source_data\"\n",
    "setwd(source_data_dir)"
   ]
  },
  {
   "cell_type": "markdown",
   "metadata": {},
   "source": [
    "Load essential library packages"
   ]
  },
  {
   "cell_type": "code",
   "execution_count": 62,
   "metadata": {},
   "outputs": [],
   "source": [
    "library(\"readxl\")\n",
    "library(\"dplyr\")"
   ]
  },
  {
   "cell_type": "code",
   "execution_count": 47,
   "metadata": {},
   "outputs": [
    {
     "data": {
      "text/html": [
       "'/scratch/research/projects/chlamydomonas/lipid_selection/data/raw_data/source_data'"
      ],
      "text/latex": [
       "'/scratch/research/projects/chlamydomonas/lipid\\_selection/data/raw\\_data/source\\_data'"
      ],
      "text/markdown": [
       "'/scratch/research/projects/chlamydomonas/lipid_selection/data/raw_data/source_data'"
      ],
      "text/plain": [
       "[1] \"/scratch/research/projects/chlamydomonas/lipid_selection/data/raw_data/source_data\""
      ]
     },
     "metadata": {},
     "output_type": "display_data"
    }
   ],
   "source": [
    "getwd()"
   ]
  },
  {
   "cell_type": "markdown",
   "metadata": {},
   "source": [
    "#### Create `intermediate_data_01` dataframe"
   ]
  },
  {
   "cell_type": "code",
   "execution_count": 192,
   "metadata": {},
   "outputs": [
    {
     "data": {
      "text/html": [
       "<table>\n",
       "<caption>A data.frame: 0 × 10</caption>\n",
       "<thead>\n",
       "\t<tr><th scope=col>gene_id</th><th scope=col>gene_name</th><th scope=col>protein_id</th><th scope=col>protein_name</th><th scope=col>first_author</th><th scope=col>publication_year</th><th scope=col>genome_version</th><th scope=col>database_source</th><th scope=col>inclusion_criteria</th><th scope=col>candidate_gene</th></tr>\n",
       "\t<tr><th scope=col>&lt;chr&gt;</th><th scope=col>&lt;chr&gt;</th><th scope=col>&lt;chr&gt;</th><th scope=col>&lt;chr&gt;</th><th scope=col>&lt;chr&gt;</th><th scope=col>&lt;dbl&gt;</th><th scope=col>&lt;dbl&gt;</th><th scope=col>&lt;chr&gt;</th><th scope=col>&lt;chr&gt;</th><th scope=col>&lt;lgl&gt;</th></tr>\n",
       "</thead>\n",
       "<tbody>\n",
       "</tbody>\n",
       "</table>\n"
      ],
      "text/latex": [
       "A data.frame: 0 × 10\n",
       "\\begin{tabular}{r|llllllllll}\n",
       " gene\\_id & gene\\_name & protein\\_id & protein\\_name & first\\_author & publication\\_year & genome\\_version & database\\_source & inclusion\\_criteria & candidate\\_gene\\\\\n",
       " <chr> & <chr> & <chr> & <chr> & <chr> & <dbl> & <dbl> & <chr> & <chr> & <lgl>\\\\\n",
       "\\hline\n",
       "\\end{tabular}\n"
      ],
      "text/markdown": [
       "\n",
       "A data.frame: 0 × 10\n",
       "\n",
       "| gene_id &lt;chr&gt; | gene_name &lt;chr&gt; | protein_id &lt;chr&gt; | protein_name &lt;chr&gt; | first_author &lt;chr&gt; | publication_year &lt;dbl&gt; | genome_version &lt;dbl&gt; | database_source &lt;chr&gt; | inclusion_criteria &lt;chr&gt; | candidate_gene &lt;lgl&gt; |\n",
       "|---|---|---|---|---|---|---|---|---|---|\n",
       "\n"
      ],
      "text/plain": [
       "     gene_id gene_name protein_id protein_name first_author publication_year\n",
       "     genome_version database_source inclusion_criteria candidate_gene"
      ]
     },
     "metadata": {},
     "output_type": "display_data"
    }
   ],
   "source": [
    "intermediate_data_01 <- data.frame(\n",
    "    gene_id = character(),\n",
    "    gene_name = character(),\n",
    "    protein_id = character(),\n",
    "    protein_name = character(),\n",
    "    first_author = character(),\n",
    "    publication_year = numeric(),\n",
    "    genome_version = numeric(),\n",
    "    database_source = character(),\n",
    "    inclusion_criteria = character(),\n",
    "    candidate_gene = logical(),\n",
    "    stringsAsFactors = FALSE)\n",
    "int_data_colnames <- colnames(intermediate_data_01)\n",
    "intermediate_data_01"
   ]
  },
  {
   "cell_type": "markdown",
   "metadata": {},
   "source": [
    "#### refresh_int_df_01"
   ]
  },
  {
   "cell_type": "code",
   "execution_count": null,
   "metadata": {},
   "outputs": [],
   "source": [
    "#Recreates an empty `intermediate_data_01` dataframe\n",
    "#Useful when working dataset by dataset without overloading memory\n",
    "\n"
   ]
  },
  {
   "cell_type": "markdown",
   "metadata": {},
   "source": [
    "#### check_excel_data"
   ]
  },
  {
   "cell_type": "code",
   "execution_count": 211,
   "metadata": {},
   "outputs": [],
   "source": [
    "#Check if excel dataset has more than one sheet. \n",
    "#Check if file type is .xls or .xlsx\n",
    "check_excel_data <- function (file_path){\n",
    "    \n",
    "    #If file type is not .xls or .xlsx, return FALSE\n",
    "    #Return sheet name(s) as a list of strings\n",
    "    \n",
    "    #check if \"readxl\" is loaded\n",
    "    require(\"readxl\") \n",
    "    \n",
    "    #check if file type is .xls or .xlsx. excel_sheets() only works with these file types\n",
    "    if (strsplit(file_path, \"[.]\")[[1]][2] %in% c(\"xls\", \"xlsx\")){\n",
    "        list_of_sheets <- excel_sheets(file_path)\n",
    "        return (list_of_sheets)\n",
    "    }\n",
    "    else {\n",
    "        stop(\"File type is not .xls or .xlsx\")} \n",
    "    \n",
    "}"
   ]
  },
  {
   "cell_type": "code",
   "execution_count": 212,
   "metadata": {},
   "outputs": [
    {
     "data": {
      "text/html": [
       "<ol class=list-inline>\n",
       "\t<li>'Day 3'</li>\n",
       "\t<li>'Day 5'</li>\n",
       "</ol>\n"
      ],
      "text/latex": [
       "\\begin{enumerate*}\n",
       "\\item 'Day 3'\n",
       "\\item 'Day 5'\n",
       "\\end{enumerate*}\n"
      ],
      "text/markdown": [
       "1. 'Day 3'\n",
       "2. 'Day 5'\n",
       "\n",
       "\n"
      ],
      "text/plain": [
       "[1] \"Day 3\" \"Day 5\""
      ]
     },
     "metadata": {},
     "output_type": "display_data"
    },
    {
     "data": {
      "text/html": [
       "'Sheet1'"
      ],
      "text/latex": [
       "'Sheet1'"
      ],
      "text/markdown": [
       "'Sheet1'"
      ],
      "text/plain": [
       "[1] \"Sheet1\""
      ]
     },
     "metadata": {},
     "output_type": "display_data"
    },
    {
     "ename": "ERROR",
     "evalue": "Error in check_excel_data(\"Li_2016.xlsb\"): File type is not .xls or .xlsx\n",
     "output_type": "error",
     "traceback": [
      "Error in check_excel_data(\"Li_2016.xlsb\"): File type is not .xls or .xlsx\nTraceback:\n",
      "1. check_excel_data(\"Li_2016.xlsb\")",
      "2. stop(\"File type is not .xls or .xlsx\")   # at line 17 of file <text>"
     ]
    }
   ],
   "source": [
    "#Test code with excel dataset with more than one sheet\n",
    "check_excel_data(\"Bajhaiya_2016.xls\")  \n",
    "\n",
    "#Test code with excel dataset with one sheet\n",
    "check_excel_data(\"Boyle_2012.xls\") \n",
    "\n",
    "#Test code with incorrect file type\n",
    "check_excel_data(\"Li_2016.xlsb\")"
   ]
  },
  {
   "cell_type": "markdown",
   "metadata": {},
   "source": [
    "#### import_messy_excel"
   ]
  },
  {
   "cell_type": "code",
   "execution_count": 217,
   "metadata": {},
   "outputs": [],
   "source": [
    "#Remove non-data table rows and import a cleaner dataframe from an excel dataset\n",
    "\n",
    "import_messy_excel <- function(file_path, sheet_name){\n",
    "    \n",
    "    #check if \"readxl\" is loaded\n",
    "    require(\"readxl\") \n",
    "    require(\"dplyr\")\n",
    "    require(\"stringr\")\n",
    "    \n",
    "    #Checks to see if sheet name exists\n",
    "    if (sheet_name %in% excel_sheets(file_path) == FALSE){\n",
    "            stop(\"Sheet name does not exist\")\n",
    "    }\n",
    "    \n",
    "    #Remove rows in excel sheet if more than half of the columns have NAs\n",
    "    df <- read_excel(file_path, sheet = sheet_name) %>% \n",
    "        filter(rowSums(is.na(.))/ncol(.) < 0.5)\n",
    "    \n",
    "    #Assumes Row 1 of the subset dataframe is the column names\n",
    "    #Assign Row 1 as column names and remove Row 1\n",
    "    colnames(df)<- df[1,] %>% str_replace_all(\" \", \"_\")\n",
    "    df<- df[-1,]\n",
    "    message(\"Check if column names are correct.\")\n",
    "    \n",
    "    return(df)\n",
    "    \n",
    "}"
   ]
  },
  {
   "cell_type": "code",
   "execution_count": 218,
   "metadata": {},
   "outputs": [
    {
     "name": "stderr",
     "output_type": "stream",
     "text": [
      "New names:\n",
      "* `` -> ...2\n",
      "* `` -> ...3\n",
      "* `` -> ...4\n",
      "* `` -> ...5\n",
      "* `` -> ...6\n",
      "* … and 13 more problems\n",
      "Check if column names are correct.\n"
     ]
    },
    {
     "name": "stdout",
     "output_type": "stream",
     "text": [
      "\u001b[90m# A tibble: 3 x 19\u001b[39m\n",
      "  Gene_id Gene_name Description WT_HP_D3 WT_LP_D3 psr1_HP_D3 psr1_LP_D3\n",
      "  \u001b[3m\u001b[90m<chr>\u001b[39m\u001b[23m   \u001b[3m\u001b[90m<chr>\u001b[39m\u001b[23m     \u001b[3m\u001b[90m<chr>\u001b[39m\u001b[23m       \u001b[3m\u001b[90m<chr>\u001b[39m\u001b[23m    \u001b[3m\u001b[90m<chr>\u001b[39m\u001b[23m    \u001b[3m\u001b[90m<chr>\u001b[39m\u001b[23m      \u001b[3m\u001b[90m<chr>\u001b[39m\u001b[23m     \n",
      "\u001b[90m1\u001b[39m Cre09.… Cre09.g4… ---         76.6888… 7263.06… 1.18872    4.2062200…\n",
      "\u001b[90m2\u001b[39m Cre04.… PHOX      alkaline p… 167.419… 14234.5  3.5661499… 4.2062200…\n",
      "\u001b[90m3\u001b[39m Cre01.… Cre01.g0… ---         6.48073… 1093.39… 1.18872    0         \n",
      "\u001b[90m# … with 12 more variables: WT_HP_D3_DESeq_norm \u001b[3m\u001b[90m<chr>\u001b[90m\u001b[23m,\n",
      "#   WT_LP_D3_DESeq_norm \u001b[3m\u001b[90m<chr>\u001b[90m\u001b[23m, psr1_HP_D3_DESeq_norm \u001b[3m\u001b[90m<chr>\u001b[90m\u001b[23m,\n",
      "#   psr1_LP_D3_DESeq_norm \u001b[3m\u001b[90m<chr>\u001b[90m\u001b[23m, `WT_HP_D3_DESeq__log2+10` \u001b[3m\u001b[90m<chr>\u001b[90m\u001b[23m,\n",
      "#   `WT_LP_D3_DESeq__log2+10` \u001b[3m\u001b[90m<chr>\u001b[90m\u001b[23m, `psr1_HP_D3_DESeq__log2+10` \u001b[3m\u001b[90m<chr>\u001b[90m\u001b[23m,\n",
      "#   `psr1_LP_D3_DESeq__log2+10` \u001b[3m\u001b[90m<chr>\u001b[90m\u001b[23m, `WT_LP-HP_D3_logdiff` \u001b[3m\u001b[90m<chr>\u001b[90m\u001b[23m,\n",
      "#   `psr1_LP-HP_D3_logdiff` \u001b[3m\u001b[90m<chr>\u001b[90m\u001b[23m, `WT_LP_/_HP_D3_foldchange` \u001b[3m\u001b[90m<chr>\u001b[90m\u001b[23m,\n",
      "#   `psr1_LP_/_HP_D3_foldchange` \u001b[3m\u001b[90m<chr>\u001b[90m\u001b[23m\u001b[39m\n"
     ]
    },
    {
     "ename": "ERROR",
     "evalue": "Error in import_messy_excel(\"Bajhaiya_2016.xls\", \"Wrong name\"): Sheet name does not exist\n",
     "output_type": "error",
     "traceback": [
      "Error in import_messy_excel(\"Bajhaiya_2016.xls\", \"Wrong name\"): Sheet name does not exist\nTraceback:\n",
      "1. import_messy_excel(\"Bajhaiya_2016.xls\", \"Wrong name\")",
      "2. stop(\"Sheet name does not exist\")   # at line 12 of file <text>"
     ]
    }
   ],
   "source": [
    "#Test code with the correct excel dataset\n",
    "df <- import_messy_excel(\"Bajhaiya_2016.xls\", \"Day 3\") \n",
    "print(df[1:3,])\n",
    "\n",
    "#Test code with incorrect excel sheet name\n",
    "df <- import_messy_excel(\"Bajhaiya_2016.xls\", \"Wrong name\") "
   ]
  },
  {
   "cell_type": "markdown",
   "metadata": {},
   "source": [
    "#### append_genes"
   ]
  },
  {
   "cell_type": "code",
   "execution_count": 199,
   "metadata": {},
   "outputs": [],
   "source": [
    "#Add genes to intermediate_data_01\n",
    "#Input: two dataframes - candidate_genes, not_candidate_genes\n",
    "\n",
    "append_genes <- function(gene_data = gene_data, basic_info = basic_info, df = intermediate_data_01){\n",
    "    \n",
    "    require(\"dplyr\")\n",
    "    \n",
    "    clean_data <- merge(gene_data, basic_info) %>% \n",
    "        mutate(protein_id = NA,\n",
    "              protein_name = NA)\n",
    "    \n",
    "    intermediate_data_01 <- rbind(df, clean_data)\n",
    "    \n",
    "    return(intermediate_data_01)\n",
    "    \n",
    "}"
   ]
  },
  {
   "cell_type": "code",
   "execution_count": null,
   "metadata": {},
   "outputs": [],
   "source": []
  },
  {
   "cell_type": "markdown",
   "metadata": {},
   "source": [
    "## II. Add source data to intermediate_data_01\n",
    "\n",
    "### Bajhaiya_2016.xls\n"
   ]
  },
  {
   "cell_type": "code",
   "execution_count": 160,
   "metadata": {},
   "outputs": [
    {
     "name": "stdout",
     "output_type": "stream",
     "text": [
      "'data.frame':\t1 obs. of  5 variables:\n",
      " $ genome_version    : num 5.3\n",
      " $ database_source   : chr \"Phytozome 9.1\"\n",
      " $ inclusion_criteria: chr \"fold difference greater than 2\"\n",
      " $ first_author      : chr \"Bajhaiya\"\n",
      " $ publication_year  : num 2016\n"
     ]
    }
   ],
   "source": [
    "#Basic information\n",
    "\n",
    "file_name = \"Bajhaiya_2016.xls\"\n",
    "genome_version = 5.3\n",
    "database_source = \"Phytozome 9.1\"\n",
    "inclusion_criteria = \"fold difference greater than 2\"\n",
    "first_author = \"Bajhaiya\"\n",
    "publication_year = 2016\n",
    "\n",
    "basic_info <- data.frame(genome_version, database_source, inclusion_criteria, first_author, publication_year, stringsAsFactors = FALSE)\n",
    "str(basic_info)"
   ]
  },
  {
   "cell_type": "code",
   "execution_count": 161,
   "metadata": {},
   "outputs": [
    {
     "name": "stdout",
     "output_type": "stream",
     "text": [
      "[1] 2\n"
     ]
    }
   ],
   "source": [
    "#Check file type and number of excel sheets\n",
    "\n",
    "sheets <- check_excel_data(file_name)  \n",
    "print(length(sheets))"
   ]
  },
  {
   "cell_type": "markdown",
   "metadata": {},
   "source": [
    "#### 1. Collect candidate genes based on inclusion criteria.\n",
    "\n",
    "**Inclusion criteria**: Within each strain, if fold-difference between high P and low P is >2 count as candidate gene. \n",
    "\n",
    "**Sheet 1: \"Day 3\" **"
   ]
  },
  {
   "cell_type": "code",
   "execution_count": 163,
   "metadata": {},
   "outputs": [
    {
     "name": "stderr",
     "output_type": "stream",
     "text": [
      "New names:\n",
      "* `` -> ...2\n",
      "* `` -> ...3\n",
      "* `` -> ...4\n",
      "* `` -> ...5\n",
      "* `` -> ...6\n",
      "* … and 13 more problems\n"
     ]
    },
    {
     "data": {
      "text/html": [
       "<table>\n",
       "<caption>A tibble: 5 × 2</caption>\n",
       "<thead>\n",
       "\t<tr><th scope=col>Gene_id</th><th scope=col>Gene_name</th></tr>\n",
       "\t<tr><th scope=col>&lt;chr&gt;</th><th scope=col>&lt;chr&gt;</th></tr>\n",
       "</thead>\n",
       "<tbody>\n",
       "\t<tr><td>Cre09.g404900</td><td>Cre09.g404900</td></tr>\n",
       "\t<tr><td>Cre04.g216700</td><td>PHOX         </td></tr>\n",
       "\t<tr><td>Cre01.g044300</td><td>Cre01.g044300</td></tr>\n",
       "\t<tr><td>g16424       </td><td>g16424       </td></tr>\n",
       "\t<tr><td>g2975        </td><td>MPA1         </td></tr>\n",
       "</tbody>\n",
       "</table>\n"
      ],
      "text/latex": [
       "A tibble: 5 × 2\n",
       "\\begin{tabular}{r|ll}\n",
       " Gene\\_id & Gene\\_name\\\\\n",
       " <chr> & <chr>\\\\\n",
       "\\hline\n",
       "\t Cre09.g404900 & Cre09.g404900\\\\\n",
       "\t Cre04.g216700 & PHOX         \\\\\n",
       "\t Cre01.g044300 & Cre01.g044300\\\\\n",
       "\t g16424        & g16424       \\\\\n",
       "\t g2975         & MPA1         \\\\\n",
       "\\end{tabular}\n"
      ],
      "text/markdown": [
       "\n",
       "A tibble: 5 × 2\n",
       "\n",
       "| Gene_id &lt;chr&gt; | Gene_name &lt;chr&gt; |\n",
       "|---|---|\n",
       "| Cre09.g404900 | Cre09.g404900 |\n",
       "| Cre04.g216700 | PHOX          |\n",
       "| Cre01.g044300 | Cre01.g044300 |\n",
       "| g16424        | g16424        |\n",
       "| g2975         | MPA1          |\n",
       "\n"
      ],
      "text/plain": [
       "  Gene_id       Gene_name    \n",
       "1 Cre09.g404900 Cre09.g404900\n",
       "2 Cre04.g216700 PHOX         \n",
       "3 Cre01.g044300 Cre01.g044300\n",
       "4 g16424        g16424       \n",
       "5 g2975         MPA1         "
      ]
     },
     "metadata": {},
     "output_type": "display_data"
    }
   ],
   "source": [
    "df <- import_messy_excel(file_name, sheets[1]) \n",
    "#Calculate fold difference using normalized expression\n",
    "temp1 <- df %>% \n",
    "    select(starts_with(\"Gene\"), ends_with(\"norm\")) %>%\n",
    "    mutate_at(vars(ends_with(\"norm\")),list(as.numeric)) %>%\n",
    "    filter(WT_HP_D3_DESeq_norm/WT_LP_D3_DESeq_norm >= 2 |\n",
    "          WT_LP_D3_DESeq_norm/WT_HP_D3_DESeq_norm >= 2 |\n",
    "          psr1_HP_D3_DESeq_norm/psr1_LP_D3_DESeq_norm >= 2 |\n",
    "          psr1_LP_D3_DESeq_norm/psr1_HP_D3_DESeq_norm >= 2) %>%\n",
    "    select(starts_with(\"Gene\"))\n",
    "           \n",
    "temp2[1:5,]"
   ]
  },
  {
   "cell_type": "markdown",
   "metadata": {},
   "source": [
    "** Sheet 2: \"Day 5\" **"
   ]
  },
  {
   "cell_type": "code",
   "execution_count": 164,
   "metadata": {},
   "outputs": [
    {
     "name": "stderr",
     "output_type": "stream",
     "text": [
      "New names:\n",
      "* `` -> ...2\n",
      "* `` -> ...3\n",
      "* `` -> ...4\n",
      "* `` -> ...5\n",
      "* `` -> ...6\n",
      "* … and 13 more problems\n"
     ]
    },
    {
     "data": {
      "text/html": [
       "<table>\n",
       "<caption>A tibble: 5 × 2</caption>\n",
       "<thead>\n",
       "\t<tr><th scope=col>Gene_id</th><th scope=col>Gene_name</th></tr>\n",
       "\t<tr><th scope=col>&lt;chr&gt;</th><th scope=col>&lt;chr&gt;</th></tr>\n",
       "</thead>\n",
       "<tbody>\n",
       "\t<tr><td>Cre09.g404900</td><td>Cre09.g404900</td></tr>\n",
       "\t<tr><td>Cre04.g216700</td><td>PHOX         </td></tr>\n",
       "\t<tr><td>Cre01.g044300</td><td>Cre01.g044300</td></tr>\n",
       "\t<tr><td>g16424       </td><td>g16424       </td></tr>\n",
       "\t<tr><td>g2975        </td><td>MPA1         </td></tr>\n",
       "</tbody>\n",
       "</table>\n"
      ],
      "text/latex": [
       "A tibble: 5 × 2\n",
       "\\begin{tabular}{r|ll}\n",
       " Gene\\_id & Gene\\_name\\\\\n",
       " <chr> & <chr>\\\\\n",
       "\\hline\n",
       "\t Cre09.g404900 & Cre09.g404900\\\\\n",
       "\t Cre04.g216700 & PHOX         \\\\\n",
       "\t Cre01.g044300 & Cre01.g044300\\\\\n",
       "\t g16424        & g16424       \\\\\n",
       "\t g2975         & MPA1         \\\\\n",
       "\\end{tabular}\n"
      ],
      "text/markdown": [
       "\n",
       "A tibble: 5 × 2\n",
       "\n",
       "| Gene_id &lt;chr&gt; | Gene_name &lt;chr&gt; |\n",
       "|---|---|\n",
       "| Cre09.g404900 | Cre09.g404900 |\n",
       "| Cre04.g216700 | PHOX          |\n",
       "| Cre01.g044300 | Cre01.g044300 |\n",
       "| g16424        | g16424        |\n",
       "| g2975         | MPA1          |\n",
       "\n"
      ],
      "text/plain": [
       "  Gene_id       Gene_name    \n",
       "1 Cre09.g404900 Cre09.g404900\n",
       "2 Cre04.g216700 PHOX         \n",
       "3 Cre01.g044300 Cre01.g044300\n",
       "4 g16424        g16424       \n",
       "5 g2975         MPA1         "
      ]
     },
     "metadata": {},
     "output_type": "display_data"
    }
   ],
   "source": [
    "df <- import_messy_excel(file_name, sheets[2]) \n",
    "#Calculate fold difference using normalized expression\n",
    "temp2 <- df %>% \n",
    "    select(starts_with(\"Gene\"), ends_with(\"norm\")) %>%\n",
    "    mutate_at(vars(ends_with(\"norm\")),list(as.numeric)) %>%\n",
    "    filter(WT_HP_D5_DESeq_norm/WT_LP_D5_DESeq_norm >= 2 |\n",
    "          WT_LP_D5_DESeq_norm/WT_HP_D5_DESeq_norm >= 2 |\n",
    "          psr1_HP_D5_DESeq_norm/psr1_LP_D5_DESeq_norm >= 2 |\n",
    "          psr1_LP_D5_DESeq_norm/psr1_HP_D5_DESeq_norm >= 2) %>%\n",
    "    select(starts_with(\"Gene\"))\n",
    "temp2[1:5,]"
   ]
  },
  {
   "cell_type": "markdown",
   "metadata": {},
   "source": [
    "#### 2. Join Sheet 1 and 2 data by creating two dataframes:\n",
    "* `candidate_genes`\n",
    "* `not_candidate_genes`"
   ]
  },
  {
   "cell_type": "code",
   "execution_count": 188,
   "metadata": {},
   "outputs": [
    {
     "name": "stderr",
     "output_type": "stream",
     "text": [
      "Joining, by = c(\"Gene_id\", \"Gene_name\")\n"
     ]
    },
    {
     "data": {
      "text/html": [
       "<table>\n",
       "<caption>A tibble: 5 × 3</caption>\n",
       "<thead>\n",
       "\t<tr><th scope=col>gene_id</th><th scope=col>gene_name</th><th scope=col>candidate_gene</th></tr>\n",
       "\t<tr><th scope=col>&lt;chr&gt;</th><th scope=col>&lt;chr&gt;</th><th scope=col>&lt;lgl&gt;</th></tr>\n",
       "</thead>\n",
       "<tbody>\n",
       "\t<tr><td>Cre09.g404900</td><td>Cre09.g404900</td><td>TRUE</td></tr>\n",
       "\t<tr><td>Cre04.g216700</td><td>PHOX         </td><td>TRUE</td></tr>\n",
       "\t<tr><td>Cre01.g044300</td><td>Cre01.g044300</td><td>TRUE</td></tr>\n",
       "\t<tr><td>g16424       </td><td>g16424       </td><td>TRUE</td></tr>\n",
       "\t<tr><td>g2975        </td><td>MPA1         </td><td>TRUE</td></tr>\n",
       "</tbody>\n",
       "</table>\n"
      ],
      "text/latex": [
       "A tibble: 5 × 3\n",
       "\\begin{tabular}{r|lll}\n",
       " gene\\_id & gene\\_name & candidate\\_gene\\\\\n",
       " <chr> & <chr> & <lgl>\\\\\n",
       "\\hline\n",
       "\t Cre09.g404900 & Cre09.g404900 & TRUE\\\\\n",
       "\t Cre04.g216700 & PHOX          & TRUE\\\\\n",
       "\t Cre01.g044300 & Cre01.g044300 & TRUE\\\\\n",
       "\t g16424        & g16424        & TRUE\\\\\n",
       "\t g2975         & MPA1          & TRUE\\\\\n",
       "\\end{tabular}\n"
      ],
      "text/markdown": [
       "\n",
       "A tibble: 5 × 3\n",
       "\n",
       "| gene_id &lt;chr&gt; | gene_name &lt;chr&gt; | candidate_gene &lt;lgl&gt; |\n",
       "|---|---|---|\n",
       "| Cre09.g404900 | Cre09.g404900 | TRUE |\n",
       "| Cre04.g216700 | PHOX          | TRUE |\n",
       "| Cre01.g044300 | Cre01.g044300 | TRUE |\n",
       "| g16424        | g16424        | TRUE |\n",
       "| g2975         | MPA1          | TRUE |\n",
       "\n"
      ],
      "text/plain": [
       "  gene_id       gene_name     candidate_gene\n",
       "1 Cre09.g404900 Cre09.g404900 TRUE          \n",
       "2 Cre04.g216700 PHOX          TRUE          \n",
       "3 Cre01.g044300 Cre01.g044300 TRUE          \n",
       "4 g16424        g16424        TRUE          \n",
       "5 g2975         MPA1          TRUE          "
      ]
     },
     "metadata": {},
     "output_type": "display_data"
    }
   ],
   "source": [
    "candidate_temp <- left_join(temp1, temp2, by = c(\"Gene_id\", \"Gene_name\")) \n",
    "\n",
    "not_candidate_genes_df <- anti_join(df, candidate_temp) %>% select(starts_with(\"Gene\")) %>%\n",
    "    mutate(candidate_gene = FALSE)\n",
    "\n",
    "candidate_genes <- candidate_temp %>% \n",
    "    mutate(candidate_gene = TRUE)\n",
    "\n",
    "gene_data <- rbind(candidate_genes, not_candidate_genes_df) %>%\n",
    "    rename(gene_id = Gene_id,\n",
    "          gene_name = Gene_name)\n",
    "\n",
    "gene_data[1:5,]"
   ]
  },
  {
   "cell_type": "markdown",
   "metadata": {},
   "source": [
    "#### 3. Append to intermediate_data_01"
   ]
  },
  {
   "cell_type": "code",
   "execution_count": 201,
   "metadata": {},
   "outputs": [
    {
     "data": {
      "text/html": [
       "<table>\n",
       "<caption>A data.frame: 5 × 10</caption>\n",
       "<thead>\n",
       "\t<tr><th scope=col>gene_id</th><th scope=col>gene_name</th><th scope=col>candidate_gene</th><th scope=col>genome_version</th><th scope=col>database_source</th><th scope=col>inclusion_criteria</th><th scope=col>first_author</th><th scope=col>publication_year</th><th scope=col>protein_id</th><th scope=col>protein_name</th></tr>\n",
       "\t<tr><th scope=col>&lt;chr&gt;</th><th scope=col>&lt;chr&gt;</th><th scope=col>&lt;lgl&gt;</th><th scope=col>&lt;dbl&gt;</th><th scope=col>&lt;chr&gt;</th><th scope=col>&lt;chr&gt;</th><th scope=col>&lt;chr&gt;</th><th scope=col>&lt;dbl&gt;</th><th scope=col>&lt;lgl&gt;</th><th scope=col>&lt;lgl&gt;</th></tr>\n",
       "</thead>\n",
       "<tbody>\n",
       "\t<tr><td>Cre09.g404900</td><td>Cre09.g404900</td><td>TRUE</td><td>5.3</td><td>Phytozome 9.1</td><td>fold difference greater than 2</td><td>Bajhaiya</td><td>2016</td><td>NA</td><td>NA</td></tr>\n",
       "\t<tr><td>Cre04.g216700</td><td>PHOX         </td><td>TRUE</td><td>5.3</td><td>Phytozome 9.1</td><td>fold difference greater than 2</td><td>Bajhaiya</td><td>2016</td><td>NA</td><td>NA</td></tr>\n",
       "\t<tr><td>Cre01.g044300</td><td>Cre01.g044300</td><td>TRUE</td><td>5.3</td><td>Phytozome 9.1</td><td>fold difference greater than 2</td><td>Bajhaiya</td><td>2016</td><td>NA</td><td>NA</td></tr>\n",
       "\t<tr><td>g16424       </td><td>g16424       </td><td>TRUE</td><td>5.3</td><td>Phytozome 9.1</td><td>fold difference greater than 2</td><td>Bajhaiya</td><td>2016</td><td>NA</td><td>NA</td></tr>\n",
       "\t<tr><td>g2975        </td><td>MPA1         </td><td>TRUE</td><td>5.3</td><td>Phytozome 9.1</td><td>fold difference greater than 2</td><td>Bajhaiya</td><td>2016</td><td>NA</td><td>NA</td></tr>\n",
       "</tbody>\n",
       "</table>\n"
      ],
      "text/latex": [
       "A data.frame: 5 × 10\n",
       "\\begin{tabular}{r|llllllllll}\n",
       " gene\\_id & gene\\_name & candidate\\_gene & genome\\_version & database\\_source & inclusion\\_criteria & first\\_author & publication\\_year & protein\\_id & protein\\_name\\\\\n",
       " <chr> & <chr> & <lgl> & <dbl> & <chr> & <chr> & <chr> & <dbl> & <lgl> & <lgl>\\\\\n",
       "\\hline\n",
       "\t Cre09.g404900 & Cre09.g404900 & TRUE & 5.3 & Phytozome 9.1 & fold difference greater than 2 & Bajhaiya & 2016 & NA & NA\\\\\n",
       "\t Cre04.g216700 & PHOX          & TRUE & 5.3 & Phytozome 9.1 & fold difference greater than 2 & Bajhaiya & 2016 & NA & NA\\\\\n",
       "\t Cre01.g044300 & Cre01.g044300 & TRUE & 5.3 & Phytozome 9.1 & fold difference greater than 2 & Bajhaiya & 2016 & NA & NA\\\\\n",
       "\t g16424        & g16424        & TRUE & 5.3 & Phytozome 9.1 & fold difference greater than 2 & Bajhaiya & 2016 & NA & NA\\\\\n",
       "\t g2975         & MPA1          & TRUE & 5.3 & Phytozome 9.1 & fold difference greater than 2 & Bajhaiya & 2016 & NA & NA\\\\\n",
       "\\end{tabular}\n"
      ],
      "text/markdown": [
       "\n",
       "A data.frame: 5 × 10\n",
       "\n",
       "| gene_id &lt;chr&gt; | gene_name &lt;chr&gt; | candidate_gene &lt;lgl&gt; | genome_version &lt;dbl&gt; | database_source &lt;chr&gt; | inclusion_criteria &lt;chr&gt; | first_author &lt;chr&gt; | publication_year &lt;dbl&gt; | protein_id &lt;lgl&gt; | protein_name &lt;lgl&gt; |\n",
       "|---|---|---|---|---|---|---|---|---|---|\n",
       "| Cre09.g404900 | Cre09.g404900 | TRUE | 5.3 | Phytozome 9.1 | fold difference greater than 2 | Bajhaiya | 2016 | NA | NA |\n",
       "| Cre04.g216700 | PHOX          | TRUE | 5.3 | Phytozome 9.1 | fold difference greater than 2 | Bajhaiya | 2016 | NA | NA |\n",
       "| Cre01.g044300 | Cre01.g044300 | TRUE | 5.3 | Phytozome 9.1 | fold difference greater than 2 | Bajhaiya | 2016 | NA | NA |\n",
       "| g16424        | g16424        | TRUE | 5.3 | Phytozome 9.1 | fold difference greater than 2 | Bajhaiya | 2016 | NA | NA |\n",
       "| g2975         | MPA1          | TRUE | 5.3 | Phytozome 9.1 | fold difference greater than 2 | Bajhaiya | 2016 | NA | NA |\n",
       "\n"
      ],
      "text/plain": [
       "  gene_id       gene_name     candidate_gene genome_version database_source\n",
       "1 Cre09.g404900 Cre09.g404900 TRUE           5.3            Phytozome 9.1  \n",
       "2 Cre04.g216700 PHOX          TRUE           5.3            Phytozome 9.1  \n",
       "3 Cre01.g044300 Cre01.g044300 TRUE           5.3            Phytozome 9.1  \n",
       "4 g16424        g16424        TRUE           5.3            Phytozome 9.1  \n",
       "5 g2975         MPA1          TRUE           5.3            Phytozome 9.1  \n",
       "  inclusion_criteria             first_author publication_year protein_id\n",
       "1 fold difference greater than 2 Bajhaiya     2016             NA        \n",
       "2 fold difference greater than 2 Bajhaiya     2016             NA        \n",
       "3 fold difference greater than 2 Bajhaiya     2016             NA        \n",
       "4 fold difference greater than 2 Bajhaiya     2016             NA        \n",
       "5 fold difference greater than 2 Bajhaiya     2016             NA        \n",
       "  protein_name\n",
       "1 NA          \n",
       "2 NA          \n",
       "3 NA          \n",
       "4 NA          \n",
       "5 NA          "
      ]
     },
     "metadata": {},
     "output_type": "display_data"
    }
   ],
   "source": [
    "intermediate_data_01<- append_genes(gene_data = gene_data, basic_info = basic_info, df = intermediate_data_01)\n",
    "intermediate_data_01[1:5,]"
   ]
  },
  {
   "cell_type": "code",
   "execution_count": 200,
   "metadata": {},
   "outputs": [
    {
     "data": {
      "text/html": [
       "<table>\n",
       "<caption>A data.frame: 0 × 10</caption>\n",
       "<thead>\n",
       "\t<tr><th scope=col>gene_id</th><th scope=col>gene_name</th><th scope=col>protein_id</th><th scope=col>protein_name</th><th scope=col>first_author</th><th scope=col>publication_year</th><th scope=col>genome_version</th><th scope=col>database_source</th><th scope=col>inclusion_criteria</th><th scope=col>candidate_gene</th></tr>\n",
       "\t<tr><th scope=col>&lt;chr&gt;</th><th scope=col>&lt;chr&gt;</th><th scope=col>&lt;chr&gt;</th><th scope=col>&lt;chr&gt;</th><th scope=col>&lt;chr&gt;</th><th scope=col>&lt;dbl&gt;</th><th scope=col>&lt;dbl&gt;</th><th scope=col>&lt;chr&gt;</th><th scope=col>&lt;chr&gt;</th><th scope=col>&lt;lgl&gt;</th></tr>\n",
       "</thead>\n",
       "<tbody>\n",
       "</tbody>\n",
       "</table>\n"
      ],
      "text/latex": [
       "A data.frame: 0 × 10\n",
       "\\begin{tabular}{r|llllllllll}\n",
       " gene\\_id & gene\\_name & protein\\_id & protein\\_name & first\\_author & publication\\_year & genome\\_version & database\\_source & inclusion\\_criteria & candidate\\_gene\\\\\n",
       " <chr> & <chr> & <chr> & <chr> & <chr> & <dbl> & <dbl> & <chr> & <chr> & <lgl>\\\\\n",
       "\\hline\n",
       "\\end{tabular}\n"
      ],
      "text/markdown": [
       "\n",
       "A data.frame: 0 × 10\n",
       "\n",
       "| gene_id &lt;chr&gt; | gene_name &lt;chr&gt; | protein_id &lt;chr&gt; | protein_name &lt;chr&gt; | first_author &lt;chr&gt; | publication_year &lt;dbl&gt; | genome_version &lt;dbl&gt; | database_source &lt;chr&gt; | inclusion_criteria &lt;chr&gt; | candidate_gene &lt;lgl&gt; |\n",
       "|---|---|---|---|---|---|---|---|---|---|\n",
       "\n"
      ],
      "text/plain": [
       "     gene_id gene_name protein_id protein_name first_author publication_year\n",
       "     genome_version database_source inclusion_criteria candidate_gene"
      ]
     },
     "metadata": {},
     "output_type": "display_data"
    }
   ],
   "source": [
    "intermediate_data_01 <- data.frame(\n",
    "    gene_id = character(),\n",
    "    gene_name = character(),\n",
    "    protein_id = character(),\n",
    "    protein_name = character(),\n",
    "    first_author = character(),\n",
    "    publication_year = numeric(),\n",
    "    genome_version = numeric(),\n",
    "    database_source = character(),\n",
    "    inclusion_criteria = character(),\n",
    "    candidate_gene = logical(),\n",
    "    stringsAsFactors = FALSE)\n",
    "int_data_colnames <- colnames(intermediate_data_01)\n",
    "intermediate_data_01"
   ]
  },
  {
   "cell_type": "markdown",
   "metadata": {},
   "source": [
    "## III. Add cleaned source data to intermediate_data_01"
   ]
  }
 ],
 "metadata": {
  "kernelspec": {
   "display_name": "R",
   "language": "R",
   "name": "ir"
  },
  "language_info": {
   "codemirror_mode": "r",
   "file_extension": ".r",
   "mimetype": "text/x-r-source",
   "name": "R",
   "pygments_lexer": "r",
   "version": "3.5.2"
  }
 },
 "nbformat": 4,
 "nbformat_minor": 2
}
