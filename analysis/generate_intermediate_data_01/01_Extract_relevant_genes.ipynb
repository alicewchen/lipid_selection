{
 "cells": [
  {
   "cell_type": "markdown",
   "metadata": {},
   "source": [
    "# Extract relevant genes and generate files in intermediate_data_01/\n",
    "\n",
    "## Workflow description\n",
    "\n",
    "1. Run **I. Essentials** and **II. Custom Functions**\n",
    "2. For each dataset in `lipid_selection/data/raw_data/source_data/`:\n",
    "\n",
    "    1. Extract basic information:\n",
    "        - genome_version \n",
    "        - database_source \n",
    "        - inclusion_criteria \n",
    "        - first_author\n",
    "        - publication_year\n",
    "      \n",
    "    2. Append basic information to `lipid_selection/data/intermediate_data_01/basic_info.txt`\n",
    "        - Use `append_basic_info()`\n",
    "    \n",
    "    3. Extract candidate and non-candidate genes.\n",
    "        - Use `check_excel_data()`, `import_messy_excel()`\n",
    "    \n",
    "    4. Export candidate and non-candidate genes to `<first_author>_<year>.txt`.\n",
    "        - Use `export_genes()` or `export_proteins()`\n",
    "\n",
    "## I. Essentials\n",
    "\n",
    "#### Check directories and load library packages\n",
    "\n",
    "Working directory is `lipid_selection/data/raw_data/source_data`."
   ]
  },
  {
   "cell_type": "code",
   "execution_count": 1,
   "metadata": {},
   "outputs": [],
   "source": [
    "current_dir = getwd()\n",
    "source_data_dir = \"../../data/raw_data/source_data\"\n",
    "setwd(source_data_dir)\n",
    "\n",
    "#Set target folder for candidate gene info from step 2.D\n",
    "target_folder = \"../../intermediate_data_01/\""
   ]
  },
  {
   "cell_type": "markdown",
   "metadata": {},
   "source": [
    "Load essential library packages"
   ]
  },
  {
   "cell_type": "code",
   "execution_count": 2,
   "metadata": {},
   "outputs": [
    {
     "name": "stderr",
     "output_type": "stream",
     "text": [
      "\n",
      "Attaching package: ‘dplyr’\n",
      "\n",
      "The following objects are masked from ‘package:stats’:\n",
      "\n",
      "    filter, lag\n",
      "\n",
      "The following objects are masked from ‘package:base’:\n",
      "\n",
      "    intersect, setdiff, setequal, union\n",
      "\n",
      "── \u001b[1mAttaching packages\u001b[22m ─────────────────────────────────────── tidyverse 1.2.1 ──\n",
      "\u001b[32m✔\u001b[39m \u001b[34mggplot2\u001b[39m 3.1.1     \u001b[32m✔\u001b[39m \u001b[34mreadr  \u001b[39m 1.3.1\n",
      "\u001b[32m✔\u001b[39m \u001b[34mtibble \u001b[39m 2.1.1     \u001b[32m✔\u001b[39m \u001b[34mpurrr  \u001b[39m 0.3.2\n",
      "\u001b[32m✔\u001b[39m \u001b[34mtidyr  \u001b[39m 0.8.3     \u001b[32m✔\u001b[39m \u001b[34mstringr\u001b[39m 1.4.0\n",
      "\u001b[32m✔\u001b[39m \u001b[34mggplot2\u001b[39m 3.1.1     \u001b[32m✔\u001b[39m \u001b[34mforcats\u001b[39m 0.4.0\n",
      "── \u001b[1mConflicts\u001b[22m ────────────────────────────────────────── tidyverse_conflicts() ──\n",
      "\u001b[31m✖\u001b[39m \u001b[34mdplyr\u001b[39m::\u001b[32mfilter()\u001b[39m masks \u001b[34mstats\u001b[39m::filter()\n",
      "\u001b[31m✖\u001b[39m \u001b[34mdplyr\u001b[39m::\u001b[32mlag()\u001b[39m    masks \u001b[34mstats\u001b[39m::lag()\n"
     ]
    }
   ],
   "source": [
    "library(\"readxl\")\n",
    "library(\"dplyr\")\n",
    "library(\"tidyverse\")"
   ]
  },
  {
   "cell_type": "code",
   "execution_count": 3,
   "metadata": {},
   "outputs": [
    {
     "data": {
      "text/html": [
       "'/home/chenwe72/gitRepo/lipid_selection/data/raw_data/source_data'"
      ],
      "text/latex": [
       "'/home/chenwe72/gitRepo/lipid\\_selection/data/raw\\_data/source\\_data'"
      ],
      "text/markdown": [
       "'/home/chenwe72/gitRepo/lipid_selection/data/raw_data/source_data'"
      ],
      "text/plain": [
       "[1] \"/home/chenwe72/gitRepo/lipid_selection/data/raw_data/source_data\""
      ]
     },
     "metadata": {},
     "output_type": "display_data"
    }
   ],
   "source": [
    "getwd()"
   ]
  },
  {
   "cell_type": "markdown",
   "metadata": {},
   "source": [
    "## II. Custom functions\n",
    "\n",
    "* `check_excel_data`\n",
    "    - **Usage**: Check if excel dataset has more than one sheet; check if file type is .xls or .xlsx\n",
    "    - **input**: file_path (str)\n",
    "    - **output**: list of sheet names as strings\n",
    "    \n",
    "    \n",
    "* `import_messy_excel`\n",
    "    - **Usage**: Remove non-data table rows and import a cleaner dataframe from an excel dataset\n",
    "    - **input**: file_path (str), sheet_name (str)\n",
    "    - **output**: dataframe\n",
    "    \n",
    "    \n",
    "* `export_genes`\n",
    "    - **Usage**: Export candidate and non-candidate genes to `<first_author>_<year>.txt` in `target_folder`\n",
    "    - **input**: gene_data (dataframe), \n",
    "    - **output**: `<first_author>_<year>.txt` in `target_folder`\n",
    "    \n",
    "    - **Usage**: \n",
    "    - **input**: \n",
    "    - **output**: "
   ]
  },
  {
   "cell_type": "markdown",
   "metadata": {},
   "source": [
    "#### check_excel_data"
   ]
  },
  {
   "cell_type": "code",
   "execution_count": 4,
   "metadata": {},
   "outputs": [],
   "source": [
    "#Check if excel dataset has more than one sheet. \n",
    "#Check if file type is .xls or .xlsx\n",
    "check_excel_data <- function (file_path){\n",
    "    \n",
    "    #If file type is not .xls or .xlsx, return FALSE\n",
    "    #Return sheet name(s) as a list of strings\n",
    "    \n",
    "    #check if \"readxl\" is loaded\n",
    "    require(\"readxl\") \n",
    "    \n",
    "    #check if file type is .xls or .xlsx. excel_sheets() only works with these file types\n",
    "    if (strsplit(file_path, \"[.]\")[[1]][2] %in% c(\"xls\", \"xlsx\")){\n",
    "        list_of_sheets <- excel_sheets(file_path)\n",
    "        return (list_of_sheets)\n",
    "    }\n",
    "    else {\n",
    "        stop(\"File type is not .xls or .xlsx\")} \n",
    "    \n",
    "}"
   ]
  },
  {
   "cell_type": "code",
   "execution_count": 5,
   "metadata": {},
   "outputs": [
    {
     "data": {
      "text/html": [
       "<ol class=list-inline>\n",
       "\t<li>'Day 3'</li>\n",
       "\t<li>'Day 5'</li>\n",
       "</ol>\n"
      ],
      "text/latex": [
       "\\begin{enumerate*}\n",
       "\\item 'Day 3'\n",
       "\\item 'Day 5'\n",
       "\\end{enumerate*}\n"
      ],
      "text/markdown": [
       "1. 'Day 3'\n",
       "2. 'Day 5'\n",
       "\n",
       "\n"
      ],
      "text/plain": [
       "[1] \"Day 3\" \"Day 5\""
      ]
     },
     "metadata": {},
     "output_type": "display_data"
    },
    {
     "data": {
      "text/html": [
       "'Sheet1'"
      ],
      "text/latex": [
       "'Sheet1'"
      ],
      "text/markdown": [
       "'Sheet1'"
      ],
      "text/plain": [
       "[1] \"Sheet1\""
      ]
     },
     "metadata": {},
     "output_type": "display_data"
    },
    {
     "ename": "ERROR",
     "evalue": "Error in check_excel_data(\"Li_2016.xlsb\"): File type is not .xls or .xlsx\n",
     "output_type": "error",
     "traceback": [
      "Error in check_excel_data(\"Li_2016.xlsb\"): File type is not .xls or .xlsx\nTraceback:\n",
      "1. check_excel_data(\"Li_2016.xlsb\")",
      "2. stop(\"File type is not .xls or .xlsx\")   # at line 17 of file <text>"
     ]
    }
   ],
   "source": [
    "#Test code with excel dataset with more than one sheet\n",
    "check_excel_data(\"Bajhaiya_2016.xls\")  \n",
    "\n",
    "#Test code with excel dataset with one sheet\n",
    "check_excel_data(\"Boyle_2012.xls\") \n",
    "\n",
    "#Test code with incorrect file type\n",
    "check_excel_data(\"Li_2016.xlsb\")"
   ]
  },
  {
   "cell_type": "markdown",
   "metadata": {},
   "source": [
    "#### import_messy_excel"
   ]
  },
  {
   "cell_type": "code",
   "execution_count": 6,
   "metadata": {},
   "outputs": [],
   "source": [
    "#Remove non-data table rows and import a cleaner dataframe from an excel dataset\n",
    "\n",
    "import_messy_excel <- function(file_path, sheet_name){\n",
    "    \n",
    "    #check if \"readxl\" is loaded\n",
    "    require(\"readxl\") \n",
    "    require(\"dplyr\")\n",
    "    require(\"stringr\")\n",
    "    \n",
    "    #Checks to see if sheet name exists\n",
    "    if (sheet_name %in% excel_sheets(file_path) == FALSE){\n",
    "            stop(\"Sheet name does not exist\")\n",
    "    }\n",
    "    \n",
    "    #Remove rows in excel sheet if more than half of the columns have NAs\n",
    "    df <- read_excel(file_path, sheet = sheet_name) %>% \n",
    "        filter(rowSums(is.na(.))/ncol(.) < 0.5)\n",
    "    \n",
    "    #Assumes Row 1 of the subset dataframe is the column names\n",
    "    #Assign Row 1 as column names and remove Row 1\n",
    "    colnames(df)<- df[1,] %>% str_replace_all(\" \", \"_\")\n",
    "    df<- df[-1,]\n",
    "    message(\"Check if column names are correct.\")\n",
    "    \n",
    "    return(df)\n",
    "    \n",
    "}"
   ]
  },
  {
   "cell_type": "markdown",
   "metadata": {},
   "source": [
    "#### export_genes"
   ]
  },
  {
   "cell_type": "code",
   "execution_count": 7,
   "metadata": {},
   "outputs": [],
   "source": [
    "#Export candidate and non-candidate genes to `<first_author>_<year>.txt` in target_folder\n",
    "#Input: gene_data as dataframe\n",
    "\n",
    "export_genes <- function(df = gene_data, target_folder = target_folder){\n",
    "    \n",
    "    require(\"dplyr\")\n",
    "    \n",
    "    clean_data <- gene_data %>% \n",
    "        mutate(protein_id = NA,\n",
    "               protein_name = NA)\n",
    "    \n",
    "    write.table(gene_data, \n",
    "            paste(target_folder, first_author,\"_\",publication_year,\".txt\", sep=\"\"), \n",
    "            quote = FALSE, sep = \"\\t\", col.names = TRUE, row.names = FALSE)\n",
    "    \n",
    "    return(clean_data)\n",
    "    \n",
    "}"
   ]
  },
  {
   "cell_type": "markdown",
   "metadata": {},
   "source": [
    "#### append_basic_info"
   ]
  },
  {
   "cell_type": "code",
   "execution_count": 8,
   "metadata": {},
   "outputs": [],
   "source": [
    "#Input basic_info.txt as output_filepath\n",
    "#basic_info is a dataframe\n",
    "\n",
    "append_basic_info <- function(basic_info = basic_info, output_filepath){\n",
    "    \n",
    "    colnames(basic_info)<- NULL\n",
    "    #Append basic info to output_filepath\n",
    "    write.table(basic_info, output_filepath, \n",
    "                append = TRUE, sep = \"\\t\", quote = FALSE, \n",
    "                row.names = FALSE)\n",
    "    \n",
    "}"
   ]
  },
  {
   "cell_type": "markdown",
   "metadata": {},
   "source": [
    "### Create basic_info.txt in intermediate_data_01"
   ]
  },
  {
   "cell_type": "code",
   "execution_count": 10,
   "metadata": {},
   "outputs": [],
   "source": [
    "basic_info <- data.frame(matrix(ncol = 5, nrow = 0))\n",
    "colnames(basic_info) <- c(\"first_author\",\n",
    "                         \"publication_year\",\n",
    "                         \"genome_version\",\n",
    "                         \"database_source\", \n",
    "                         \"inclusion_criteria\")\n",
    "write.table(basic_info, \"../../intermediate_data_01/basic_info.txt\", \n",
    "            sep = \"\\t\", quote = FALSE, row.names = FALSE)"
   ]
  },
  {
   "cell_type": "markdown",
   "metadata": {},
   "source": [
    "## II. Add source data to intermediate_data_01\n",
    "\n",
    "### Bajhaiya_2016.xls\n",
    "\n",
    "#### 1. Extract basic information\n",
    "#### 2. Append basic information to `lipid_selection/data/intermediate_data_01/basic_info.txt`"
   ]
  },
  {
   "cell_type": "code",
   "execution_count": 11,
   "metadata": {},
   "outputs": [
    {
     "name": "stdout",
     "output_type": "stream",
     "text": [
      "'data.frame':\t1 obs. of  5 variables:\n",
      " $ first_author      : chr \"Bajhaiya\"\n",
      " $ publication_year  : num 2016\n",
      " $ genome_version    : num 5.3\n",
      " $ database_source   : chr \"Phytozome 9.1\"\n",
      " $ inclusion_criteria: chr \"fold difference greater than 2\"\n"
     ]
    }
   ],
   "source": [
    "#Basic information\n",
    "\n",
    "file_name = \"Bajhaiya_2016.xls\"\n",
    "genome_version = 5.3\n",
    "database_source = \"Phytozome 9.1\"\n",
    "inclusion_criteria = \"fold difference greater than 2\"\n",
    "first_author = \"Bajhaiya\"\n",
    "publication_year = 2016\n",
    "\n",
    "basic_info <- data.frame(first_author, \n",
    "                         publication_year, \n",
    "                         genome_version, \n",
    "                         database_source, \n",
    "                         inclusion_criteria, \n",
    "                         stringsAsFactors = FALSE)\n",
    "str(basic_info)\n",
    "\n",
    "append_basic_info(basic_info, \"../../intermediate_data_01/basic_info.txt\")"
   ]
  },
  {
   "cell_type": "code",
   "execution_count": 12,
   "metadata": {},
   "outputs": [],
   "source": [
    "#temp<- read.table(\"../../intermediate_data_01/basic_info.txt\", fill = TRUE)"
   ]
  },
  {
   "cell_type": "code",
   "execution_count": 13,
   "metadata": {},
   "outputs": [
    {
     "name": "stdout",
     "output_type": "stream",
     "text": [
      "[1] 2\n"
     ]
    }
   ],
   "source": [
    "#Check file type and number of excel sheets\n",
    "sheets <- check_excel_data(file_name)  \n",
    "print(length(sheets))"
   ]
  },
  {
   "cell_type": "markdown",
   "metadata": {},
   "source": [
    "#### 3. Extract candidate and non-candidate genes based on inclusion criteria.\n",
    "\n",
    "**Inclusion criteria**: Within each strain, if fold-difference between high P and low P is >2 count as candidate gene. \n",
    "\n",
    "**Sheet 1: \"Day 3\" **"
   ]
  },
  {
   "cell_type": "code",
   "execution_count": 14,
   "metadata": {},
   "outputs": [
    {
     "name": "stderr",
     "output_type": "stream",
     "text": [
      "New names:\n",
      "* `` -> ...2\n",
      "* `` -> ...3\n",
      "* `` -> ...4\n",
      "* `` -> ...5\n",
      "* `` -> ...6\n",
      "* … and 13 more problems\n",
      "Check if column names are correct.\n"
     ]
    },
    {
     "data": {
      "text/html": [
       "<table>\n",
       "<caption>A tibble: 3 × 2</caption>\n",
       "<thead>\n",
       "\t<tr><th scope=col>Gene_id</th><th scope=col>Gene_name</th></tr>\n",
       "\t<tr><th scope=col>&lt;chr&gt;</th><th scope=col>&lt;chr&gt;</th></tr>\n",
       "</thead>\n",
       "<tbody>\n",
       "\t<tr><td>Cre09.g404900</td><td>Cre09.g404900</td></tr>\n",
       "\t<tr><td>Cre04.g216700</td><td>PHOX         </td></tr>\n",
       "\t<tr><td>Cre01.g044300</td><td>Cre01.g044300</td></tr>\n",
       "</tbody>\n",
       "</table>\n"
      ],
      "text/latex": [
       "A tibble: 3 × 2\n",
       "\\begin{tabular}{r|ll}\n",
       " Gene\\_id & Gene\\_name\\\\\n",
       " <chr> & <chr>\\\\\n",
       "\\hline\n",
       "\t Cre09.g404900 & Cre09.g404900\\\\\n",
       "\t Cre04.g216700 & PHOX         \\\\\n",
       "\t Cre01.g044300 & Cre01.g044300\\\\\n",
       "\\end{tabular}\n"
      ],
      "text/markdown": [
       "\n",
       "A tibble: 3 × 2\n",
       "\n",
       "| Gene_id &lt;chr&gt; | Gene_name &lt;chr&gt; |\n",
       "|---|---|\n",
       "| Cre09.g404900 | Cre09.g404900 |\n",
       "| Cre04.g216700 | PHOX          |\n",
       "| Cre01.g044300 | Cre01.g044300 |\n",
       "\n"
      ],
      "text/plain": [
       "  Gene_id       Gene_name    \n",
       "1 Cre09.g404900 Cre09.g404900\n",
       "2 Cre04.g216700 PHOX         \n",
       "3 Cre01.g044300 Cre01.g044300"
      ]
     },
     "metadata": {},
     "output_type": "display_data"
    }
   ],
   "source": [
    "df <- import_messy_excel(file_name, sheets[1]) \n",
    "#Calculate fold difference using normalized expression\n",
    "temp1 <- df %>% \n",
    "    select(starts_with(\"Gene\"), ends_with(\"norm\")) %>%\n",
    "    mutate_at(vars(ends_with(\"norm\")),list(as.numeric)) %>%\n",
    "    filter(WT_HP_D3_DESeq_norm/WT_LP_D3_DESeq_norm >= 2 |\n",
    "          WT_LP_D3_DESeq_norm/WT_HP_D3_DESeq_norm >= 2 |\n",
    "          psr1_HP_D3_DESeq_norm/psr1_LP_D3_DESeq_norm >= 2 |\n",
    "          psr1_LP_D3_DESeq_norm/psr1_HP_D3_DESeq_norm >= 2) %>%\n",
    "    select(starts_with(\"Gene\"))\n",
    "           \n",
    "temp1[1:3,]"
   ]
  },
  {
   "cell_type": "markdown",
   "metadata": {},
   "source": [
    "** Sheet 2: \"Day 5\" **"
   ]
  },
  {
   "cell_type": "code",
   "execution_count": 15,
   "metadata": {},
   "outputs": [
    {
     "name": "stderr",
     "output_type": "stream",
     "text": [
      "New names:\n",
      "* `` -> ...2\n",
      "* `` -> ...3\n",
      "* `` -> ...4\n",
      "* `` -> ...5\n",
      "* `` -> ...6\n",
      "* … and 13 more problems\n",
      "Check if column names are correct.\n"
     ]
    },
    {
     "data": {
      "text/html": [
       "<table>\n",
       "<caption>A tibble: 3 × 2</caption>\n",
       "<thead>\n",
       "\t<tr><th scope=col>Gene_id</th><th scope=col>Gene_name</th></tr>\n",
       "\t<tr><th scope=col>&lt;chr&gt;</th><th scope=col>&lt;chr&gt;</th></tr>\n",
       "</thead>\n",
       "<tbody>\n",
       "\t<tr><td>Cre09.g404900</td><td>Cre09.g404900</td></tr>\n",
       "\t<tr><td>Cre04.g216700</td><td>PHOX         </td></tr>\n",
       "\t<tr><td>Cre01.g044300</td><td>Cre01.g044300</td></tr>\n",
       "</tbody>\n",
       "</table>\n"
      ],
      "text/latex": [
       "A tibble: 3 × 2\n",
       "\\begin{tabular}{r|ll}\n",
       " Gene\\_id & Gene\\_name\\\\\n",
       " <chr> & <chr>\\\\\n",
       "\\hline\n",
       "\t Cre09.g404900 & Cre09.g404900\\\\\n",
       "\t Cre04.g216700 & PHOX         \\\\\n",
       "\t Cre01.g044300 & Cre01.g044300\\\\\n",
       "\\end{tabular}\n"
      ],
      "text/markdown": [
       "\n",
       "A tibble: 3 × 2\n",
       "\n",
       "| Gene_id &lt;chr&gt; | Gene_name &lt;chr&gt; |\n",
       "|---|---|\n",
       "| Cre09.g404900 | Cre09.g404900 |\n",
       "| Cre04.g216700 | PHOX          |\n",
       "| Cre01.g044300 | Cre01.g044300 |\n",
       "\n"
      ],
      "text/plain": [
       "  Gene_id       Gene_name    \n",
       "1 Cre09.g404900 Cre09.g404900\n",
       "2 Cre04.g216700 PHOX         \n",
       "3 Cre01.g044300 Cre01.g044300"
      ]
     },
     "metadata": {},
     "output_type": "display_data"
    }
   ],
   "source": [
    "df <- import_messy_excel(file_name, sheets[2]) \n",
    "#Calculate fold difference using normalized expression\n",
    "temp2 <- df %>% \n",
    "    select(starts_with(\"Gene\"), ends_with(\"norm\")) %>%\n",
    "    mutate_at(vars(ends_with(\"norm\")),list(as.numeric)) %>%\n",
    "    filter(WT_HP_D5_DESeq_norm/WT_LP_D5_DESeq_norm >= 2 |\n",
    "          WT_LP_D5_DESeq_norm/WT_HP_D5_DESeq_norm >= 2 |\n",
    "          psr1_HP_D5_DESeq_norm/psr1_LP_D5_DESeq_norm >= 2 |\n",
    "          psr1_LP_D5_DESeq_norm/psr1_HP_D5_DESeq_norm >= 2) %>%\n",
    "    select(starts_with(\"Gene\"))\n",
    "temp2[1:3,]"
   ]
  },
  {
   "cell_type": "markdown",
   "metadata": {},
   "source": [
    "##### Join Sheet 1 and 2 data by creating two dataframes:\n",
    "* `candidate_genes`\n",
    "* `not_candidate_genes`"
   ]
  },
  {
   "cell_type": "code",
   "execution_count": 16,
   "metadata": {},
   "outputs": [
    {
     "name": "stderr",
     "output_type": "stream",
     "text": [
      "Joining, by = c(\"Gene_id\", \"Gene_name\")\n"
     ]
    },
    {
     "name": "stdout",
     "output_type": "stream",
     "text": [
      "\u001b[90m# A tibble: 3 x 3\u001b[39m\n",
      "  gene_id       gene_name     candidate_gene\n",
      "  \u001b[3m\u001b[90m<chr>\u001b[39m\u001b[23m         \u001b[3m\u001b[90m<chr>\u001b[39m\u001b[23m         \u001b[3m\u001b[90m<lgl>\u001b[39m\u001b[23m         \n",
      "\u001b[90m1\u001b[39m Cre09.g404900 Cre09.g404900 TRUE          \n",
      "\u001b[90m2\u001b[39m Cre04.g216700 PHOX          TRUE          \n",
      "\u001b[90m3\u001b[39m Cre01.g044300 Cre01.g044300 TRUE          \n",
      "   gene_id           gene_name         candidate_gene \n",
      " Length:17737       Length:17737       Mode :logical  \n",
      " Class :character   Class :character   FALSE:9441     \n",
      " Mode  :character   Mode  :character   TRUE :8296     \n"
     ]
    }
   ],
   "source": [
    "candidate_temp <- left_join(temp1, temp2, by = c(\"Gene_id\", \"Gene_name\")) \n",
    "\n",
    "not_candidate_genes_df <- anti_join(df, candidate_temp) %>% select(starts_with(\"Gene\")) %>%\n",
    "    mutate(candidate_gene = FALSE)\n",
    "\n",
    "candidate_genes <- candidate_temp %>% \n",
    "    mutate(candidate_gene = TRUE)\n",
    "\n",
    "gene_data <- rbind(candidate_genes, not_candidate_genes_df) %>%\n",
    "    rename(gene_id = Gene_id,\n",
    "          gene_name = Gene_name)\n",
    "\n",
    "print(gene_data[1:3,])\n",
    "print(summary(gene_data))"
   ]
  },
  {
   "cell_type": "markdown",
   "metadata": {},
   "source": [
    "### 4. Export candidate and non-candidate genes to `Bajhaiya_2016.txt`."
   ]
  },
  {
   "cell_type": "code",
   "execution_count": 17,
   "metadata": {},
   "outputs": [
    {
     "data": {
      "text/html": [
       "<table>\n",
       "<caption>A tibble: 5 × 5</caption>\n",
       "<thead>\n",
       "\t<tr><th scope=col>gene_id</th><th scope=col>gene_name</th><th scope=col>candidate_gene</th><th scope=col>protein_id</th><th scope=col>protein_name</th></tr>\n",
       "\t<tr><th scope=col>&lt;chr&gt;</th><th scope=col>&lt;chr&gt;</th><th scope=col>&lt;lgl&gt;</th><th scope=col>&lt;lgl&gt;</th><th scope=col>&lt;lgl&gt;</th></tr>\n",
       "</thead>\n",
       "<tbody>\n",
       "\t<tr><td>Cre09.g404900</td><td>Cre09.g404900</td><td>TRUE</td><td>NA</td><td>NA</td></tr>\n",
       "\t<tr><td>Cre04.g216700</td><td>PHOX         </td><td>TRUE</td><td>NA</td><td>NA</td></tr>\n",
       "\t<tr><td>Cre01.g044300</td><td>Cre01.g044300</td><td>TRUE</td><td>NA</td><td>NA</td></tr>\n",
       "\t<tr><td>g16424       </td><td>g16424       </td><td>TRUE</td><td>NA</td><td>NA</td></tr>\n",
       "\t<tr><td>g2975        </td><td>MPA1         </td><td>TRUE</td><td>NA</td><td>NA</td></tr>\n",
       "</tbody>\n",
       "</table>\n"
      ],
      "text/latex": [
       "A tibble: 5 × 5\n",
       "\\begin{tabular}{r|lllll}\n",
       " gene\\_id & gene\\_name & candidate\\_gene & protein\\_id & protein\\_name\\\\\n",
       " <chr> & <chr> & <lgl> & <lgl> & <lgl>\\\\\n",
       "\\hline\n",
       "\t Cre09.g404900 & Cre09.g404900 & TRUE & NA & NA\\\\\n",
       "\t Cre04.g216700 & PHOX          & TRUE & NA & NA\\\\\n",
       "\t Cre01.g044300 & Cre01.g044300 & TRUE & NA & NA\\\\\n",
       "\t g16424        & g16424        & TRUE & NA & NA\\\\\n",
       "\t g2975         & MPA1          & TRUE & NA & NA\\\\\n",
       "\\end{tabular}\n"
      ],
      "text/markdown": [
       "\n",
       "A tibble: 5 × 5\n",
       "\n",
       "| gene_id &lt;chr&gt; | gene_name &lt;chr&gt; | candidate_gene &lt;lgl&gt; | protein_id &lt;lgl&gt; | protein_name &lt;lgl&gt; |\n",
       "|---|---|---|---|---|\n",
       "| Cre09.g404900 | Cre09.g404900 | TRUE | NA | NA |\n",
       "| Cre04.g216700 | PHOX          | TRUE | NA | NA |\n",
       "| Cre01.g044300 | Cre01.g044300 | TRUE | NA | NA |\n",
       "| g16424        | g16424        | TRUE | NA | NA |\n",
       "| g2975         | MPA1          | TRUE | NA | NA |\n",
       "\n"
      ],
      "text/plain": [
       "  gene_id       gene_name     candidate_gene protein_id protein_name\n",
       "1 Cre09.g404900 Cre09.g404900 TRUE           NA         NA          \n",
       "2 Cre04.g216700 PHOX          TRUE           NA         NA          \n",
       "3 Cre01.g044300 Cre01.g044300 TRUE           NA         NA          \n",
       "4 g16424        g16424        TRUE           NA         NA          \n",
       "5 g2975         MPA1          TRUE           NA         NA          "
      ]
     },
     "metadata": {},
     "output_type": "display_data"
    }
   ],
   "source": [
    "temp<- export_genes(df = gene_data, target_folder = target_folder)\n",
    "temp[1:5,]"
   ]
  },
  {
   "cell_type": "markdown",
   "metadata": {},
   "source": [
    "## Blaby_2013_DS2.xlsx\n",
    "\n",
    "**Omit `Blaby_2013_DS8.xlsx`**\n",
    "\n",
    "#### 1. Extract basic information\n",
    "#### 2. Append basic information to `lipid_selection/data/intermediate_data_01/basic_info.txt`"
   ]
  },
  {
   "cell_type": "code",
   "execution_count": 18,
   "metadata": {},
   "outputs": [
    {
     "name": "stdout",
     "output_type": "stream",
     "text": [
      "'data.frame':\t1 obs. of  5 variables:\n",
      " $ first_author      : chr \"Blaby\"\n",
      " $ publication_year  : num 2013\n",
      " $ genome_version    : num 5\n",
      " $ database_source   : chr \"Augustus u10.2\"\n",
      " $ inclusion_criteria: chr \"fold difference greater than 2\"\n"
     ]
    }
   ],
   "source": [
    "#Basic information\n",
    "\n",
    "file_name = \"Blaby_2013_DS2.xlsx\"\n",
    "genome_version = 5.0\n",
    "database_source = \"Augustus u10.2\"\n",
    "inclusion_criteria = \"fold difference greater than 2\"\n",
    "first_author = \"Blaby\"\n",
    "publication_year = 2013\n",
    "\n",
    "basic_info <- data.frame(first_author, \n",
    "                         publication_year, \n",
    "                         genome_version, \n",
    "                         database_source, \n",
    "                         inclusion_criteria, \n",
    "                         stringsAsFactors = FALSE)\n",
    "str(basic_info)\n",
    "\n",
    "append_basic_info(basic_info, \"../../intermediate_data_01/basic_info.txt\")"
   ]
  },
  {
   "cell_type": "code",
   "execution_count": 19,
   "metadata": {},
   "outputs": [
    {
     "name": "stdout",
     "output_type": "stream",
     "text": [
      "[1] 1\n"
     ]
    }
   ],
   "source": [
    "#Check file type and number of excel sheets\n",
    "sheets <- check_excel_data(file_name)  \n",
    "print(length(sheets))"
   ]
  },
  {
   "cell_type": "markdown",
   "metadata": {},
   "source": [
    "#### 3. Extract candidate and non-candidate genes based on inclusion criteria.\n",
    "\n",
    "**Inclusion criteria**: Within each strain, if fold-difference between 0 hour and *n* hours after N starvation >2 count as candidate gene. \n",
    "\n",
    "* Gene expression differences due to *sta-6* mutation is less important than gene expression differences due to nutrient starvation"
   ]
  },
  {
   "cell_type": "code",
   "execution_count": 20,
   "metadata": {},
   "outputs": [
    {
     "name": "stderr",
     "output_type": "stream",
     "text": [
      "New names:\n",
      "* `` -> ...2\n",
      "* `` -> ...3\n",
      "* `` -> ...4\n",
      "* `` -> ...5\n",
      "* `` -> ...6\n",
      "* … and 13 more problems\n",
      "Check if column names are correct.\n"
     ]
    }
   ],
   "source": [
    "require(\"readxl\")\n",
    "require(\"tidyverse\")\n",
    "require(\"dplyr\")\n",
    "\n",
    "#Data manipulation to separate data by strains\n",
    "df <- import_messy_excel(file_name, sheets[1]) \n",
    "CC_4349 <- df[,1:11] %>% mutate(strain = \"CC_4349\") %>% rename ( '0' = '0b') \n",
    "#CC_4349[1:3,]\n",
    "sta_6 <- df[, c(1:3, 12:19)] %>% mutate(strain = \"sta_6\")\n",
    "#sta_6[1:3,]"
   ]
  },
  {
   "cell_type": "code",
   "execution_count": 25,
   "metadata": {},
   "outputs": [
    {
     "data": {
      "text/html": [
       "<table>\n",
       "<caption>A grouped_df: 3 × 3</caption>\n",
       "<thead>\n",
       "\t<tr><th scope=col>gene_name</th><th scope=col>gene_id</th><th scope=col>candidate_gene</th></tr>\n",
       "\t<tr><th scope=col>&lt;chr&gt;</th><th scope=col>&lt;chr&gt;</th><th scope=col>&lt;lgl&gt;</th></tr>\n",
       "</thead>\n",
       "<tbody>\n",
       "\t<tr><td>NA</td><td>Cre01.g001100</td><td>TRUE</td></tr>\n",
       "\t<tr><td>NA</td><td>Cre01.g004750</td><td>TRUE</td></tr>\n",
       "\t<tr><td>NA</td><td>Cre01.g011450</td><td>TRUE</td></tr>\n",
       "</tbody>\n",
       "</table>\n"
      ],
      "text/latex": [
       "A grouped_df: 3 × 3\n",
       "\\begin{tabular}{r|lll}\n",
       " gene\\_name & gene\\_id & candidate\\_gene\\\\\n",
       " <chr> & <chr> & <lgl>\\\\\n",
       "\\hline\n",
       "\t NA & Cre01.g001100 & TRUE\\\\\n",
       "\t NA & Cre01.g004750 & TRUE\\\\\n",
       "\t NA & Cre01.g011450 & TRUE\\\\\n",
       "\\end{tabular}\n"
      ],
      "text/markdown": [
       "\n",
       "A grouped_df: 3 × 3\n",
       "\n",
       "| gene_name &lt;chr&gt; | gene_id &lt;chr&gt; | candidate_gene &lt;lgl&gt; |\n",
       "|---|---|---|\n",
       "| NA | Cre01.g001100 | TRUE |\n",
       "| NA | Cre01.g004750 | TRUE |\n",
       "| NA | Cre01.g011450 | TRUE |\n",
       "\n"
      ],
      "text/plain": [
       "  gene_name gene_id       candidate_gene\n",
       "1 NA        Cre01.g001100 TRUE          \n",
       "2 NA        Cre01.g004750 TRUE          \n",
       "3 NA        Cre01.g011450 TRUE          "
      ]
     },
     "metadata": {},
     "output_type": "display_data"
    },
    {
     "data": {
      "text/plain": [
       "  gene_name           gene_id          candidate_gene \n",
       " Length:450         Length:450         Mode :logical  \n",
       " Class :character   Class :character   FALSE:2        \n",
       " Mode  :character   Mode  :character   TRUE :448      "
      ]
     },
     "metadata": {},
     "output_type": "display_data"
    }
   ],
   "source": [
    "gene_data <- rbind(CC_4349, sta_6) %>% \n",
    "\n",
    "    #reshape dataframe to assign candidate_gene label based on fold difference\n",
    "    gather(.,'0.5', '2', '4', '8', '12', '24', '48', \n",
    "      key = \"time\", value = 'expression') %>%\n",
    "    rename(time_0h = '0') %>%\n",
    "    mutate(time_0h = as.numeric(time_0h)) %>%\n",
    "    mutate( candidate_gene = case_when(\n",
    "        expression >= 2*time_0h ~ TRUE,\n",
    "        time_0h>= 2*expression ~ TRUE,\n",
    "        TRUE ~ FALSE)) %>%\n",
    "    \n",
    "    #aggregate dataframe and remove unnecessary columns for append_genes()\n",
    "    group_by(Gene, Augustus_u10.2_ID) %>% \n",
    "    summarise(candidate_gene = any(candidate_gene)) %>%\n",
    "    rename (gene_name = Gene, gene_id = Augustus_u10.2_ID)\n",
    "\n",
    "gene_data[1:3,]\n",
    "summary(gene_data)\n",
    "temp<- export_genes(df = gene_data, target_folder = target_folder)"
   ]
  },
  {
   "cell_type": "markdown",
   "metadata": {},
   "source": [
    "### Boyle_2012.xls\n",
    "\n",
    "#### 1. Extract basic information\n",
    "#### 2. Append basic information to `lipid_selection/data/intermediate_data_01/basic_info.txt`"
   ]
  },
  {
   "cell_type": "code",
   "execution_count": 26,
   "metadata": {},
   "outputs": [
    {
     "name": "stdout",
     "output_type": "stream",
     "text": [
      "'data.frame':\t1 obs. of  5 variables:\n",
      " $ first_author      : chr \"Boyle\"\n",
      " $ publication_year  : num 2012\n",
      " $ genome_version    : num 4\n",
      " $ database_source   : chr \"Augustus 10.2\"\n",
      " $ inclusion_criteria: chr \"fold difference greater than 2\"\n"
     ]
    }
   ],
   "source": [
    "file_name = \"Boyle_2012.xls\"\n",
    "genome_version = 4.0\n",
    "database_source = \"Augustus 10.2\"\n",
    "inclusion_criteria = \"fold difference greater than 2\"\n",
    "first_author = \"Boyle\"\n",
    "publication_year = 2012\n",
    "\n",
    "basic_info <- data.frame(first_author, \n",
    "                         publication_year, \n",
    "                         genome_version, \n",
    "                         database_source, \n",
    "                         inclusion_criteria, \n",
    "                         stringsAsFactors = FALSE)\n",
    "str(basic_info)\n",
    "\n",
    "append_basic_info(basic_info, \"../../intermediate_data_01/basic_info.txt\")"
   ]
  },
  {
   "cell_type": "code",
   "execution_count": 27,
   "metadata": {},
   "outputs": [
    {
     "name": "stdout",
     "output_type": "stream",
     "text": [
      "[1] 1\n"
     ]
    }
   ],
   "source": [
    "#Check file type and number of excel sheets\n",
    "sheets <- check_excel_data(file_name)  \n",
    "print(length(sheets))"
   ]
  },
  {
   "cell_type": "markdown",
   "metadata": {},
   "source": [
    "#### 3. Extract candidate and non-candidate genes based on inclusion criteria.\n",
    "\n",
    "**Inclusion criteria**: Within each strain, if fold-difference of RPKM between 0 hour and *n* hours after N starvation >2 count as candidate gene. "
   ]
  },
  {
   "cell_type": "code",
   "execution_count": 28,
   "metadata": {},
   "outputs": [
    {
     "name": "stderr",
     "output_type": "stream",
     "text": [
      "New names:\n",
      "* `` -> ...6\n",
      "* `` -> ...7\n",
      "* `` -> ...8\n",
      "* `` -> ...9\n",
      "Check if column names are correct.\n"
     ]
    },
    {
     "data": {
      "text/html": [
       "<table>\n",
       "<caption>A tibble: 3 × 9</caption>\n",
       "<thead>\n",
       "\t<tr><th scope=col>gene_id</th><th scope=col>Au.5</th><th scope=col>gene_name</th><th scope=col>protein_name</th><th scope=col>time_0h</th><th scope=col>2_h</th><th scope=col>12_h</th><th scope=col>24_h</th><th scope=col>48_h</th></tr>\n",
       "\t<tr><th scope=col>&lt;chr&gt;</th><th scope=col>&lt;dbl&gt;</th><th scope=col>&lt;chr&gt;</th><th scope=col>&lt;chr&gt;</th><th scope=col>&lt;chr&gt;</th><th scope=col>&lt;chr&gt;</th><th scope=col>&lt;chr&gt;</th><th scope=col>&lt;chr&gt;</th><th scope=col>&lt;chr&gt;</th></tr>\n",
       "</thead>\n",
       "<tbody>\n",
       "\t<tr><td>Cre12.g519100</td><td>513248</td><td>ACX1</td><td>?-Carboxyltransferase             </td><td>140.5             </td><td>68.200000000000003</td><td>81.299999999999997</td><td>71.599999999999994</td><td>70.200000000000003</td></tr>\n",
       "\t<tr><td>Cre12.g484000</td><td>512497</td><td>BCX1</td><td>?-Carboxyltransferase             </td><td>103.5             </td><td>53.399999999999999</td><td>35.100000000000001</td><td>35.399999999999999</td><td>31.399999999999999</td></tr>\n",
       "\t<tr><td>Cre17.g715250</td><td>517403</td><td>BCC1</td><td>Acetyl-CoA biotin carboxyl carrier</td><td>293.89999999999998</td><td>129.59999999999999</td><td>54.700000000000003</td><td>74.700000000000003</td><td>68.900000000000006</td></tr>\n",
       "</tbody>\n",
       "</table>\n"
      ],
      "text/latex": [
       "A tibble: 3 × 9\n",
       "\\begin{tabular}{r|lllllllll}\n",
       " gene\\_id & Au.5 & gene\\_name & protein\\_name & time\\_0h & 2\\_h & 12\\_h & 24\\_h & 48\\_h\\\\\n",
       " <chr> & <dbl> & <chr> & <chr> & <chr> & <chr> & <chr> & <chr> & <chr>\\\\\n",
       "\\hline\n",
       "\t Cre12.g519100 & 513248 & ACX1 & ?-Carboxyltransferase              & 140.5              & 68.200000000000003 & 81.299999999999997 & 71.599999999999994 & 70.200000000000003\\\\\n",
       "\t Cre12.g484000 & 512497 & BCX1 & ?-Carboxyltransferase              & 103.5              & 53.399999999999999 & 35.100000000000001 & 35.399999999999999 & 31.399999999999999\\\\\n",
       "\t Cre17.g715250 & 517403 & BCC1 & Acetyl-CoA biotin carboxyl carrier & 293.89999999999998 & 129.59999999999999 & 54.700000000000003 & 74.700000000000003 & 68.900000000000006\\\\\n",
       "\\end{tabular}\n"
      ],
      "text/markdown": [
       "\n",
       "A tibble: 3 × 9\n",
       "\n",
       "| gene_id &lt;chr&gt; | Au.5 &lt;dbl&gt; | gene_name &lt;chr&gt; | protein_name &lt;chr&gt; | time_0h &lt;chr&gt; | 2_h &lt;chr&gt; | 12_h &lt;chr&gt; | 24_h &lt;chr&gt; | 48_h &lt;chr&gt; |\n",
       "|---|---|---|---|---|---|---|---|---|\n",
       "| Cre12.g519100 | 513248 | ACX1 | ?-Carboxyltransferase              | 140.5              | 68.200000000000003 | 81.299999999999997 | 71.599999999999994 | 70.200000000000003 |\n",
       "| Cre12.g484000 | 512497 | BCX1 | ?-Carboxyltransferase              | 103.5              | 53.399999999999999 | 35.100000000000001 | 35.399999999999999 | 31.399999999999999 |\n",
       "| Cre17.g715250 | 517403 | BCC1 | Acetyl-CoA biotin carboxyl carrier | 293.89999999999998 | 129.59999999999999 | 54.700000000000003 | 74.700000000000003 | 68.900000000000006 |\n",
       "\n"
      ],
      "text/plain": [
       "  gene_id       Au.5   gene_name protein_name                      \n",
       "1 Cre12.g519100 513248 ACX1      ?-Carboxyltransferase             \n",
       "2 Cre12.g484000 512497 BCX1      ?-Carboxyltransferase             \n",
       "3 Cre17.g715250 517403 BCC1      Acetyl-CoA biotin carboxyl carrier\n",
       "  time_0h            2_h                12_h               24_h              \n",
       "1 140.5              68.200000000000003 81.299999999999997 71.599999999999994\n",
       "2 103.5              53.399999999999999 35.100000000000001 35.399999999999999\n",
       "3 293.89999999999998 129.59999999999999 54.700000000000003 74.700000000000003\n",
       "  48_h              \n",
       "1 70.200000000000003\n",
       "2 31.399999999999999\n",
       "3 68.900000000000006"
      ]
     },
     "metadata": {},
     "output_type": "display_data"
    }
   ],
   "source": [
    "require(\"readxl\")\n",
    "require(\"tidyverse\")\n",
    "require(\"dplyr\")\n",
    "\n",
    "#Import excel sheet and rename column names\n",
    "df <- import_messy_excel(file_name, sheets[1])\n",
    "colnames(df)[1:5]<- c(\"gene_id\", \"Au.5\", \"gene_name\",\"protein_name\", \"time_0h\")\n",
    "df[1:3,]"
   ]
  },
  {
   "cell_type": "code",
   "execution_count": 31,
   "metadata": {},
   "outputs": [
    {
     "data": {
      "text/html": [
       "<table>\n",
       "<caption>A grouped_df: 3 × 3</caption>\n",
       "<thead>\n",
       "\t<tr><th scope=col>gene_id</th><th scope=col>gene_name</th><th scope=col>candidate_gene</th></tr>\n",
       "\t<tr><th scope=col>&lt;chr&gt;</th><th scope=col>&lt;chr&gt;</th><th scope=col>&lt;lgl&gt;</th></tr>\n",
       "</thead>\n",
       "<tbody>\n",
       "\t<tr><td>Cre01.g037850</td><td>BCC2 </td><td>TRUE</td></tr>\n",
       "\t<tr><td>Cre01.g038550</td><td>SQD2 </td><td>TRUE</td></tr>\n",
       "\t<tr><td>Cre01.g045900</td><td>DGAT1</td><td>TRUE</td></tr>\n",
       "</tbody>\n",
       "</table>\n"
      ],
      "text/latex": [
       "A grouped_df: 3 × 3\n",
       "\\begin{tabular}{r|lll}\n",
       " gene\\_id & gene\\_name & candidate\\_gene\\\\\n",
       " <chr> & <chr> & <lgl>\\\\\n",
       "\\hline\n",
       "\t Cre01.g037850 & BCC2  & TRUE\\\\\n",
       "\t Cre01.g038550 & SQD2  & TRUE\\\\\n",
       "\t Cre01.g045900 & DGAT1 & TRUE\\\\\n",
       "\\end{tabular}\n"
      ],
      "text/markdown": [
       "\n",
       "A grouped_df: 3 × 3\n",
       "\n",
       "| gene_id &lt;chr&gt; | gene_name &lt;chr&gt; | candidate_gene &lt;lgl&gt; |\n",
       "|---|---|---|\n",
       "| Cre01.g037850 | BCC2  | TRUE |\n",
       "| Cre01.g038550 | SQD2  | TRUE |\n",
       "| Cre01.g045900 | DGAT1 | TRUE |\n",
       "\n"
      ],
      "text/plain": [
       "  gene_id       gene_name candidate_gene\n",
       "1 Cre01.g037850 BCC2      TRUE          \n",
       "2 Cre01.g038550 SQD2      TRUE          \n",
       "3 Cre01.g045900 DGAT1     TRUE          "
      ]
     },
     "metadata": {},
     "output_type": "display_data"
    },
    {
     "data": {
      "text/plain": [
       "   gene_id           gene_name         candidate_gene \n",
       " Length:25          Length:25          Mode :logical  \n",
       " Class :character   Class :character   FALSE:9        \n",
       " Mode  :character   Mode  :character   TRUE :16       "
      ]
     },
     "metadata": {},
     "output_type": "display_data"
    },
    {
     "data": {
      "text/html": [
       "<table>\n",
       "<caption>A grouped_df: 3 × 5</caption>\n",
       "<thead>\n",
       "\t<tr><th scope=col>gene_id</th><th scope=col>gene_name</th><th scope=col>candidate_gene</th><th scope=col>protein_id</th><th scope=col>protein_name</th></tr>\n",
       "\t<tr><th scope=col>&lt;chr&gt;</th><th scope=col>&lt;chr&gt;</th><th scope=col>&lt;lgl&gt;</th><th scope=col>&lt;lgl&gt;</th><th scope=col>&lt;lgl&gt;</th></tr>\n",
       "</thead>\n",
       "<tbody>\n",
       "\t<tr><td>Cre01.g037850</td><td>BCC2 </td><td>TRUE</td><td>NA</td><td>NA</td></tr>\n",
       "\t<tr><td>Cre01.g038550</td><td>SQD2 </td><td>TRUE</td><td>NA</td><td>NA</td></tr>\n",
       "\t<tr><td>Cre01.g045900</td><td>DGAT1</td><td>TRUE</td><td>NA</td><td>NA</td></tr>\n",
       "</tbody>\n",
       "</table>\n"
      ],
      "text/latex": [
       "A grouped_df: 3 × 5\n",
       "\\begin{tabular}{r|lllll}\n",
       " gene\\_id & gene\\_name & candidate\\_gene & protein\\_id & protein\\_name\\\\\n",
       " <chr> & <chr> & <lgl> & <lgl> & <lgl>\\\\\n",
       "\\hline\n",
       "\t Cre01.g037850 & BCC2  & TRUE & NA & NA\\\\\n",
       "\t Cre01.g038550 & SQD2  & TRUE & NA & NA\\\\\n",
       "\t Cre01.g045900 & DGAT1 & TRUE & NA & NA\\\\\n",
       "\\end{tabular}\n"
      ],
      "text/markdown": [
       "\n",
       "A grouped_df: 3 × 5\n",
       "\n",
       "| gene_id &lt;chr&gt; | gene_name &lt;chr&gt; | candidate_gene &lt;lgl&gt; | protein_id &lt;lgl&gt; | protein_name &lt;lgl&gt; |\n",
       "|---|---|---|---|---|\n",
       "| Cre01.g037850 | BCC2  | TRUE | NA | NA |\n",
       "| Cre01.g038550 | SQD2  | TRUE | NA | NA |\n",
       "| Cre01.g045900 | DGAT1 | TRUE | NA | NA |\n",
       "\n"
      ],
      "text/plain": [
       "  gene_id       gene_name candidate_gene protein_id protein_name\n",
       "1 Cre01.g037850 BCC2      TRUE           NA         NA          \n",
       "2 Cre01.g038550 SQD2      TRUE           NA         NA          \n",
       "3 Cre01.g045900 DGAT1     TRUE           NA         NA          "
      ]
     },
     "metadata": {},
     "output_type": "display_data"
    }
   ],
   "source": [
    "#Reshape dataframe such that it is easier to compare time 0h to 'n'h\n",
    "gene_data<- df %>% gather(., '2_h', '12_h', \"24_h\", '48_h',\n",
    "                   key = 'time', value = \"expression\") %>%\n",
    "    mutate(time_0h = as.numeric(time_0h),\n",
    "        expression= as.numeric(expression)) %>%\n",
    "           \n",
    "    #assign candidate_gene label based on fold difference\n",
    "    mutate(candidate_gene = case_when(\n",
    "            expression >= 2*time_0h~ TRUE,\n",
    "            time_0h >= 2* expression~ TRUE,\n",
    "            TRUE ~ FALSE)) %>%\n",
    "\n",
    "    #aggregate dataframe and remove unnecessary columns for append_genes()\n",
    "    group_by(gene_id, gene_name) %>% \n",
    "    summarise(candidate_gene = any(candidate_gene))\n",
    "\n",
    "gene_data[1:3,]\n",
    "summary(gene_data)\n",
    "temp<-export_genes(df = gene_data, target_folder = target_folder)\n",
    "temp[1:3,]\n",
    "    "
   ]
  },
  {
   "cell_type": "code",
   "execution_count": null,
   "metadata": {},
   "outputs": [],
   "source": []
  }
 ],
 "metadata": {
  "kernelspec": {
   "display_name": "R",
   "language": "R",
   "name": "ir"
  },
  "language_info": {
   "codemirror_mode": "r",
   "file_extension": ".r",
   "mimetype": "text/x-r-source",
   "name": "R",
   "pygments_lexer": "r",
   "version": "3.5.2"
  }
 },
 "nbformat": 4,
 "nbformat_minor": 2
}
