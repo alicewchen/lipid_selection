{
 "cells": [
  {
   "cell_type": "markdown",
   "metadata": {},
   "source": [
    "# Extract relevant genes and generate files in intermediate_data_01/\n",
    "\n",
    "## Workflow description\n",
    "\n",
    "1. Run **I. Essentials** and **II. Custom Functions**\n",
    "2. For each dataset in `lipid_selection/data/raw_data/source_data/`:\n",
    "\n",
    "    1. Extract basic information:\n",
    "        - genome_version \n",
    "        - database_source \n",
    "        - inclusion_criteria \n",
    "        - first_author\n",
    "        - publication_year\n",
    "      \n",
    "    2. Append basic information to `lipid_selection/data/intermediate_data_01/basic_info.txt`\n",
    "        - Use `append_basic_info()`\n",
    "    \n",
    "    3. Extract candidate and non-candidate genes.\n",
    "        - Use `check_excel_data()`, `import_messy_excel()`\n",
    "    \n",
    "    4. Export candidate and non-candidate genes to `<first_author>_<year>.txt`.\n",
    "        - Use `export_genes()` or `export_proteins()`\n",
    "\n",
    "## I. Essentials\n",
    "\n",
    "#### Check directories and load library packages\n",
    "\n",
    "Working directory is `lipid_selection/data/raw_data/source_data`."
   ]
  },
  {
   "cell_type": "code",
   "execution_count": 1,
   "metadata": {},
   "outputs": [],
   "source": [
    "current_dir = getwd()\n",
    "source_data_dir = \"../../data/raw_data/source_data\"\n",
    "setwd(source_data_dir)\n",
    "\n",
    "#Set target folder for candidate gene info from step 2.D\n",
    "target_folder = \"../../intermediate_data_01/\""
   ]
  },
  {
   "cell_type": "markdown",
   "metadata": {},
   "source": [
    "Load essential library packages"
   ]
  },
  {
   "cell_type": "code",
   "execution_count": 2,
   "metadata": {},
   "outputs": [
    {
     "name": "stderr",
     "output_type": "stream",
     "text": [
      "\n",
      "Attaching package: 'dplyr'\n",
      "\n",
      "The following objects are masked from 'package:stats':\n",
      "\n",
      "    filter, lag\n",
      "\n",
      "The following objects are masked from 'package:base':\n",
      "\n",
      "    intersect, setdiff, setequal, union\n",
      "\n",
      "-- \u001b[1mAttaching packages\u001b[22m --------------------------------------- tidyverse 1.2.1 --\n",
      "\u001b[32mv\u001b[39m \u001b[34mggplot2\u001b[39m 3.1.1     \u001b[32mv\u001b[39m \u001b[34mreadr  \u001b[39m 1.3.1\n",
      "\u001b[32mv\u001b[39m \u001b[34mtibble \u001b[39m 2.1.1     \u001b[32mv\u001b[39m \u001b[34mpurrr  \u001b[39m 0.3.2\n",
      "\u001b[32mv\u001b[39m \u001b[34mtidyr  \u001b[39m 0.8.3     \u001b[32mv\u001b[39m \u001b[34mstringr\u001b[39m 1.4.0\n",
      "\u001b[32mv\u001b[39m \u001b[34mggplot2\u001b[39m 3.1.1     \u001b[32mv\u001b[39m \u001b[34mforcats\u001b[39m 0.4.0\n",
      "-- \u001b[1mConflicts\u001b[22m ------------------------------------------ tidyverse_conflicts() --\n",
      "\u001b[31mx\u001b[39m \u001b[34mdplyr\u001b[39m::\u001b[32mfilter()\u001b[39m masks \u001b[34mstats\u001b[39m::filter()\n",
      "\u001b[31mx\u001b[39m \u001b[34mdplyr\u001b[39m::\u001b[32mlag()\u001b[39m    masks \u001b[34mstats\u001b[39m::lag()\n"
     ]
    }
   ],
   "source": [
    "library(\"readxl\")\n",
    "library(\"dplyr\")\n",
    "library(\"tidyverse\")"
   ]
  },
  {
   "cell_type": "code",
   "execution_count": 3,
   "metadata": {},
   "outputs": [
    {
     "data": {
      "text/html": [
       "'/home/chenwe72/gitRepo/lipid_selection/data/raw_data/source_data'"
      ],
      "text/latex": [
       "'/home/chenwe72/gitRepo/lipid\\_selection/data/raw\\_data/source\\_data'"
      ],
      "text/markdown": [
       "'/home/chenwe72/gitRepo/lipid_selection/data/raw_data/source_data'"
      ],
      "text/plain": [
       "[1] \"/home/chenwe72/gitRepo/lipid_selection/data/raw_data/source_data\""
      ]
     },
     "metadata": {},
     "output_type": "display_data"
    }
   ],
   "source": [
    "getwd()"
   ]
  },
  {
   "cell_type": "markdown",
   "metadata": {},
   "source": [
    "## II. Custom functions\n",
    "\n",
    "* `check_excel_data`\n",
    "    - **Usage**: Check if excel dataset has more than one sheet; check if file type is .xls or .xlsx\n",
    "    - **input**: file_path (str)\n",
    "    - **output**: list of sheet names as strings\n",
    "    \n",
    "    \n",
    "* `import_messy_excel`\n",
    "    - **Usage**: Remove non-data table rows and import a cleaner dataframe from an excel dataset\n",
    "    - **input**: file_path (str), sheet_name (str)\n",
    "    - **output**: dataframe\n",
    "    \n",
    "    \n",
    "* `export_genes`\n",
    "    - **Usage**: Export candidate and non-candidate genes to `<first_author>_<year>.txt` in `target_folder`\n",
    "    - **input**: gene_data (dataframe), \n",
    "    - **output**: `<first_author>_<year>.txt` in `target_folder`\n",
    "    \n",
    "    - **Usage**: \n",
    "    - **input**: \n",
    "    - **output**: "
   ]
  },
  {
   "cell_type": "markdown",
   "metadata": {},
   "source": [
    "#### check_excel_data"
   ]
  },
  {
   "cell_type": "code",
   "execution_count": 4,
   "metadata": {},
   "outputs": [],
   "source": [
    "#Check if excel dataset has more than one sheet. \n",
    "#Check if file type is .xls or .xlsx\n",
    "check_excel_data <- function (file_path){\n",
    "    \n",
    "    #If file type is not .xls or .xlsx, return FALSE\n",
    "    #Return sheet name(s) as a list of strings\n",
    "    \n",
    "    #check if \"readxl\" is loaded\n",
    "    require(\"readxl\") \n",
    "    \n",
    "    #check if file type is .xls or .xlsx. excel_sheets() only works with these file types\n",
    "    if (strsplit(file_path, \"[.]\")[[1]][2] %in% c(\"xls\", \"xlsx\")){\n",
    "        list_of_sheets <- excel_sheets(file_path)\n",
    "        return (list_of_sheets)\n",
    "    }\n",
    "    else {\n",
    "        stop(\"File type is not .xls or .xlsx\")} \n",
    "    \n",
    "}"
   ]
  },
  {
   "cell_type": "code",
   "execution_count": 5,
   "metadata": {},
   "outputs": [
    {
     "data": {
      "text/html": [
       "<ol class=list-inline>\n",
       "\t<li>'Day 3'</li>\n",
       "\t<li>'Day 5'</li>\n",
       "</ol>\n"
      ],
      "text/latex": [
       "\\begin{enumerate*}\n",
       "\\item 'Day 3'\n",
       "\\item 'Day 5'\n",
       "\\end{enumerate*}\n"
      ],
      "text/markdown": [
       "1. 'Day 3'\n",
       "2. 'Day 5'\n",
       "\n",
       "\n"
      ],
      "text/plain": [
       "[1] \"Day 3\" \"Day 5\""
      ]
     },
     "metadata": {},
     "output_type": "display_data"
    },
    {
     "data": {
      "text/html": [
       "'Sheet1'"
      ],
      "text/latex": [
       "'Sheet1'"
      ],
      "text/markdown": [
       "'Sheet1'"
      ],
      "text/plain": [
       "[1] \"Sheet1\""
      ]
     },
     "metadata": {},
     "output_type": "display_data"
    },
    {
     "ename": "ERROR",
     "evalue": "Error in check_excel_data(\"Li_2016.xlsb\"): File type is not .xls or .xlsx\n",
     "output_type": "error",
     "traceback": [
      "Error in check_excel_data(\"Li_2016.xlsb\"): File type is not .xls or .xlsx\nTraceback:\n",
      "1. check_excel_data(\"Li_2016.xlsb\")",
      "2. stop(\"File type is not .xls or .xlsx\")   # at line 17 of file <text>"
     ]
    }
   ],
   "source": [
    "#Test code with excel dataset with more than one sheet\n",
    "check_excel_data(\"Bajhaiya_2016.xls\")  \n",
    "\n",
    "#Test code with excel dataset with one sheet\n",
    "check_excel_data(\"Boyle_2012.xls\") \n",
    "\n",
    "#Test code with incorrect file type\n",
    "check_excel_data(\"Li_2016.xlsb\")"
   ]
  },
  {
   "cell_type": "markdown",
   "metadata": {},
   "source": [
    "#### import_messy_excel"
   ]
  },
  {
   "cell_type": "code",
   "execution_count": 6,
   "metadata": {},
   "outputs": [],
   "source": [
    "#Remove non-data table rows and import a cleaner dataframe from an excel dataset\n",
    "\n",
    "import_messy_excel <- function(file_path, sheet_name){\n",
    "    \n",
    "    #check if \"readxl\" is loaded\n",
    "    require(\"readxl\") \n",
    "    require(\"dplyr\")\n",
    "    require(\"stringr\")\n",
    "    \n",
    "    #Checks to see if sheet name exists\n",
    "    if (sheet_name %in% excel_sheets(file_path) == FALSE){\n",
    "            stop(\"Sheet name does not exist\")\n",
    "    }\n",
    "    \n",
    "    #Remove rows in excel sheet if more than half of the columns have NAs\n",
    "    df <- read_excel(file_path, sheet = sheet_name) %>% \n",
    "        filter(rowSums(is.na(.))/ncol(.) < 0.5)\n",
    "    \n",
    "    #Assumes Row 1 of the subset dataframe is the column names\n",
    "    #Assign Row 1 as column names and remove Row 1\n",
    "    colnames(df)<- df[1,] %>% str_replace_all(\" \", \"_\")\n",
    "    df<- df[-1,]\n",
    "    message(\"Check if column names are correct.\")\n",
    "    \n",
    "    return(df)\n",
    "    \n",
    "}"
   ]
  },
  {
   "cell_type": "markdown",
   "metadata": {},
   "source": [
    "#### export_genes\n",
    "\n",
    "`gene_data` should have the some of the following columns *(when available)* :\n",
    "- `gene_id` : <`string`> matches `^Cre.+`\n",
    "- `gene_name` : <`string`> abbreviation of gene name \n",
    "- `protein_id`: <`string`> \n",
    "- `candidate_gene` : <`boolean`> whether the gene is candidate or not\n",
    "- `fold_difference`: <`numeric`> linear fold-difference in gene expression levels\n",
    "- `p_value`: <`numeric`> p-value of whether `|log2(fold_difference)| >1`\n",
    "- `protein_fold_difference`: <`numeric`> linear fold-difference in protein expression levels\n",
    "- `protein_p_value`: <`numeric`> p-value of whether `|log2(protein_fold_difference)| >1`\n"
   ]
  },
  {
   "cell_type": "code",
   "execution_count": 258,
   "metadata": {},
   "outputs": [],
   "source": [
    "#Export candidate and non-candidate genes to `<first_author>_<year>.txt` in target_folder\n",
    "#Input: gene_data as dataframe\n",
    "\n",
    "export_data <- function(df = gene_data, target_folder = target_folder){\n",
    "    \n",
    "    require(\"dplyr\")\n",
    "       \n",
    "    write.table(gene_data, \n",
    "            paste(target_folder, first_author,\"_\",publication_year,\".txt\", sep=\"\"), \n",
    "            quote = FALSE, sep = \"\\t\", col.names = TRUE, row.names = FALSE)\n",
    "    \n",
    "}"
   ]
  },
  {
   "cell_type": "markdown",
   "metadata": {},
   "source": [
    "#### append_basic_info"
   ]
  },
  {
   "cell_type": "code",
   "execution_count": 8,
   "metadata": {},
   "outputs": [],
   "source": [
    "#Input basic_info.txt as output_filepath\n",
    "#basic_info is a dataframe\n",
    "\n",
    "append_basic_info <- function(basic_info = basic_info, output_filepath){\n",
    "    \n",
    "    colnames(basic_info)<- NULL\n",
    "    #Append basic info to output_filepath\n",
    "    write.table(basic_info, output_filepath, \n",
    "                append = TRUE, sep = \"\\t\", quote = FALSE, \n",
    "                row.names = FALSE)\n",
    "    \n",
    "}"
   ]
  },
  {
   "cell_type": "markdown",
   "metadata": {},
   "source": [
    "### Create basic_info.txt in intermediate_data_01"
   ]
  },
  {
   "cell_type": "code",
   "execution_count": 9,
   "metadata": {},
   "outputs": [],
   "source": [
    "basic_info <- data.frame(matrix(ncol = 5, nrow = 0))\n",
    "colnames(basic_info) <- c(\"first_author\",\n",
    "                         \"publication_year\",\n",
    "                         \"genome_version\",\n",
    "                         \"database_source\", \n",
    "                         \"inclusion_criteria\")\n",
    "write.table(basic_info, \"../../intermediate_data_01/basic_info.txt\", \n",
    "            sep = \"\\t\", quote = FALSE, row.names = FALSE)"
   ]
  },
  {
   "cell_type": "markdown",
   "metadata": {},
   "source": [
    "## II. Add source data to intermediate_data_01\n",
    "\n",
    "### Bajhaiya_2016.xls\n",
    "\n",
    "#### 1. Extract basic information\n",
    "#### 2. Append basic information to `lipid_selection/data/intermediate_data_01/basic_info.txt`"
   ]
  },
  {
   "cell_type": "code",
   "execution_count": 149,
   "metadata": {},
   "outputs": [
    {
     "name": "stdout",
     "output_type": "stream",
     "text": [
      "'data.frame':\t1 obs. of  5 variables:\n",
      " $ first_author      : chr \"Bajhaiya\"\n",
      " $ publication_year  : num 2016\n",
      " $ genome_version    : num 5.3\n",
      " $ database_source   : chr \"Phytozome 9.1\"\n",
      " $ inclusion_criteria: chr \"fold difference greater than 2\"\n"
     ]
    }
   ],
   "source": [
    "#Basic information\n",
    "\n",
    "file_name = \"Bajhaiya_2016.xls\"\n",
    "genome_version = 5.3\n",
    "database_source = \"Phytozome 9.1\"\n",
    "inclusion_criteria = \"fold difference greater than 2\"\n",
    "first_author = \"Bajhaiya\"\n",
    "publication_year = 2016\n",
    "\n",
    "basic_info <- data.frame(first_author, \n",
    "                         publication_year, \n",
    "                         genome_version, \n",
    "                         database_source, \n",
    "                         inclusion_criteria, \n",
    "                         stringsAsFactors = FALSE)\n",
    "str(basic_info)\n",
    "\n",
    "append_basic_info(basic_info, \"../../intermediate_data_01/basic_info.txt\")"
   ]
  },
  {
   "cell_type": "code",
   "execution_count": 150,
   "metadata": {},
   "outputs": [
    {
     "name": "stdout",
     "output_type": "stream",
     "text": [
      "[1] 2\n"
     ]
    }
   ],
   "source": [
    "#Check file type and number of excel sheets\n",
    "sheets <- check_excel_data(file_name)  \n",
    "print(length(sheets))"
   ]
  },
  {
   "cell_type": "markdown",
   "metadata": {},
   "source": [
    "#### 3. Extract candidate and non-candidate genes based on inclusion criteria.\n",
    "\n",
    "**Inclusion criteria**: Within each strain, if fold-difference between high P and low P is >2 count as candidate gene. \n",
    "\n",
    "**Sheet 1: \"Day 3\" **"
   ]
  },
  {
   "cell_type": "code",
   "execution_count": 185,
   "metadata": {},
   "outputs": [
    {
     "name": "stderr",
     "output_type": "stream",
     "text": [
      "New names:\n",
      "* `` -> ...2\n",
      "* `` -> ...3\n",
      "* `` -> ...4\n",
      "* `` -> ...5\n",
      "* `` -> ...6\n",
      "* ... and 13 more problems\n",
      "Check if column names are correct.\n"
     ]
    },
    {
     "data": {
      "text/html": [
       "<table>\n",
       "<caption>A tibble: 3 × 4</caption>\n",
       "<thead>\n",
       "\t<tr><th scope=col>Gene_id</th><th scope=col>Gene_name</th><th scope=col>candidate_gene</th><th scope=col>fold_difference</th></tr>\n",
       "\t<tr><th scope=col>&lt;chr&gt;</th><th scope=col>&lt;chr&gt;</th><th scope=col>&lt;lgl&gt;</th><th scope=col>&lt;dbl&gt;</th></tr>\n",
       "</thead>\n",
       "<tbody>\n",
       "\t<tr><td>Cre09.g404900</td><td>Cre09.g404900</td><td>TRUE</td><td>85.99029</td></tr>\n",
       "\t<tr><td>Cre04.g216700</td><td>PHOX         </td><td>TRUE</td><td>82.75193</td></tr>\n",
       "\t<tr><td>Cre01.g044300</td><td>Cre01.g044300</td><td>TRUE</td><td>71.10010</td></tr>\n",
       "</tbody>\n",
       "</table>\n"
      ],
      "text/latex": [
       "A tibble: 3 × 4\n",
       "\\begin{tabular}{r|llll}\n",
       " Gene\\_id & Gene\\_name & candidate\\_gene & fold\\_difference\\\\\n",
       " <chr> & <chr> & <lgl> & <dbl>\\\\\n",
       "\\hline\n",
       "\t Cre09.g404900 & Cre09.g404900 & TRUE & 85.99029\\\\\n",
       "\t Cre04.g216700 & PHOX          & TRUE & 82.75193\\\\\n",
       "\t Cre01.g044300 & Cre01.g044300 & TRUE & 71.10010\\\\\n",
       "\\end{tabular}\n"
      ],
      "text/markdown": [
       "\n",
       "A tibble: 3 × 4\n",
       "\n",
       "| Gene_id &lt;chr&gt; | Gene_name &lt;chr&gt; | candidate_gene &lt;lgl&gt; | fold_difference &lt;dbl&gt; |\n",
       "|---|---|---|---|\n",
       "| Cre09.g404900 | Cre09.g404900 | TRUE | 85.99029 |\n",
       "| Cre04.g216700 | PHOX          | TRUE | 82.75193 |\n",
       "| Cre01.g044300 | Cre01.g044300 | TRUE | 71.10010 |\n",
       "\n"
      ],
      "text/plain": [
       "  Gene_id       Gene_name     candidate_gene fold_difference\n",
       "1 Cre09.g404900 Cre09.g404900 TRUE           85.99029       \n",
       "2 Cre04.g216700 PHOX          TRUE           82.75193       \n",
       "3 Cre01.g044300 Cre01.g044300 TRUE           71.10010       "
      ]
     },
     "metadata": {},
     "output_type": "display_data"
    }
   ],
   "source": [
    "df <- import_messy_excel(file_name, sheets[1]) \n",
    "#Use fold difference from normalized expression\n",
    "temp1 <- df %>% \n",
    "    select(starts_with(\"Gene\"), ends_with(\"foldchange\")) %>%\n",
    "    mutate_at(vars(ends_with(\"foldchange\")),list(as.numeric)) %>%\n",
    "\n",
    "    #reshape data such that one of the columns is fold difference\n",
    "    gather(., 'WT_LP_/_HP_D3_foldchange','psr1_LP_/_HP_D3_foldchange', \n",
    "           key = 'treatment', value = 'fold_difference') %>%\n",
    "\n",
    "    #assign candidate gene label\n",
    "    mutate(candidate_gene = case_when(\n",
    "        abs(log(fold_difference,2))>1 ~ TRUE,\n",
    "        TRUE ~ FALSE)) %>%\n",
    "    \n",
    "    #select columns that go in to working gene_data dataframe\n",
    "    select(starts_with(\"Gene\"), candidate_gene, fold_difference)\n",
    "           \n",
    "temp1[1:3,]"
   ]
  },
  {
   "cell_type": "markdown",
   "metadata": {},
   "source": [
    "** Sheet 2: \"Day 5\" **"
   ]
  },
  {
   "cell_type": "code",
   "execution_count": 186,
   "metadata": {},
   "outputs": [
    {
     "name": "stderr",
     "output_type": "stream",
     "text": [
      "New names:\n",
      "* `` -> ...2\n",
      "* `` -> ...3\n",
      "* `` -> ...4\n",
      "* `` -> ...5\n",
      "* `` -> ...6\n",
      "* ... and 13 more problems\n",
      "Check if column names are correct.\n"
     ]
    },
    {
     "data": {
      "text/html": [
       "<table>\n",
       "<caption>A tibble: 3 × 4</caption>\n",
       "<thead>\n",
       "\t<tr><th scope=col>Gene_id</th><th scope=col>Gene_name</th><th scope=col>candidate_gene</th><th scope=col>fold_difference</th></tr>\n",
       "\t<tr><th scope=col>&lt;chr&gt;</th><th scope=col>&lt;chr&gt;</th><th scope=col>&lt;lgl&gt;</th><th scope=col>&lt;dbl&gt;</th></tr>\n",
       "</thead>\n",
       "<tbody>\n",
       "\t<tr><td>Cre09.g404900</td><td>Cre09.g404900</td><td>TRUE</td><td>15.11795</td></tr>\n",
       "\t<tr><td>Cre04.g216700</td><td>PHOX         </td><td>TRUE</td><td>13.01713</td></tr>\n",
       "\t<tr><td>Cre01.g044300</td><td>Cre01.g044300</td><td>TRUE</td><td>18.13303</td></tr>\n",
       "</tbody>\n",
       "</table>\n"
      ],
      "text/latex": [
       "A tibble: 3 × 4\n",
       "\\begin{tabular}{r|llll}\n",
       " Gene\\_id & Gene\\_name & candidate\\_gene & fold\\_difference\\\\\n",
       " <chr> & <chr> & <lgl> & <dbl>\\\\\n",
       "\\hline\n",
       "\t Cre09.g404900 & Cre09.g404900 & TRUE & 15.11795\\\\\n",
       "\t Cre04.g216700 & PHOX          & TRUE & 13.01713\\\\\n",
       "\t Cre01.g044300 & Cre01.g044300 & TRUE & 18.13303\\\\\n",
       "\\end{tabular}\n"
      ],
      "text/markdown": [
       "\n",
       "A tibble: 3 × 4\n",
       "\n",
       "| Gene_id &lt;chr&gt; | Gene_name &lt;chr&gt; | candidate_gene &lt;lgl&gt; | fold_difference &lt;dbl&gt; |\n",
       "|---|---|---|---|\n",
       "| Cre09.g404900 | Cre09.g404900 | TRUE | 15.11795 |\n",
       "| Cre04.g216700 | PHOX          | TRUE | 13.01713 |\n",
       "| Cre01.g044300 | Cre01.g044300 | TRUE | 18.13303 |\n",
       "\n"
      ],
      "text/plain": [
       "  Gene_id       Gene_name     candidate_gene fold_difference\n",
       "1 Cre09.g404900 Cre09.g404900 TRUE           15.11795       \n",
       "2 Cre04.g216700 PHOX          TRUE           13.01713       \n",
       "3 Cre01.g044300 Cre01.g044300 TRUE           18.13303       "
      ]
     },
     "metadata": {},
     "output_type": "display_data"
    }
   ],
   "source": [
    "df <- import_messy_excel(file_name, sheets[2]) \n",
    "#Use fold difference from normalized expression\n",
    "temp2 <- df %>% \n",
    "    select(starts_with(\"Gene\"), ends_with(\"foldchange\")) %>%\n",
    "    mutate_at(vars(ends_with(\"foldchange\")),list(as.numeric)) %>%\n",
    "\n",
    "    #reshape data such that one of the columns is fold difference\n",
    "    gather(., 'WT_LP_/_HP_D5_foldchange','psr1_LP_/_HP_D5_foldchange', \n",
    "           key = 'treatment', value = 'fold_difference') %>%\n",
    "\n",
    "    #assign candidate gene label\n",
    "    mutate(candidate_gene = case_when(\n",
    "        abs(log(fold_difference,2))>1 ~ TRUE,\n",
    "        TRUE ~ FALSE)) %>%\n",
    "    \n",
    "    #select columns that go into working gene_data dataframe\n",
    "    select(starts_with(\"Gene\"), candidate_gene, fold_difference)\n",
    "           \n",
    "temp2[1:3,]"
   ]
  },
  {
   "cell_type": "markdown",
   "metadata": {},
   "source": [
    "##### Join Sheet 1 and 2 data by creating two dataframes:"
   ]
  },
  {
   "cell_type": "code",
   "execution_count": 187,
   "metadata": {},
   "outputs": [
    {
     "name": "stdout",
     "output_type": "stream",
     "text": [
      "\u001b[90m# A tibble: 3 x 4\u001b[39m\n",
      "  gene_id       gene_name     candidate_gene fold_difference\n",
      "  \u001b[3m\u001b[90m<chr>\u001b[39m\u001b[23m         \u001b[3m\u001b[90m<chr>\u001b[39m\u001b[23m         \u001b[3m\u001b[90m<lgl>\u001b[39m\u001b[23m                    \u001b[3m\u001b[90m<dbl>\u001b[39m\u001b[23m\n",
      "\u001b[90m1\u001b[39m Cre09.g404900 Cre09.g404900 TRUE                      86.0\n",
      "\u001b[90m2\u001b[39m Cre04.g216700 PHOX          TRUE                      82.8\n",
      "\u001b[90m3\u001b[39m Cre01.g044300 Cre01.g044300 TRUE                      71.1\n",
      "   gene_id           gene_name         candidate_gene  fold_difference   \n",
      " Length:70948       Length:70948       Mode :logical   Min.   :  0.0019  \n",
      " Class :character   Class :character   FALSE:60442     1st Qu.:  0.8118  \n",
      " Mode  :character   Mode  :character   TRUE :10506     Median :  1.0000  \n",
      "                                                       Mean   :  1.2409  \n",
      "                                                       3rd Qu.:  1.2824  \n",
      "                                                       Max.   :417.8523  \n"
     ]
    }
   ],
   "source": [
    "gene_data <- rbind(temp1, temp2) %>%\n",
    "    rename(gene_id = Gene_id,\n",
    "          gene_name = Gene_name)\n",
    "\n",
    "gene_data[1:3,]\n",
    "#print(summary(gene_data))"
   ]
  },
  {
   "cell_type": "markdown",
   "metadata": {},
   "source": [
    "#### 4. Export `gene_data` to `Bajhaiya_2016.txt`."
   ]
  },
  {
   "cell_type": "code",
   "execution_count": 189,
   "metadata": {},
   "outputs": [
    {
     "data": {
      "text/html": [
       "<table>\n",
       "<caption>A tibble: 5 × 6</caption>\n",
       "<thead>\n",
       "\t<tr><th scope=col>gene_id</th><th scope=col>gene_name</th><th scope=col>candidate_gene</th><th scope=col>fold_difference</th><th scope=col>protein_id</th><th scope=col>protein_name</th></tr>\n",
       "\t<tr><th scope=col>&lt;chr&gt;</th><th scope=col>&lt;chr&gt;</th><th scope=col>&lt;lgl&gt;</th><th scope=col>&lt;dbl&gt;</th><th scope=col>&lt;lgl&gt;</th><th scope=col>&lt;lgl&gt;</th></tr>\n",
       "</thead>\n",
       "<tbody>\n",
       "\t<tr><td>Cre09.g404900</td><td>Cre09.g404900</td><td>TRUE</td><td>85.99029</td><td>NA</td><td>NA</td></tr>\n",
       "\t<tr><td>Cre04.g216700</td><td>PHOX         </td><td>TRUE</td><td>82.75193</td><td>NA</td><td>NA</td></tr>\n",
       "\t<tr><td>Cre01.g044300</td><td>Cre01.g044300</td><td>TRUE</td><td>71.10010</td><td>NA</td><td>NA</td></tr>\n",
       "\t<tr><td>g16424       </td><td>g16424       </td><td>TRUE</td><td>58.16937</td><td>NA</td><td>NA</td></tr>\n",
       "\t<tr><td>g2975        </td><td>MPA1         </td><td>TRUE</td><td>51.21199</td><td>NA</td><td>NA</td></tr>\n",
       "</tbody>\n",
       "</table>\n"
      ],
      "text/latex": [
       "A tibble: 5 × 6\n",
       "\\begin{tabular}{r|llllll}\n",
       " gene\\_id & gene\\_name & candidate\\_gene & fold\\_difference & protein\\_id & protein\\_name\\\\\n",
       " <chr> & <chr> & <lgl> & <dbl> & <lgl> & <lgl>\\\\\n",
       "\\hline\n",
       "\t Cre09.g404900 & Cre09.g404900 & TRUE & 85.99029 & NA & NA\\\\\n",
       "\t Cre04.g216700 & PHOX          & TRUE & 82.75193 & NA & NA\\\\\n",
       "\t Cre01.g044300 & Cre01.g044300 & TRUE & 71.10010 & NA & NA\\\\\n",
       "\t g16424        & g16424        & TRUE & 58.16937 & NA & NA\\\\\n",
       "\t g2975         & MPA1          & TRUE & 51.21199 & NA & NA\\\\\n",
       "\\end{tabular}\n"
      ],
      "text/markdown": [
       "\n",
       "A tibble: 5 × 6\n",
       "\n",
       "| gene_id &lt;chr&gt; | gene_name &lt;chr&gt; | candidate_gene &lt;lgl&gt; | fold_difference &lt;dbl&gt; | protein_id &lt;lgl&gt; | protein_name &lt;lgl&gt; |\n",
       "|---|---|---|---|---|---|\n",
       "| Cre09.g404900 | Cre09.g404900 | TRUE | 85.99029 | NA | NA |\n",
       "| Cre04.g216700 | PHOX          | TRUE | 82.75193 | NA | NA |\n",
       "| Cre01.g044300 | Cre01.g044300 | TRUE | 71.10010 | NA | NA |\n",
       "| g16424        | g16424        | TRUE | 58.16937 | NA | NA |\n",
       "| g2975         | MPA1          | TRUE | 51.21199 | NA | NA |\n",
       "\n"
      ],
      "text/plain": [
       "  gene_id       gene_name     candidate_gene fold_difference protein_id\n",
       "1 Cre09.g404900 Cre09.g404900 TRUE           85.99029        NA        \n",
       "2 Cre04.g216700 PHOX          TRUE           82.75193        NA        \n",
       "3 Cre01.g044300 Cre01.g044300 TRUE           71.10010        NA        \n",
       "4 g16424        g16424        TRUE           58.16937        NA        \n",
       "5 g2975         MPA1          TRUE           51.21199        NA        \n",
       "  protein_name\n",
       "1 NA          \n",
       "2 NA          \n",
       "3 NA          \n",
       "4 NA          \n",
       "5 NA          "
      ]
     },
     "metadata": {},
     "output_type": "display_data"
    },
    {
     "data": {
      "text/html": [
       "<ol class=list-inline>\n",
       "\t<li>70948</li>\n",
       "\t<li>6</li>\n",
       "</ol>\n"
      ],
      "text/latex": [
       "\\begin{enumerate*}\n",
       "\\item 70948\n",
       "\\item 6\n",
       "\\end{enumerate*}\n"
      ],
      "text/markdown": [
       "1. 70948\n",
       "2. 6\n",
       "\n",
       "\n"
      ],
      "text/plain": [
       "[1] 70948     6"
      ]
     },
     "metadata": {},
     "output_type": "display_data"
    }
   ],
   "source": [
    "temp<- export_genes(df = gene_data, target_folder = target_folder)\n",
    "temp[1:5,]\n",
    "dim(temp)"
   ]
  },
  {
   "cell_type": "markdown",
   "metadata": {},
   "source": [
    "## Blaby_2013_DS2.xlsx\n",
    "\n",
    "#### 1. Extract basic information\n",
    "#### 2. Append basic information to `lipid_selection/data/intermediate_data_01/basic_info.txt`"
   ]
  },
  {
   "cell_type": "code",
   "execution_count": 259,
   "metadata": {},
   "outputs": [
    {
     "name": "stdout",
     "output_type": "stream",
     "text": [
      "'data.frame':\t1 obs. of  5 variables:\n",
      " $ first_author      : chr \"Blaby\"\n",
      " $ publication_year  : num 2013\n",
      " $ genome_version    : num 5\n",
      " $ database_source   : chr \"Augustus u10.2\"\n",
      " $ inclusion_criteria: chr \"fold difference greater than 2\"\n"
     ]
    }
   ],
   "source": [
    "#Basic information\n",
    "\n",
    "file_name = c(\"Blaby_2013_DS2.xlsx\",\"Blaby_2013_DS8.xlsx\")\n",
    "genome_version = 5.0\n",
    "database_source = \"Augustus u10.2\"\n",
    "inclusion_criteria = \"fold difference greater than 2\"\n",
    "first_author = \"Blaby\"\n",
    "publication_year = 2013\n",
    "\n",
    "basic_info <- data.frame(first_author, \n",
    "                         publication_year, \n",
    "                         genome_version, \n",
    "                         database_source, \n",
    "                         inclusion_criteria, \n",
    "                         stringsAsFactors = FALSE)\n",
    "str(basic_info)\n",
    "\n",
    "append_basic_info(basic_info, \"../../intermediate_data_01/basic_info.txt\")"
   ]
  },
  {
   "cell_type": "code",
   "execution_count": 260,
   "metadata": {},
   "outputs": [
    {
     "name": "stdout",
     "output_type": "stream",
     "text": [
      "[1] 1\n",
      "[1] 1\n"
     ]
    }
   ],
   "source": [
    "#Check file type and number of excel sheets\n",
    "sheets <- check_excel_data(file_name[1])  \n",
    "print(length(sheets))\n",
    "sheets <- check_excel_data(file_name[2])  \n",
    "print(length(sheets))"
   ]
  },
  {
   "cell_type": "markdown",
   "metadata": {},
   "source": [
    "#### 3. Extract candidate and non-candidate genes based on inclusion criteria.\n",
    "\n",
    "**Inclusion criteria**: Within each strain, if fold-difference between 0 hour and *n* hours after N starvation >2 count as candidate gene. \n",
    "\n",
    "* Gene expression differences due to *sta-6* mutation is less important than gene expression differences due to nutrient starvation"
   ]
  },
  {
   "cell_type": "code",
   "execution_count": 266,
   "metadata": {},
   "outputs": [
    {
     "name": "stderr",
     "output_type": "stream",
     "text": [
      "New names:\n",
      "* `` -> ...2\n",
      "* `` -> ...3\n",
      "* `` -> ...4\n",
      "* `` -> ...5\n",
      "* `` -> ...6\n",
      "* ... and 13 more problems\n",
      "Check if column names are correct.\n",
      "New names:\n",
      "* `` -> ...2\n",
      "* `` -> ...3\n",
      "* `` -> ...4\n",
      "* `` -> ...5\n",
      "* `` -> ...6\n",
      "* ... and 13 more problems\n",
      "Check if column names are correct.\n"
     ]
    },
    {
     "data": {
      "text/html": [
       "<table>\n",
       "<caption>A tibble: 3 × 12</caption>\n",
       "<thead>\n",
       "\t<tr><th scope=col>Gene</th><th scope=col>Annotation</th><th scope=col>Augustus_u10.2_ID</th><th scope=col>0</th><th scope=col>0.5</th><th scope=col>2</th><th scope=col>4</th><th scope=col>8</th><th scope=col>12</th><th scope=col>24</th><th scope=col>48</th><th scope=col>strain</th></tr>\n",
       "\t<tr><th scope=col>&lt;chr&gt;</th><th scope=col>&lt;chr&gt;</th><th scope=col>&lt;chr&gt;</th><th scope=col>&lt;chr&gt;</th><th scope=col>&lt;dbl&gt;</th><th scope=col>&lt;dbl&gt;</th><th scope=col>&lt;dbl&gt;</th><th scope=col>&lt;dbl&gt;</th><th scope=col>&lt;dbl&gt;</th><th scope=col>&lt;dbl&gt;</th><th scope=col>&lt;dbl&gt;</th><th scope=col>&lt;chr&gt;</th></tr>\n",
       "</thead>\n",
       "<tbody>\n",
       "\t<tr><td>NA  </td><td>NA                                </td><td>Cre01.g001100</td><td>41.863999999999997</td><td> 45.618200</td><td> 30.0444200</td><td>28.7763500</td><td>20.1547200</td><td>20.2106500</td><td>20.2113900</td><td>23.325140</td><td>CC_4349</td></tr>\n",
       "\t<tr><td>NA  </td><td>NA                                </td><td>Cre01.g004750</td><td>0.1167516         </td><td>  0.232438</td><td>  0.1756702</td><td> 0.1662885</td><td> 0.1605637</td><td> 0.2873106</td><td> 0.7915955</td><td> 1.283815</td><td>CC_4349</td></tr>\n",
       "\t<tr><td>FBA1</td><td>Fructose-1,6-bisphosphate aldolase</td><td>Cre01.g006950</td><td>98.351749999999996</td><td>155.951700</td><td>117.9667000</td><td>57.0684500</td><td>27.8726400</td><td>23.5809200</td><td>28.8262100</td><td>24.370270</td><td>CC_4349</td></tr>\n",
       "</tbody>\n",
       "</table>\n"
      ],
      "text/latex": [
       "A tibble: 3 × 12\n",
       "\\begin{tabular}{r|llllllllllll}\n",
       " Gene & Annotation & Augustus\\_u10.2\\_ID & 0 & 0.5 & 2 & 4 & 8 & 12 & 24 & 48 & strain\\\\\n",
       " <chr> & <chr> & <chr> & <chr> & <dbl> & <dbl> & <dbl> & <dbl> & <dbl> & <dbl> & <dbl> & <chr>\\\\\n",
       "\\hline\n",
       "\t NA   & NA                                 & Cre01.g001100 & 41.863999999999997 &  45.618200 &  30.0444200 & 28.7763500 & 20.1547200 & 20.2106500 & 20.2113900 & 23.325140 & CC\\_4349\\\\\n",
       "\t NA   & NA                                 & Cre01.g004750 & 0.1167516          &   0.232438 &   0.1756702 &  0.1662885 &  0.1605637 &  0.2873106 &  0.7915955 &  1.283815 & CC\\_4349\\\\\n",
       "\t FBA1 & Fructose-1,6-bisphosphate aldolase & Cre01.g006950 & 98.351749999999996 & 155.951700 & 117.9667000 & 57.0684500 & 27.8726400 & 23.5809200 & 28.8262100 & 24.370270 & CC\\_4349\\\\\n",
       "\\end{tabular}\n"
      ],
      "text/markdown": [
       "\n",
       "A tibble: 3 × 12\n",
       "\n",
       "| Gene &lt;chr&gt; | Annotation &lt;chr&gt; | Augustus_u10.2_ID &lt;chr&gt; | 0 &lt;chr&gt; | 0.5 &lt;dbl&gt; | 2 &lt;dbl&gt; | 4 &lt;dbl&gt; | 8 &lt;dbl&gt; | 12 &lt;dbl&gt; | 24 &lt;dbl&gt; | 48 &lt;dbl&gt; | strain &lt;chr&gt; |\n",
       "|---|---|---|---|---|---|---|---|---|---|---|---|\n",
       "| NA   | NA                                 | Cre01.g001100 | 41.863999999999997 |  45.618200 |  30.0444200 | 28.7763500 | 20.1547200 | 20.2106500 | 20.2113900 | 23.325140 | CC_4349 |\n",
       "| NA   | NA                                 | Cre01.g004750 | 0.1167516          |   0.232438 |   0.1756702 |  0.1662885 |  0.1605637 |  0.2873106 |  0.7915955 |  1.283815 | CC_4349 |\n",
       "| FBA1 | Fructose-1,6-bisphosphate aldolase | Cre01.g006950 | 98.351749999999996 | 155.951700 | 117.9667000 | 57.0684500 | 27.8726400 | 23.5809200 | 28.8262100 | 24.370270 | CC_4349 |\n",
       "\n"
      ],
      "text/plain": [
       "  Gene Annotation                         Augustus_u10.2_ID 0                 \n",
       "1 NA   NA                                 Cre01.g001100     41.863999999999997\n",
       "2 NA   NA                                 Cre01.g004750     0.1167516         \n",
       "3 FBA1 Fructose-1,6-bisphosphate aldolase Cre01.g006950     98.351749999999996\n",
       "  0.5        2           4          8          12         24         48       \n",
       "1  45.618200  30.0444200 28.7763500 20.1547200 20.2106500 20.2113900 23.325140\n",
       "2   0.232438   0.1756702  0.1662885  0.1605637  0.2873106  0.7915955  1.283815\n",
       "3 155.951700 117.9667000 57.0684500 27.8726400 23.5809200 28.8262100 24.370270\n",
       "  strain \n",
       "1 CC_4349\n",
       "2 CC_4349\n",
       "3 CC_4349"
      ]
     },
     "metadata": {},
     "output_type": "display_data"
    },
    {
     "data": {
      "text/html": [
       "<table>\n",
       "<caption>A tibble: 3 × 12</caption>\n",
       "<thead>\n",
       "\t<tr><th scope=col>Gene</th><th scope=col>Annotation</th><th scope=col>Augustus_u10.2_ID</th><th scope=col>0</th><th scope=col>0.5</th><th scope=col>2</th><th scope=col>4</th><th scope=col>8</th><th scope=col>12</th><th scope=col>24</th><th scope=col>48</th><th scope=col>strain</th></tr>\n",
       "\t<tr><th scope=col>&lt;chr&gt;</th><th scope=col>&lt;chr&gt;</th><th scope=col>&lt;chr&gt;</th><th scope=col>&lt;chr&gt;</th><th scope=col>&lt;dbl&gt;</th><th scope=col>&lt;dbl&gt;</th><th scope=col>&lt;dbl&gt;</th><th scope=col>&lt;dbl&gt;</th><th scope=col>&lt;dbl&gt;</th><th scope=col>&lt;dbl&gt;</th><th scope=col>&lt;dbl&gt;</th><th scope=col>&lt;chr&gt;</th></tr>\n",
       "</thead>\n",
       "<tbody>\n",
       "\t<tr><td>NA  </td><td>NA                                </td><td>Cre01.g001100</td><td>41.863999999999997</td><td> 45.618200</td><td> 30.0444200</td><td>28.7763500</td><td>20.1547200</td><td>20.2106500</td><td>20.2113900</td><td>23.325140</td><td>CC_4349</td></tr>\n",
       "\t<tr><td>NA  </td><td>NA                                </td><td>Cre01.g004750</td><td>0.1167516         </td><td>  0.232438</td><td>  0.1756702</td><td> 0.1662885</td><td> 0.1605637</td><td> 0.2873106</td><td> 0.7915955</td><td> 1.283815</td><td>CC_4349</td></tr>\n",
       "\t<tr><td>FBA1</td><td>Fructose-1,6-bisphosphate aldolase</td><td>Cre01.g006950</td><td>98.351749999999996</td><td>155.951700</td><td>117.9667000</td><td>57.0684500</td><td>27.8726400</td><td>23.5809200</td><td>28.8262100</td><td>24.370270</td><td>CC_4349</td></tr>\n",
       "</tbody>\n",
       "</table>\n"
      ],
      "text/latex": [
       "A tibble: 3 × 12\n",
       "\\begin{tabular}{r|llllllllllll}\n",
       " Gene & Annotation & Augustus\\_u10.2\\_ID & 0 & 0.5 & 2 & 4 & 8 & 12 & 24 & 48 & strain\\\\\n",
       " <chr> & <chr> & <chr> & <chr> & <dbl> & <dbl> & <dbl> & <dbl> & <dbl> & <dbl> & <dbl> & <chr>\\\\\n",
       "\\hline\n",
       "\t NA   & NA                                 & Cre01.g001100 & 41.863999999999997 &  45.618200 &  30.0444200 & 28.7763500 & 20.1547200 & 20.2106500 & 20.2113900 & 23.325140 & CC\\_4349\\\\\n",
       "\t NA   & NA                                 & Cre01.g004750 & 0.1167516          &   0.232438 &   0.1756702 &  0.1662885 &  0.1605637 &  0.2873106 &  0.7915955 &  1.283815 & CC\\_4349\\\\\n",
       "\t FBA1 & Fructose-1,6-bisphosphate aldolase & Cre01.g006950 & 98.351749999999996 & 155.951700 & 117.9667000 & 57.0684500 & 27.8726400 & 23.5809200 & 28.8262100 & 24.370270 & CC\\_4349\\\\\n",
       "\\end{tabular}\n"
      ],
      "text/markdown": [
       "\n",
       "A tibble: 3 × 12\n",
       "\n",
       "| Gene &lt;chr&gt; | Annotation &lt;chr&gt; | Augustus_u10.2_ID &lt;chr&gt; | 0 &lt;chr&gt; | 0.5 &lt;dbl&gt; | 2 &lt;dbl&gt; | 4 &lt;dbl&gt; | 8 &lt;dbl&gt; | 12 &lt;dbl&gt; | 24 &lt;dbl&gt; | 48 &lt;dbl&gt; | strain &lt;chr&gt; |\n",
       "|---|---|---|---|---|---|---|---|---|---|---|---|\n",
       "| NA   | NA                                 | Cre01.g001100 | 41.863999999999997 |  45.618200 |  30.0444200 | 28.7763500 | 20.1547200 | 20.2106500 | 20.2113900 | 23.325140 | CC_4349 |\n",
       "| NA   | NA                                 | Cre01.g004750 | 0.1167516          |   0.232438 |   0.1756702 |  0.1662885 |  0.1605637 |  0.2873106 |  0.7915955 |  1.283815 | CC_4349 |\n",
       "| FBA1 | Fructose-1,6-bisphosphate aldolase | Cre01.g006950 | 98.351749999999996 | 155.951700 | 117.9667000 | 57.0684500 | 27.8726400 | 23.5809200 | 28.8262100 | 24.370270 | CC_4349 |\n",
       "\n"
      ],
      "text/plain": [
       "  Gene Annotation                         Augustus_u10.2_ID 0                 \n",
       "1 NA   NA                                 Cre01.g001100     41.863999999999997\n",
       "2 NA   NA                                 Cre01.g004750     0.1167516         \n",
       "3 FBA1 Fructose-1,6-bisphosphate aldolase Cre01.g006950     98.351749999999996\n",
       "  0.5        2           4          8          12         24         48       \n",
       "1  45.618200  30.0444200 28.7763500 20.1547200 20.2106500 20.2113900 23.325140\n",
       "2   0.232438   0.1756702  0.1662885  0.1605637  0.2873106  0.7915955  1.283815\n",
       "3 155.951700 117.9667000 57.0684500 27.8726400 23.5809200 28.8262100 24.370270\n",
       "  strain \n",
       "1 CC_4349\n",
       "2 CC_4349\n",
       "3 CC_4349"
      ]
     },
     "metadata": {},
     "output_type": "display_data"
    }
   ],
   "source": [
    "require(\"readxl\")\n",
    "require(\"tidyverse\")\n",
    "require(\"dplyr\")\n",
    "\n",
    "#Data manipulation to separate data by strains\n",
    "CC_4349 <- data.frame(matrix(nrow = 0, ncol = 11))\n",
    "sta_6 <-data.frame(matrix(nrow = 0, ncol = 11))\n",
    "for (file in file_name){\n",
    "    df<- import_messy_excel(file, sheets[1])\n",
    "    CC_4349 <- df[,1:11] %>% \n",
    "        mutate(strain = \"CC_4349\") %>% \n",
    "        rename ( '0' = '0b') %>% \n",
    "        rbind(CC_4349,.)\n",
    "    sta_6 <- df[, c(1:3, 12:19)] %>% mutate(strain = \"sta_6\") %>%\n",
    "        rbind(CC_4349,.)\n",
    "}\n",
    " \n",
    " \n",
    "CC_4349[1:3,]\n",
    "\n",
    "sta_6[1:3,]"
   ]
  },
  {
   "cell_type": "code",
   "execution_count": 267,
   "metadata": {},
   "outputs": [],
   "source": [
    "gene_data <- rbind(CC_4349, sta_6) %>% \n",
    "\n",
    "    #reshape dataframe to assign candidate_gene label based on fold difference\n",
    "    gather(.,'0.5', '2', '4', '8', '12', '24', '48', \n",
    "      key = \"time\", value = 'expression') %>%\n",
    "    rename(time_0h = '0') %>%\n",
    "    mutate(time_0h = as.numeric(time_0h)) %>%\n",
    "\n",
    "    #assign candidate gene label based on fold difference\n",
    "    mutate( candidate_gene = case_when(\n",
    "        expression >= 2*time_0h ~ TRUE,\n",
    "        time_0h>= 2*expression ~ TRUE,\n",
    "        TRUE ~ FALSE),\n",
    "    #calculate fold difference relative to time 0H control\n",
    "          fold_difference = time_0h/expression) %>%\n",
    "\n",
    "    #select columns that go into working gene_data dataframe\n",
    "    rename (gene_name = Gene, gene_id = Augustus_u10.2_ID) %>%\n",
    "    select( gene_id, gene_name, candidate_gene, fold_difference)"
   ]
  },
  {
   "cell_type": "markdown",
   "metadata": {},
   "source": [
    "#### 4. Export `gene_data` to `Blaby_2013.txt`"
   ]
  },
  {
   "cell_type": "code",
   "execution_count": 269,
   "metadata": {},
   "outputs": [
    {
     "data": {
      "text/html": [
       "<table>\n",
       "<caption>A tibble: 3 × 4</caption>\n",
       "<thead>\n",
       "\t<tr><th scope=col>gene_id</th><th scope=col>gene_name</th><th scope=col>candidate_gene</th><th scope=col>fold_difference</th></tr>\n",
       "\t<tr><th scope=col>&lt;chr&gt;</th><th scope=col>&lt;chr&gt;</th><th scope=col>&lt;lgl&gt;</th><th scope=col>&lt;dbl&gt;</th></tr>\n",
       "</thead>\n",
       "<tbody>\n",
       "\t<tr><td>Cre01.g001100</td><td>NA  </td><td>FALSE</td><td>0.9177039</td></tr>\n",
       "\t<tr><td>Cre01.g004750</td><td>NA  </td><td>FALSE</td><td>0.5022914</td></tr>\n",
       "\t<tr><td>Cre01.g006950</td><td>FBA1</td><td>FALSE</td><td>0.6306552</td></tr>\n",
       "</tbody>\n",
       "</table>\n"
      ],
      "text/latex": [
       "A tibble: 3 × 4\n",
       "\\begin{tabular}{r|llll}\n",
       " gene\\_id & gene\\_name & candidate\\_gene & fold\\_difference\\\\\n",
       " <chr> & <chr> & <lgl> & <dbl>\\\\\n",
       "\\hline\n",
       "\t Cre01.g001100 & NA   & FALSE & 0.9177039\\\\\n",
       "\t Cre01.g004750 & NA   & FALSE & 0.5022914\\\\\n",
       "\t Cre01.g006950 & FBA1 & FALSE & 0.6306552\\\\\n",
       "\\end{tabular}\n"
      ],
      "text/markdown": [
       "\n",
       "A tibble: 3 × 4\n",
       "\n",
       "| gene_id &lt;chr&gt; | gene_name &lt;chr&gt; | candidate_gene &lt;lgl&gt; | fold_difference &lt;dbl&gt; |\n",
       "|---|---|---|---|\n",
       "| Cre01.g001100 | NA   | FALSE | 0.9177039 |\n",
       "| Cre01.g004750 | NA   | FALSE | 0.5022914 |\n",
       "| Cre01.g006950 | FBA1 | FALSE | 0.6306552 |\n",
       "\n"
      ],
      "text/plain": [
       "  gene_id       gene_name candidate_gene fold_difference\n",
       "1 Cre01.g001100 NA        FALSE          0.9177039      \n",
       "2 Cre01.g004750 NA        FALSE          0.5022914      \n",
       "3 Cre01.g006950 FBA1      FALSE          0.6306552      "
      ]
     },
     "metadata": {},
     "output_type": "display_data"
    },
    {
     "data": {
      "text/html": [
       "<ol class=list-inline>\n",
       "\t<li>10395</li>\n",
       "\t<li>6</li>\n",
       "</ol>\n"
      ],
      "text/latex": [
       "\\begin{enumerate*}\n",
       "\\item 10395\n",
       "\\item 6\n",
       "\\end{enumerate*}\n"
      ],
      "text/markdown": [
       "1. 10395\n",
       "2. 6\n",
       "\n",
       "\n"
      ],
      "text/plain": [
       "[1] 10395     6"
      ]
     },
     "metadata": {},
     "output_type": "display_data"
    }
   ],
   "source": [
    "gene_data[1:3,]\n",
    "temp<- export_genes(df = gene_data, target_folder = target_folder)\n",
    "dim(temp)"
   ]
  },
  {
   "cell_type": "markdown",
   "metadata": {},
   "source": [
    "### Boyle_2012.xls\n",
    "\n",
    "#### 1. Extract basic information\n",
    "#### 2. Append basic information to `lipid_selection/data/intermediate_data_01/basic_info.txt`"
   ]
  },
  {
   "cell_type": "code",
   "execution_count": 223,
   "metadata": {},
   "outputs": [
    {
     "name": "stdout",
     "output_type": "stream",
     "text": [
      "'data.frame':\t1 obs. of  5 variables:\n",
      " $ first_author      : chr \"Boyle\"\n",
      " $ publication_year  : num 2012\n",
      " $ genome_version    : num 4\n",
      " $ database_source   : chr \"Augustus 10.2\"\n",
      " $ inclusion_criteria: chr \"fold difference greater than 2\"\n"
     ]
    }
   ],
   "source": [
    "file_name = \"Boyle_2012.xls\"\n",
    "genome_version = 4.0\n",
    "database_source = \"Augustus 10.2\"\n",
    "inclusion_criteria = \"fold difference greater than 2\"\n",
    "first_author = \"Boyle\"\n",
    "publication_year = 2012\n",
    "\n",
    "basic_info <- data.frame(first_author, \n",
    "                         publication_year, \n",
    "                         genome_version, \n",
    "                         database_source, \n",
    "                         inclusion_criteria, \n",
    "                         stringsAsFactors = FALSE)\n",
    "str(basic_info)\n",
    "\n",
    "append_basic_info(basic_info, \"../../intermediate_data_01/basic_info.txt\")"
   ]
  },
  {
   "cell_type": "code",
   "execution_count": 224,
   "metadata": {},
   "outputs": [
    {
     "name": "stdout",
     "output_type": "stream",
     "text": [
      "[1] 1\n"
     ]
    }
   ],
   "source": [
    "#Check file type and number of excel sheets\n",
    "sheets <- check_excel_data(file_name)  \n",
    "print(length(sheets))"
   ]
  },
  {
   "cell_type": "markdown",
   "metadata": {},
   "source": [
    "#### 3. Extract candidate and non-candidate genes based on inclusion criteria.\n",
    "\n",
    "**Inclusion criteria**: If fold-difference of RPKM between 0 hour and *n* hours after N starvation >2 count as candidate gene. "
   ]
  },
  {
   "cell_type": "code",
   "execution_count": 225,
   "metadata": {},
   "outputs": [
    {
     "name": "stderr",
     "output_type": "stream",
     "text": [
      "New names:\n",
      "* `` -> ...6\n",
      "* `` -> ...7\n",
      "* `` -> ...8\n",
      "* `` -> ...9\n",
      "Check if column names are correct.\n"
     ]
    },
    {
     "data": {
      "text/html": [
       "<table>\n",
       "<caption>A tibble: 3 × 9</caption>\n",
       "<thead>\n",
       "\t<tr><th scope=col>gene_id</th><th scope=col>Au.5</th><th scope=col>gene_name</th><th scope=col>protein_name</th><th scope=col>time_0h</th><th scope=col>2_h</th><th scope=col>12_h</th><th scope=col>24_h</th><th scope=col>48_h</th></tr>\n",
       "\t<tr><th scope=col>&lt;chr&gt;</th><th scope=col>&lt;dbl&gt;</th><th scope=col>&lt;chr&gt;</th><th scope=col>&lt;chr&gt;</th><th scope=col>&lt;chr&gt;</th><th scope=col>&lt;chr&gt;</th><th scope=col>&lt;chr&gt;</th><th scope=col>&lt;chr&gt;</th><th scope=col>&lt;chr&gt;</th></tr>\n",
       "</thead>\n",
       "<tbody>\n",
       "\t<tr><td>Cre12.g519100</td><td>513248</td><td>ACX1</td><td>?-Carboxyltransferase             </td><td>140.5             </td><td>68.200000000000003</td><td>81.299999999999997</td><td>71.599999999999994</td><td>70.200000000000003</td></tr>\n",
       "\t<tr><td>Cre12.g484000</td><td>512497</td><td>BCX1</td><td>?-Carboxyltransferase             </td><td>103.5             </td><td>53.399999999999999</td><td>35.100000000000001</td><td>35.399999999999999</td><td>31.399999999999999</td></tr>\n",
       "\t<tr><td>Cre17.g715250</td><td>517403</td><td>BCC1</td><td>Acetyl-CoA biotin carboxyl carrier</td><td>293.89999999999998</td><td>129.59999999999999</td><td>54.700000000000003</td><td>74.700000000000003</td><td>68.900000000000006</td></tr>\n",
       "</tbody>\n",
       "</table>\n"
      ],
      "text/latex": [
       "A tibble: 3 × 9\n",
       "\\begin{tabular}{r|lllllllll}\n",
       " gene\\_id & Au.5 & gene\\_name & protein\\_name & time\\_0h & 2\\_h & 12\\_h & 24\\_h & 48\\_h\\\\\n",
       " <chr> & <dbl> & <chr> & <chr> & <chr> & <chr> & <chr> & <chr> & <chr>\\\\\n",
       "\\hline\n",
       "\t Cre12.g519100 & 513248 & ACX1 & ?-Carboxyltransferase              & 140.5              & 68.200000000000003 & 81.299999999999997 & 71.599999999999994 & 70.200000000000003\\\\\n",
       "\t Cre12.g484000 & 512497 & BCX1 & ?-Carboxyltransferase              & 103.5              & 53.399999999999999 & 35.100000000000001 & 35.399999999999999 & 31.399999999999999\\\\\n",
       "\t Cre17.g715250 & 517403 & BCC1 & Acetyl-CoA biotin carboxyl carrier & 293.89999999999998 & 129.59999999999999 & 54.700000000000003 & 74.700000000000003 & 68.900000000000006\\\\\n",
       "\\end{tabular}\n"
      ],
      "text/markdown": [
       "\n",
       "A tibble: 3 × 9\n",
       "\n",
       "| gene_id &lt;chr&gt; | Au.5 &lt;dbl&gt; | gene_name &lt;chr&gt; | protein_name &lt;chr&gt; | time_0h &lt;chr&gt; | 2_h &lt;chr&gt; | 12_h &lt;chr&gt; | 24_h &lt;chr&gt; | 48_h &lt;chr&gt; |\n",
       "|---|---|---|---|---|---|---|---|---|\n",
       "| Cre12.g519100 | 513248 | ACX1 | ?-Carboxyltransferase              | 140.5              | 68.200000000000003 | 81.299999999999997 | 71.599999999999994 | 70.200000000000003 |\n",
       "| Cre12.g484000 | 512497 | BCX1 | ?-Carboxyltransferase              | 103.5              | 53.399999999999999 | 35.100000000000001 | 35.399999999999999 | 31.399999999999999 |\n",
       "| Cre17.g715250 | 517403 | BCC1 | Acetyl-CoA biotin carboxyl carrier | 293.89999999999998 | 129.59999999999999 | 54.700000000000003 | 74.700000000000003 | 68.900000000000006 |\n",
       "\n"
      ],
      "text/plain": [
       "  gene_id       Au.5   gene_name protein_name                      \n",
       "1 Cre12.g519100 513248 ACX1      ?-Carboxyltransferase             \n",
       "2 Cre12.g484000 512497 BCX1      ?-Carboxyltransferase             \n",
       "3 Cre17.g715250 517403 BCC1      Acetyl-CoA biotin carboxyl carrier\n",
       "  time_0h            2_h                12_h               24_h              \n",
       "1 140.5              68.200000000000003 81.299999999999997 71.599999999999994\n",
       "2 103.5              53.399999999999999 35.100000000000001 35.399999999999999\n",
       "3 293.89999999999998 129.59999999999999 54.700000000000003 74.700000000000003\n",
       "  48_h              \n",
       "1 70.200000000000003\n",
       "2 31.399999999999999\n",
       "3 68.900000000000006"
      ]
     },
     "metadata": {},
     "output_type": "display_data"
    }
   ],
   "source": [
    "require(\"readxl\")\n",
    "require(\"tidyverse\")\n",
    "require(\"dplyr\")\n",
    "\n",
    "#Import excel sheet and rename column names\n",
    "df <- import_messy_excel(file_name, sheets[1])\n",
    "colnames(df)[1:5]<- c(\"gene_id\", \"Au.5\", \"gene_name\",\"protein_name\", \"time_0h\")\n",
    "df[1:3,]"
   ]
  },
  {
   "cell_type": "code",
   "execution_count": 200,
   "metadata": {},
   "outputs": [
    {
     "data": {
      "text/html": [
       "<table>\n",
       "<caption>A tibble: 3 × 4</caption>\n",
       "<thead>\n",
       "\t<tr><th scope=col>gene_id</th><th scope=col>gene_name</th><th scope=col>candidate_gene</th><th scope=col>fold_difference</th></tr>\n",
       "\t<tr><th scope=col>&lt;chr&gt;</th><th scope=col>&lt;chr&gt;</th><th scope=col>&lt;lgl&gt;</th><th scope=col>&lt;dbl&gt;</th></tr>\n",
       "</thead>\n",
       "<tbody>\n",
       "\t<tr><td>Cre12.g519100</td><td>ACX1</td><td> TRUE</td><td>2.060117</td></tr>\n",
       "\t<tr><td>Cre12.g484000</td><td>BCX1</td><td>FALSE</td><td>1.938202</td></tr>\n",
       "\t<tr><td>Cre17.g715250</td><td>BCC1</td><td> TRUE</td><td>2.267747</td></tr>\n",
       "</tbody>\n",
       "</table>\n"
      ],
      "text/latex": [
       "A tibble: 3 × 4\n",
       "\\begin{tabular}{r|llll}\n",
       " gene\\_id & gene\\_name & candidate\\_gene & fold\\_difference\\\\\n",
       " <chr> & <chr> & <lgl> & <dbl>\\\\\n",
       "\\hline\n",
       "\t Cre12.g519100 & ACX1 &  TRUE & 2.060117\\\\\n",
       "\t Cre12.g484000 & BCX1 & FALSE & 1.938202\\\\\n",
       "\t Cre17.g715250 & BCC1 &  TRUE & 2.267747\\\\\n",
       "\\end{tabular}\n"
      ],
      "text/markdown": [
       "\n",
       "A tibble: 3 × 4\n",
       "\n",
       "| gene_id &lt;chr&gt; | gene_name &lt;chr&gt; | candidate_gene &lt;lgl&gt; | fold_difference &lt;dbl&gt; |\n",
       "|---|---|---|---|\n",
       "| Cre12.g519100 | ACX1 |  TRUE | 2.060117 |\n",
       "| Cre12.g484000 | BCX1 | FALSE | 1.938202 |\n",
       "| Cre17.g715250 | BCC1 |  TRUE | 2.267747 |\n",
       "\n"
      ],
      "text/plain": [
       "  gene_id       gene_name candidate_gene fold_difference\n",
       "1 Cre12.g519100 ACX1       TRUE          2.060117       \n",
       "2 Cre12.g484000 BCX1      FALSE          1.938202       \n",
       "3 Cre17.g715250 BCC1       TRUE          2.267747       "
      ]
     },
     "metadata": {},
     "output_type": "display_data"
    },
    {
     "data": {
      "text/plain": [
       "   gene_id           gene_name         candidate_gene  fold_difference \n",
       " Length:100         Length:100         Mode :logical   Min.   :0.0000  \n",
       " Class :character   Class :character   FALSE:49        1st Qu.:0.8473  \n",
       " Mode  :character   Mode  :character   TRUE :51        Median :1.3939  \n",
       "                                                       Mean   :   Inf  \n",
       "                                                       3rd Qu.:3.0234  \n",
       "                                                       Max.   :   Inf  \n",
       "                                                       NA's   :3       "
      ]
     },
     "metadata": {},
     "output_type": "display_data"
    },
    {
     "data": {
      "text/html": [
       "<table>\n",
       "<caption>A tibble: 3 × 6</caption>\n",
       "<thead>\n",
       "\t<tr><th scope=col>gene_id</th><th scope=col>gene_name</th><th scope=col>candidate_gene</th><th scope=col>fold_difference</th><th scope=col>protein_id</th><th scope=col>protein_name</th></tr>\n",
       "\t<tr><th scope=col>&lt;chr&gt;</th><th scope=col>&lt;chr&gt;</th><th scope=col>&lt;lgl&gt;</th><th scope=col>&lt;dbl&gt;</th><th scope=col>&lt;lgl&gt;</th><th scope=col>&lt;lgl&gt;</th></tr>\n",
       "</thead>\n",
       "<tbody>\n",
       "\t<tr><td>Cre12.g519100</td><td>ACX1</td><td> TRUE</td><td>2.060117</td><td>NA</td><td>NA</td></tr>\n",
       "\t<tr><td>Cre12.g484000</td><td>BCX1</td><td>FALSE</td><td>1.938202</td><td>NA</td><td>NA</td></tr>\n",
       "\t<tr><td>Cre17.g715250</td><td>BCC1</td><td> TRUE</td><td>2.267747</td><td>NA</td><td>NA</td></tr>\n",
       "</tbody>\n",
       "</table>\n"
      ],
      "text/latex": [
       "A tibble: 3 × 6\n",
       "\\begin{tabular}{r|llllll}\n",
       " gene\\_id & gene\\_name & candidate\\_gene & fold\\_difference & protein\\_id & protein\\_name\\\\\n",
       " <chr> & <chr> & <lgl> & <dbl> & <lgl> & <lgl>\\\\\n",
       "\\hline\n",
       "\t Cre12.g519100 & ACX1 &  TRUE & 2.060117 & NA & NA\\\\\n",
       "\t Cre12.g484000 & BCX1 & FALSE & 1.938202 & NA & NA\\\\\n",
       "\t Cre17.g715250 & BCC1 &  TRUE & 2.267747 & NA & NA\\\\\n",
       "\\end{tabular}\n"
      ],
      "text/markdown": [
       "\n",
       "A tibble: 3 × 6\n",
       "\n",
       "| gene_id &lt;chr&gt; | gene_name &lt;chr&gt; | candidate_gene &lt;lgl&gt; | fold_difference &lt;dbl&gt; | protein_id &lt;lgl&gt; | protein_name &lt;lgl&gt; |\n",
       "|---|---|---|---|---|---|\n",
       "| Cre12.g519100 | ACX1 |  TRUE | 2.060117 | NA | NA |\n",
       "| Cre12.g484000 | BCX1 | FALSE | 1.938202 | NA | NA |\n",
       "| Cre17.g715250 | BCC1 |  TRUE | 2.267747 | NA | NA |\n",
       "\n"
      ],
      "text/plain": [
       "  gene_id       gene_name candidate_gene fold_difference protein_id\n",
       "1 Cre12.g519100 ACX1       TRUE          2.060117        NA        \n",
       "2 Cre12.g484000 BCX1      FALSE          1.938202        NA        \n",
       "3 Cre17.g715250 BCC1       TRUE          2.267747        NA        \n",
       "  protein_name\n",
       "1 NA          \n",
       "2 NA          \n",
       "3 NA          "
      ]
     },
     "metadata": {},
     "output_type": "display_data"
    }
   ],
   "source": [
    "#Reshape dataframe such that it is easier to compare time 0h to 'n'h\n",
    "gene_data<- df %>% gather(., '2_h', '12_h', \"24_h\", '48_h',\n",
    "                   key = 'time', value = \"expression\") %>%\n",
    "    mutate(time_0h = as.numeric(time_0h),\n",
    "        expression= as.numeric(expression)) %>%\n",
    "           \n",
    "    #assign candidate_gene label based on fold difference\n",
    "    mutate(candidate_gene = case_when(\n",
    "            expression >= 2*time_0h~ TRUE,\n",
    "            time_0h >= 2* expression~ TRUE,\n",
    "            TRUE ~ FALSE),\n",
    "          fold_difference = time_0h/expression) %>%\n",
    "\n",
    "    #aggregate dataframe and remove unnecessary columns for append_genes()\n",
    "    select(gene_id, gene_name, candidate_gene, fold_difference)\n",
    "\n",
    "#gene_data[1:3,]\n",
    "#summary(gene_data)"
   ]
  },
  {
   "cell_type": "markdown",
   "metadata": {},
   "source": [
    "#### 4. Export `gene_data` to `Boyle_2012.txt`."
   ]
  },
  {
   "cell_type": "code",
   "execution_count": null,
   "metadata": {},
   "outputs": [],
   "source": [
    "temp<-export_genes(df = gene_data, target_folder = target_folder)\n",
    "temp[1:3,]"
   ]
  },
  {
   "cell_type": "markdown",
   "metadata": {},
   "source": [
    "## Gargouri_2015.xlsx\n",
    "#### 1. Extract basic information\n",
    "#### 2. Append basic information to `lipid_selection/data/intermediate_data_01/basic_info.txt`"
   ]
  },
  {
   "cell_type": "code",
   "execution_count": 229,
   "metadata": {},
   "outputs": [
    {
     "name": "stdout",
     "output_type": "stream",
     "text": [
      "'data.frame':\t2 obs. of  5 variables:\n",
      " $ first_author      : chr  \"Gargouri\" \"Gargouri\"\n",
      " $ publication_year  : num  2015 2015\n",
      " $ genome_version    : logi  NA NA\n",
      " $ database_source   : chr  \"Phytozyme 10.0\" \"Phytozyme 10.0\"\n",
      " $ inclusion_criteria: chr  \"fold difference greater than 2\" \"p-value <0.05\"\n"
     ]
    }
   ],
   "source": [
    "#Basic information\n",
    "\n",
    "file_name = \"Gargouri_2015.xlsx\"\n",
    "genome_version = NA\n",
    "database_source = \"Phytozyme 10.0\"\n",
    "inclusion_criteria = c(\"fold difference greater than 2\", \"p-value <0.05\")\n",
    "first_author = \"Gargouri\"\n",
    "publication_year = 2015\n",
    "\n",
    "basic_info <- data.frame(first_author, \n",
    "                         publication_year, \n",
    "                         genome_version, \n",
    "                         database_source, \n",
    "                         inclusion_criteria, \n",
    "                         stringsAsFactors = FALSE)\n",
    "str(basic_info)\n",
    "\n",
    "append_basic_info(basic_info, \"../../intermediate_data_01/basic_info.txt\")"
   ]
  },
  {
   "cell_type": "code",
   "execution_count": 230,
   "metadata": {},
   "outputs": [
    {
     "name": "stdout",
     "output_type": "stream",
     "text": [
      "[1] 16\n",
      " [1] \"TF Gene Expression\"     \"TR Gene Expression \"    \"TF & TR proteins\"      \n",
      " [4] \"R values\"               \"P values\"               \"Correlation lists\"     \n",
      " [7] \"Nitrogen genes\"         \"Photosynthesis genes\"   \"Chlorophyll genes\"     \n",
      "[10] \"Calvin cycle genes\"     \"Photorespiration genes\" \"OPPP genes\"            \n",
      "[13] \"TCA-glyoxylate genes\"   \"Amino acid genes\"       \"sucrose-starch genes\"  \n",
      "[16] \"Lipid genes\"           \n"
     ]
    }
   ],
   "source": [
    "#Check file type and number of excel sheets\n",
    "sheets <- check_excel_data(file_name)  \n",
    "print(length(sheets))\n",
    "print(sheets)"
   ]
  },
  {
   "cell_type": "markdown",
   "metadata": {},
   "source": [
    "#### 3. Extract candidate and non-candidate genes based on inclusion criteria.\n",
    "\n",
    "**Inclusion criteria**: When fold-difference between 0 hour and *n* hours after N starvation is statistically signficant (false discovery rate adjusted p-value <0.05), count as candidate gene. \n",
    "    \n",
    "* Significance in expression is defined as >2 fold-difference in a time point relative to the control (time= 0 hours)\n",
    "* Exclude proteomics information because the study measured transcription factor and regulator proteins. These proteins have low copy number in the cells because they don't need to exist at higher copy numbers. "
   ]
  },
  {
   "cell_type": "code",
   "execution_count": 231,
   "metadata": {},
   "outputs": [
    {
     "name": "stderr",
     "output_type": "stream",
     "text": [
      "New names:\n",
      "* `` -> ...2\n",
      "* `` -> ...3\n",
      "* `` -> ...4\n",
      "* `` -> ...5\n",
      "* `` -> ...6\n",
      "* ... and 18 more problems\n",
      "Check if column names are correct.\n",
      "New names:\n",
      "* `` -> ...2\n",
      "* `` -> ...3\n",
      "* `` -> ...4\n",
      "* `` -> ...5\n",
      "* `` -> ...6\n",
      "* ... and 18 more problems\n",
      "Check if column names are correct.\n"
     ]
    },
    {
     "data": {
      "text/html": [
       "<table>\n",
       "<caption>A tibble: 3 × 9</caption>\n",
       "<thead>\n",
       "\t<tr><th scope=col>gene_id</th><th scope=col>gene_name</th><th scope=col>0.5h</th><th scope=col>1h</th><th scope=col>2h</th><th scope=col>4h</th><th scope=col>6h</th><th scope=col>12h</th><th scope=col>24h</th></tr>\n",
       "\t<tr><th scope=col>&lt;chr&gt;</th><th scope=col>&lt;chr&gt;</th><th scope=col>&lt;chr&gt;</th><th scope=col>&lt;chr&gt;</th><th scope=col>&lt;chr&gt;</th><th scope=col>&lt;chr&gt;</th><th scope=col>&lt;chr&gt;</th><th scope=col>&lt;chr&gt;</th><th scope=col>&lt;chr&gt;</th></tr>\n",
       "</thead>\n",
       "<tbody>\n",
       "\t<tr><td>Cre13.g562400</td><td>ABI3 </td><td>0.26624138637167877</td><td>0.3784149427406196 </td><td>0.17107280180360585</td><td>8.9693481346717077E-2</td><td>0.67470075346544178</td><td>0.19118399314252876</td><td>9.9176569946903728E-2</td></tr>\n",
       "\t<tr><td>Cre16.g661650</td><td>AP2.1</td><td>0.38964820106104703</td><td>0.60777284815719523</td><td>0.81484172824510082</td><td>0.24174437138377752  </td><td>0.68594084635814501</td><td>0.31886254595637914</td><td>0.16692534218800126  </td></tr>\n",
       "\t<tr><td>Cre06.g275500</td><td>AP2.2</td><td>0.32259173012359688</td><td>0.28657095682324008</td><td>0.97631043910190984</td><td>0.91747186557718341  </td><td>0.86060237923868088</td><td>0.35019419753972997</td><td>0.13989581549811209  </td></tr>\n",
       "</tbody>\n",
       "</table>\n"
      ],
      "text/latex": [
       "A tibble: 3 × 9\n",
       "\\begin{tabular}{r|lllllllll}\n",
       " gene\\_id & gene\\_name & 0.5h & 1h & 2h & 4h & 6h & 12h & 24h\\\\\n",
       " <chr> & <chr> & <chr> & <chr> & <chr> & <chr> & <chr> & <chr> & <chr>\\\\\n",
       "\\hline\n",
       "\t Cre13.g562400 & ABI3  & 0.26624138637167877 & 0.3784149427406196  & 0.17107280180360585 & 8.9693481346717077E-2 & 0.67470075346544178 & 0.19118399314252876 & 9.9176569946903728E-2\\\\\n",
       "\t Cre16.g661650 & AP2.1 & 0.38964820106104703 & 0.60777284815719523 & 0.81484172824510082 & 0.24174437138377752   & 0.68594084635814501 & 0.31886254595637914 & 0.16692534218800126  \\\\\n",
       "\t Cre06.g275500 & AP2.2 & 0.32259173012359688 & 0.28657095682324008 & 0.97631043910190984 & 0.91747186557718341   & 0.86060237923868088 & 0.35019419753972997 & 0.13989581549811209  \\\\\n",
       "\\end{tabular}\n"
      ],
      "text/markdown": [
       "\n",
       "A tibble: 3 × 9\n",
       "\n",
       "| gene_id &lt;chr&gt; | gene_name &lt;chr&gt; | 0.5h &lt;chr&gt; | 1h &lt;chr&gt; | 2h &lt;chr&gt; | 4h &lt;chr&gt; | 6h &lt;chr&gt; | 12h &lt;chr&gt; | 24h &lt;chr&gt; |\n",
       "|---|---|---|---|---|---|---|---|---|\n",
       "| Cre13.g562400 | ABI3  | 0.26624138637167877 | 0.3784149427406196  | 0.17107280180360585 | 8.9693481346717077E-2 | 0.67470075346544178 | 0.19118399314252876 | 9.9176569946903728E-2 |\n",
       "| Cre16.g661650 | AP2.1 | 0.38964820106104703 | 0.60777284815719523 | 0.81484172824510082 | 0.24174437138377752   | 0.68594084635814501 | 0.31886254595637914 | 0.16692534218800126   |\n",
       "| Cre06.g275500 | AP2.2 | 0.32259173012359688 | 0.28657095682324008 | 0.97631043910190984 | 0.91747186557718341   | 0.86060237923868088 | 0.35019419753972997 | 0.13989581549811209   |\n",
       "\n"
      ],
      "text/plain": [
       "  gene_id       gene_name 0.5h                1h                 \n",
       "1 Cre13.g562400 ABI3      0.26624138637167877 0.3784149427406196 \n",
       "2 Cre16.g661650 AP2.1     0.38964820106104703 0.60777284815719523\n",
       "3 Cre06.g275500 AP2.2     0.32259173012359688 0.28657095682324008\n",
       "  2h                  4h                    6h                 \n",
       "1 0.17107280180360585 8.9693481346717077E-2 0.67470075346544178\n",
       "2 0.81484172824510082 0.24174437138377752   0.68594084635814501\n",
       "3 0.97631043910190984 0.91747186557718341   0.86060237923868088\n",
       "  12h                 24h                  \n",
       "1 0.19118399314252876 9.9176569946903728E-2\n",
       "2 0.31886254595637914 0.16692534218800126  \n",
       "3 0.35019419753972997 0.13989581549811209  "
      ]
     },
     "metadata": {},
     "output_type": "display_data"
    },
    {
     "data": {
      "text/html": [
       "<table>\n",
       "<caption>A tibble: 3 × 9</caption>\n",
       "<thead>\n",
       "\t<tr><th scope=col>gene_id</th><th scope=col>gene_name</th><th scope=col>0.5h</th><th scope=col>1h</th><th scope=col>2h</th><th scope=col>4h</th><th scope=col>6h</th><th scope=col>12h</th><th scope=col>24h</th></tr>\n",
       "\t<tr><th scope=col>&lt;chr&gt;</th><th scope=col>&lt;chr&gt;</th><th scope=col>&lt;chr&gt;</th><th scope=col>&lt;chr&gt;</th><th scope=col>&lt;chr&gt;</th><th scope=col>&lt;chr&gt;</th><th scope=col>&lt;chr&gt;</th><th scope=col>&lt;chr&gt;</th><th scope=col>&lt;chr&gt;</th></tr>\n",
       "</thead>\n",
       "<tbody>\n",
       "\t<tr><td>Cre13.g562400</td><td>ABI3 </td><td>0.24499975863038514</td><td>0.15281513303578501 </td><td>0.65829909409954446 </td><td>0.5963349885218836 </td><td>0.83775795243780415  </td><td>0.49261075369497898 </td><td>0.829104318114255   </td></tr>\n",
       "\t<tr><td>Cre16.g661650</td><td>AP2.1</td><td>-0.2049811425946774</td><td>-3.73423144159995E-2</td><td>0.27253941891884886 </td><td>-0.3849485106593602</td><td>-0.42471729292313487 </td><td>-0.41541845462348742</td><td>-0.52049019071806291</td></tr>\n",
       "\t<tr><td>Cre06.g275500</td><td>AP2.2</td><td>0.54495196817653324</td><td>-0.99111493744001344</td><td>-0.13882746250235672</td><td>-0.2196249599012253</td><td>4.1920206177396412E-2</td><td>0.33344408720170204 </td><td>0.52174949951430005 </td></tr>\n",
       "</tbody>\n",
       "</table>\n"
      ],
      "text/latex": [
       "A tibble: 3 × 9\n",
       "\\begin{tabular}{r|lllllllll}\n",
       " gene\\_id & gene\\_name & 0.5h & 1h & 2h & 4h & 6h & 12h & 24h\\\\\n",
       " <chr> & <chr> & <chr> & <chr> & <chr> & <chr> & <chr> & <chr> & <chr>\\\\\n",
       "\\hline\n",
       "\t Cre13.g562400 & ABI3  & 0.24499975863038514 & 0.15281513303578501  & 0.65829909409954446  & 0.5963349885218836  & 0.83775795243780415   & 0.49261075369497898  & 0.829104318114255   \\\\\n",
       "\t Cre16.g661650 & AP2.1 & -0.2049811425946774 & -3.73423144159995E-2 & 0.27253941891884886  & -0.3849485106593602 & -0.42471729292313487  & -0.41541845462348742 & -0.52049019071806291\\\\\n",
       "\t Cre06.g275500 & AP2.2 & 0.54495196817653324 & -0.99111493744001344 & -0.13882746250235672 & -0.2196249599012253 & 4.1920206177396412E-2 & 0.33344408720170204  & 0.52174949951430005 \\\\\n",
       "\\end{tabular}\n"
      ],
      "text/markdown": [
       "\n",
       "A tibble: 3 × 9\n",
       "\n",
       "| gene_id &lt;chr&gt; | gene_name &lt;chr&gt; | 0.5h &lt;chr&gt; | 1h &lt;chr&gt; | 2h &lt;chr&gt; | 4h &lt;chr&gt; | 6h &lt;chr&gt; | 12h &lt;chr&gt; | 24h &lt;chr&gt; |\n",
       "|---|---|---|---|---|---|---|---|---|\n",
       "| Cre13.g562400 | ABI3  | 0.24499975863038514 | 0.15281513303578501  | 0.65829909409954446  | 0.5963349885218836  | 0.83775795243780415   | 0.49261075369497898  | 0.829104318114255    |\n",
       "| Cre16.g661650 | AP2.1 | -0.2049811425946774 | -3.73423144159995E-2 | 0.27253941891884886  | -0.3849485106593602 | -0.42471729292313487  | -0.41541845462348742 | -0.52049019071806291 |\n",
       "| Cre06.g275500 | AP2.2 | 0.54495196817653324 | -0.99111493744001344 | -0.13882746250235672 | -0.2196249599012253 | 4.1920206177396412E-2 | 0.33344408720170204  | 0.52174949951430005  |\n",
       "\n"
      ],
      "text/plain": [
       "  gene_id       gene_name 0.5h                1h                  \n",
       "1 Cre13.g562400 ABI3      0.24499975863038514 0.15281513303578501 \n",
       "2 Cre16.g661650 AP2.1     -0.2049811425946774 -3.73423144159995E-2\n",
       "3 Cre06.g275500 AP2.2     0.54495196817653324 -0.99111493744001344\n",
       "  2h                   4h                  6h                   \n",
       "1 0.65829909409954446  0.5963349885218836  0.83775795243780415  \n",
       "2 0.27253941891884886  -0.3849485106593602 -0.42471729292313487 \n",
       "3 -0.13882746250235672 -0.2196249599012253 4.1920206177396412E-2\n",
       "  12h                  24h                 \n",
       "1 0.49261075369497898  0.829104318114255   \n",
       "2 -0.41541845462348742 -0.52049019071806291\n",
       "3 0.33344408720170204  0.52174949951430005 "
      ]
     },
     "metadata": {},
     "output_type": "display_data"
    }
   ],
   "source": [
    "require(\"readxl\")\n",
    "require(\"tidyverse\")\n",
    "require(\"dplyr\")\n",
    "\n",
    "#Data manipulation: combine TF and TR gene expression data\n",
    "df <- rbind(import_messy_excel(file_name, sheet_name = \"TF Gene Expression\") , import_messy_excel(file_name, sheet_name = \"TR Gene Expression \"))\n",
    "colnames(df)[1:3] <- c(\"gene_id\",\"\", \"gene_name\")\n",
    "\n",
    "#Split data into p-value data and fold difference data\n",
    "p_value_df<-df[,c(1,3,18:24)]\n",
    "log2fold_diff_df<-df[,c(1,3,4:10)]\n",
    "p_value_df[1:3,]\n",
    "log2fold_diff_df[1:3,] "
   ]
  },
  {
   "cell_type": "code",
   "execution_count": 232,
   "metadata": {},
   "outputs": [
    {
     "data": {
      "text/html": [
       "<table>\n",
       "<caption>A data.frame: 3 × 5</caption>\n",
       "<thead>\n",
       "\t<tr><th scope=col>gene_id</th><th scope=col>gene_name</th><th scope=col>candidate_gene</th><th scope=col>fold_difference</th><th scope=col>p_value</th></tr>\n",
       "\t<tr><th scope=col>&lt;chr&gt;</th><th scope=col>&lt;chr&gt;</th><th scope=col>&lt;lgl&gt;</th><th scope=col>&lt;dbl&gt;</th><th scope=col>&lt;dbl&gt;</th></tr>\n",
       "</thead>\n",
       "<tbody>\n",
       "\t<tr><td>Cre01.g000050</td><td>RWP.14</td><td>FALSE</td><td>1.5629104</td><td>0.0912037</td></tr>\n",
       "\t<tr><td>Cre01.g000050</td><td>RWP.14</td><td>FALSE</td><td>1.9702945</td><td>0.3410131</td></tr>\n",
       "\t<tr><td>Cre01.g000050</td><td>RWP.14</td><td>FALSE</td><td>0.9607626</td><td>0.4324472</td></tr>\n",
       "</tbody>\n",
       "</table>\n"
      ],
      "text/latex": [
       "A data.frame: 3 × 5\n",
       "\\begin{tabular}{r|lllll}\n",
       " gene\\_id & gene\\_name & candidate\\_gene & fold\\_difference & p\\_value\\\\\n",
       " <chr> & <chr> & <lgl> & <dbl> & <dbl>\\\\\n",
       "\\hline\n",
       "\t Cre01.g000050 & RWP.14 & FALSE & 1.5629104 & 0.0912037\\\\\n",
       "\t Cre01.g000050 & RWP.14 & FALSE & 1.9702945 & 0.3410131\\\\\n",
       "\t Cre01.g000050 & RWP.14 & FALSE & 0.9607626 & 0.4324472\\\\\n",
       "\\end{tabular}\n"
      ],
      "text/markdown": [
       "\n",
       "A data.frame: 3 × 5\n",
       "\n",
       "| gene_id &lt;chr&gt; | gene_name &lt;chr&gt; | candidate_gene &lt;lgl&gt; | fold_difference &lt;dbl&gt; | p_value &lt;dbl&gt; |\n",
       "|---|---|---|---|---|\n",
       "| Cre01.g000050 | RWP.14 | FALSE | 1.5629104 | 0.0912037 |\n",
       "| Cre01.g000050 | RWP.14 | FALSE | 1.9702945 | 0.3410131 |\n",
       "| Cre01.g000050 | RWP.14 | FALSE | 0.9607626 | 0.4324472 |\n",
       "\n"
      ],
      "text/plain": [
       "  gene_id       gene_name candidate_gene fold_difference p_value  \n",
       "1 Cre01.g000050 RWP.14    FALSE          1.5629104       0.0912037\n",
       "2 Cre01.g000050 RWP.14    FALSE          1.9702945       0.3410131\n",
       "3 Cre01.g000050 RWP.14    FALSE          0.9607626       0.4324472"
      ]
     },
     "metadata": {},
     "output_type": "display_data"
    },
    {
     "data": {
      "text/plain": [
       "   gene_id           gene_name         candidate_gene  fold_difference  \n",
       " Length:2898        Length:2898        Mode :logical   Min.   : 0.1083  \n",
       " Class :character   Class :character   FALSE:2883      1st Qu.: 0.8376  \n",
       " Mode  :character   Mode  :character   TRUE :15        Median : 1.1439  \n",
       "                                                       Mean   : 1.5107  \n",
       "                                                       3rd Qu.: 1.5859  \n",
       "                                                       Max.   :40.0687  \n",
       "    p_value       \n",
       " Min.   :0.03828  \n",
       " 1st Qu.:0.19014  \n",
       " Median :0.36772  \n",
       " Mean   :0.42771  \n",
       " 3rd Qu.:0.66466  \n",
       " Max.   :1.00000  "
      ]
     },
     "metadata": {},
     "output_type": "display_data"
    },
    {
     "data": {
      "text/html": [
       "<table>\n",
       "<caption>A data.frame: 3 × 7</caption>\n",
       "<thead>\n",
       "\t<tr><th scope=col>gene_id</th><th scope=col>gene_name</th><th scope=col>candidate_gene</th><th scope=col>fold_difference</th><th scope=col>p_value</th><th scope=col>protein_id</th><th scope=col>protein_name</th></tr>\n",
       "\t<tr><th scope=col>&lt;chr&gt;</th><th scope=col>&lt;chr&gt;</th><th scope=col>&lt;lgl&gt;</th><th scope=col>&lt;dbl&gt;</th><th scope=col>&lt;dbl&gt;</th><th scope=col>&lt;lgl&gt;</th><th scope=col>&lt;lgl&gt;</th></tr>\n",
       "</thead>\n",
       "<tbody>\n",
       "\t<tr><td>Cre01.g000050</td><td>RWP.14</td><td>FALSE</td><td>1.5629104</td><td>0.0912037</td><td>NA</td><td>NA</td></tr>\n",
       "\t<tr><td>Cre01.g000050</td><td>RWP.14</td><td>FALSE</td><td>1.9702945</td><td>0.3410131</td><td>NA</td><td>NA</td></tr>\n",
       "\t<tr><td>Cre01.g000050</td><td>RWP.14</td><td>FALSE</td><td>0.9607626</td><td>0.4324472</td><td>NA</td><td>NA</td></tr>\n",
       "</tbody>\n",
       "</table>\n"
      ],
      "text/latex": [
       "A data.frame: 3 × 7\n",
       "\\begin{tabular}{r|lllllll}\n",
       " gene\\_id & gene\\_name & candidate\\_gene & fold\\_difference & p\\_value & protein\\_id & protein\\_name\\\\\n",
       " <chr> & <chr> & <lgl> & <dbl> & <dbl> & <lgl> & <lgl>\\\\\n",
       "\\hline\n",
       "\t Cre01.g000050 & RWP.14 & FALSE & 1.5629104 & 0.0912037 & NA & NA\\\\\n",
       "\t Cre01.g000050 & RWP.14 & FALSE & 1.9702945 & 0.3410131 & NA & NA\\\\\n",
       "\t Cre01.g000050 & RWP.14 & FALSE & 0.9607626 & 0.4324472 & NA & NA\\\\\n",
       "\\end{tabular}\n"
      ],
      "text/markdown": [
       "\n",
       "A data.frame: 3 × 7\n",
       "\n",
       "| gene_id &lt;chr&gt; | gene_name &lt;chr&gt; | candidate_gene &lt;lgl&gt; | fold_difference &lt;dbl&gt; | p_value &lt;dbl&gt; | protein_id &lt;lgl&gt; | protein_name &lt;lgl&gt; |\n",
       "|---|---|---|---|---|---|---|\n",
       "| Cre01.g000050 | RWP.14 | FALSE | 1.5629104 | 0.0912037 | NA | NA |\n",
       "| Cre01.g000050 | RWP.14 | FALSE | 1.9702945 | 0.3410131 | NA | NA |\n",
       "| Cre01.g000050 | RWP.14 | FALSE | 0.9607626 | 0.4324472 | NA | NA |\n",
       "\n"
      ],
      "text/plain": [
       "  gene_id       gene_name candidate_gene fold_difference p_value   protein_id\n",
       "1 Cre01.g000050 RWP.14    FALSE          1.5629104       0.0912037 NA        \n",
       "2 Cre01.g000050 RWP.14    FALSE          1.9702945       0.3410131 NA        \n",
       "3 Cre01.g000050 RWP.14    FALSE          0.9607626       0.4324472 NA        \n",
       "  protein_name\n",
       "1 NA          \n",
       "2 NA          \n",
       "3 NA          "
      ]
     },
     "metadata": {},
     "output_type": "display_data"
    },
    {
     "data": {
      "text/html": [
       "<ol class=list-inline>\n",
       "\t<li>2898</li>\n",
       "\t<li>7</li>\n",
       "</ol>\n"
      ],
      "text/latex": [
       "\\begin{enumerate*}\n",
       "\\item 2898\n",
       "\\item 7\n",
       "\\end{enumerate*}\n"
      ],
      "text/markdown": [
       "1. 2898\n",
       "2. 7\n",
       "\n",
       "\n"
      ],
      "text/plain": [
       "[1] 2898    7"
      ]
     },
     "metadata": {},
     "output_type": "display_data"
    }
   ],
   "source": [
    "#Reshape dataframe such that it is easier to compare time 0h to 'n'h\n",
    "p_value_df <- p_value_df %>% \n",
    "    gather(., ends_with('h'),\n",
    "           key = 'time', value = \"p_value\") %>%\n",
    "    mutate(p_value= as.numeric(p_value))\n",
    "log2fold_diff_df <- log2fold_diff_df  %>% \n",
    "    gather(., ends_with('h'),\n",
    "           key = 'time', value = \"log2fold_diff\") %>%\n",
    "    mutate(log2fold_diff= as.numeric(log2fold_diff))\n",
    "gene_data<- merge(log2fold_diff_df, p_value_df, \n",
    "                  by = c('gene_id', 'gene_name', 'time')) %>%\n",
    "            mutate(candidate_gene = case_when(\n",
    "                p_value< 0.05 ~TRUE,\n",
    "                TRUE~FALSE),\n",
    "                  fold_difference = 2^log2fold_diff) %>%\n",
    "            select(gene_id, gene_name, candidate_gene,fold_difference, p_value)\n",
    "\n",
    "\n",
    "gene_data[1:3,]\n",
    "#summary(gene_data)\n"
   ]
  },
  {
   "cell_type": "markdown",
   "metadata": {},
   "source": [
    "#### 4. Export `gene_data` to `Gargouri_2015.txt`."
   ]
  },
  {
   "cell_type": "code",
   "execution_count": 234,
   "metadata": {},
   "outputs": [
    {
     "data": {
      "text/html": [
       "<table>\n",
       "<caption>A data.frame: 3 × 7</caption>\n",
       "<thead>\n",
       "\t<tr><th scope=col>gene_id</th><th scope=col>gene_name</th><th scope=col>candidate_gene</th><th scope=col>fold_difference</th><th scope=col>p_value</th><th scope=col>protein_id</th><th scope=col>protein_name</th></tr>\n",
       "\t<tr><th scope=col>&lt;chr&gt;</th><th scope=col>&lt;chr&gt;</th><th scope=col>&lt;lgl&gt;</th><th scope=col>&lt;dbl&gt;</th><th scope=col>&lt;dbl&gt;</th><th scope=col>&lt;lgl&gt;</th><th scope=col>&lt;lgl&gt;</th></tr>\n",
       "</thead>\n",
       "<tbody>\n",
       "\t<tr><td>Cre01.g000050</td><td>RWP.14</td><td>FALSE</td><td>1.5629104</td><td>0.0912037</td><td>NA</td><td>NA</td></tr>\n",
       "\t<tr><td>Cre01.g000050</td><td>RWP.14</td><td>FALSE</td><td>1.9702945</td><td>0.3410131</td><td>NA</td><td>NA</td></tr>\n",
       "\t<tr><td>Cre01.g000050</td><td>RWP.14</td><td>FALSE</td><td>0.9607626</td><td>0.4324472</td><td>NA</td><td>NA</td></tr>\n",
       "</tbody>\n",
       "</table>\n"
      ],
      "text/latex": [
       "A data.frame: 3 × 7\n",
       "\\begin{tabular}{r|lllllll}\n",
       " gene\\_id & gene\\_name & candidate\\_gene & fold\\_difference & p\\_value & protein\\_id & protein\\_name\\\\\n",
       " <chr> & <chr> & <lgl> & <dbl> & <dbl> & <lgl> & <lgl>\\\\\n",
       "\\hline\n",
       "\t Cre01.g000050 & RWP.14 & FALSE & 1.5629104 & 0.0912037 & NA & NA\\\\\n",
       "\t Cre01.g000050 & RWP.14 & FALSE & 1.9702945 & 0.3410131 & NA & NA\\\\\n",
       "\t Cre01.g000050 & RWP.14 & FALSE & 0.9607626 & 0.4324472 & NA & NA\\\\\n",
       "\\end{tabular}\n"
      ],
      "text/markdown": [
       "\n",
       "A data.frame: 3 × 7\n",
       "\n",
       "| gene_id &lt;chr&gt; | gene_name &lt;chr&gt; | candidate_gene &lt;lgl&gt; | fold_difference &lt;dbl&gt; | p_value &lt;dbl&gt; | protein_id &lt;lgl&gt; | protein_name &lt;lgl&gt; |\n",
       "|---|---|---|---|---|---|---|\n",
       "| Cre01.g000050 | RWP.14 | FALSE | 1.5629104 | 0.0912037 | NA | NA |\n",
       "| Cre01.g000050 | RWP.14 | FALSE | 1.9702945 | 0.3410131 | NA | NA |\n",
       "| Cre01.g000050 | RWP.14 | FALSE | 0.9607626 | 0.4324472 | NA | NA |\n",
       "\n"
      ],
      "text/plain": [
       "  gene_id       gene_name candidate_gene fold_difference p_value   protein_id\n",
       "1 Cre01.g000050 RWP.14    FALSE          1.5629104       0.0912037 NA        \n",
       "2 Cre01.g000050 RWP.14    FALSE          1.9702945       0.3410131 NA        \n",
       "3 Cre01.g000050 RWP.14    FALSE          0.9607626       0.4324472 NA        \n",
       "  protein_name\n",
       "1 NA          \n",
       "2 NA          \n",
       "3 NA          "
      ]
     },
     "metadata": {},
     "output_type": "display_data"
    },
    {
     "data": {
      "text/html": [
       "<ol class=list-inline>\n",
       "\t<li>2898</li>\n",
       "\t<li>7</li>\n",
       "</ol>\n"
      ],
      "text/latex": [
       "\\begin{enumerate*}\n",
       "\\item 2898\n",
       "\\item 7\n",
       "\\end{enumerate*}\n"
      ],
      "text/markdown": [
       "1. 2898\n",
       "2. 7\n",
       "\n",
       "\n"
      ],
      "text/plain": [
       "[1] 2898    7"
      ]
     },
     "metadata": {},
     "output_type": "display_data"
    }
   ],
   "source": [
    "temp<-export_genes(df = gene_data, target_folder = target_folder)\n",
    "temp[1:3,]\n",
    "dim(temp)"
   ]
  },
  {
   "cell_type": "markdown",
   "metadata": {},
   "source": [
    "## Goodenough_2014.xlsx\n",
    "#### 1. Extract basic information\n",
    "#### 2. Append basic information to `lipid_selection/data/intermediate_data_01/basic_info.txt`"
   ]
  },
  {
   "cell_type": "code",
   "execution_count": 236,
   "metadata": {},
   "outputs": [
    {
     "name": "stdout",
     "output_type": "stream",
     "text": [
      "'data.frame':\t1 obs. of  5 variables:\n",
      " $ first_author      : chr \"Goodenough\"\n",
      " $ publication_year  : num 2014\n",
      " $ genome_version    : num 4\n",
      " $ database_source   : chr \"Augustus 10.2\"\n",
      " $ inclusion_criteria: chr \"fold difference greater than 2\"\n"
     ]
    }
   ],
   "source": [
    "#Basic information\n",
    "\n",
    "file_name = \"Goodenough_2014.xlsx\"\n",
    "genome_version = 4\n",
    "database_source = \"Augustus 10.2\"\n",
    "inclusion_criteria = c(\"fold difference greater than 2\")\n",
    "first_author = \"Goodenough\"\n",
    "publication_year = 2014\n",
    "\n",
    "basic_info <- data.frame(first_author, \n",
    "                         publication_year, \n",
    "                         genome_version, \n",
    "                         database_source, \n",
    "                         inclusion_criteria, \n",
    "                         stringsAsFactors = FALSE)\n",
    "str(basic_info)\n",
    "\n",
    "append_basic_info(basic_info, \"../../intermediate_data_01/basic_info.txt\")"
   ]
  },
  {
   "cell_type": "code",
   "execution_count": 237,
   "metadata": {},
   "outputs": [
    {
     "name": "stdout",
     "output_type": "stream",
     "text": [
      "[1] 24\n",
      " [1] \"Table 1\"    \"Table 2\"    \"Table 3\"    \"Table 4\"    \"Table 5\"   \n",
      " [6] \"Table 6\"    \"Table 7\"    \"Table 8\"    \"Table 9\"    \"Table S1\"  \n",
      "[11] \"Table S2\"   \"Table S3\"   \"Table S4\"   \"Table S5\"   \"Table S6\"  \n",
      "[16] \"Table S7\"   \"Table S8\"   \"Table S9\"   \"Dataset S1\" \"Dataset S2\"\n",
      "[21] \"Dataset S3\" \"Dataset S4\" \"Dataset S5\" \"Dataset S6\"\n"
     ]
    }
   ],
   "source": [
    "#Check file type and number of excel sheets\n",
    "sheets <- check_excel_data(file_name)  \n",
    "print(length(sheets))\n",
    "print(sheets)"
   ]
  },
  {
   "cell_type": "markdown",
   "metadata": {},
   "source": [
    "#### 3. Extract candidate and non-candidate genes based on inclusion criteria.\n",
    "\n",
    "**Inclusion criteria**: If fold-difference between 0 hour and *n* hours after N starvation >2, count as candidate gene. \n",
    "    \n",
    "* Only use excel sheets \"Table 2\" to \"Table 7\"\n",
    "* Exclude acetate boost data"
   ]
  },
  {
   "cell_type": "code",
   "execution_count": 238,
   "metadata": {},
   "outputs": [
    {
     "name": "stderr",
     "output_type": "stream",
     "text": [
      "New names:\n",
      "* `` -> ...2\n",
      "* `` -> ...3\n",
      "* `` -> ...4\n",
      "* `` -> ...5\n",
      "* `` -> ...6\n",
      "* ... and 12 more problems\n",
      "New names:\n",
      "* `` -> ...2\n",
      "* `` -> ...3\n",
      "* `` -> ...4\n",
      "* `` -> ...5\n",
      "* `` -> ...6\n",
      "* ... and 12 more problems\n",
      "New names:\n",
      "* `` -> ...2\n",
      "* `` -> ...3\n",
      "* `` -> ...4\n",
      "* `` -> ...5\n",
      "* `` -> ...6\n",
      "* ... and 12 more problems\n",
      "New names:\n",
      "* `` -> ...2\n",
      "* `` -> ...3\n",
      "* `` -> ...4\n",
      "* `` -> ...5\n",
      "* `` -> ...6\n",
      "* ... and 12 more problems\n",
      "New names:\n",
      "* `` -> ...2\n",
      "* `` -> ...3\n",
      "* `` -> ...4\n",
      "* `` -> ...5\n",
      "* `` -> ...6\n",
      "* ... and 12 more problems\n",
      "New names:\n",
      "* `` -> ...2\n",
      "* `` -> ...3\n",
      "* `` -> ...4\n",
      "* `` -> ...5\n",
      "* `` -> ...6\n",
      "* ... and 12 more problems\n"
     ]
    }
   ],
   "source": [
    "require(\"readxl\")\n",
    "require(\"tidyverse\")\n",
    "require(\"tidyr\")\n",
    "require(\"dplyr\")\n",
    "require(\"stringr\")\n",
    "gene_data<- data.frame(matrix(nrow = 0, ncol = 4))\n",
    "#Data manipulation: combine TF and TR gene expression data\n",
    "#gene_data<- data.frame(matrix(nrow = 0, ncol = 10))\n",
    "for (sheet in sheets[2:7]){\n",
    "    \n",
    "    #Import relevant columns, \n",
    "    #first 10 columns do not include acetate-boosted expression\n",
    "    df <- read_excel(file_name, sheet = sheet)[,1:10] \n",
    "    colnames(df)<- c('name',df[2,2:10])\n",
    "    \n",
    "    #Assign gene id to each row, ignoring strain names in experiment\n",
    "    gene_id <-NA\n",
    "    for (row in 1:nrow(df)){\n",
    "        if(TRUE %in% stringr::str_detect(df[row,1],\"^Cre.+\")){\n",
    "            gene_id<- grep(\"^Cre.+\", df[row,1], value = TRUE)\n",
    "        }\n",
    "    else{df[row,1] <- gene_id}\n",
    "    }\n",
    "\n",
    "    #Reshape dataframe to compare expression levels to time 0\n",
    "    gene_data <- df %>% rename(control = \"0 h\") %>%\n",
    "        gather(ends_with('h'), key = \"time\", value = \"expression\") %>%\n",
    "        na.omit() %>% select(-log) %>%\n",
    "        mutate(control = as.numeric(control),\n",
    "              expression = as.numeric(expression)) %>%\n",
    "        \n",
    "        #Calculate fold difference relative to control time 0H\n",
    "        mutate(fold_difference = control/expression,\n",
    "        #assign candidate gene label based of fold difference in expression level\n",
    "               candidate_gene = case_when(\n",
    "            abs(log(fold_difference,2))>1  ~ TRUE,\n",
    "            TRUE ~ FALSE)) %>%\n",
    "\n",
    "    #add gene_data to working dataframe gene_data\n",
    "        rbind(gene_data, .)\n",
    "}\n"
   ]
  },
  {
   "cell_type": "code",
   "execution_count": 239,
   "metadata": {},
   "outputs": [
    {
     "name": "stderr",
     "output_type": "stream",
     "text": [
      "Warning message:\n",
      "\"Expected 2 pieces. Additional pieces discarded in 924 rows [1, 2, 3, 4, 5, 6, 7, 8, 9, 10, 11, 12, 13, 14, 15, 16, 17, 18, 19, 20, ...].\"Warning message:\n",
      "\"Expected 2 pieces. Missing pieces filled with `NA` in 14 rows [523, 524, 533, 534, 543, 544, 553, 554, 563, 564, 573, 574, 583, 584].\""
     ]
    },
    {
     "name": "stdout",
     "output_type": "stream",
     "text": [
      "\u001b[90m# A tibble: 1 x 3\u001b[39m\n",
      "  gene_id       gene_name candidate_gene\n",
      "  \u001b[3m\u001b[90m<chr>\u001b[39m\u001b[23m         \u001b[3m\u001b[90m<chr>\u001b[39m\u001b[23m     \u001b[3m\u001b[90m<lgl>\u001b[39m\u001b[23m         \n",
      "\u001b[90m1\u001b[39m Cre03.g205050 DGTT4     TRUE          \n"
     ]
    }
   ],
   "source": [
    "#Split \"name\" column to \"gene_id\" and \"gene_name\" columns in gene_data\n",
    "gene_data<- gene_data %>% \n",
    "    separate(., name, sep = \"\\\\s+\", into=c(\"gene_id\",\"gene_name\")) %>%\n",
    "    select(gene_id, gene_name, candidate_gene, fold_difference)\n",
    "print(gene_data_temp[31,])"
   ]
  },
  {
   "cell_type": "code",
   "execution_count": 240,
   "metadata": {},
   "outputs": [
    {
     "data": {
      "text/html": [
       "<table>\n",
       "<caption>A tibble: 3 × 6</caption>\n",
       "<thead>\n",
       "\t<tr><th scope=col>gene_id</th><th scope=col>gene_name</th><th scope=col>candidate_gene</th><th scope=col>fold_difference</th><th scope=col>protein_id</th><th scope=col>protein_name</th></tr>\n",
       "\t<tr><th scope=col>&lt;chr&gt;</th><th scope=col>&lt;chr&gt;</th><th scope=col>&lt;lgl&gt;</th><th scope=col>&lt;dbl&gt;</th><th scope=col>&lt;lgl&gt;</th><th scope=col>&lt;lgl&gt;</th></tr>\n",
       "</thead>\n",
       "<tbody>\n",
       "\t<tr><td>Cre03.g175400</td><td>PGI1 </td><td>FALSE</td><td>0.8522727</td><td>NA</td><td>NA</td></tr>\n",
       "\t<tr><td>Cre03.g175400</td><td>PGI1 </td><td>FALSE</td><td>0.6838906</td><td>NA</td><td>NA</td></tr>\n",
       "\t<tr><td>Cre13.g598750</td><td>GPM1b</td><td>FALSE</td><td>0.7904762</td><td>NA</td><td>NA</td></tr>\n",
       "</tbody>\n",
       "</table>\n"
      ],
      "text/latex": [
       "A tibble: 3 × 6\n",
       "\\begin{tabular}{r|llllll}\n",
       " gene\\_id & gene\\_name & candidate\\_gene & fold\\_difference & protein\\_id & protein\\_name\\\\\n",
       " <chr> & <chr> & <lgl> & <dbl> & <lgl> & <lgl>\\\\\n",
       "\\hline\n",
       "\t Cre03.g175400 & PGI1  & FALSE & 0.8522727 & NA & NA\\\\\n",
       "\t Cre03.g175400 & PGI1  & FALSE & 0.6838906 & NA & NA\\\\\n",
       "\t Cre13.g598750 & GPM1b & FALSE & 0.7904762 & NA & NA\\\\\n",
       "\\end{tabular}\n"
      ],
      "text/markdown": [
       "\n",
       "A tibble: 3 × 6\n",
       "\n",
       "| gene_id &lt;chr&gt; | gene_name &lt;chr&gt; | candidate_gene &lt;lgl&gt; | fold_difference &lt;dbl&gt; | protein_id &lt;lgl&gt; | protein_name &lt;lgl&gt; |\n",
       "|---|---|---|---|---|---|\n",
       "| Cre03.g175400 | PGI1  | FALSE | 0.8522727 | NA | NA |\n",
       "| Cre03.g175400 | PGI1  | FALSE | 0.6838906 | NA | NA |\n",
       "| Cre13.g598750 | GPM1b | FALSE | 0.7904762 | NA | NA |\n",
       "\n"
      ],
      "text/plain": [
       "  gene_id       gene_name candidate_gene fold_difference protein_id\n",
       "1 Cre03.g175400 PGI1      FALSE          0.8522727       NA        \n",
       "2 Cre03.g175400 PGI1      FALSE          0.6838906       NA        \n",
       "3 Cre13.g598750 GPM1b     FALSE          0.7904762       NA        \n",
       "  protein_name\n",
       "1 NA          \n",
       "2 NA          \n",
       "3 NA          "
      ]
     },
     "metadata": {},
     "output_type": "display_data"
    }
   ],
   "source": [
    "#Export gene_data\n",
    "temp<-export_genes(df = gene_data, target_folder = target_folder)\n",
    "temp[1:3,]"
   ]
  },
  {
   "cell_type": "markdown",
   "metadata": {},
   "source": [
    "### Hemme_2014.xlsx\n",
    "\n",
    "#### 1. Extract basic information\n",
    "#### 2. Append basic information to `lipid_selection/data/intermediate_data_01/basic_info.txt`"
   ]
  },
  {
   "cell_type": "code",
   "execution_count": 241,
   "metadata": {},
   "outputs": [
    {
     "name": "stdout",
     "output_type": "stream",
     "text": [
      "'data.frame':\t2 obs. of  5 variables:\n",
      " $ first_author      : chr  \"Hemme\" \"Hemme\"\n",
      " $ publication_year  : num  2014 2014\n",
      " $ genome_version    : logi  NA NA\n",
      " $ database_source   : chr  \"Augustus 10.2\" \"Augustus 10.2\"\n",
      " $ inclusion_criteria: chr  \"fold difference greater than 2\" \"p-value <0.05\"\n"
     ]
    }
   ],
   "source": [
    "file_name = \"Hemme_2014.xlsx\"\n",
    "genome_version = NA\n",
    "database_source = \"Augustus 10.2\"\n",
    "inclusion_criteria = c(\"fold difference greater than 2\", \"p-value <0.05\")\n",
    "first_author = \"Hemme\"\n",
    "publication_year = 2014\n",
    "\n",
    "basic_info <- data.frame(first_author, \n",
    "                         publication_year, \n",
    "                         genome_version, \n",
    "                         database_source, \n",
    "                         inclusion_criteria, \n",
    "                         stringsAsFactors = FALSE)\n",
    "str(basic_info)\n",
    "\n",
    "append_basic_info(basic_info, \"../../intermediate_data_01/basic_info.txt\")"
   ]
  },
  {
   "cell_type": "code",
   "execution_count": 242,
   "metadata": {},
   "outputs": [
    {
     "name": "stdout",
     "output_type": "stream",
     "text": [
      "[1] 1\n",
      "[1] \"Protein data\"\n"
     ]
    }
   ],
   "source": [
    "#Check file type and number of excel sheets\n",
    "sheets <- check_excel_data(file_name)  \n",
    "print(length(sheets))\n",
    "print(sheets)"
   ]
  },
  {
   "cell_type": "markdown",
   "metadata": {},
   "source": [
    "#### 3. Extract candidate and non-candidate genes based on inclusion criteria.\n",
    "\n",
    "**Inclusion criteria**: When fold-difference between 0 hour and *n* hours after heat stress (HS) is statistically signficant (p-value <0.05), count as candidate gene. \n",
    "    \n",
    "* Significance in expression is defined as >2 fold-difference in a time point relative to the control (time= 0 hours) within the HS treatment **(not recovery)**\n",
    "* column `TP24HS_fold_change` is the linear fold difference of HS at time = 24 hours compared to time = 0 hour. \n",
    "* use p-value from `C1_significance`"
   ]
  },
  {
   "cell_type": "code",
   "execution_count": 253,
   "metadata": {},
   "outputs": [
    {
     "name": "stderr",
     "output_type": "stream",
     "text": [
      "New names:\n",
      "* `` -> ...2\n",
      "* `` -> ...3\n",
      "* `` -> ...4\n",
      "* `` -> ...5\n",
      "* `` -> ...6\n",
      "* ... and 45 more problems\n",
      "Check if column names are correct.\n"
     ]
    },
    {
     "data": {
      "text/html": [
       "<table>\n",
       "<caption>A tibble: 3 × 5</caption>\n",
       "<thead>\n",
       "\t<tr><th scope=col>gene_id</th><th scope=col>gene_name</th><th scope=col>fold_difference</th><th scope=col>p_value</th><th scope=col>candidate_gene</th></tr>\n",
       "\t<tr><th scope=col>&lt;chr&gt;</th><th scope=col>&lt;chr&gt;</th><th scope=col>&lt;dbl&gt;</th><th scope=col>&lt;dbl&gt;</th><th scope=col>&lt;lgl&gt;</th></tr>\n",
       "</thead>\n",
       "<tbody>\n",
       "\t<tr><td>Cre17.g720250.t1</td><td>LHCB4</td><td>0.74</td><td>1.82e-01</td><td>FALSE</td></tr>\n",
       "\t<tr><td>Cre16.g673650.t1</td><td>LHCB5</td><td>1.32</td><td>5.10e-10</td><td>FALSE</td></tr>\n",
       "\t<tr><td>Cre02.g110750.t1</td><td>LHCB7</td><td>0.43</td><td>2.43e-01</td><td>FALSE</td></tr>\n",
       "</tbody>\n",
       "</table>\n"
      ],
      "text/latex": [
       "A tibble: 3 × 5\n",
       "\\begin{tabular}{r|lllll}\n",
       " gene\\_id & gene\\_name & fold\\_difference & p\\_value & candidate\\_gene\\\\\n",
       " <chr> & <chr> & <dbl> & <dbl> & <lgl>\\\\\n",
       "\\hline\n",
       "\t Cre17.g720250.t1 & LHCB4 & 0.74 & 1.82e-01 & FALSE\\\\\n",
       "\t Cre16.g673650.t1 & LHCB5 & 1.32 & 5.10e-10 & FALSE\\\\\n",
       "\t Cre02.g110750.t1 & LHCB7 & 0.43 & 2.43e-01 & FALSE\\\\\n",
       "\\end{tabular}\n"
      ],
      "text/markdown": [
       "\n",
       "A tibble: 3 × 5\n",
       "\n",
       "| gene_id &lt;chr&gt; | gene_name &lt;chr&gt; | fold_difference &lt;dbl&gt; | p_value &lt;dbl&gt; | candidate_gene &lt;lgl&gt; |\n",
       "|---|---|---|---|---|\n",
       "| Cre17.g720250.t1 | LHCB4 | 0.74 | 1.82e-01 | FALSE |\n",
       "| Cre16.g673650.t1 | LHCB5 | 1.32 | 5.10e-10 | FALSE |\n",
       "| Cre02.g110750.t1 | LHCB7 | 0.43 | 2.43e-01 | FALSE |\n",
       "\n"
      ],
      "text/plain": [
       "  gene_id          gene_name fold_difference p_value  candidate_gene\n",
       "1 Cre17.g720250.t1 LHCB4     0.74            1.82e-01 FALSE         \n",
       "2 Cre16.g673650.t1 LHCB5     1.32            5.10e-10 FALSE         \n",
       "3 Cre02.g110750.t1 LHCB7     0.43            2.43e-01 FALSE         "
      ]
     },
     "metadata": {},
     "output_type": "display_data"
    }
   ],
   "source": [
    "require(\"readxl\")\n",
    "require(\"tidyverse\")\n",
    "require(\"dplyr\")\n",
    "\n",
    "#Data manipulation: combine TF and TR gene expression data\n",
    "df <- import_messy_excel(file_name, sheet_name = \"Protein data\")\n",
    "#colnames(df)\n",
    "\n",
    "gene_data <- df %>% \n",
    "    \n",
    "    #rename columns\n",
    "    rename( gene_name = DisplayId, gene_id = Gene_identifier, fold_difference = TP24HS_fold_change, \n",
    "           p_value = C1_Significance ) %>%\n",
    "    \n",
    "    #select relevant columns\n",
    "    select(gene_id, gene_name, fold_difference, p_value) %>%\n",
    "    \n",
    "    #assign candidate gene label based on inclusion criteria\n",
    "    mutate( fold_difference = as.numeric(fold_difference),\n",
    "           p_value = as.numeric(p_value),\n",
    "           candidate_gene = case_when(\n",
    "                p_value < 0.05 & abs(log(fold_difference,2))>1 ~ TRUE,\n",
    "                TRUE ~ FALSE))\n",
    "\n",
    "gene_data[1:3,]"
   ]
  },
  {
   "cell_type": "markdown",
   "metadata": {},
   "source": [
    "#### 4. Export `gene_data` to `Hemme_2014.txt`."
   ]
  },
  {
   "cell_type": "code",
   "execution_count": 257,
   "metadata": {},
   "outputs": [
    {
     "data": {
      "text/html": [
       "<table>\n",
       "<caption>A tibble: 3 × 7</caption>\n",
       "<thead>\n",
       "\t<tr><th scope=col>gene_id</th><th scope=col>gene_name</th><th scope=col>fold_difference</th><th scope=col>p_value</th><th scope=col>candidate_gene</th><th scope=col>protein_id</th><th scope=col>protein_name</th></tr>\n",
       "\t<tr><th scope=col>&lt;chr&gt;</th><th scope=col>&lt;chr&gt;</th><th scope=col>&lt;dbl&gt;</th><th scope=col>&lt;dbl&gt;</th><th scope=col>&lt;lgl&gt;</th><th scope=col>&lt;lgl&gt;</th><th scope=col>&lt;lgl&gt;</th></tr>\n",
       "</thead>\n",
       "<tbody>\n",
       "\t<tr><td>Cre17.g720250.t1</td><td>LHCB4</td><td>0.74</td><td>1.82e-01</td><td>FALSE</td><td>NA</td><td>NA</td></tr>\n",
       "\t<tr><td>Cre16.g673650.t1</td><td>LHCB5</td><td>1.32</td><td>5.10e-10</td><td>FALSE</td><td>NA</td><td>NA</td></tr>\n",
       "\t<tr><td>Cre02.g110750.t1</td><td>LHCB7</td><td>0.43</td><td>2.43e-01</td><td>FALSE</td><td>NA</td><td>NA</td></tr>\n",
       "</tbody>\n",
       "</table>\n"
      ],
      "text/latex": [
       "A tibble: 3 × 7\n",
       "\\begin{tabular}{r|lllllll}\n",
       " gene\\_id & gene\\_name & fold\\_difference & p\\_value & candidate\\_gene & protein\\_id & protein\\_name\\\\\n",
       " <chr> & <chr> & <dbl> & <dbl> & <lgl> & <lgl> & <lgl>\\\\\n",
       "\\hline\n",
       "\t Cre17.g720250.t1 & LHCB4 & 0.74 & 1.82e-01 & FALSE & NA & NA\\\\\n",
       "\t Cre16.g673650.t1 & LHCB5 & 1.32 & 5.10e-10 & FALSE & NA & NA\\\\\n",
       "\t Cre02.g110750.t1 & LHCB7 & 0.43 & 2.43e-01 & FALSE & NA & NA\\\\\n",
       "\\end{tabular}\n"
      ],
      "text/markdown": [
       "\n",
       "A tibble: 3 × 7\n",
       "\n",
       "| gene_id &lt;chr&gt; | gene_name &lt;chr&gt; | fold_difference &lt;dbl&gt; | p_value &lt;dbl&gt; | candidate_gene &lt;lgl&gt; | protein_id &lt;lgl&gt; | protein_name &lt;lgl&gt; |\n",
       "|---|---|---|---|---|---|---|\n",
       "| Cre17.g720250.t1 | LHCB4 | 0.74 | 1.82e-01 | FALSE | NA | NA |\n",
       "| Cre16.g673650.t1 | LHCB5 | 1.32 | 5.10e-10 | FALSE | NA | NA |\n",
       "| Cre02.g110750.t1 | LHCB7 | 0.43 | 2.43e-01 | FALSE | NA | NA |\n",
       "\n"
      ],
      "text/plain": [
       "  gene_id          gene_name fold_difference p_value  candidate_gene protein_id\n",
       "1 Cre17.g720250.t1 LHCB4     0.74            1.82e-01 FALSE          NA        \n",
       "2 Cre16.g673650.t1 LHCB5     1.32            5.10e-10 FALSE          NA        \n",
       "3 Cre02.g110750.t1 LHCB7     0.43            2.43e-01 FALSE          NA        \n",
       "  protein_name\n",
       "1 NA          \n",
       "2 NA          \n",
       "3 NA          "
      ]
     },
     "metadata": {},
     "output_type": "display_data"
    },
    {
     "data": {
      "text/html": [
       "<ol class=list-inline>\n",
       "\t<li>1985</li>\n",
       "\t<li>7</li>\n",
       "</ol>\n"
      ],
      "text/latex": [
       "\\begin{enumerate*}\n",
       "\\item 1985\n",
       "\\item 7\n",
       "\\end{enumerate*}\n"
      ],
      "text/markdown": [
       "1. 1985\n",
       "2. 7\n",
       "\n",
       "\n"
      ],
      "text/plain": [
       "[1] 1985    7"
      ]
     },
     "metadata": {},
     "output_type": "display_data"
    }
   ],
   "source": [
    "temp<- export_genes(df = gene_data, target_folder = target_folder)\n",
    "temp[1:3,]\n",
    "dim(temp)"
   ]
  },
  {
   "cell_type": "markdown",
   "metadata": {},
   "source": [
    "### Juergens_2015.xls\n",
    "\n",
    "#### 1. Extract basic information\n",
    "#### 2. Append basic information to `lipid_selection/data/intermediate_data_01/basic_info.txt`"
   ]
  },
  {
   "cell_type": "code",
   "execution_count": null,
   "metadata": {},
   "outputs": [],
   "source": [
    "#Basic information\n",
    "\n",
    "file_name = \"Juergens_2015.xls\"\n",
    "genome_version =  NA\n",
    "database_source = c(\"Augustus 10.2\",\"Phytozome 10.0\")\n",
    "inclusion_criteria = \"fold difference greater than 2\"\n",
    "first_author = \"Juergens\"\n",
    "publication_year = 2015\n",
    "\n",
    "basic_info <- data.frame(first_author, \n",
    "                         publication_year, \n",
    "                         genome_version, \n",
    "                         database_source, \n",
    "                         inclusion_criteria, \n",
    "                         stringsAsFactors = FALSE)\n",
    "str(basic_info)\n",
    "\n",
    "append_basic_info(basic_info, \"../../intermediate_data_01/basic_info.txt\")"
   ]
  },
  {
   "cell_type": "code",
   "execution_count": null,
   "metadata": {},
   "outputs": [],
   "source": [
    "#Check file type and number of excel sheets\n",
    "sheets <- check_excel_data(file_name)  \n",
    "print(length(sheets))"
   ]
  },
  {
   "cell_type": "markdown",
   "metadata": {},
   "source": [
    "#### 3. Extract candidate and non-candidate genes based on inclusion criteria.\n",
    "\n",
    "**Inclusion criteria**: If transcript log2 fold change and/or \n",
    "\n",
    "**Sheet 1: \"Day 3\" **"
   ]
  },
  {
   "cell_type": "code",
   "execution_count": null,
   "metadata": {},
   "outputs": [],
   "source": []
  }
 ],
 "metadata": {
  "kernelspec": {
   "display_name": "R",
   "language": "R",
   "name": "ir"
  },
  "language_info": {
   "codemirror_mode": "r",
   "file_extension": ".r",
   "mimetype": "text/x-r-source",
   "name": "R",
   "pygments_lexer": "r",
   "version": "3.5.2"
  }
 },
 "nbformat": 4,
 "nbformat_minor": 2
}
