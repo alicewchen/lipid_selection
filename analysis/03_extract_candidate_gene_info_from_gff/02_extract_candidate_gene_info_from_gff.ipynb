{
 "cells": [
  {
   "cell_type": "markdown",
   "metadata": {},
   "source": [
    "# Extract candidate gene info from *Chlamy* gff\n",
    "\n",
    "gff file path: `scratch/research/references/chlamydomonas/5.3_chlamy_w_organelles_mt_minus/annotation/Creinhardtii_v5.3_223_gene.gff3.gz `\n",
    "\n",
    "Target data structure:\n"
   ]
  },
  {
   "cell_type": "code",
   "execution_count": 290,
   "metadata": {},
   "outputs": [],
   "source": [
    "import gzip\n",
    "import pandas as pd\n",
    "import re\n",
    "import time"
   ]
  },
  {
   "cell_type": "code",
   "execution_count": 292,
   "metadata": {},
   "outputs": [],
   "source": [
    "merged = pd.read_csv(\"../../data/intermediate_data_from_gff/merged_v5_3_1.csv\")\n",
    "gff_file_path='/scratch/research/references/chlamydomonas/5.3_chlamy_w_organelles_mt_minus/annotation/Creinhardtii_v5.3_223_gene.gff3.gz'\n"
   ]
  },
  {
   "cell_type": "code",
   "execution_count": 293,
   "metadata": {},
   "outputs": [],
   "source": [
    "def BinarySearch(lys, val):\n",
    "    \n",
    "    '''requires re'''\n",
    "    \n",
    "    '''This function returns the position of the element in the list lys that contains the string pattern lys. If no match \n",
    "    \n",
    "    Usage: lys = list of strings to search through; val = string pattern to search for\n",
    "    \n",
    "    Warning: This function only works when the beginning of the string matches val'''\n",
    "        \n",
    "    first = 0\n",
    "    last = len(lys)-1\n",
    "    index = -1\n",
    "    \n",
    "    \n",
    "    p = re.compile(re.escape(val))\n",
    "    \n",
    "    \n",
    "    while (first <= last) and (index == -1):\n",
    "        mid = round((first+last)/2)\n",
    "        \n",
    "        index_list = sorted([lys[mid],val])\n",
    "        \n",
    "        if p.match(lys[mid]):\n",
    "            index = mid\n",
    "        else:\n",
    "            \n",
    "            if index_list.index(val)<index_list.index(lys[mid]):\n",
    "                last = mid -1\n",
    "                \n",
    "            else:\n",
    "                first = mid +1\n",
    "                \n",
    "    return index"
   ]
  },
  {
   "cell_type": "code",
   "execution_count": 294,
   "metadata": {},
   "outputs": [],
   "source": [
    "def tryextract(i, pattern):\n",
    "    \n",
    "    try: \n",
    "        m = re.search(pattern, i).group(1)\n",
    "        return(m)\n",
    "    \n",
    "    except AttributeError:\n",
    "        return(None)"
   ]
  },
  {
   "cell_type": "code",
   "execution_count": 295,
   "metadata": {},
   "outputs": [],
   "source": [
    "\n",
    "with gzip.open(gff_file_path, \"rt\", encoding=\"utf-8\") as z:\n",
    "    \n",
    "    df = pd.read_csv(z,delimiter=r\"\\s+\",skiprows=1,header=None)\n",
    "    df.columns = ['chromosome', 'source', 'feature', 'start', 'end', 'score', 'strand', 'phase', 'attributes']\n",
    "    df['Name'] = df.attributes.apply(lambda x: tryextract(x, r\"Name=(.+);pacid\"))\n",
    "    #df['pacid'] = df.attributes.apply(lambda x: tryextract(x, r\"pacid=(.+);longest\"))\n",
    "    df['ID'] = df.attributes.apply(lambda x: tryextract(x, r\"ID=(PAC:[0-9]+)\"))\n",
    "        #except AttributeError: \n",
    "    #del df['attributes']\n",
    "    #df = df.sort_values(by=\"Name\")\n",
    "    "
   ]
  },
  {
   "cell_type": "code",
   "execution_count": 297,
   "metadata": {},
   "outputs": [],
   "source": [
    "subset = df[df.feature ==\"mRNA\"].sort_values(by=\"Name\").reset_index()\n",
    "search_list = list(subset.Name)"
   ]
  },
  {
   "cell_type": "code",
   "execution_count": 298,
   "metadata": {},
   "outputs": [
    {
     "name": "stdout",
     "output_type": "stream",
     "text": [
      "Time taken 10.233540534973145 s\n"
     ]
    }
   ],
   "source": [
    "t0 = time.time()\n",
    "pacid_list = []\n",
    "\n",
    "for row in range(0,len(merged)):\n",
    "    transcript_id = merged.loc[row,'transcript_id_v5.3.1']\n",
    "    pacid = None\n",
    "    \n",
    "    index = BinarySearch(search_list, transcript_id)\n",
    "    \n",
    "    if index > -1: \n",
    "        pacid = subset.loc[index, \"ID\"]\n",
    "                    \n",
    "    pacid_list.append(pacid)\n",
    "\n",
    "t1 = time.time()\n",
    "print(\"Time taken\", t1-t0, \"s\")"
   ]
  },
  {
   "cell_type": "code",
   "execution_count": 299,
   "metadata": {},
   "outputs": [],
   "source": [
    "merged['PAC_ID'] = pacid_list"
   ]
  },
  {
   "cell_type": "code",
   "execution_count": 300,
   "metadata": {},
   "outputs": [],
   "source": [
    "groupby_obj = df[df.feature ==\"CDS\"].groupby(\"ID\")\n",
    "gff_ext_dict = {}\n",
    "#search_list = list(subset.ID)"
   ]
  },
  {
   "cell_type": "code",
   "execution_count": 301,
   "metadata": {},
   "outputs": [],
   "source": [
    "for name, group in groupby_obj:\n",
    "    \n",
    "    \n",
    "    gff_ext_dict[name] = group\n",
    "    "
   ]
  },
  {
   "cell_type": "code",
   "execution_count": 307,
   "metadata": {},
   "outputs": [
    {
     "name": "stdout",
     "output_type": "stream",
     "text": [
      "176 transcripts out of 17956 transcripts did not have a matching PAC ID\n"
     ]
    }
   ],
   "source": [
    "print(list(merged.PAC_ID).count(None),\"transcripts out of\", len(merged), \"transcripts did not have a matching PAC ID\")"
   ]
  },
  {
   "cell_type": "code",
   "execution_count": 303,
   "metadata": {},
   "outputs": [
    {
     "data": {
      "text/plain": [
       "0                  ID=Cre01.g000050;Name=Cre01.g000050\n",
       "1    ID=PAC:26903339;Name=Cre01.g000050.t1.3;pacid=...\n",
       "2    ID=PAC:26903339.five_prime_UTR.1;Parent=PAC:26...\n",
       "3    ID=PAC:26903339.CDS.1;Parent=PAC:26903339;paci...\n",
       "4    ID=PAC:26903339.CDS.2;Parent=PAC:26903339;paci...\n",
       "5    ID=PAC:26903339.CDS.3;Parent=PAC:26903339;paci...\n",
       "6    ID=PAC:26903339.CDS.4;Parent=PAC:26903339;paci...\n",
       "7    ID=PAC:26903339.three_prime_UTR.1;Parent=PAC:2...\n",
       "8                  ID=Cre01.g000100;Name=Cre01.g000100\n",
       "9    ID=PAC:26903974;Name=Cre01.g000100.t1.3;pacid=...\n",
       "Name: attributes, dtype: object"
      ]
     },
     "execution_count": 303,
     "metadata": {},
     "output_type": "execute_result"
    }
   ],
   "source": [
    "df.attributes[:10]"
   ]
  },
  {
   "cell_type": "code",
   "execution_count": null,
   "metadata": {},
   "outputs": [],
   "source": []
  }
 ],
 "metadata": {
  "kernelspec": {
   "display_name": "Python 3",
   "language": "python",
   "name": "python3"
  },
  "language_info": {
   "codemirror_mode": {
    "name": "ipython",
    "version": 3
   },
   "file_extension": ".py",
   "mimetype": "text/x-python",
   "name": "python",
   "nbconvert_exporter": "python",
   "pygments_lexer": "ipython3",
   "version": "3.5.1"
  }
 },
 "nbformat": 4,
 "nbformat_minor": 2
}
