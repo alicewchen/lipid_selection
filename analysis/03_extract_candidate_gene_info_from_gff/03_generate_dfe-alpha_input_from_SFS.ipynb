{
 "cells": [
  {
   "cell_type": "markdown",
   "metadata": {},
   "source": [
    "Run Rob's code first to define functions."
   ]
  },
  {
   "cell_type": "code",
   "execution_count": 13,
   "metadata": {},
   "outputs": [],
   "source": [
    "from ness_vcf import SFS\n",
    "from pysam import TabixFile\n",
    "from annotation import annotation_table\n",
    "\n",
    "def SFSs_from_annotation(annotation_tabix, coordinates, min_alleles=None, neutral_only=False):\n",
    "    \"\"\"\n",
    "    This function will return a dictionary of SFS objects\n",
    "    The dictionary will contain one SFS for each number of alleles that can be called\n",
    "        ie min_alleles to total number of individuals sequenced\n",
    "    It is possible to combine these SFSs by:\n",
    "        rounding MAF * (number of individuals sequenced) and keeping only one SFS\n",
    "    Arguments:\n",
    "     - take a TabixFile of the annotation table\n",
    "     - the chromosome, start and end (1-based inclusive)\n",
    "     - an optional minimum number of alleles - below this the site is shiite so don't take a bite\n",
    "     - neutral_only skips sites that aren't intergenic, intronic or 4-fold degenerate\n",
    "    \"\"\"\n",
    "    SFSs = {}\n",
    "    \n",
    "    #Loop through input list of (chromosome, start, end) from gff3\n",
    "    for i in coordinates:\n",
    "        chromosome, start, end = i\n",
    "        for line in annotation_tabix.fetch(chromosome, start-1, end):\n",
    "        # `annotation_line` is a class that has all the annotation table columns as attributes \n",
    "            a = annotation_table.annotation_line(line) \n",
    "            allele_counts = a.quebec_alleles\n",
    "            if neutral_only and sum([int(i) for i in [a.intergenic, a.intronic, a.fold4]]) == 0:\n",
    "                continue\n",
    "            try:\n",
    "                MAF, total_alleles_called  = MAF_from_allele_count(allele_counts,min_alleles=min_alleles)\n",
    "                #if MAF > 0: print(MAF, total_alleles_called)\n",
    "            except TypeError: \n",
    "                continue\n",
    "            if min_alleles != None and total_alleles_called < min_alleles: #filter sites with too few alleles called\n",
    "                continue\n",
    "            if total_alleles_called not in SFSs:\n",
    "                SFSs[total_alleles_called] = SFS([0]*(total_alleles_called+1))\n",
    "            SFSs[total_alleles_called].add(MAF,total_alleles_called)\n",
    "\n",
    "\n",
    "    return SFSs\n",
    "\n",
    "\n",
    "def MAF_from_allele_count(allele_counts, min_alleles=None):\n",
    "    \"\"\"\n",
    "    return the minor allele frequency and the number of called alleles\n",
    "    take a single allele_counts from annotation table ie, A:C:G:T    \n",
    "    optionally min_alleles will filter sites with too few alleles called\n",
    "    \"\"\"\n",
    "    minor_allele_count = sorted([int(i) for i in allele_counts.split(\":\")])[-2]\n",
    "    total_alleles_called = sum([int(i) for i in allele_counts.split(\":\")])\n",
    "    if min_alleles != None and total_alleles_called <= min_alleles:\n",
    "        return None\n",
    "    try:\n",
    "        MAF = minor_allele_count/float(total_alleles_called)\n",
    "        return (MAF,total_alleles_called)\n",
    "    except ZeroDivisionError:\n",
    "        return None\n",
    "    \n",
    "annotation_tabix = TabixFile(filename=\"/scratch/research/references/chlamydomonas/5.3_chlamy_w_organelles_mt_minus/annotation/concatenated_GFF/annotation_table.txt.gz\")\n",
    "##annotation_table has clones filtered out"
   ]
  },
  {
   "cell_type": "code",
   "execution_count": 14,
   "metadata": {},
   "outputs": [],
   "source": [
    "import pickle"
   ]
  },
  {
   "cell_type": "code",
   "execution_count": null,
   "metadata": {},
   "outputs": [],
   "source": [
    "for line in annotation_tabix.fetch('chromosome_1',0,20):\n",
    "    a = annotation_table.annotation_line(line) \n",
    "    print(dir(a))\n",
    "    print(a.line)"
   ]
  },
  {
   "cell_type": "code",
   "execution_count": 26,
   "metadata": {},
   "outputs": [],
   "source": [
    "with open('../../data/intermediate_data_from_gff/gene_set.pickle', \"rb\") as f:\n",
    "    gene_set = pickle.load(f)\n",
    "    \n",
    "SFSs= SFSs_from_annotation(annotation_tabix, gene_set, min_alleles=12, neutral_only=True)\n",
    "neutral = SFSs[allele].sfs\n",
    "\n",
    "SFSs= SFSs_from_annotation(annotation_tabix, gene_set, min_alleles=12, neutral_only=False)\n",
    "selected = SFSs[allele].sfs"
   ]
  },
  {
   "cell_type": "markdown",
   "metadata": {},
   "source": [
    "### generate dfe-alpha input file\n",
    "m = No. SFSs with different numbers of alleles sampled (m)\n",
    "\n",
    "allele = No. alleles sampled in SFS i (xi) [= no. elements in unfolded vector]"
   ]
  },
  {
   "cell_type": "code",
   "execution_count": 40,
   "metadata": {},
   "outputs": [],
   "source": [
    "m = 1\n",
    "allele = 13\n",
    "ls = [m, allele, selected, neutral]"
   ]
  },
  {
   "cell_type": "code",
   "execution_count": 59,
   "metadata": {},
   "outputs": [],
   "source": [
    "with open('../../data/dfe_alpha/input/sfs_input_file.txt', 'w') as f:\n",
    "    for i in ls: f.write(str(i)+\"\\n\")\n",
    "f.close()"
   ]
  },
  {
   "cell_type": "markdown",
   "metadata": {},
   "source": [
    "## generate dfe-alpha config files"
   ]
  },
  {
   "cell_type": "code",
   "execution_count": 67,
   "metadata": {},
   "outputs": [
    {
     "name": "stdout",
     "output_type": "stream",
     "text": [
      "/home/chenwe72/gitRepo/lipid_selection/data/dfe_alpha/input\n"
     ]
    },
    {
     "name": "stderr",
     "output_type": "stream",
     "text": [
      "bash: line 4: est_dfe: command not found\n"
     ]
    }
   ],
   "source": [
    "%%bash\n",
    "#pwd\n",
    "cd ../../data/dfe_alpha/input\n",
    "pwd\n",
    "est_dfe -c est_dfe_config_file.txt"
   ]
  },
  {
   "cell_type": "code",
   "execution_count": 64,
   "metadata": {},
   "outputs": [
    {
     "name": "stdout",
     "output_type": "stream",
     "text": [
      "/home/chenwe72/gitRepo/lipid_selection/analysis/03_extract_candidate_gene_info_from_gff\n"
     ]
    }
   ],
   "source": [
    "%%bash\n",
    "pwd"
   ]
  },
  {
   "cell_type": "code",
   "execution_count": null,
   "metadata": {},
   "outputs": [],
   "source": []
  },
  {
   "cell_type": "code",
   "execution_count": null,
   "metadata": {},
   "outputs": [],
   "source": [
    "est_dfe -c est_dfe_config_file.txt\n"
   ]
  }
 ],
 "metadata": {
  "kernelspec": {
   "display_name": "Python 3",
   "language": "python",
   "name": "python3"
  },
  "language_info": {
   "codemirror_mode": {
    "name": "ipython",
    "version": 3
   },
   "file_extension": ".py",
   "mimetype": "text/x-python",
   "name": "python",
   "nbconvert_exporter": "python",
   "pygments_lexer": "ipython3",
   "version": "3.5.1"
  }
 },
 "nbformat": 4,
 "nbformat_minor": 2
}
