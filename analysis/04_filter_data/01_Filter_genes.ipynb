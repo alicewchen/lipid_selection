{
 "cells": [
  {
   "cell_type": "markdown",
   "metadata": {},
   "source": [
    "# Get list of candidate and noncandidate genes"
   ]
  },
  {
   "cell_type": "code",
   "execution_count": 67,
   "metadata": {},
   "outputs": [],
   "source": [
    "import pandas as pd\n",
    "import pickle"
   ]
  },
  {
   "cell_type": "code",
   "execution_count": null,
   "metadata": {},
   "outputs": [],
   "source": [
    "#Define snakemake variables\n",
    "#Change to code cell before running snakemake\n",
    "\n",
    "clean_primary_data_path = str(snakemake.input[0])\n",
    "sampled_genes_path = str(snakemake.input[1])\n",
    "divergence_path = str(snakemake.input[2])\n",
    "\n",
    "type_of_study = snakemake.config['type_of_study']\n",
    "pathway = snakemake.config['pathway']\n",
    "\n",
    "MANIPULATED_GENE = snakemake.config['MANIPULATED_GENE']\n",
    "MIN_NUM_SAMPLED = snakemake.config['MIN_NUM_SAMPLED']\n",
    "MIN_NUM_MANIPULATED = snakemake.config['MIN_NUM_MANIPULATED']\n",
    "MIN_NUM_DETECTED = snakemake.config['MIN_NUM_DETECTED']\n",
    "\n",
    "candidate_output_path = str(snakemake.output[0])\n",
    "noncandidate_output_path = str(snakemake.output[1])"
   ]
  },
  {
   "cell_type": "markdown",
   "metadata": {},
   "source": [
    "#Define notebook variables\n",
    "#Change to raw cell before running snakemake\n",
    "clean_primary_data_path = \"../../data/workflow/clean_primary_data.pk\"\n",
    "sampled_genes_path = \"../../data/workflow/sampled_genes.pk\"\n",
    "divergence_path = \"../../data/workflow/SFS_and_divergence.pk\"\n",
    "\n",
    "#type_of_study = ['RT_qPCR']\n",
    "#MANIPULATED_GENE = 0\n",
    "MIN_NUM_SAMPLED = 1\n",
    "MIN_NUM_MANIPULATED = 0\n",
    "MIN_NUM_DETECTED = 1\n",
    "#pathway = ['Creinhardtii LIPAS-PWY']\n",
    "\n",
    "candidate_output_path = \"../../data/workflow/candidate_genes.pk\"\n",
    "noncandidate_output_path = \"../../data/workflow/noncandidate_genes.pk\""
   ]
  },
  {
   "cell_type": "markdown",
   "metadata": {},
   "source": [
    "# 1. (Custom config) Filter sources by study:\n",
    "#### Filter conditions:\n",
    "- Whether study manipulated a gene or not\n",
    "- Type of study\n",
    "\n",
    "#### Output:\n",
    "- Return list of applicable studies `<Firstauthor>_<Year>`"
   ]
  },
  {
   "cell_type": "code",
   "execution_count": 68,
   "metadata": {},
   "outputs": [],
   "source": [
    "#change to raw cell when running snakemake\n",
    "df = pd.read_pickle(clean_primary_data_path)"
   ]
  },
  {
   "cell_type": "markdown",
   "metadata": {},
   "source": [
    "with open(sampled_genes_path, \"rb\") as f:\n",
    "    df = pickle.load(f)"
   ]
  },
  {
   "cell_type": "code",
   "execution_count": 51,
   "metadata": {},
   "outputs": [
    {
     "data": {
      "text/plain": [
       "Index(['source', 'manipulated_gene', 'type_of_study'], dtype='object')"
      ]
     },
     "execution_count": 51,
     "metadata": {},
     "output_type": "execute_result"
    }
   ],
   "source": [
    "df.columns"
   ]
  },
  {
   "cell_type": "code",
   "execution_count": 52,
   "metadata": {},
   "outputs": [],
   "source": [
    "try:\n",
    "    if MANIPULATED_GENE == 2:\n",
    "        condition_1 = (df.source != None)\n",
    "    elif MANIPULATED_GENE == 1:\n",
    "        condition_1 = (df.manipulated_gene == 1)\n",
    "    elif MANIPULATED_GENE == 0:\n",
    "        condition_1 = (df.manipulated_gene == 0)\n",
    "except NameError:\n",
    "    condition_1 = (df.source != None)"
   ]
  },
  {
   "cell_type": "code",
   "execution_count": 53,
   "metadata": {},
   "outputs": [],
   "source": [
    "try:\n",
    "    if len(type_of_study)!= 0:\n",
    "        df['match'] = df.apply(lambda x: any(item in x.type_of_study for item in type_of_study), axis = 1)\n",
    "        condition_2 = (df.match == True)\n",
    "    elif len(type_of_study) == 0: \n",
    "        condition_2 = (df.source != None)\n",
    "except NameError:\n",
    "    condition_2 = (df.source != None)"
   ]
  },
  {
   "cell_type": "code",
   "execution_count": 54,
   "metadata": {},
   "outputs": [],
   "source": [
    "selected_studies = list(df[condition_1 & condition_2].source)"
   ]
  },
  {
   "cell_type": "markdown",
   "metadata": {},
   "source": [
    "# 2. Subset sampled genes by filtered studies"
   ]
  },
  {
   "cell_type": "code",
   "execution_count": 55,
   "metadata": {},
   "outputs": [],
   "source": [
    "df = pd.read_pickle(sampled_genes_path)"
   ]
  },
  {
   "cell_type": "markdown",
   "metadata": {},
   "source": [
    "with open(sampled_genes_path, \"rb\") as f:\n",
    "    df = pickle.load(f)"
   ]
  },
  {
   "cell_type": "code",
   "execution_count": 56,
   "metadata": {},
   "outputs": [],
   "source": [
    "df = df[df.source.isin(selected_studies)]"
   ]
  },
  {
   "cell_type": "code",
   "execution_count": 57,
   "metadata": {},
   "outputs": [
    {
     "data": {
      "text/plain": [
       "Index(['num_detected', 'num_manipulated', 'num_sampled', 'source',\n",
       "       'transcript_id', 'annotation_version', 'gene_id', 'gene_symbol',\n",
       "       'pathway_id', 'transcript_id_v5.3.1', 'PAC_id'],\n",
       "      dtype='object')"
      ]
     },
     "execution_count": 57,
     "metadata": {},
     "output_type": "execute_result"
    }
   ],
   "source": [
    "df.columns"
   ]
  },
  {
   "cell_type": "markdown",
   "metadata": {},
   "source": [
    "# 3. Sum counts in each column for each gene\n",
    "#### Columns summed:\n",
    "- Num_sampled\n",
    "- Num_manipulated\n",
    "- Num_detected\n"
   ]
  },
  {
   "cell_type": "code",
   "execution_count": 58,
   "metadata": {},
   "outputs": [],
   "source": [
    "df = df[['num_detected', 'num_manipulated', 'num_sampled','transcript_id_v5.3.1','pathway_id','PAC_id']]\n",
    "df = df.groupby(['transcript_id_v5.3.1','pathway_id','PAC_id']).agg('sum').reset_index()"
   ]
  },
  {
   "cell_type": "markdown",
   "metadata": {},
   "source": [
    "# 4. (Custom config) Filter candidate and noncandidate genes by column\n",
    "#### Filter by the following conditions:\n",
    "- Num_sampled\n",
    "- Num_manipulated\n",
    "- Num_detected\n",
    "- Pathway\n"
   ]
  },
  {
   "cell_type": "markdown",
   "metadata": {},
   "source": [
    "##### By `pathway`"
   ]
  },
  {
   "cell_type": "code",
   "execution_count": 59,
   "metadata": {},
   "outputs": [],
   "source": [
    "try:\n",
    "    if len(pathway)!= 0:\n",
    "        df['match'] = df.apply(lambda x: any(item in x.pathway_id for item in pathway), axis = 1)\n",
    "        condition = (df.match == True)\n",
    "    elif len(pathway) == 0: \n",
    "        condition = (df.PAC_id != None)\n",
    "except NameError:\n",
    "    condition = (df.PAC_id != None)"
   ]
  },
  {
   "cell_type": "code",
   "execution_count": 60,
   "metadata": {},
   "outputs": [],
   "source": [
    "df = df[condition]"
   ]
  },
  {
   "cell_type": "markdown",
   "metadata": {},
   "source": [
    "##### By `MIN_NUM_SAMPLED`, `MIN_NUM_MANIPULATED`, `MIN_NUM_DETECTED`"
   ]
  },
  {
   "cell_type": "code",
   "execution_count": 61,
   "metadata": {},
   "outputs": [],
   "source": [
    "candidate = df[(df.num_sampled >= MIN_NUM_SAMPLED) & \\\n",
    "          (df.num_manipulated >=MIN_NUM_MANIPULATED) & \\\n",
    "          (df.num_detected >= MIN_NUM_DETECTED)]\n",
    "noncandidate = df.loc[(df.num_sampled >= MIN_NUM_SAMPLED) & \\\n",
    "          (df.num_manipulated >=MIN_NUM_MANIPULATED) & \\\n",
    "          (df.num_detected < MIN_NUM_DETECTED)]"
   ]
  },
  {
   "cell_type": "code",
   "execution_count": 62,
   "metadata": {},
   "outputs": [
    {
     "name": "stdout",
     "output_type": "stream",
     "text": [
      "(661, 6)\n",
      "(461, 6)\n"
     ]
    }
   ],
   "source": [
    "print(candidate.shape)\n",
    "print(noncandidate.shape)"
   ]
  },
  {
   "cell_type": "markdown",
   "metadata": {},
   "source": [
    "# 5. Subset  SFS_and_divergence.pk to only candidate or noncandidate genes"
   ]
  },
  {
   "cell_type": "code",
   "execution_count": 63,
   "metadata": {},
   "outputs": [],
   "source": [
    "df = pd.read_pickle(sampled_genes_path)"
   ]
  },
  {
   "cell_type": "markdown",
   "metadata": {},
   "source": [
    "with open(sampled_genes_path, \"rb\") as f:\n",
    "    df = pickle.load(f)"
   ]
  },
  {
   "cell_type": "code",
   "execution_count": 64,
   "metadata": {},
   "outputs": [],
   "source": [
    "candidate = df[df.PAC_id.isin(candidate.PAC_id)]\n",
    "noncandidate = df[df.PAC_id.isin(noncandidate.PAC_id)]"
   ]
  },
  {
   "cell_type": "code",
   "execution_count": 65,
   "metadata": {},
   "outputs": [
    {
     "data": {
      "text/html": [
       "<div>\n",
       "<table border=\"1\" class=\"dataframe\">\n",
       "  <thead>\n",
       "    <tr style=\"text-align: right;\">\n",
       "      <th></th>\n",
       "      <th>Cincerta_transcript_ID</th>\n",
       "      <th>diffs0</th>\n",
       "      <th>sites0</th>\n",
       "      <th>diffs4</th>\n",
       "      <th>sites4</th>\n",
       "      <th>PAC_id</th>\n",
       "      <th>neutral_SFS</th>\n",
       "      <th>selected_SFS</th>\n",
       "    </tr>\n",
       "  </thead>\n",
       "  <tbody>\n",
       "    <tr>\n",
       "      <th>15</th>\n",
       "      <td>g2116.t1</td>\n",
       "      <td>99</td>\n",
       "      <td>788</td>\n",
       "      <td>112</td>\n",
       "      <td>253</td>\n",
       "      <td>PAC:26893261</td>\n",
       "      <td>[0, 0, 0, 0, 0, 0, 0, 0, 0, 0, 0, 0, 0, 0, 0, ...</td>\n",
       "      <td>[0, 0, 0, 0, 0, 0, 0, 0, 0, 0, 0, 0, 0, 0, 0, ...</td>\n",
       "    </tr>\n",
       "    <tr>\n",
       "      <th>193</th>\n",
       "      <td>g12519.t1</td>\n",
       "      <td>75</td>\n",
       "      <td>1537</td>\n",
       "      <td>155</td>\n",
       "      <td>548</td>\n",
       "      <td>PAC:26904561</td>\n",
       "      <td>[463, 1, 10, 0, 3, 7, 2, 1, 6, 0, 0, 0, 0, 0, ...</td>\n",
       "      <td>[1377, 2, 0, 1, 0, 1, 1, 1, 1, 0, 0, 0, 0, 0, ...</td>\n",
       "    </tr>\n",
       "    <tr>\n",
       "      <th>232</th>\n",
       "      <td>g14502.t1</td>\n",
       "      <td>51</td>\n",
       "      <td>1096</td>\n",
       "      <td>77</td>\n",
       "      <td>366</td>\n",
       "      <td>PAC:26894844</td>\n",
       "      <td>[387, 0, 11, 2, 0, 2, 4, 2, 1, 0, 0, 0, 0, 0, ...</td>\n",
       "      <td>[1201, 3, 5, 0, 0, 0, 1, 3, 0, 0, 0, 0, 0, 0, ...</td>\n",
       "    </tr>\n",
       "    <tr>\n",
       "      <th>274</th>\n",
       "      <td>g3572.t1</td>\n",
       "      <td>5</td>\n",
       "      <td>383</td>\n",
       "      <td>40</td>\n",
       "      <td>104</td>\n",
       "      <td>PAC:26896671</td>\n",
       "      <td>[120, 2, 2, 0, 0, 0, 1, 0, 0, 0, 0, 0, 0, 0, 0...</td>\n",
       "      <td>[442, 0, 0, 0, 0, 0, 0, 0, 0, 0, 0, 0, 0, 0, 0...</td>\n",
       "    </tr>\n",
       "    <tr>\n",
       "      <th>281</th>\n",
       "      <td>g8628.t1</td>\n",
       "      <td>82</td>\n",
       "      <td>871</td>\n",
       "      <td>83</td>\n",
       "      <td>240</td>\n",
       "      <td>PAC:26889037</td>\n",
       "      <td>[214, 8, 7, 2, 2, 1, 2, 7, 0, 1, 0, 0, 0, 0, 0...</td>\n",
       "      <td>[877, 8, 10, 2, 0, 0, 4, 4, 1, 0, 0, 0, 0, 0, ...</td>\n",
       "    </tr>\n",
       "  </tbody>\n",
       "</table>\n",
       "</div>"
      ],
      "text/plain": [
       "    Cincerta_transcript_ID  diffs0  sites0  diffs4  sites4        PAC_id  \\\n",
       "15                g2116.t1      99     788     112     253  PAC:26893261   \n",
       "193              g12519.t1      75    1537     155     548  PAC:26904561   \n",
       "232              g14502.t1      51    1096      77     366  PAC:26894844   \n",
       "274               g3572.t1       5     383      40     104  PAC:26896671   \n",
       "281               g8628.t1      82     871      83     240  PAC:26889037   \n",
       "\n",
       "                                           neutral_SFS  \\\n",
       "15   [0, 0, 0, 0, 0, 0, 0, 0, 0, 0, 0, 0, 0, 0, 0, ...   \n",
       "193  [463, 1, 10, 0, 3, 7, 2, 1, 6, 0, 0, 0, 0, 0, ...   \n",
       "232  [387, 0, 11, 2, 0, 2, 4, 2, 1, 0, 0, 0, 0, 0, ...   \n",
       "274  [120, 2, 2, 0, 0, 0, 1, 0, 0, 0, 0, 0, 0, 0, 0...   \n",
       "281  [214, 8, 7, 2, 2, 1, 2, 7, 0, 1, 0, 0, 0, 0, 0...   \n",
       "\n",
       "                                          selected_SFS  \n",
       "15   [0, 0, 0, 0, 0, 0, 0, 0, 0, 0, 0, 0, 0, 0, 0, ...  \n",
       "193  [1377, 2, 0, 1, 0, 1, 1, 1, 1, 0, 0, 0, 0, 0, ...  \n",
       "232  [1201, 3, 5, 0, 0, 0, 1, 3, 0, 0, 0, 0, 0, 0, ...  \n",
       "274  [442, 0, 0, 0, 0, 0, 0, 0, 0, 0, 0, 0, 0, 0, 0...  \n",
       "281  [877, 8, 10, 2, 0, 0, 4, 4, 1, 0, 0, 0, 0, 0, ...  "
      ]
     },
     "execution_count": 65,
     "metadata": {},
     "output_type": "execute_result"
    }
   ],
   "source": [
    "noncandidate[:5]"
   ]
  },
  {
   "cell_type": "markdown",
   "metadata": {},
   "source": [
    "## Export files"
   ]
  },
  {
   "cell_type": "code",
   "execution_count": 66,
   "metadata": {},
   "outputs": [],
   "source": [
    "candidate.to_pickle(candidate_output_path)\n",
    "noncandidate.to_pickle(noncandidate_output_path)"
   ]
  }
 ],
 "metadata": {
  "kernelspec": {
   "display_name": "Python 3",
   "language": "python",
   "name": "python3"
  },
  "language_info": {
   "codemirror_mode": {
    "name": "ipython",
    "version": 3
   },
   "file_extension": ".py",
   "mimetype": "text/x-python",
   "name": "python",
   "nbconvert_exporter": "python",
   "pygments_lexer": "ipython3",
   "version": "3.5.1"
  }
 },
 "nbformat": 4,
 "nbformat_minor": 2
}
