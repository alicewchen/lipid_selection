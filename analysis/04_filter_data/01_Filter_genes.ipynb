{
 "cells": [
  {
   "cell_type": "markdown",
   "metadata": {},
   "source": [
    "# Get list of candidate and noncandidate genes"
   ]
  },
  {
   "cell_type": "code",
   "execution_count": 67,
   "metadata": {},
   "outputs": [],
   "source": [
    "import pandas as pd\n",
    "import pickle"
   ]
  },
  {
   "cell_type": "code",
   "execution_count": null,
   "metadata": {},
   "outputs": [],
   "source": [
    "#Define snakemake variables\n",
    "#Change to code cell before running snakemake\n",
    "\n",
    "clean_primary_data_path = str(snakemake.input[0])\n",
    "sampled_genes_path = str(snakemake.input[1])\n",
    "divergence_path = str(snakemake.input[2])\n",
    "\n",
    "type_of_study = snakemake.config['type_of_study']\n",
    "pathway = snakemake.config['pathway']\n",
    "\n",
    "MANIPULATED_GENE = snakemake.config['MANIPULATED_GENE']\n",
    "MIN_NUM_SAMPLED = snakemake.config['MIN_NUM_SAMPLED']\n",
    "MIN_NUM_DETECTED = snakemake.config['MIN_NUM_DETECTED']\n",
    "\n",
    "NC_POOL_SOURCE = snakemake.config['NC_POOL_SOURCE']\n",
    "\n",
    "output_path = str(snakemake.params.prefix)"
   ]
  },
  {
   "cell_type": "markdown",
   "metadata": {},
   "source": [
    "#Define notebook variables\n",
    "#Change to raw cell before running snakemake\n",
    "clean_primary_data_path = \"../../data/workflow/clean_primary_data.pk\"\n",
    "sampled_genes_path = \"../../data/workflow/sampled_genes.pk\"\n",
    "divergence_path = \"../../data/workflow/SFS_and_divergence.pk\"\n",
    "\n",
    "#type_of_study = ['RT_qPCR']\n",
    "#MANIPULATED_GENE = 0\n",
    "MIN_NUM_SAMPLED = 3\n",
    "MIN_NUM_DETECTED = 2\n",
    "#pathway = ['Creinhardtii LIPAS-PWY']\n",
    "NC_POOL_SOURCE = 'genome'\n",
    "\n",
    "candidate_output_path = \"../../data/workflow/candidate_genes.pk\"\n",
    "noncandidate_output_path = \"../../data/workflow/noncandidate_genes.pk\""
   ]
  },
  {
   "cell_type": "markdown",
   "metadata": {},
   "source": [
    "# 1. (Custom config) Filter sources by study:\n",
    "#### Filter conditions:\n",
    "- Whether study manipulated a gene or not\n",
    "- Type of study\n",
    "\n",
    "#### Output:\n",
    "- Return list of applicable studies `<Firstauthor>_<Year>`"
   ]
  },
  {
   "cell_type": "code",
   "execution_count": 151,
   "metadata": {},
   "outputs": [],
   "source": [
    "#change to raw cell when running snakemake\n",
    "df = pd.read_pickle(clean_primary_data_path)"
   ]
  },
  {
   "cell_type": "markdown",
   "metadata": {},
   "source": [
    "with open(sampled_genes_path, \"rb\") as f:\n",
    "    df = pickle.load(f)"
   ]
  },
  {
   "cell_type": "code",
   "execution_count": 152,
   "metadata": {},
   "outputs": [
    {
     "data": {
      "text/plain": [
       "Index(['source', 'manipulated_gene', 'type_of_study'], dtype='object')"
      ]
     },
     "execution_count": 152,
     "metadata": {},
     "output_type": "execute_result"
    }
   ],
   "source": [
    "df.columns"
   ]
  },
  {
   "cell_type": "code",
   "execution_count": 153,
   "metadata": {},
   "outputs": [],
   "source": [
    "try:\n",
    "    if MANIPULATED_GENE == 2:\n",
    "        condition_1 = (df.source != None)\n",
    "    elif MANIPULATED_GENE == 1:\n",
    "        condition_1 = (df.manipulated_gene == 1)\n",
    "    elif MANIPULATED_GENE == 0:\n",
    "        condition_1 = (df.manipulated_gene == 0)\n",
    "except NameError:\n",
    "    condition_1 = (df.source != None)"
   ]
  },
  {
   "cell_type": "code",
   "execution_count": 154,
   "metadata": {},
   "outputs": [],
   "source": [
    "try:\n",
    "    if len(type_of_study)!= 0:\n",
    "        df['match'] = df.apply(lambda x: any(item in x.type_of_study for item in type_of_study), axis = 1)\n",
    "        condition_2 = (df.match == True)\n",
    "    elif len(type_of_study) == 0: \n",
    "        condition_2 = (df.source != None)\n",
    "except NameError:\n",
    "    condition_2 = (df.source != None)"
   ]
  },
  {
   "cell_type": "code",
   "execution_count": 155,
   "metadata": {},
   "outputs": [],
   "source": [
    "selected_studies = list(df[condition_1 & condition_2].source)"
   ]
  },
  {
   "cell_type": "markdown",
   "metadata": {},
   "source": [
    "# 2. Subset sampled genes by filtered studies"
   ]
  },
  {
   "cell_type": "code",
   "execution_count": 156,
   "metadata": {},
   "outputs": [],
   "source": [
    "df = pd.read_pickle(sampled_genes_path)"
   ]
  },
  {
   "cell_type": "markdown",
   "metadata": {},
   "source": [
    "with open(sampled_genes_path, \"rb\") as f:\n",
    "    df = pickle.load(f)"
   ]
  },
  {
   "cell_type": "code",
   "execution_count": 157,
   "metadata": {},
   "outputs": [],
   "source": [
    "df = df[df.source.isin(selected_studies)]"
   ]
  },
  {
   "cell_type": "code",
   "execution_count": 158,
   "metadata": {},
   "outputs": [
    {
     "data": {
      "text/plain": [
       "Index(['transcript_id', 'source', 'num_detected', 'num_manipulated',\n",
       "       'num_sampled', 'annotation_version', 'gene_id', 'gene_symbol',\n",
       "       'pathway_id', 'transcript_id_v5.3.1', 'PAC_id'],\n",
       "      dtype='object')"
      ]
     },
     "execution_count": 158,
     "metadata": {},
     "output_type": "execute_result"
    }
   ],
   "source": [
    "df.columns"
   ]
  },
  {
   "cell_type": "markdown",
   "metadata": {},
   "source": [
    "# 3. Sum counts in each column for each gene\n",
    "#### Columns summed:\n",
    "- Num_sampled\n",
    "- Num_manipulated\n",
    "- Num_detected\n"
   ]
  },
  {
   "cell_type": "code",
   "execution_count": 159,
   "metadata": {},
   "outputs": [],
   "source": [
    "df = df[['num_detected', 'num_manipulated', 'num_sampled','transcript_id_v5.3.1','pathway_id','PAC_id']]\n",
    "df = df.groupby(['transcript_id_v5.3.1','pathway_id','PAC_id']).agg('sum').reset_index()"
   ]
  },
  {
   "cell_type": "markdown",
   "metadata": {},
   "source": [
    "# 4. (Custom config) Filter candidate and noncandidate genes by column\n",
    "#### Filter by the following conditions:\n",
    "- Num_sampled\n",
    "- Num_manipulated\n",
    "- Num_detected\n",
    "- Pathway\n"
   ]
  },
  {
   "cell_type": "markdown",
   "metadata": {},
   "source": [
    "##### By `pathway`"
   ]
  },
  {
   "cell_type": "code",
   "execution_count": 160,
   "metadata": {},
   "outputs": [],
   "source": [
    "try:\n",
    "    if len(pathway)!= 0:\n",
    "        df['match'] = df.apply(lambda x: any(item in x.pathway_id for item in pathway), axis = 1)\n",
    "        condition = (df.match == True)\n",
    "    elif len(pathway) == 0: \n",
    "        condition = (df.PAC_id != None)\n",
    "except NameError:\n",
    "    condition = (df.PAC_id != None)"
   ]
  },
  {
   "cell_type": "code",
   "execution_count": 161,
   "metadata": {},
   "outputs": [],
   "source": [
    "df = df[condition]"
   ]
  },
  {
   "cell_type": "markdown",
   "metadata": {},
   "source": [
    "##### By `MIN_NUM_SAMPLED`, `MIN_NUM_MANIPULATED`, `MIN_NUM_DETECTED`"
   ]
  },
  {
   "cell_type": "code",
   "execution_count": 162,
   "metadata": {},
   "outputs": [],
   "source": [
    "candidate = df[(df.num_sampled >= MIN_NUM_SAMPLED) & \\\n",
    "          (df.num_detected >= MIN_NUM_DETECTED)]\n",
    "noncandidate = df.loc[(df.num_sampled >= MIN_NUM_SAMPLED) & \\\n",
    "          (df.num_detected < MIN_NUM_DETECTED)]"
   ]
  },
  {
   "cell_type": "markdown",
   "metadata": {},
   "source": [
    "# 5. Subset  SFS_and_divergence.pk to only candidate or noncandidate genes"
   ]
  },
  {
   "cell_type": "code",
   "execution_count": 164,
   "metadata": {},
   "outputs": [],
   "source": [
    "df = pd.read_pickle(divergence_path)"
   ]
  },
  {
   "cell_type": "markdown",
   "metadata": {},
   "source": [
    "with open(sampled_genes_path, \"rb\") as f:\n",
    "    df = pickle.load(f)"
   ]
  },
  {
   "cell_type": "code",
   "execution_count": 165,
   "metadata": {},
   "outputs": [],
   "source": [
    "candidate = df[df.PAC_id.isin(candidate.PAC_id)]\n",
    "if NC_POOL_SOURCE == 'genome':\n",
    "    noncandidate = df[~df.PAC_id.isin(candidate.PAC_id)]\n",
    "if NC_POOL_SOURCE == \"sampled_genes\":\n",
    "    noncandidate = df[df.PAC_id.isin(noncandidate.PAC_id)]"
   ]
  },
  {
   "cell_type": "code",
   "execution_count": 166,
   "metadata": {},
   "outputs": [
    {
     "data": {
      "text/html": [
       "<div>\n",
       "<table border=\"1\" class=\"dataframe\">\n",
       "  <thead>\n",
       "    <tr style=\"text-align: right;\">\n",
       "      <th></th>\n",
       "      <th>Cincerta_transcript_ID</th>\n",
       "      <th>diffs0</th>\n",
       "      <th>sites0</th>\n",
       "      <th>diffs4</th>\n",
       "      <th>sites4</th>\n",
       "      <th>PAC_id</th>\n",
       "      <th>neutral_SFS</th>\n",
       "      <th>selected_SFS</th>\n",
       "    </tr>\n",
       "  </thead>\n",
       "  <tbody>\n",
       "    <tr>\n",
       "      <th>0</th>\n",
       "      <td>g6935.t1</td>\n",
       "      <td>24</td>\n",
       "      <td>2777</td>\n",
       "      <td>113</td>\n",
       "      <td>699</td>\n",
       "      <td>PAC:26888200</td>\n",
       "      <td>[609, 11, 17, 29, 6, 10, 6, 2, 8, 0, 0, 0, 0, ...</td>\n",
       "      <td>[2775, 1, 0, 0, 0, 0, 0, 1, 0, 0, 0, 0, 0, 0, ...</td>\n",
       "    </tr>\n",
       "    <tr>\n",
       "      <th>1</th>\n",
       "      <td>g13204.t1</td>\n",
       "      <td>28</td>\n",
       "      <td>655</td>\n",
       "      <td>38</td>\n",
       "      <td>217</td>\n",
       "      <td>PAC:26904954</td>\n",
       "      <td>[155, 4, 0, 2, 0, 4, 3, 3, 1, 0, 0, 0, 0, 0, 0...</td>\n",
       "      <td>[519, 1, 0, 0, 0, 1, 0, 1, 0, 0, 0, 0, 0, 0, 0...</td>\n",
       "    </tr>\n",
       "    <tr>\n",
       "      <th>2</th>\n",
       "      <td>g11333.t1</td>\n",
       "      <td>231</td>\n",
       "      <td>2638</td>\n",
       "      <td>311</td>\n",
       "      <td>950</td>\n",
       "      <td>PAC:26894252</td>\n",
       "      <td>[491, 4, 9, 4, 1, 0, 7, 2, 4, 1, 0, 0, 0, 0, 0...</td>\n",
       "      <td>[1435, 9, 2, 1, 0, 0, 4, 2, 3, 0, 0, 0, 0, 0, ...</td>\n",
       "    </tr>\n",
       "    <tr>\n",
       "      <th>3</th>\n",
       "      <td>g15729.t1</td>\n",
       "      <td>450</td>\n",
       "      <td>2626</td>\n",
       "      <td>325</td>\n",
       "      <td>930</td>\n",
       "      <td>PAC:26891814</td>\n",
       "      <td>[804, 48, 28, 18, 7, 9, 5, 3, 3, 0, 0, 0, 0, 0...</td>\n",
       "      <td>[2540, 55, 27, 11, 4, 6, 4, 7, 5, 1, 0, 0, 0, ...</td>\n",
       "    </tr>\n",
       "    <tr>\n",
       "      <th>4</th>\n",
       "      <td>g5327.t1</td>\n",
       "      <td>3</td>\n",
       "      <td>1483</td>\n",
       "      <td>72</td>\n",
       "      <td>412</td>\n",
       "      <td>PAC:26901315</td>\n",
       "      <td>[408, 3, 2, 0, 0, 0, 0, 0, 0, 0, 0, 0, 0, 0, 0...</td>\n",
       "      <td>[1478, 0, 0, 0, 0, 0, 0, 0, 0, 0, 0, 0, 0, 0, ...</td>\n",
       "    </tr>\n",
       "  </tbody>\n",
       "</table>\n",
       "</div>"
      ],
      "text/plain": [
       "  Cincerta_transcript_ID  diffs0  sites0  diffs4  sites4        PAC_id  \\\n",
       "0               g6935.t1      24    2777     113     699  PAC:26888200   \n",
       "1              g13204.t1      28     655      38     217  PAC:26904954   \n",
       "2              g11333.t1     231    2638     311     950  PAC:26894252   \n",
       "3              g15729.t1     450    2626     325     930  PAC:26891814   \n",
       "4               g5327.t1       3    1483      72     412  PAC:26901315   \n",
       "\n",
       "                                         neutral_SFS  \\\n",
       "0  [609, 11, 17, 29, 6, 10, 6, 2, 8, 0, 0, 0, 0, ...   \n",
       "1  [155, 4, 0, 2, 0, 4, 3, 3, 1, 0, 0, 0, 0, 0, 0...   \n",
       "2  [491, 4, 9, 4, 1, 0, 7, 2, 4, 1, 0, 0, 0, 0, 0...   \n",
       "3  [804, 48, 28, 18, 7, 9, 5, 3, 3, 0, 0, 0, 0, 0...   \n",
       "4  [408, 3, 2, 0, 0, 0, 0, 0, 0, 0, 0, 0, 0, 0, 0...   \n",
       "\n",
       "                                        selected_SFS  \n",
       "0  [2775, 1, 0, 0, 0, 0, 0, 1, 0, 0, 0, 0, 0, 0, ...  \n",
       "1  [519, 1, 0, 0, 0, 1, 0, 1, 0, 0, 0, 0, 0, 0, 0...  \n",
       "2  [1435, 9, 2, 1, 0, 0, 4, 2, 3, 0, 0, 0, 0, 0, ...  \n",
       "3  [2540, 55, 27, 11, 4, 6, 4, 7, 5, 1, 0, 0, 0, ...  \n",
       "4  [1478, 0, 0, 0, 0, 0, 0, 0, 0, 0, 0, 0, 0, 0, ...  "
      ]
     },
     "execution_count": 166,
     "metadata": {},
     "output_type": "execute_result"
    }
   ],
   "source": [
    "noncandidate[:5]"
   ]
  },
  {
   "cell_type": "code",
   "execution_count": null,
   "metadata": {},
   "outputs": [],
   "source": [
    "print(candidate.shape)\n",
    "print(noncandidate.shape)"
   ]
  },
  {
   "cell_type": "markdown",
   "metadata": {},
   "source": [
    "## Export files"
   ]
  },
  {
   "cell_type": "code",
   "execution_count": 66,
   "metadata": {},
   "outputs": [],
   "source": [
    "if \"noncandidate\" in output_path:\n",
    "    noncandidate.to_pickle(output_path)\n",
    "else:\n",
    "    candidate.to_pickle(output_path)"
   ]
  }
 ],
 "metadata": {
  "kernelspec": {
   "display_name": "Python 3",
   "language": "python",
   "name": "python3"
  },
  "language_info": {
   "codemirror_mode": {
    "name": "ipython",
    "version": 3
   },
   "file_extension": ".py",
   "mimetype": "text/x-python",
   "name": "python",
   "nbconvert_exporter": "python",
   "pygments_lexer": "ipython3",
   "version": "3.9.2"
  }
 },
 "nbformat": 4,
 "nbformat_minor": 4
}
